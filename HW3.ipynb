{
 "cells": [
  {
   "attachments": {},
   "cell_type": "markdown",
   "id": "classified-bronze",
   "metadata": {},
   "source": [
    "Before you turn this problem in, make sure everything runs as expected. First, **restart the kernel** (in the menubar, select Kernel$\\rightarrow$Restart) and then **run all cells** (in the menubar, select Cell$\\rightarrow$Run All).\n",
    "\n",
    "Make sure you fill in any place that says `???` or \"YOUR ANSWER HERE\"."
   ]
  },
  {
   "attachments": {},
   "cell_type": "markdown",
   "id": "uniform-short",
   "metadata": {},
   "source": [
    "---"
   ]
  },
  {
   "attachments": {},
   "cell_type": "markdown",
   "id": "5dee8741",
   "metadata": {
    "deletable": false,
    "editable": false,
    "nbgrader": {
     "cell_type": "markdown",
     "checksum": "2fc370f1e76c6162ad8282723e66b8e0",
     "grade": false,
     "grade_id": "cell-acfad365fca0e57b",
     "locked": true,
     "schema_version": 3,
     "solution": false,
     "task": false
    }
   },
   "source": [
    "# CSCI 3155 Assignment 3 : Inductive Definitions and Case Pattern Matching.\n",
    "\n",
    "This assignment asks you to write scala programs. \n",
    "\n",
    "**Restrictions** apply to each problem in terms of forbidden Scala features and API functions. Please read them carefully and ask for clarifications from the course staff over Piazza or during office hours if unsure.\n",
    "\n",
    "Note: `???` indicates that there is a missing function or code fragment that needs to be filled in. In scala, \n",
    "it is also a macro that throws a `NotImplemented` exception. Make sure that you remove the `???` and replace it with the answer. \n",
    "\n",
    "Use the test cases provided to test them. You are also encouraged to write your own test cases to help debug your work. However, please delete any extra cells you may have created lest they break our autograder.\n",
    "\n",
    "**Very Important:** Please run the cell that defines the functions `passed` and `testWithMessage` below whenever you restart the notebook."
   ]
  },
  {
   "attachments": {},
   "cell_type": "markdown",
   "id": "a7432028",
   "metadata": {},
   "source": [
    "### Your Name Here"
   ]
  },
  {
   "cell_type": "code",
   "execution_count": 1,
   "id": "0d648ed7",
   "metadata": {},
   "outputs": [
    {
     "data": {
      "text/plain": [
       "defined \u001b[32mfunction\u001b[39m \u001b[36mpassed\u001b[39m\n",
       "defined \u001b[32mfunction\u001b[39m \u001b[36mtestWithMessage\u001b[39m"
      ]
     },
     "execution_count": 1,
     "metadata": {},
     "output_type": "execute_result"
    }
   ],
   "source": [
    "// TEST HELPER\n",
    "\n",
    "// FIRST RUN THIS CELL EVERY TIME YOU START THE NOTEBOOK\n",
    "def passed(points: Int) {\n",
    "    require(points >=0)\n",
    "    if (points == 1) print(s\"\\n*** Tests Passed (1 point) ***\\n\")\n",
    "    else print(s\"\\n*** Tests Passed ($points points) ***\\n\")\n",
    "}\n",
    "\n",
    "def testWithMessage[T](v1: T, expected: T, testID: String) = { \n",
    "    println(s\"Test $testID\"); \n",
    "    println(s\"\\t Expected: $expected, your code returned: $v1\")\n",
    "    assert (v1 == expected, s\"Test $testID FAILED.\")\n",
    "    println(\"\\t Passed!\")\n",
    "}\n",
    "/*\n",
    "\n",
    "def testWithMessage(v1: Double, expected: Double, testID: String) = {\n",
    "    val tolerance = 1E-5\n",
    "    println(s\"Test $testID -- comparing with tolerance $tolerance.\"); \n",
    "    println(s\"\\t Expected: $expected, your code returned: $v1\")\n",
    "    assert (math.abs(v1-expected) <= tolerance, s\"Test $testID FAILED.\")\n",
    "    println(\"\\t Passed!\")\n",
    "}\n",
    "*/"
   ]
  },
  {
   "attachments": {},
   "cell_type": "markdown",
   "id": "6b0470ee",
   "metadata": {
    "deletable": false,
    "editable": false,
    "nbgrader": {
     "cell_type": "markdown",
     "checksum": "29ec027884e72c88b1584ffbc2e1891a",
     "grade": false,
     "grade_id": "cell-11bdf98667c70c4a",
     "locked": true,
     "schema_version": 3,
     "solution": false,
     "task": false
    }
   },
   "source": [
    "## Problem 1\n",
    "\n",
    "In class, we will study the grammar of arithmetic expressions: \n",
    "\n",
    " $$ \\newcommand\\Expr{\\mathbf{Expr}}\n",
    "\\begin{array}{rcll}\n",
    "\\Expr & \\Rightarrow & \\textit{Const}(\\mathbf{Double}) & \\leftarrow\\ \\text{Scala's in-built double precision type}.\\\\\n",
    "& |& \\textit{Var}(\\mathbf{String}) & \\leftarrow\\ \\text{Variable} \\\\ \n",
    "& |  & \\textit{Plus}(\\Expr, \\Expr) & \\leftarrow\\ \\text{sum of two expressions} \\\\ \n",
    "& |  & \\textit{Diff}(\\Expr, \\Expr) & \\leftarrow\\ \\text{difference}\\\\\n",
    "& |  & \\textit{Mult}(\\Expr, \\Expr) & \\leftarrow\\ \\text{product}\\\\\n",
    "& | & \\textit{Div}(\\Expr, \\Expr) & \\leftarrow\\ \\text{division}\\\\\n",
    "\\end{array} $$ \n",
    "\n",
    "## Part A (5 points)\n",
    "\n",
    "Write down an inductive definition of the grammar above in Scala. Please do not change the names of the constructors (non-terminals) and use the inbuilt types `String` and `Double` in Scala corresponding to their non-terminal symbol in the grammar above.\n"
   ]
  },
  {
   "cell_type": "code",
   "execution_count": 2,
   "id": "40f1ccde",
   "metadata": {
    "deletable": false,
    "nbgrader": {
     "cell_type": "code",
     "checksum": "aa9d9fd5992fb646f96994b0a8bcd799",
     "grade": false,
     "grade_id": "cell-d40e64cb47448a4d",
     "locked": false,
     "schema_version": 3,
     "solution": true,
     "task": false
    }
   },
   "outputs": [
    {
     "data": {
      "text/plain": [
       "defined \u001b[32mtrait\u001b[39m \u001b[36mExpr\u001b[39m\n",
       "defined \u001b[32mclass\u001b[39m \u001b[36mConst\u001b[39m\n",
       "defined \u001b[32mclass\u001b[39m \u001b[36mVar\u001b[39m\n",
       "defined \u001b[32mclass\u001b[39m \u001b[36mPlus\u001b[39m\n",
       "defined \u001b[32mclass\u001b[39m \u001b[36mDiff\u001b[39m\n",
       "defined \u001b[32mclass\u001b[39m \u001b[36mMult\u001b[39m\n",
       "defined \u001b[32mclass\u001b[39m \u001b[36mDiv\u001b[39m"
      ]
     },
     "execution_count": 2,
     "metadata": {},
     "output_type": "execute_result"
    }
   ],
   "source": [
    "sealed trait Expr\n",
    "\n",
    "case class Const(num: Double) extends Expr;\n",
    "case class Var(word: String) extends Expr;\n",
    "case class Plus(e1: Expr, e2:Expr) extends Expr;\n",
    "case class Diff(e1: Expr, e2:Expr) extends Expr;\n",
    "case class Mult(e1: Expr, e2:Expr) extends Expr;\n",
    "case class Div(e1: Expr, e2:Expr) extends Expr;\n",
    "\n",
    "\n"
   ]
  },
  {
   "cell_type": "code",
   "execution_count": 3,
   "id": "849a4346",
   "metadata": {
    "deletable": false,
    "editable": false,
    "nbgrader": {
     "cell_type": "code",
     "checksum": "cbbfccbf163c4bea1f411a69268bbe23",
     "grade": true,
     "grade_id": "cell-ede31af5de516dff",
     "locked": true,
     "points": 5,
     "schema_version": 3,
     "solution": false,
     "task": false
    }
   },
   "outputs": [
    {
     "name": "stdout",
     "output_type": "stream",
     "text": [
      "\n",
      "*** Tests Passed (5 points) ***\n"
     ]
    },
    {
     "data": {
      "text/plain": [
       "\u001b[36mx\u001b[39m: \u001b[32mVar\u001b[39m = \u001b[33mVar\u001b[39m(word = \u001b[32m\"x\"\u001b[39m)\n",
       "\u001b[36my\u001b[39m: \u001b[32mVar\u001b[39m = \u001b[33mVar\u001b[39m(word = \u001b[32m\"y\"\u001b[39m)\n",
       "\u001b[36mz\u001b[39m: \u001b[32mVar\u001b[39m = \u001b[33mVar\u001b[39m(word = \u001b[32m\"z\"\u001b[39m)\n",
       "\u001b[36me1\u001b[39m: \u001b[32mConst\u001b[39m = \u001b[33mConst\u001b[39m(num = \u001b[32m5.0\u001b[39m)\n",
       "\u001b[36me2\u001b[39m: \u001b[32mPlus\u001b[39m = \u001b[33mPlus\u001b[39m(e1 = \u001b[33mConst\u001b[39m(num = \u001b[32m5.0\u001b[39m), e2 = \u001b[33mVar\u001b[39m(word = \u001b[32m\"x\"\u001b[39m))\n",
       "\u001b[36me3\u001b[39m: \u001b[32mDiff\u001b[39m = \u001b[33mDiff\u001b[39m(\n",
       "  e1 = \u001b[33mVar\u001b[39m(word = \u001b[32m\"x\"\u001b[39m),\n",
       "  e2 = \u001b[33mPlus\u001b[39m(e1 = \u001b[33mConst\u001b[39m(num = \u001b[32m5.0\u001b[39m), e2 = \u001b[33mVar\u001b[39m(word = \u001b[32m\"z\"\u001b[39m))\n",
       ")\n",
       "\u001b[36me4\u001b[39m: \u001b[32mDiv\u001b[39m = \u001b[33mDiv\u001b[39m(\n",
       "  e1 = \u001b[33mPlus\u001b[39m(\n",
       "    e1 = \u001b[33mMult\u001b[39m(e1 = \u001b[33mVar\u001b[39m(word = \u001b[32m\"x\"\u001b[39m), e2 = \u001b[33mVar\u001b[39m(word = \u001b[32m\"z\"\u001b[39m)),\n",
       "    e2 = \u001b[33mVar\u001b[39m(word = \u001b[32m\"y\"\u001b[39m)\n",
       "  ),\n",
       "  e2 = \u001b[33mConst\u001b[39m(num = \u001b[32m4.5\u001b[39m)\n",
       ")"
      ]
     },
     "execution_count": 3,
     "metadata": {},
     "output_type": "execute_result"
    }
   ],
   "source": [
    "val x = Var(\"x\")\n",
    "val y = Var(\"y\")\n",
    "val z = Var(\"z\")\n",
    "val e1 = Const(5.0)\n",
    "val e2 = Plus(Const(5.0), x)\n",
    "val e3 = Diff(x, Plus(Const(5.0), z))\n",
    "val e4 = Div(Plus(Mult(x, z), y), Const(4.5))\n",
    "passed(5)"
   ]
  },
  {
   "attachments": {},
   "cell_type": "markdown",
   "id": "92aaf3ab",
   "metadata": {
    "deletable": false,
    "editable": false,
    "nbgrader": {
     "cell_type": "markdown",
     "checksum": "a175eb36965e670285ce8065ab42efcc",
     "grade": false,
     "grade_id": "cell-a7146351b85422a1",
     "locked": true,
     "schema_version": 3,
     "solution": false,
     "task": false
    }
   },
   "source": [
    "### Part B (10 points)\n",
    "\n",
    "Write a program to convert the expression `Expr` defined above into a `String` in the so-called _reverse polish notation_ (RPN). The RPN is a way of expressing arithmetic expressions where the operator comes last. Here are some examples:\n",
    "\n",
    "~~~\n",
    "(6 + x ) - (y / z)  ==> ( (6 x +) (y z /) -)\n",
    "~~~\n",
    "\n",
    "~~~\n",
    "(15 - x) + (45 * z) - w ==> ( ( (15 x -) (45 z *) +) w -)\n",
    "~~~\n",
    "\n",
    "In order to carry out the conversion systematically please follow the rules specified below.\n",
    "\n",
    " - An expression of the form `Const(d)` --> simply convert the number `d` to a string.\n",
    " - An expression of the form `Var(x)` --> simply use the variable name `x`.\n",
    " - An expression of the form `Plus(e1, e2)` --> convert `e1` and `e2` recursively into strings `s1` and `s2` respectively. Then output the string `(s1 s2 +)` : we will ignore whitespaces during testing.\n",
    " - An expression of the form `Diff(e1, e2)` --> convert `e1` and `e2` recursively into strings `s1` and `s2` respectively. Then output the string `(s1 s2 -)`.\n",
    " - An expression of the form `Mult(e1, e2)` --> convert `e1` and `e2` recursively into strings `s1` and `s2` respectively. Then output the string `(s1 s2 *)`.\n",
    " - An expression of the form `Div(e1, e2)` --> convert `e1` and `e2` recursively into strings `s1` and `s2` respectively. Then output the string `(s1 s2 /)`.\n",
    " \n",
    " \n",
    " \n",
    "\n"
   ]
  },
  {
   "cell_type": "code",
   "execution_count": 4,
   "id": "c27cbfa1",
   "metadata": {
    "deletable": false,
    "nbgrader": {
     "cell_type": "code",
     "checksum": "f5db1c0bea1f72cd79dfc063ac2e4766",
     "grade": false,
     "grade_id": "cell-1d3ace83975f0bd6",
     "locked": false,
     "schema_version": 3,
     "solution": true,
     "task": false
    }
   },
   "outputs": [
    {
     "data": {
      "text/plain": [
       "defined \u001b[32mfunction\u001b[39m \u001b[36mrpnConvert\u001b[39m"
      ]
     },
     "execution_count": 4,
     "metadata": {},
     "output_type": "execute_result"
    }
   ],
   "source": [
    "def rpnConvert(e: Expr): String = \n",
    "// YOUR CODE HERE\n",
    "{\n",
    "    e match\n",
    "    {\n",
    "        case Const(e1) => e1.toString;\n",
    "        case Var(e1) => e1;\n",
    "        case Plus(e1, e2) => s\"(${rpnConvert(e1)}  ${rpnConvert(e2)}+)\"\n",
    "        case Diff(e1, e2) => s\"(${rpnConvert(e1)}  ${rpnConvert(e2)}-)\"\n",
    "        case Mult(e1, e2) => s\"(${rpnConvert(e1)}  ${rpnConvert(e2)}*)\"\n",
    "         case Div(e1, e2) => s\"(${rpnConvert(e1)}  ${rpnConvert(e2)}/)\"\n",
    "        \n",
    "        \n",
    "    }\n",
    "}\n"
   ]
  },
  {
   "cell_type": "code",
   "execution_count": 5,
   "id": "4bef40c4",
   "metadata": {
    "deletable": false,
    "editable": false,
    "nbgrader": {
     "cell_type": "code",
     "checksum": "33a78df0be3a12e6bc9144ce492189f4",
     "grade": true,
     "grade_id": "cell-714ce5d312fc4392",
     "locked": true,
     "points": 10,
     "schema_version": 3,
     "solution": false,
     "task": false
    }
   },
   "outputs": [
    {
     "name": "stdout",
     "output_type": "stream",
     "text": [
      "Test #0\n",
      "\t Expected: x, your code returned: x\n",
      "\t Passed!\n",
      "Test #1\n",
      "\t Expected: 5.0, your code returned: 5.0\n",
      "\t Passed!\n",
      "Test #2\n",
      "\t Expected: (5.0x+), your code returned: (5.0x+)\n",
      "\t Passed!\n",
      "Test #3\n",
      "\t Expected: (x(5.0z+)-), your code returned: (x(5.0z+)-)\n",
      "\t Passed!\n",
      "Test #4\n",
      "\t Expected: ((((xz*)y+)4.5/)(2.0x*)-), your code returned: ((((xz*)y+)4.5/)(2.0x*)-)\n",
      "\t Passed!\n",
      "\n",
      "*** Tests Passed (10 points) ***\n"
     ]
    },
    {
     "data": {
      "text/plain": [
       "\u001b[36mx\u001b[39m: \u001b[32mVar\u001b[39m = \u001b[33mVar\u001b[39m(word = \u001b[32m\"x\"\u001b[39m)\n",
       "\u001b[36my\u001b[39m: \u001b[32mVar\u001b[39m = \u001b[33mVar\u001b[39m(word = \u001b[32m\"y\"\u001b[39m)\n",
       "\u001b[36mz\u001b[39m: \u001b[32mVar\u001b[39m = \u001b[33mVar\u001b[39m(word = \u001b[32m\"z\"\u001b[39m)\n",
       "\u001b[36me1\u001b[39m: \u001b[32mConst\u001b[39m = \u001b[33mConst\u001b[39m(num = \u001b[32m5.0\u001b[39m)\n",
       "\u001b[36me2\u001b[39m: \u001b[32mPlus\u001b[39m = \u001b[33mPlus\u001b[39m(e1 = \u001b[33mConst\u001b[39m(num = \u001b[32m5.0\u001b[39m), e2 = \u001b[33mVar\u001b[39m(word = \u001b[32m\"x\"\u001b[39m))\n",
       "\u001b[36me3\u001b[39m: \u001b[32mDiff\u001b[39m = \u001b[33mDiff\u001b[39m(\n",
       "  e1 = \u001b[33mVar\u001b[39m(word = \u001b[32m\"x\"\u001b[39m),\n",
       "  e2 = \u001b[33mPlus\u001b[39m(e1 = \u001b[33mConst\u001b[39m(num = \u001b[32m5.0\u001b[39m), e2 = \u001b[33mVar\u001b[39m(word = \u001b[32m\"z\"\u001b[39m))\n",
       ")\n",
       "\u001b[36me4\u001b[39m: \u001b[32mDiff\u001b[39m = \u001b[33mDiff\u001b[39m(\n",
       "  e1 = \u001b[33mDiv\u001b[39m(\n",
       "    e1 = \u001b[33mPlus\u001b[39m(\n",
       "      e1 = \u001b[33mMult\u001b[39m(e1 = \u001b[33mVar\u001b[39m(word = \u001b[32m\"x\"\u001b[39m), e2 = \u001b[33mVar\u001b[39m(word = \u001b[32m\"z\"\u001b[39m)),\n",
       "      e2 = \u001b[33mVar\u001b[39m(word = \u001b[32m\"y\"\u001b[39m)\n",
       "    ),\n",
       "    e2 = \u001b[33mConst\u001b[39m(num = \u001b[32m4.5\u001b[39m)\n",
       "  ),\n",
       "  e2 = \u001b[33mMult\u001b[39m(e1 = \u001b[33mConst\u001b[39m(num = \u001b[32m2.0\u001b[39m), e2 = \u001b[33mVar\u001b[39m(word = \u001b[32m\"x\"\u001b[39m))\n",
       ")\n",
       "\u001b[36mx_expected\u001b[39m: \u001b[32mString\u001b[39m = \u001b[32m\"x\"\u001b[39m\n",
       "\u001b[36mx_answer\u001b[39m: \u001b[32mString\u001b[39m = \u001b[32m\"x\"\u001b[39m\n",
       "\u001b[36me1_expected\u001b[39m: \u001b[32mString\u001b[39m = \u001b[32m\"5.0\"\u001b[39m\n",
       "\u001b[36me1_answer\u001b[39m: \u001b[32mString\u001b[39m = \u001b[32m\"5.0\"\u001b[39m\n",
       "\u001b[36me2_expected\u001b[39m: \u001b[32mString\u001b[39m = \u001b[32m\"(5.0x+)\"\u001b[39m\n",
       "\u001b[36me2_answer\u001b[39m: \u001b[32mString\u001b[39m = \u001b[32m\"(5.0x+)\"\u001b[39m\n",
       "\u001b[36me3_expected\u001b[39m: \u001b[32mString\u001b[39m = \u001b[32m\"(x(5.0z+)-)\"\u001b[39m\n",
       "\u001b[36me3_answer\u001b[39m: \u001b[32mString\u001b[39m = \u001b[32m\"(x(5.0z+)-)\"\u001b[39m\n",
       "\u001b[36me4_expected\u001b[39m: \u001b[32mString\u001b[39m = \u001b[32m\"((((xz*)y+)4.5/)(2.0x*)-)\"\u001b[39m\n",
       "\u001b[36me4_answer\u001b[39m: \u001b[32mString\u001b[39m = \u001b[32m\"((((xz*)y+)4.5/)(2.0x*)-)\"\u001b[39m"
      ]
     },
     "execution_count": 5,
     "metadata": {},
     "output_type": "execute_result"
    }
   ],
   "source": [
    "val x = Var(\"x\")\n",
    "val y = Var(\"y\")\n",
    "val z = Var(\"z\")\n",
    "val e1 = Const(5.0)\n",
    "val e2 = Plus(Const(5.0), x)\n",
    "val e3 = Diff(x, Plus(Const(5.0), z))\n",
    "val e4 = Diff(Div(Plus(Mult(x, z), y), Const(4.5)), Mult(Const(2.0), x))\n",
    "\n",
    "val x_expected=\"x\"\n",
    "val x_answer = rpnConvert(x).filterNot(_.isWhitespace)\n",
    "testWithMessage( x_answer,x_expected, \"#0\")\n",
    "\n",
    "val e1_expected = \"5.0\"\n",
    "val e1_answer = rpnConvert(e1).filterNot(_.isWhitespace) // Remove white spaces to facilitate comparisons\n",
    "testWithMessage(e1_answer, e1_expected,  \"#1\")\n",
    "\n",
    "val e2_expected = \"(5.0 x +)\".filterNot(_.isWhitespace)\n",
    "val e2_answer = rpnConvert(e2).filterNot(_.isWhitespace)\n",
    "testWithMessage(e2_answer, e2_expected, \"#2\")\n",
    "\n",
    "val e3_expected = \"(x (5.0 z +) -)\".filterNot(_.isWhitespace)\n",
    "val e3_answer = rpnConvert(e3).filterNot(_.isWhitespace)\n",
    "testWithMessage(e3_answer, e3_expected,  \"#3\")\n",
    "\n",
    "val e4_expected = \"( ( ( (x z *) y +) 4.5 /) (2.0 x *) -)\".filterNot(_.isWhitespace)\n",
    "val e4_answer = rpnConvert(e4).filterNot(_.isWhitespace)\n",
    "testWithMessage(e4_answer, e4_expected,  \"#4\")\n",
    "\n",
    "passed(10)"
   ]
  },
  {
   "attachments": {},
   "cell_type": "markdown",
   "id": "1b42beae",
   "metadata": {
    "deletable": false,
    "editable": false,
    "nbgrader": {
     "cell_type": "markdown",
     "checksum": "6d0cf13463621333f75a6275f619789f",
     "grade": false,
     "grade_id": "cell-a6cc8c30e56bec86",
     "locked": true,
     "schema_version": 3,
     "solution": false,
     "task": false
    }
   },
   "source": [
    "## Problem 2 \n",
    "\n",
    "In this problem, we will implement the grammar for _Combinatory Logic_ (see https://en.wikipedia.org/wiki/Combinatory_logic) a minimalistic functional programming framework that \n",
    "is powerful enough to express all Turing machines. Combinatory logic is a fascinating system that has been studied extensively : look up Raymond Smullyan's book titled _To Mock a Mockingbird_ or the recent Stephen Wolfram's book on Combinators.\n",
    "\n",
    "### Part A: 5 points\n",
    "A minimal subset of combinatory logic is given by the following grammar: \n",
    "\n",
    "$$\\begin{array}{rcll}\n",
    "\\mathbf{Term} & \\Rightarrow & \\mathit{Variable}( \\mathbf{String} ) & \\text{ A combinator can simply be a variable name} \\\\ \n",
    "& |  & \\mathit{I} ( \\mathbf{Term} ) & \\text{ apply the `I' combinator to a term} \\\\ \n",
    "& |  & \\mathit{K} ( \\mathbf{Term} ) & \\text{ apply the `K' combinator}\\\\ \n",
    "&|  & \\mathit{S} ( \\mathbf{Term} ) & \\text{ apply the `S' combinator}\\\\ \n",
    "& | & \\mathit{Apply} (\\mathbf{Term}, \\mathbf{Term} ) & \\text{ apply one combinator term to another combinator term}\\\\ \n",
    "\\end{array}$$\n",
    "\n",
    "Programs written in this language are simply terms such as $S( K (x) \\circ y )\\circ  (I (x))$, where we are using $\\circ$ to explicitly point out application of one term to another. This is written using our grammar at the term:  ` Apply( S ( Apply ( K (Variable (\"x\")),  Variable(\"y\"))), I (Variable(\"x\") ) `\n",
    "\n",
    "Write down an inductive definition in Scala corresponding to the grammar above. Please do not modify the names of the terminals or non-terminals.\n"
   ]
  },
  {
   "cell_type": "code",
   "execution_count": 6,
   "id": "28a13f25",
   "metadata": {
    "deletable": false,
    "nbgrader": {
     "cell_type": "code",
     "checksum": "7cf28c7c7227d31ed49a08a5713180c3",
     "grade": false,
     "grade_id": "cell-95fa06b8664bc2fe",
     "locked": false,
     "schema_version": 3,
     "solution": true,
     "task": false
    }
   },
   "outputs": [
    {
     "data": {
      "text/plain": [
       "defined \u001b[32mtrait\u001b[39m \u001b[36mTerm\u001b[39m\n",
       "defined \u001b[32mclass\u001b[39m \u001b[36mVariable\u001b[39m\n",
       "defined \u001b[32mclass\u001b[39m \u001b[36mI\u001b[39m\n",
       "defined \u001b[32mclass\u001b[39m \u001b[36mK\u001b[39m\n",
       "defined \u001b[32mclass\u001b[39m \u001b[36mS\u001b[39m\n",
       "defined \u001b[32mclass\u001b[39m \u001b[36mApply\u001b[39m"
      ]
     },
     "execution_count": 6,
     "metadata": {},
     "output_type": "execute_result"
    }
   ],
   "source": [
    "sealed trait Term\n",
    "case class Variable(e1:String) extends Term;\n",
    "case class I(e1:Term) extends Term;\n",
    "case class K(e1:Term) extends Term;\n",
    "case class S(e1:Term) extends Term;\n",
    "case class Apply(e1:Term, e2:Term) extends Term;\n"
   ]
  },
  {
   "cell_type": "code",
   "execution_count": 7,
   "id": "213160c9",
   "metadata": {
    "deletable": false,
    "editable": false,
    "nbgrader": {
     "cell_type": "code",
     "checksum": "795d15e4e79289cb309f893b6730309c",
     "grade": true,
     "grade_id": "cell-3b02d0c971961566",
     "locked": true,
     "points": 5,
     "schema_version": 3,
     "solution": false,
     "task": false
    }
   },
   "outputs": [
    {
     "name": "stdout",
     "output_type": "stream",
     "text": [
      "\n",
      "*** Tests Passed (5 points) ***\n"
     ]
    },
    {
     "data": {
      "text/plain": [
       "\u001b[36mt1\u001b[39m: \u001b[32mApply\u001b[39m = \u001b[33mApply\u001b[39m(\n",
       "  e1 = \u001b[33mS\u001b[39m(e1 = \u001b[33mApply\u001b[39m(e1 = \u001b[33mK\u001b[39m(e1 = \u001b[33mVariable\u001b[39m(e1 = \u001b[32m\"x\"\u001b[39m)), e2 = \u001b[33mVariable\u001b[39m(e1 = \u001b[32m\"y\"\u001b[39m))),\n",
       "  e2 = \u001b[33mI\u001b[39m(e1 = \u001b[33mVariable\u001b[39m(e1 = \u001b[32m\"x\"\u001b[39m))\n",
       ")\n",
       "\u001b[36mt2\u001b[39m: \u001b[32mApply\u001b[39m = \u001b[33mApply\u001b[39m(\n",
       "  e1 = \u001b[33mApply\u001b[39m(e1 = \u001b[33mS\u001b[39m(e1 = \u001b[33mVariable\u001b[39m(e1 = \u001b[32m\"x\"\u001b[39m)), e2 = \u001b[33mVariable\u001b[39m(e1 = \u001b[32m\"y\"\u001b[39m)),\n",
       "  e2 = \u001b[33mVariable\u001b[39m(e1 = \u001b[32m\"z\"\u001b[39m)\n",
       ")\n",
       "\u001b[36mt3\u001b[39m: \u001b[32mApply\u001b[39m = \u001b[33mApply\u001b[39m(\n",
       "  e1 = \u001b[33mApply\u001b[39m(\n",
       "    e1 = \u001b[33mVariable\u001b[39m(e1 = \u001b[32m\"x\"\u001b[39m),\n",
       "    e2 = \u001b[33mApply\u001b[39m(\n",
       "      e1 = \u001b[33mApply\u001b[39m(e1 = \u001b[33mS\u001b[39m(e1 = \u001b[33mVariable\u001b[39m(e1 = \u001b[32m\"x\"\u001b[39m)), e2 = \u001b[33mVariable\u001b[39m(e1 = \u001b[32m\"y\"\u001b[39m)),\n",
       "      e2 = \u001b[33mVariable\u001b[39m(e1 = \u001b[32m\"z\"\u001b[39m)\n",
       "    )\n",
       "  ),\n",
       "  e2 = \u001b[33mApply\u001b[39m(\n",
       "    e1 = \u001b[33mS\u001b[39m(e1 = \u001b[33mApply\u001b[39m(e1 = \u001b[33mK\u001b[39m(e1 = \u001b[33mVariable\u001b[39m(e1 = \u001b[32m\"x\"\u001b[39m)), e2 = \u001b[33mVariable\u001b[39m(e1 = \u001b[32m\"y\"\u001b[39m))),\n",
       "    e2 = \u001b[33mI\u001b[39m(e1 = \u001b[33mVariable\u001b[39m(e1 = \u001b[32m\"x\"\u001b[39m))\n",
       "  )\n",
       ")"
      ]
     },
     "execution_count": 7,
     "metadata": {},
     "output_type": "execute_result"
    }
   ],
   "source": [
    "val t1 = Apply( S ( Apply ( K (Variable (\"x\")),  Variable(\"y\"))), I (Variable(\"x\") ))\n",
    "val t2 = Apply( Apply( S( Variable(\"x\")), Variable(\"y\")), Variable(\"z\"))\n",
    "val t3 = Apply( Apply (Variable(\"x\"), t2), t1)\n",
    "passed(5)"
   ]
  },
  {
   "attachments": {},
   "cell_type": "markdown",
   "id": "dd9f2ec3",
   "metadata": {
    "deletable": false,
    "editable": false,
    "nbgrader": {
     "cell_type": "markdown",
     "checksum": "a10fb8c37c0c5902b34e9c9adcb2d74d",
     "grade": false,
     "grade_id": "cell-d0cdc460b405fd72",
     "locked": true,
     "schema_version": 3,
     "solution": false,
     "task": false
    }
   },
   "source": [
    "### Part B (10 points)\n",
    "\n",
    "The simplest rule in combinatory logic is that any expression of the form $ I(t) $ is replaced by its (inner) argument $t$.\n",
    "\n",
    "For instance, suppose we had a term $ I( S(x)\\circ y) ) \\circ  z $, we can eliminate $I$ to obtain \n",
    "$ (S(x)\\circ y) \\circ z$.\n",
    "\n",
    "Write a function `eliminateICombinator` that takes in a `Term` defined in the grammar above returns a `Term` that gets rid of _all_ the $I$ combinators, as specified above. Please write the function recursively using case pattern matching. Your function should eliminate all the $I$ combinators but this can be done in arbitrary order if your expression has multiple such combinators. "
   ]
  },
  {
   "cell_type": "code",
   "execution_count": 8,
   "id": "73183973",
   "metadata": {
    "deletable": false,
    "nbgrader": {
     "cell_type": "code",
     "checksum": "91fd216d64453fcfca096beb97c218b8",
     "grade": false,
     "grade_id": "cell-3a135d2a58b84851",
     "locked": false,
     "schema_version": 3,
     "solution": true,
     "task": false
    }
   },
   "outputs": [
    {
     "data": {
      "text/plain": [
       "defined \u001b[32mfunction\u001b[39m \u001b[36meliminateICombinator\u001b[39m"
      ]
     },
     "execution_count": 8,
     "metadata": {},
     "output_type": "execute_result"
    }
   ],
   "source": [
    "/*\n",
    "sealed trait Term\n",
    "case class Variable(e1:String) extends Term;\n",
    "case class I(e1:Term) extends Term;\n",
    "case class K(e1:Term) extends Term;\n",
    "case class S(e1:Term) extends Term;\n",
    "case class Apply(e1:Term, e2:Term) extends Term;\n",
    "*/\n",
    "def eliminateICombinator(e: Term): Term =\n",
    "{\n",
    "    e match\n",
    "    {\n",
    "        case Variable(e1)  => Variable(e1);\n",
    "        case I(e1) => eliminateICombinator(e1);\n",
    "        case K(e1) => K(eliminateICombinator(e1));\n",
    "        case S(e1) => S(eliminateICombinator(e1));\n",
    "        case Apply(e1, e2) => Apply(eliminateICombinator(e1), eliminateICombinator(e2));\n",
    "    }\n",
    "}"
   ]
  },
  {
   "cell_type": "code",
   "execution_count": 9,
   "id": "ea9b4522",
   "metadata": {
    "deletable": false,
    "editable": false,
    "nbgrader": {
     "cell_type": "code",
     "checksum": "5220e5fa5a09e2e86d435df0cdf5404c",
     "grade": true,
     "grade_id": "cell-fa64017c333fe4e6",
     "locked": true,
     "points": 10,
     "schema_version": 3,
     "solution": false,
     "task": false
    }
   },
   "outputs": [
    {
     "name": "stdout",
     "output_type": "stream",
     "text": [
      "Test # 1 \n",
      "\t Expected: Apply(S(Apply(K(Variable(x)),Variable(y))),Variable(x)), your code returned: Apply(S(Apply(K(Variable(x)),Variable(y))),Variable(x))\n",
      "\t Passed!\n",
      "Test # 2 \n",
      "\t Expected: Apply(S(Variable(x)),Variable(y)), your code returned: Apply(S(Variable(x)),Variable(y))\n",
      "\t Passed!\n",
      "Test # 3 \n",
      "\t Expected: Apply(K(Apply(Variable(x),Variable(y))),Variable(x)), your code returned: Apply(K(Apply(Variable(x),Variable(y))),Variable(x))\n",
      "\t Passed!\n",
      "\n",
      "*** Tests Passed (10 points) ***\n"
     ]
    },
    {
     "data": {
      "text/plain": [
       "\u001b[36mt1\u001b[39m: \u001b[32mApply\u001b[39m = \u001b[33mApply\u001b[39m(\n",
       "  e1 = \u001b[33mS\u001b[39m(e1 = \u001b[33mApply\u001b[39m(e1 = \u001b[33mK\u001b[39m(e1 = \u001b[33mVariable\u001b[39m(e1 = \u001b[32m\"x\"\u001b[39m)), e2 = \u001b[33mVariable\u001b[39m(e1 = \u001b[32m\"y\"\u001b[39m))),\n",
       "  e2 = \u001b[33mI\u001b[39m(e1 = \u001b[33mVariable\u001b[39m(e1 = \u001b[32m\"x\"\u001b[39m))\n",
       ")\n",
       "\u001b[36mt1_expected\u001b[39m: \u001b[32mApply\u001b[39m = \u001b[33mApply\u001b[39m(\n",
       "  e1 = \u001b[33mS\u001b[39m(e1 = \u001b[33mApply\u001b[39m(e1 = \u001b[33mK\u001b[39m(e1 = \u001b[33mVariable\u001b[39m(e1 = \u001b[32m\"x\"\u001b[39m)), e2 = \u001b[33mVariable\u001b[39m(e1 = \u001b[32m\"y\"\u001b[39m))),\n",
       "  e2 = \u001b[33mVariable\u001b[39m(e1 = \u001b[32m\"x\"\u001b[39m)\n",
       ")\n",
       "\u001b[36mt2\u001b[39m: \u001b[32mApply\u001b[39m = \u001b[33mApply\u001b[39m(\n",
       "  e1 = \u001b[33mS\u001b[39m(e1 = \u001b[33mI\u001b[39m(e1 = \u001b[33mVariable\u001b[39m(e1 = \u001b[32m\"x\"\u001b[39m))),\n",
       "  e2 = \u001b[33mI\u001b[39m(e1 = \u001b[33mI\u001b[39m(e1 = \u001b[33mI\u001b[39m(e1 = \u001b[33mVariable\u001b[39m(e1 = \u001b[32m\"y\"\u001b[39m))))\n",
       ")\n",
       "\u001b[36mt2_expected\u001b[39m: \u001b[32mApply\u001b[39m = \u001b[33mApply\u001b[39m(\n",
       "  e1 = \u001b[33mS\u001b[39m(e1 = \u001b[33mVariable\u001b[39m(e1 = \u001b[32m\"x\"\u001b[39m)),\n",
       "  e2 = \u001b[33mVariable\u001b[39m(e1 = \u001b[32m\"y\"\u001b[39m)\n",
       ")\n",
       "\u001b[36mt3\u001b[39m: \u001b[32mApply\u001b[39m = \u001b[33mApply\u001b[39m(\n",
       "  e1 = \u001b[33mK\u001b[39m(e1 = \u001b[33mApply\u001b[39m(e1 = \u001b[33mI\u001b[39m(e1 = \u001b[33mVariable\u001b[39m(e1 = \u001b[32m\"x\"\u001b[39m)), e2 = \u001b[33mVariable\u001b[39m(e1 = \u001b[32m\"y\"\u001b[39m))),\n",
       "  e2 = \u001b[33mI\u001b[39m(e1 = \u001b[33mVariable\u001b[39m(e1 = \u001b[32m\"x\"\u001b[39m))\n",
       ")\n",
       "\u001b[36mt3_expected\u001b[39m: \u001b[32mApply\u001b[39m = \u001b[33mApply\u001b[39m(\n",
       "  e1 = \u001b[33mK\u001b[39m(e1 = \u001b[33mApply\u001b[39m(e1 = \u001b[33mVariable\u001b[39m(e1 = \u001b[32m\"x\"\u001b[39m), e2 = \u001b[33mVariable\u001b[39m(e1 = \u001b[32m\"y\"\u001b[39m))),\n",
       "  e2 = \u001b[33mVariable\u001b[39m(e1 = \u001b[32m\"x\"\u001b[39m)\n",
       ")"
      ]
     },
     "execution_count": 9,
     "metadata": {},
     "output_type": "execute_result"
    }
   ],
   "source": [
    "val t1 = Apply( S ( Apply ( K (Variable (\"x\")),  Variable(\"y\"))), I (Variable(\"x\") ))\n",
    "val t1_expected = Apply( S ( Apply ( K (Variable (\"x\")),  Variable(\"y\"))),Variable(\"x\") )\n",
    "testWithMessage(eliminateICombinator(t1), t1_expected, \"# 1 \")\n",
    "\n",
    "val t2 = Apply( S( I(Variable(\"x\"))), I(I(I(Variable(\"y\")))))\n",
    "val t2_expected = Apply( S ( Variable(\"x\") ), Variable(\"y\"))\n",
    "testWithMessage(eliminateICombinator(t2), t2_expected, \"# 2 \")\n",
    "\n",
    "val t3 = Apply( K ( Apply ( I (Variable (\"x\")),  Variable(\"y\"))), I (Variable(\"x\") ))\n",
    "val t3_expected = Apply( K ( Apply ( Variable (\"x\"),  Variable(\"y\"))),Variable(\"x\") )\n",
    "testWithMessage(eliminateICombinator(t3), t3_expected, \"# 3 \")\n",
    "\n",
    "passed(10)"
   ]
  },
  {
   "attachments": {},
   "cell_type": "markdown",
   "id": "17a9c95c",
   "metadata": {
    "deletable": false,
    "editable": false,
    "nbgrader": {
     "cell_type": "markdown",
     "checksum": "2786766508d9577f5ebb71b0838d1917",
     "grade": false,
     "grade_id": "cell-4766a51f60b00db3",
     "locked": true,
     "schema_version": 3,
     "solution": false,
     "task": false
    }
   },
   "source": [
    "### Part C (10 points)\n",
    "\n",
    "The next rule in combinatory logic is to eliminate `K` combinators as follows. Consider a term that has the following pattern:  $ K ( t_1) \\circ t_2 $ where $t_1, t_2$ are arbitrary terms. Such a term is replaced by \n",
    "$t_1$. As an example:\n",
    "\n",
    "~~~\n",
    "Apply( K ( Variable(\"x\")), I(S(Variable(\"y\"))))\n",
    "~~~\n",
    "\n",
    "representing the expression $ K(x) \\circ I(S(y))$ is replaced by \n",
    "\n",
    "~~~ \n",
    "Variable(\"x\")\n",
    "~~~\n",
    "\n",
    "Implement a recursive function using case pattern matching that replaces only the \"leftmost\" and \"outermost\" occurrence of `K` in a formula if it matches the patttern `Apply( K (t1), t2)`.\n",
    "\n",
    "For instance,  if your formula is $ K( K( t_1) \\circ t_2) \\circ t_3$, you should return $K(t_1) \\circ t_2$. Here are some examples of how we would like the transformation to work:\n",
    "\n",
    "__Example # 1__ \n",
    "\n",
    "Everywhere you see terms x, y, z, please read them as `Variable(\"x\"), Variable(\"y\") ` and `Variable(\"z\")`, respectively.\n",
    "\n",
    "~~~\n",
    "Apply ( Apply ( K ( x ), K ( y ) ), K(I(z)) )\n",
    "~~~\n",
    "should be transformed into\n",
    "\n",
    "~~~\n",
    "Apply( x, K(I(z)) )\n",
    "~~~\n",
    "\n",
    "__Example # 2__\n",
    "\n",
    "~~~\n",
    "\n",
    "Apply( x, Apply( K (y), K(z)) )\n",
    "~~~\n",
    "\n",
    "should be transformed into \n",
    "\n",
    "~~~\n",
    "Apply(x, y)\n",
    "~~~\n",
    "\n",
    "\n",
    "__Example # 3__\n",
    "\n",
    "~~~\n",
    "K( Apply(K (x), y) )\n",
    "~~~\n",
    "\n",
    "should be transformed into \n",
    "\n",
    "~~~\n",
    "K( x ) \n",
    "~~~\n",
    "\n",
    "\n",
    "Implement the function `transformLeftmostKCombinator` with the signature below. The function returns a tuple \n",
    "`(Term, Boolean)`: the transformed term; and `true` if the input has changed or `false` if the input is unchanged.\n",
    "Just fill in the missing cases in the code below."
   ]
  },
  {
   "cell_type": "code",
   "execution_count": 10,
   "id": "58cf023f",
   "metadata": {
    "deletable": false,
    "nbgrader": {
     "cell_type": "code",
     "checksum": "a8fe71b80b8c959240c664b9c0d89ea6",
     "grade": false,
     "grade_id": "cell-d34eecbbc4d8d5fa",
     "locked": false,
     "schema_version": 3,
     "solution": true,
     "task": false
    }
   },
   "outputs": [
    {
     "data": {
      "text/plain": [
       "defined \u001b[32mfunction\u001b[39m \u001b[36mtransformLeftmostKCombinator\u001b[39m"
      ]
     },
     "execution_count": 10,
     "metadata": {},
     "output_type": "execute_result"
    }
   ],
   "source": [
    "def transformLeftmostKCombinator(t: Term): (Term, Boolean) = t match {\n",
    "    case Variable(_ ) => (t, false)\n",
    "    case K(t1) => {\n",
    "        val (x, b) = transformLeftmostKCombinator(t1)\n",
    "        (K(x), b)\n",
    "    }\n",
    "    case I(t1) => {\n",
    "        val (x, b) = transformLeftmostKCombinator(t1)\n",
    "        (I(x), b)\n",
    "    }\n",
    "    case S(t1) => {\n",
    "        val (x, b) = transformLeftmostKCombinator(t1)\n",
    "        (S(x), b)\n",
    "    }\n",
    "    case Apply(K(t1), t2 ) => { /* your solution here */\n",
    "           (t1, true)\n",
    "    }\n",
    "    case Apply(t1, t2) => { /* your solution here */\n",
    "        val (x, b) = transformLeftmostKCombinator(t1)\n",
    "        val (x1, b1) = transformLeftmostKCombinator(t2)\n",
    "        if(b == true)\n",
    "            (Apply(x, t2), true) \n",
    "        else\n",
    "            (Apply(t1, x1), true) \n",
    "    }\n",
    "    \n",
    "}"
   ]
  },
  {
   "cell_type": "code",
   "execution_count": 11,
   "id": "3999ffa9",
   "metadata": {
    "deletable": false,
    "editable": false,
    "nbgrader": {
     "cell_type": "code",
     "checksum": "9036bebbdd4c702961e4b83f954978e2",
     "grade": true,
     "grade_id": "cell-f64ece7651dbddcd",
     "locked": true,
     "points": 10,
     "schema_version": 3,
     "solution": false,
     "task": false
    }
   },
   "outputs": [
    {
     "name": "stdout",
     "output_type": "stream",
     "text": [
      "Test #1\n",
      "\t Expected: Apply(Variable(x),K(I(Variable(z)))), your code returned: Apply(Variable(x),K(I(Variable(z))))\n",
      "\t Passed!\n",
      "Test #2\n",
      "\t Expected: Variable(x), your code returned: Variable(x)\n",
      "\t Passed!\n",
      "Test #3\n",
      "\t Expected: K(Variable(x)), your code returned: K(Variable(x))\n",
      "\t Passed!\n",
      "Test #4\n",
      "\t Expected: Apply(S(K(Variable(x))),K(Variable(z))), your code returned: Apply(S(K(Variable(x))),K(Variable(z)))\n",
      "\t Passed!\n",
      "Test #5\n",
      "\t Expected: Apply(Variable(z),Variable(x)), your code returned: Apply(Variable(z),Variable(x))\n",
      "\t Passed!\n",
      "Test #6\n",
      "\t Expected: K(Variable(x)), your code returned: K(Variable(x))\n",
      "\t Passed!\n",
      "\n",
      "*** Tests Passed (10 points) ***\n"
     ]
    },
    {
     "data": {
      "text/plain": [
       "\u001b[36mx\u001b[39m: \u001b[32mVariable\u001b[39m = \u001b[33mVariable\u001b[39m(e1 = \u001b[32m\"x\"\u001b[39m)\n",
       "\u001b[36my\u001b[39m: \u001b[32mVariable\u001b[39m = \u001b[33mVariable\u001b[39m(e1 = \u001b[32m\"y\"\u001b[39m)\n",
       "\u001b[36mz\u001b[39m: \u001b[32mVariable\u001b[39m = \u001b[33mVariable\u001b[39m(e1 = \u001b[32m\"z\"\u001b[39m)\n",
       "\u001b[36mt1\u001b[39m: \u001b[32mApply\u001b[39m = \u001b[33mApply\u001b[39m(\n",
       "  e1 = \u001b[33mApply\u001b[39m(e1 = \u001b[33mK\u001b[39m(e1 = \u001b[33mVariable\u001b[39m(e1 = \u001b[32m\"x\"\u001b[39m)), e2 = \u001b[33mK\u001b[39m(e1 = \u001b[33mVariable\u001b[39m(e1 = \u001b[32m\"y\"\u001b[39m))),\n",
       "  e2 = \u001b[33mK\u001b[39m(e1 = \u001b[33mI\u001b[39m(e1 = \u001b[33mVariable\u001b[39m(e1 = \u001b[32m\"z\"\u001b[39m)))\n",
       ")\n",
       "\u001b[36mt1_expect\u001b[39m: \u001b[32mApply\u001b[39m = \u001b[33mApply\u001b[39m(\n",
       "  e1 = \u001b[33mVariable\u001b[39m(e1 = \u001b[32m\"x\"\u001b[39m),\n",
       "  e2 = \u001b[33mK\u001b[39m(e1 = \u001b[33mI\u001b[39m(e1 = \u001b[33mVariable\u001b[39m(e1 = \u001b[32m\"z\"\u001b[39m)))\n",
       ")\n",
       "\u001b[36mt1_answer\u001b[39m: \u001b[32mTerm\u001b[39m = \u001b[33mApply\u001b[39m(\n",
       "  e1 = \u001b[33mVariable\u001b[39m(e1 = \u001b[32m\"x\"\u001b[39m),\n",
       "  e2 = \u001b[33mK\u001b[39m(e1 = \u001b[33mI\u001b[39m(e1 = \u001b[33mVariable\u001b[39m(e1 = \u001b[32m\"z\"\u001b[39m)))\n",
       ")\n",
       "\u001b[36mb1\u001b[39m: \u001b[32mBoolean\u001b[39m = \u001b[32mtrue\u001b[39m\n",
       "\u001b[36mt2\u001b[39m: \u001b[32mApply\u001b[39m = \u001b[33mApply\u001b[39m(\n",
       "  e1 = \u001b[33mK\u001b[39m(e1 = \u001b[33mVariable\u001b[39m(e1 = \u001b[32m\"x\"\u001b[39m)),\n",
       "  e2 = \u001b[33mI\u001b[39m(e1 = \u001b[33mS\u001b[39m(e1 = \u001b[33mVariable\u001b[39m(e1 = \u001b[32m\"y\"\u001b[39m)))\n",
       ")\n",
       "\u001b[36mt2_expect\u001b[39m: \u001b[32mVariable\u001b[39m = \u001b[33mVariable\u001b[39m(e1 = \u001b[32m\"x\"\u001b[39m)\n",
       "\u001b[36mt2_answer\u001b[39m: \u001b[32mTerm\u001b[39m = \u001b[33mVariable\u001b[39m(e1 = \u001b[32m\"x\"\u001b[39m)\n",
       "\u001b[36mb2\u001b[39m: \u001b[32mBoolean\u001b[39m = \u001b[32mtrue\u001b[39m\n",
       "\u001b[36mt3\u001b[39m: \u001b[32mK\u001b[39m = \u001b[33mK\u001b[39m(e1 = \u001b[33mApply\u001b[39m(e1 = \u001b[33mK\u001b[39m(e1 = \u001b[33mVariable\u001b[39m(e1 = \u001b[32m\"x\"\u001b[39m)), e2 = \u001b[33mVariable\u001b[39m(e1 = \u001b[32m\"z\"\u001b[39m)))\n",
       "\u001b[36mt3_expect\u001b[39m: \u001b[32mK\u001b[39m = \u001b[33mK\u001b[39m(e1 = \u001b[33mVariable\u001b[39m(e1 = \u001b[32m\"x\"\u001b[39m))\n",
       "\u001b[36mt3_answer\u001b[39m: \u001b[32mTerm\u001b[39m = \u001b[33mK\u001b[39m(e1 = \u001b[33mVariable\u001b[39m(e1 = \u001b[32m\"x\"\u001b[39m))\n",
       "\u001b[36mt4\u001b[39m: \u001b[32mApply\u001b[39m = \u001b[33mApply\u001b[39m(\n",
       "  e1 = \u001b[33mS\u001b[39m(e1 = \u001b[33mK\u001b[39m(e1 = \u001b[33mVariable\u001b[39m(e1 = \u001b[32m\"x\"\u001b[39m))),\n",
       "  e2 = \u001b[33mK\u001b[39m(e1 = \u001b[33mVariable\u001b[39m(e1 = \u001b[32m\"z\"\u001b[39m))\n",
       ")\n",
       "\u001b[36mt4_expect\u001b[39m: \u001b[32mApply\u001b[39m = \u001b[33mApply\u001b[39m(\n",
       "  e1 = \u001b[33mS\u001b[39m(e1 = \u001b[33mK\u001b[39m(e1 = \u001b[33mVariable\u001b[39m(e1 = \u001b[32m\"x\"\u001b[39m))),\n",
       "  e2 = \u001b[33mK\u001b[39m(e1 = \u001b[33mVariable\u001b[39m(e1 = \u001b[32m\"z\"\u001b[39m))\n",
       ")\n",
       "\u001b[36mt4_answer\u001b[39m: \u001b[32mTerm\u001b[39m = \u001b[33mApply\u001b[39m(\n",
       "  e1 = \u001b[33mS\u001b[39m(e1 = \u001b[33mK\u001b[39m(e1 = \u001b[33mVariable\u001b[39m(e1 = \u001b[32m\"x\"\u001b[39m))),\n",
       "  e2 = \u001b[33mK\u001b[39m(e1 = \u001b[33mVariable\u001b[39m(e1 = \u001b[32m\"z\"\u001b[39m))\n",
       ")\n",
       "\u001b[36mt5\u001b[39m: \u001b[32mApply\u001b[39m = \u001b[33mApply\u001b[39m(\n",
       "  e1 = \u001b[33mVariable\u001b[39m(e1 = \u001b[32m\"z\"\u001b[39m),\n",
       "  e2 = \u001b[33mApply\u001b[39m(e1 = \u001b[33mK\u001b[39m(e1 = \u001b[33mVariable\u001b[39m(e1 = \u001b[32m\"x\"\u001b[39m)), e2 = \u001b[33mK\u001b[39m(e1 = \u001b[33mVariable\u001b[39m(e1 = \u001b[32m\"y\"\u001b[39m)))\n",
       ")\n",
       "\u001b[36mt5_expect\u001b[39m: \u001b[32mApply\u001b[39m = \u001b[33mApply\u001b[39m(e1 = \u001b[33mVariable\u001b[39m(e1 = \u001b[32m\"z\"\u001b[39m), e2 = \u001b[33mVariable\u001b[39m(e1 = \u001b[32m\"x\"\u001b[39m))\n",
       "\u001b[36mt5_answer\u001b[39m: \u001b[32mTerm\u001b[39m = \u001b[33mApply\u001b[39m(e1 = \u001b[33mVariable\u001b[39m(e1 = \u001b[32m\"z\"\u001b[39m), e2 = \u001b[33mVariable\u001b[39m(e1 = \u001b[32m\"x\"\u001b[39m))\n",
       "\u001b[36mt6\u001b[39m: \u001b[32mK\u001b[39m = \u001b[33mK\u001b[39m(e1 = \u001b[33mApply\u001b[39m(e1 = \u001b[33mK\u001b[39m(e1 = \u001b[33mVariable\u001b[39m(e1 = \u001b[32m\"x\"\u001b[39m)), e2 = \u001b[33mVariable\u001b[39m(e1 = \u001b[32m\"y\"\u001b[39m)))\n",
       "\u001b[36mt6_expect\u001b[39m: \u001b[32mK\u001b[39m = \u001b[33mK\u001b[39m(e1 = \u001b[33mVariable\u001b[39m(e1 = \u001b[32m\"x\"\u001b[39m))\n",
       "\u001b[36mt6_answer\u001b[39m: \u001b[32mTerm\u001b[39m = \u001b[33mK\u001b[39m(e1 = \u001b[33mVariable\u001b[39m(e1 = \u001b[32m\"x\"\u001b[39m))"
      ]
     },
     "execution_count": 11,
     "metadata": {},
     "output_type": "execute_result"
    }
   ],
   "source": [
    "val x = Variable(\"x\")\n",
    "val y = Variable(\"y\")\n",
    "val z = Variable(\"z\")\n",
    "/* Test # 1 */\n",
    "val t1 = Apply ( Apply ( K ( x ), K ( y ) ), K(I(z)) )\n",
    "val t1_expect = Apply( x, K(I(z)))\n",
    "val (t1_answer:Term, b1:Boolean) = transformLeftmostKCombinator(t1)\n",
    "testWithMessage(t1_answer, t1_expect, \"#1\")\n",
    "\n",
    "/* Test # 2 */\n",
    "val t2 = Apply( K ( x), I(S(y)))\n",
    "val t2_expect = x\n",
    "val (t2_answer, b2) = transformLeftmostKCombinator(t2)\n",
    "testWithMessage(t2_answer, t2_expect, \"#2\")\n",
    "\n",
    "\n",
    "/* Test # 3 */\n",
    "val t3 = K( Apply( K (x), z))\n",
    "val t3_expect = K( x)\n",
    "val (t3_answer, _) = transformLeftmostKCombinator(t3)\n",
    "testWithMessage(t3_answer, t3_expect, \"#3\")\n",
    "\n",
    "/* Test # 4 */\n",
    "val t4 = Apply( S ( K( x)), K(z))\n",
    "val t4_expect = t4\n",
    "val (t4_answer, _) = transformLeftmostKCombinator(t4)\n",
    "testWithMessage(t4_answer, t4_expect, \"#4\")\n",
    "\n",
    "/* Test # 5 */\n",
    "val t5 = Apply(z, Apply(K(x), K(y)))\n",
    "val t5_expect = Apply(z, x)\n",
    "val (t5_answer, _) = transformLeftmostKCombinator(t5)\n",
    "testWithMessage(t5_answer, t5_expect, \"#5\")\n",
    "\n",
    "/* Test # 6 */\n",
    "val t6 = K( Apply(K (x), y) )\n",
    "val t6_expect = K(x)\n",
    "val (t6_answer, _) = transformLeftmostKCombinator(t6)\n",
    "testWithMessage(t6_answer, t6_expect, \"#6\")\n",
    "passed(10)"
   ]
  },
  {
   "attachments": {},
   "cell_type": "markdown",
   "id": "725c8ab1",
   "metadata": {
    "deletable": false,
    "editable": false,
    "nbgrader": {
     "cell_type": "markdown",
     "checksum": "e36e8375c381e67711a3dfb0e3526d03",
     "grade": false,
     "grade_id": "cell-cfbb55c76143fb3d",
     "locked": true,
     "schema_version": 3,
     "solution": false,
     "task": false
    }
   },
   "source": [
    "## Problem 3\n",
    "\n",
    "In class, we saw inductive definition of lists of numbers. We will augment that definition to allow nested lists that can contain either integers or inner nested lists of integers. Here is the grammar:\n",
    "\n",
    "$$\\newcommand\\MyList{\\mathbf{MyList}}\n",
    "\\begin{array}{rcll}\n",
    "\\MyList & \\Rightarrow & \\text{MyNil} \\\\ \n",
    "& | & \\text{MyCons}(\\mathbf{Integer}, \\MyList) \\\\ \n",
    "& | & \\text{MyListCons}( \\MyList, \\MyList ) & \\leftarrow\\ \\text{Note: this conses the first list onto the second} \\\\ \n",
    "\\end{array} $$\n",
    "\n",
    "This allows us to construct lists that can contain nested lists inside, like so:\n",
    "~~~\n",
    "[ [1, 2], 3, [[5]] ] ==> MyListCons( MyCons(1, MyCons(2, MyNil)),  // [1, 2]\n",
    "                            MyCons(3,                     // 3\n",
    "                              MyListCons( MyListCons( MyCons(5, MyNil), MyNil) //[[5]]\n",
    "                                 MyNil )))\n",
    "~~~\n",
    "\n",
    "### Part A (5 points)\n",
    "\n",
    "First, write down the inductive definition.\n"
   ]
  },
  {
   "cell_type": "code",
   "execution_count": 12,
   "id": "8f899eb5",
   "metadata": {
    "deletable": false,
    "nbgrader": {
     "cell_type": "code",
     "checksum": "fe2c8e9cd049ef4da2b02736a80bf8c6",
     "grade": false,
     "grade_id": "cell-4ce19e6803e15a13",
     "locked": false,
     "schema_version": 3,
     "solution": true,
     "task": false
    }
   },
   "outputs": [
    {
     "data": {
      "text/plain": [
       "defined \u001b[32mtrait\u001b[39m \u001b[36mMyList\u001b[39m\n",
       "defined \u001b[32mobject\u001b[39m \u001b[36mMyNil\u001b[39m\n",
       "defined \u001b[32mclass\u001b[39m \u001b[36mMyCons\u001b[39m\n",
       "defined \u001b[32mclass\u001b[39m \u001b[36mMyListCons\u001b[39m"
      ]
     },
     "execution_count": 12,
     "metadata": {},
     "output_type": "execute_result"
    }
   ],
   "source": [
    "/*\n",
    "sealed trait Term\n",
    "case class Variable(e1:String) extends Term;\n",
    "case class I(e1:Term) extends Term;\n",
    "case class K(e1:Term) extends Term;\n",
    "case class S(e1:Term) extends Term;\n",
    "case class Apply(e1:Term, e2:Term) extends Term;\n",
    "*/\n",
    "sealed trait MyList\n",
    "\n",
    "case object MyNil extends MyList;\n",
    "case class MyCons(e1: Int, e2: MyList) extends MyList;\n",
    "case class MyListCons(e1: MyList, e2: MyList) extends MyList;"
   ]
  },
  {
   "cell_type": "code",
   "execution_count": 13,
   "id": "daf70703",
   "metadata": {
    "deletable": false,
    "editable": false,
    "nbgrader": {
     "cell_type": "code",
     "checksum": "53c242f43b3f96dce8bf96f553b64717",
     "grade": true,
     "grade_id": "cell-4a72d74518575460",
     "locked": true,
     "points": 5,
     "schema_version": 3,
     "solution": false,
     "task": false
    }
   },
   "outputs": [
    {
     "name": "stdout",
     "output_type": "stream",
     "text": [
      "\n",
      "*** Tests Passed (5 points) ***\n"
     ]
    },
    {
     "data": {
      "text/plain": [
       "\u001b[36me1\u001b[39m: \u001b[32mMyListCons\u001b[39m = \u001b[33mMyListCons\u001b[39m(\n",
       "  e1 = \u001b[33mMyCons\u001b[39m(e1 = \u001b[32m5\u001b[39m, e2 = MyNil),\n",
       "  e2 = \u001b[33mMyListCons\u001b[39m(e1 = \u001b[33mMyCons\u001b[39m(e1 = \u001b[32m-10\u001b[39m, e2 = MyNil), e2 = MyNil)\n",
       ")\n",
       "\u001b[36me2\u001b[39m: \u001b[32mMyListCons\u001b[39m = \u001b[33mMyListCons\u001b[39m(\n",
       "  e1 = \u001b[33mMyCons\u001b[39m(e1 = \u001b[32m1\u001b[39m, e2 = \u001b[33mMyCons\u001b[39m(e1 = \u001b[32m2\u001b[39m, e2 = MyNil)),\n",
       "  e2 = \u001b[33mMyCons\u001b[39m(\n",
       "    e1 = \u001b[32m3\u001b[39m,\n",
       "    e2 = \u001b[33mMyListCons\u001b[39m(\n",
       "      e1 = \u001b[33mMyListCons\u001b[39m(e1 = \u001b[33mMyCons\u001b[39m(e1 = \u001b[32m5\u001b[39m, e2 = MyNil), e2 = MyNil),\n",
       "      e2 = MyNil\n",
       "    )\n",
       "  )\n",
       ")"
      ]
     },
     "execution_count": 13,
     "metadata": {},
     "output_type": "execute_result"
    }
   ],
   "source": [
    "//[[5], [-10]]\n",
    "val e1 = MyListCons (MyCons(5, MyNil), MyListCons( MyCons(-10, MyNil), MyNil))\n",
    "// [[1,2],3,[[5]]]\n",
    "val e2 = MyListCons( MyCons(1, MyCons(2, MyNil)),  // [1, 2]\n",
    "                            MyCons(3,                     // 3\n",
    "                              MyListCons( MyListCons( MyCons(5, MyNil), MyNil), //[[5]]\n",
    "                                 MyNil )))\n",
    "\n",
    "passed(5)"
   ]
  },
  {
   "attachments": {},
   "cell_type": "markdown",
   "id": "970e2a39",
   "metadata": {
    "deletable": false,
    "editable": false,
    "nbgrader": {
     "cell_type": "markdown",
     "checksum": "1f4f4d937ad2e207e6408f5c478f274c",
     "grade": false,
     "grade_id": "cell-f2b58f7dc23b9859",
     "locked": true,
     "schema_version": 3,
     "solution": false,
     "task": false
    }
   },
   "source": [
    "## Part B (10 points)\n",
    "\n",
    "Implement a function `nestingDepth` that computes the maximum depth of a nested list\n",
    "for a given `MyList`. The examples below should explain this concept clearly.\n",
    "\n",
    "\n",
    "### Examples\n",
    "\n",
    "~~~\n",
    "[] --> nesting depth 0 (empty list)\n",
    "[ 1, 2, 3 ] --> nesting depth 1\n",
    "[ [1], 2, 3 ] --> nesting depth 2\n",
    "[ [ [ 1, -1], 2], 3] --> nesting depth 3\n",
    "[1, 4, [[[6]]] ] --> nesting depth 4\n",
    "~~~"
   ]
  },
  {
   "cell_type": "code",
   "execution_count": 14,
   "id": "1e16309c",
   "metadata": {
    "deletable": false,
    "nbgrader": {
     "cell_type": "code",
     "checksum": "7c1f9c025bf7aaff90f02223ab3af86b",
     "grade": false,
     "grade_id": "cell-c8764d01970b2e2f",
     "locked": false,
     "schema_version": 3,
     "solution": true,
     "task": false
    }
   },
   "outputs": [
    {
     "data": {
      "text/plain": [
       "defined \u001b[32mfunction\u001b[39m \u001b[36mnestingDepth\u001b[39m"
      ]
     },
     "execution_count": 14,
     "metadata": {},
     "output_type": "execute_result"
    }
   ],
   "source": [
    "/*\n",
    "case object MyNil extends MyList;\n",
    "case class MyCons(e1: Int, e2: MyList) extends MyList;\n",
    "case class MyListCons(e1: MyList, e2: MyList) extends MyList;\n",
    "*/\n",
    "\n",
    "def nestingDepth(e:MyList): Int =\n",
    "{\n",
    "    e match\n",
    "    {\n",
    "        case MyNil => 0\n",
    "        case MyCons(n, l) =>\n",
    "        {\n",
    "            val tail = nestingDepth(l)\n",
    "            val head = 1\n",
    "            tail.max(head)\n",
    "                \n",
    "        }\n",
    "        case MyListCons(h, t) => \n",
    "        {\n",
    "            val tail = nestingDepth(t)\n",
    "            val head = nestingDepth(h) +1\n",
    "            tail.max(head)\n",
    "        }\n",
    "    }\n",
    "}"
   ]
  },
  {
   "cell_type": "code",
   "execution_count": 16,
   "id": "a7517f7c",
   "metadata": {
    "deletable": false,
    "editable": false,
    "nbgrader": {
     "cell_type": "code",
     "checksum": "861fed871f24c57962e5ae08c5a32552",
     "grade": true,
     "grade_id": "cell-bab4b3c28a416d48",
     "locked": true,
     "points": 10,
     "schema_version": 3,
     "solution": false,
     "task": false
    }
   },
   "outputs": [
    {
     "name": "stdout",
     "output_type": "stream",
     "text": [
      "Test #0\n",
      "\t Expected: 0, your code returned: 0\n",
      "\t Passed!\n",
      "Test #1\n",
      "\t Expected: 1, your code returned: 1\n",
      "\t Passed!\n",
      "Test #2\n",
      "\t Expected: 2, your code returned: 2\n",
      "\t Passed!\n",
      "Test #3\n",
      "\t Expected: 3, your code returned: 3\n",
      "\t Passed!\n",
      "Test #4\n",
      "\t Expected: 7, your code returned: 7\n",
      "\t Passed!\n",
      "\n",
      "*** Tests Passed (10 points) ***\n"
     ]
    },
    {
     "data": {
      "text/plain": [
       "\u001b[36mnil_depth\u001b[39m: \u001b[32mInt\u001b[39m = \u001b[32m0\u001b[39m\n",
       "\u001b[36msingle_depth\u001b[39m: \u001b[32mInt\u001b[39m = \u001b[32m1\u001b[39m\n",
       "\u001b[36me1\u001b[39m: \u001b[32mMyListCons\u001b[39m = \u001b[33mMyListCons\u001b[39m(\n",
       "  e1 = \u001b[33mMyCons\u001b[39m(e1 = \u001b[32m5\u001b[39m, e2 = MyNil),\n",
       "  e2 = \u001b[33mMyListCons\u001b[39m(e1 = \u001b[33mMyCons\u001b[39m(e1 = \u001b[32m-10\u001b[39m, e2 = MyNil), e2 = MyNil)\n",
       ")\n",
       "\u001b[36me1_depth\u001b[39m: \u001b[32mInt\u001b[39m = \u001b[32m2\u001b[39m\n",
       "\u001b[36me2\u001b[39m: \u001b[32mMyListCons\u001b[39m = \u001b[33mMyListCons\u001b[39m(\n",
       "  e1 = \u001b[33mMyCons\u001b[39m(e1 = \u001b[32m1\u001b[39m, e2 = \u001b[33mMyCons\u001b[39m(e1 = \u001b[32m2\u001b[39m, e2 = MyNil)),\n",
       "  e2 = \u001b[33mMyCons\u001b[39m(\n",
       "    e1 = \u001b[32m3\u001b[39m,\n",
       "    e2 = \u001b[33mMyListCons\u001b[39m(\n",
       "      e1 = \u001b[33mMyListCons\u001b[39m(e1 = \u001b[33mMyCons\u001b[39m(e1 = \u001b[32m5\u001b[39m, e2 = MyNil), e2 = MyNil),\n",
       "      e2 = MyNil\n",
       "    )\n",
       "  )\n",
       ")\n",
       "\u001b[36me2_depth\u001b[39m: \u001b[32mInt\u001b[39m = \u001b[32m3\u001b[39m\n",
       "defined \u001b[32mfunction\u001b[39m \u001b[36mmk_list_with_nesting\u001b[39m\n",
       "\u001b[36me7\u001b[39m: \u001b[32mMyList\u001b[39m = \u001b[33mMyListCons\u001b[39m(\n",
       "  e1 = \u001b[33mMyListCons\u001b[39m(\n",
       "    e1 = \u001b[33mMyListCons\u001b[39m(\n",
       "      e1 = \u001b[33mMyListCons\u001b[39m(\n",
       "        e1 = \u001b[33mMyListCons\u001b[39m(\n",
       "          e1 = \u001b[33mMyListCons\u001b[39m(e1 = \u001b[33mMyCons\u001b[39m(e1 = \u001b[32m-1\u001b[39m, e2 = MyNil), e2 = MyNil),\n",
       "          e2 = \u001b[33mMyCons\u001b[39m(e1 = \u001b[32m-1\u001b[39m, e2 = MyNil)\n",
       "        ),\n",
       "        e2 = \u001b[33mMyListCons\u001b[39m(e1 = \u001b[33mMyCons\u001b[39m(e1 = \u001b[32m-1\u001b[39m, e2 = MyNil), e2 = MyNil)\n",
       "      ),\n",
       "      e2 = \u001b[33mMyListCons\u001b[39m(\n",
       "        e1 = \u001b[33mMyListCons\u001b[39m(e1 = \u001b[33mMyCons\u001b[39m(e1 = \u001b[32m-1\u001b[39m, e2 = MyNil), e2 = MyNil),\n",
       "        e2 = \u001b[33mMyCons\u001b[39m(e1 = \u001b[32m-1\u001b[39m, e2 = MyNil)\n",
       "      )\n",
       "    ),\n",
       "    e2 = \u001b[33mMyListCons\u001b[39m(\n",
       "      e1 = \u001b[33mMyListCons\u001b[39m(\n",
       "        e1 = \u001b[33mMyListCons\u001b[39m(e1 = \u001b[33mMyCons\u001b[39m(e1 = \u001b[32m-1\u001b[39m, e2 = MyNil), e2 = MyNil),\n",
       "        e2 = \u001b[33mMyCons\u001b[39m(e1 = \u001b[32m-1\u001b[39m, e2 = MyNil)\n",
       "      ),\n",
       "      e2 = \u001b[33mMyListCons\u001b[39m(e1 = \u001b[33mMyCons\u001b[39m(e1 = \u001b[32m-1\u001b[39m, e2 = MyNil), e2 = MyNil)\n",
       "    )\n",
       "  ),\n",
       "  e2 = \u001b[33mMyListCons\u001b[39m(\n",
       "    e1 = \u001b[33mMyListCons\u001b[39m(\n",
       "      e1 = \u001b[33mMyListCons\u001b[39m(\n",
       "        e1 = \u001b[33mMyListCons\u001b[39m(e1 = \u001b[33mMyCons\u001b[39m(e1 = \u001b[32m-1\u001b[39m, e2 = MyNil), e2 = MyNil),\n",
       "        e2 = \u001b[33mMyCons\u001b[39m(e1 = \u001b[32m-1\u001b[39m, e2 = MyNil)\n",
       "      ),\n",
       "      e2 = \u001b[33mMyListCons\u001b[39m(e1 = \u001b[33mMyCons\u001b[39m(e1 = \u001b[32m-1\u001b[39m, e2 = MyNil), e2 = MyNil)\n",
       "    ),\n",
       "    e2 = \u001b[33mMyListCons\u001b[39m(\n",
       "      e1 = \u001b[33mMyListCons\u001b[39m(e1 = \u001b[33mMyCons\u001b[39m(e1 = \u001b[32m-1\u001b[39m, e2 = MyNil), e2 = MyNil),\n",
       "      e2 = \u001b[33mMyCons\u001b[39m(e1 = \u001b[32m-1\u001b[39m, e2 = MyNil)\n",
       "    )\n",
       "  )\n",
       ")\n",
       "\u001b[36me7_depth\u001b[39m: \u001b[32mInt\u001b[39m = \u001b[32m7\u001b[39m"
      ]
     },
     "execution_count": 16,
     "metadata": {},
     "output_type": "execute_result"
    }
   ],
   "source": [
    "// Test # 0: nil\n",
    "val nil_depth = nestingDepth(MyNil)\n",
    "testWithMessage(nil_depth, 0, \"#0\")\n",
    "\n",
    "// Test # 1: [2, 1]\n",
    "val single_depth = nestingDepth(MyCons(2, MyCons(1, MyNil)))\n",
    "testWithMessage(single_depth, 1, \"#1\")\n",
    "\n",
    "//Test # 2: [[5], [-10]]\n",
    "val e1 = MyListCons (MyCons(5, MyNil), MyListCons( MyCons(-10, MyNil), MyNil))\n",
    "val e1_depth = nestingDepth(e1)\n",
    "testWithMessage(e1_depth, 2, \"#2\")\n",
    "\n",
    "//Test # 3: [[1,2],3,[[5]]]\n",
    "val e2 = MyListCons( MyCons(1, MyCons(2, MyNil)),  // [1, 2]\n",
    "                            MyCons(3,                     // 3\n",
    "                              MyListCons( MyListCons( MyCons(5, MyNil), MyNil), //[[5]]\n",
    "                                 MyNil )))\n",
    "val e2_depth = nestingDepth(e2)\n",
    "testWithMessage(e2_depth, 3, \"#3\")\n",
    "\n",
    "// Test # 4: [[[[[[[-1]]]]]]]\n",
    "def mk_list_with_nesting(k: Int, elt: Int): MyList = k match {\n",
    "        case 0 => MyNil\n",
    "        case 1 => MyCons(elt, MyNil)\n",
    "        case _ => MyListCons(mk_list_with_nesting(k-1, elt), mk_list_with_nesting(k-2, elt))\n",
    "}\n",
    "\n",
    "val e7 = mk_list_with_nesting(7, -1)\n",
    "val e7_depth = nestingDepth(e7)\n",
    "testWithMessage(e7_depth, 7, \"#4\")\n",
    "\n",
    "passed(10)"
   ]
  },
  {
   "attachments": {},
   "cell_type": "markdown",
   "id": "91c566c3",
   "metadata": {
    "deletable": false,
    "editable": false,
    "nbgrader": {
     "cell_type": "markdown",
     "checksum": "ee251f27a378da26ee83c8028efdb556",
     "grade": false,
     "grade_id": "cell-c9b044935b926c91",
     "locked": true,
     "schema_version": 3,
     "solution": false,
     "task": false
    }
   },
   "source": [
    "## Part C (5 points)\n",
    "\n",
    "Implement a function `flatten` that takes a  MyList object and collects all the numbers in it into a single _Scala_ list of integers. \n",
    "\n",
    "The function `flatten` should input an argument of type `MyList` and return a Scala type `List[Int]`. \n",
    "\n",
    "The order in which elements appear in the MyList should be preserved (see examples below).\n",
    "\n",
    "No restrictions on list API usage. \n",
    "\n",
    "### Examples\n",
    "\n",
    "~~~\n",
    "[1, 2, 3] --> List(1, 2, 3)\n",
    "[ [[5, 4]], [7], [9, 8] ] --> List(5, 4, 7, 9, 8)\n",
    "[[[[[5]]]]] --> List(5)\n",
    "[] --> Nil (Scala's empty list)\n",
    "~~~\n"
   ]
  },
  {
   "cell_type": "code",
   "execution_count": 17,
   "id": "9da0feb9",
   "metadata": {
    "deletable": false,
    "nbgrader": {
     "cell_type": "code",
     "checksum": "3fbfe3ca776f617b953232f469971053",
     "grade": false,
     "grade_id": "cell-9d50107bc6c58552",
     "locked": false,
     "schema_version": 3,
     "solution": true,
     "task": false
    }
   },
   "outputs": [
    {
     "data": {
      "text/plain": [
       "defined \u001b[32mfunction\u001b[39m \u001b[36mflatten\u001b[39m"
      ]
     },
     "execution_count": 17,
     "metadata": {},
     "output_type": "execute_result"
    }
   ],
   "source": [
    "def flatten(lst:MyList): List[Int]=\n",
    "{\n",
    "    lst match{\n",
    "        case MyNil => Nil;\n",
    "        case MyCons(n, l) => n :: flatten(l)\n",
    "        case MyListCons(h, t) => flatten(h) ++ flatten(t)\n",
    "        \n",
    "    }\n",
    "}"
   ]
  },
  {
   "cell_type": "code",
   "execution_count": 18,
   "id": "e3f2401a",
   "metadata": {
    "deletable": false,
    "editable": false,
    "nbgrader": {
     "cell_type": "code",
     "checksum": "dbcc4791c14ea7463dc5b5802c3b3409",
     "grade": true,
     "grade_id": "cell-b4527e331b24538b",
     "locked": true,
     "points": 5,
     "schema_version": 3,
     "solution": false,
     "task": false
    }
   },
   "outputs": [
    {
     "name": "stdout",
     "output_type": "stream",
     "text": [
      "Test #0\n",
      "\t Expected: List(), your code returned: List()\n",
      "\t Passed!\n",
      "Test #1\n",
      "\t Expected: List(5, -4), your code returned: List(5, -4)\n",
      "\t Passed!\n",
      "Test #2\n",
      "\t Expected: List(5, -10), your code returned: List(5, -10)\n",
      "\t Passed!\n",
      "Test #3\n",
      "\t Expected: List(1, 2, -3, 15), your code returned: List(1, 2, -3, 15)\n",
      "\t Passed!\n",
      "\n",
      "*** Tests Passed (5 points) ***\n"
     ]
    },
    {
     "data": {
      "text/plain": [
       "\u001b[36me1\u001b[39m: \u001b[32mMyListCons\u001b[39m = \u001b[33mMyListCons\u001b[39m(\n",
       "  e1 = \u001b[33mMyCons\u001b[39m(e1 = \u001b[32m5\u001b[39m, e2 = MyNil),\n",
       "  e2 = \u001b[33mMyListCons\u001b[39m(e1 = \u001b[33mMyCons\u001b[39m(e1 = \u001b[32m-10\u001b[39m, e2 = MyNil), e2 = MyNil)\n",
       ")\n",
       "\u001b[36me2\u001b[39m: \u001b[32mMyListCons\u001b[39m = \u001b[33mMyListCons\u001b[39m(\n",
       "  e1 = \u001b[33mMyCons\u001b[39m(e1 = \u001b[32m1\u001b[39m, e2 = \u001b[33mMyCons\u001b[39m(e1 = \u001b[32m2\u001b[39m, e2 = MyNil)),\n",
       "  e2 = \u001b[33mMyCons\u001b[39m(\n",
       "    e1 = \u001b[32m-3\u001b[39m,\n",
       "    e2 = \u001b[33mMyListCons\u001b[39m(\n",
       "      e1 = \u001b[33mMyListCons\u001b[39m(e1 = \u001b[33mMyCons\u001b[39m(e1 = \u001b[32m15\u001b[39m, e2 = MyNil), e2 = MyNil),\n",
       "      e2 = MyNil\n",
       "    )\n",
       "  )\n",
       ")"
      ]
     },
     "execution_count": 18,
     "metadata": {},
     "output_type": "execute_result"
    }
   ],
   "source": [
    "// Test # 0: Nil\n",
    "testWithMessage(flatten(MyNil), Nil, \"#0\")\n",
    "\n",
    "// Test # 1: [5, -4]\n",
    "testWithMessage(flatten(MyCons(5, MyCons(-4, MyNil))), List(5, -4), \"#1\")\n",
    "\n",
    "// Test # 3: [5, [-10]]\n",
    "val e1 = MyListCons (MyCons(5, MyNil), MyListCons( MyCons(-10, MyNil), MyNil))\n",
    "testWithMessage(flatten(e1), List(5, -10), \"#2\")\n",
    "\n",
    "// Test # 4: [ [1,2], -3, [[15]] ]\n",
    "val e2 = MyListCons( MyCons(1, MyCons(2, MyNil)),  // [1, 2]\n",
    "                            MyCons(-3,                     // -3\n",
    "                              MyListCons( MyListCons( MyCons(15, MyNil), MyNil), //[[15]]\n",
    "                                 MyNil )))\n",
    "testWithMessage(flatten(e2), List(1, 2, -3, 15), \"#3\")\n",
    "\n",
    "passed(5)\n"
   ]
  },
  {
   "attachments": {},
   "cell_type": "markdown",
   "id": "525e2beb",
   "metadata": {
    "deletable": false,
    "editable": false,
    "nbgrader": {
     "cell_type": "markdown",
     "checksum": "8bf705e2de71e43cfc8e5bdd69cbcf68",
     "grade": false,
     "grade_id": "cell-7e1d531affd2434a",
     "locked": true,
     "schema_version": 3,
     "solution": false,
     "task": false
    }
   },
   "source": [
    "## That's All Folks!"
   ]
  }
 ],
 "metadata": {
  "kernelspec": {
   "display_name": "Scala",
   "language": "scala",
   "name": "scala"
  },
  "language_info": {
   "codemirror_mode": "text/x-scala",
   "file_extension": ".sc",
   "mimetype": "text/x-scala",
   "name": "scala",
   "nbconvert_exporter": "script",
   "version": "2.13.10"
  }
 },
 "nbformat": 4,
 "nbformat_minor": 5
}
