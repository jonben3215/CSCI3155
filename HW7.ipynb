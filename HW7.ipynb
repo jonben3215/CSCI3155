{
 "cells": [
  {
   "cell_type": "markdown",
   "metadata": {},
   "source": [
    "Before you turn this problem in, make sure everything runs as expected. First, **restart the kernel** (in the menubar, select Kernel$\\rightarrow$Restart) and then **run all cells** (in the menubar, select Cell$\\rightarrow$Run All).\n",
    "\n",
    "Make sure you fill in any place that says `???` or \"YOUR ANSWER HERE\"."
   ]
  },
  {
   "cell_type": "markdown",
   "metadata": {},
   "source": [
    "---"
   ]
  },
  {
   "cell_type": "markdown",
   "metadata": {
    "deletable": false,
    "editable": false,
    "nbgrader": {
     "cell_type": "markdown",
     "checksum": "ebaa2d55d411febe7201c0f5dbe16330",
     "grade": false,
     "grade_id": "cell-b80729316cfd2e18",
     "locked": true,
     "schema_version": 3,
     "solution": false
    }
   },
   "source": [
    "# CSCI 3155: Assignment 7\n",
    "\n",
    "Topics Covered: References and Side Effects."
   ]
  },
  {
   "cell_type": "markdown",
   "metadata": {},
   "source": [
    "__Name__: WRITE YOUR NAME HERE"
   ]
  },
  {
   "cell_type": "code",
   "execution_count": 1,
   "metadata": {
    "deletable": false,
    "editable": false,
    "nbgrader": {
     "cell_type": "code",
     "checksum": "10edc34beb31e64b0c799cd4fbb457e6",
     "grade": false,
     "grade_id": "cell-03363e9b41cd8f58",
     "locked": true,
     "schema_version": 3,
     "solution": false
    }
   },
   "outputs": [
    {
     "data": {
      "text/plain": [
       "defined \u001b[32mfunction\u001b[39m \u001b[36mpassed\u001b[39m"
      ]
     },
     "execution_count": 1,
     "metadata": {},
     "output_type": "execute_result"
    }
   ],
   "source": [
    "// TEST HELPER\n",
    "def passed(points: Int) {\n",
    "    require(points >=0)\n",
    "    if (points == 1) print(s\"\\n*** Tests Passed (1 point) ***\\n\")\n",
    "    else print(s\"\\n*** Tests Passed ($points points) ***\\n\")\n",
    "}"
   ]
  },
  {
   "cell_type": "markdown",
   "metadata": {
    "deletable": false,
    "editable": false,
    "nbgrader": {
     "cell_type": "markdown",
     "checksum": "1b450d4047d6902c871b4db5ead8ac45",
     "grade": false,
     "grade_id": "cell-3af553ceba4a5444",
     "locked": true,
     "schema_version": 3,
     "solution": false,
     "task": false
    }
   },
   "source": [
    "## P1 :  Functional Programming Finite State Machines.\n",
    "\n",
    "In this assignment, we understand how to program a finite state machines (FSM). A FSM has the following components:\n",
    "  - A set of states $Q: \\{s_1, \\ldots, s_n \\}$.\n",
    "  - A set of input alphabet: $\\Sigma: \\{ a_1, \\ldots, a_m \\}$.\n",
    "  - A transition function from each state, given an input to a new state: $ \\delta: Q \\times \\Sigma \\rightarrow Q$ wherein $\\delta(s_j, a_k)$ is a state $s_l$ that is reached when the alphabet $a_k$ is encountered in state $s_j$.\n",
    "  - An initial state $s_0 \\in Q$ and \n",
    "  - A set of accepting states $F \\subseteq Q$.\n",
    "\n",
    "If you have never encountered an FSM or its definition in the past (ouch!), then please look up these notes online: http://infolab.stanford.edu/~ullman/ialc/spr10/slides/fa2.pdf\n",
    "\n",
    "Let us implement FSMs using mutables complete the missing functions."
   ]
  },
  {
   "cell_type": "code",
   "execution_count": 2,
   "metadata": {
    "deletable": false,
    "nbgrader": {
     "cell_type": "code",
     "checksum": "4c686cccba2ec3dd6df0b726e1a5d80e",
     "grade": false,
     "grade_id": "cell-339f79a9ec4aba02",
     "locked": false,
     "schema_version": 3,
     "solution": true,
     "task": false
    }
   },
   "outputs": [
    {
     "data": {
      "text/plain": [
       "defined \u001b[32mtype\u001b[39m \u001b[36mStateID\u001b[39m\n",
       "defined \u001b[32mtype\u001b[39m \u001b[36mAlph\u001b[39m\n",
       "defined \u001b[32mclass\u001b[39m \u001b[36mMutableFSM\u001b[39m"
      ]
     },
     "execution_count": 2,
     "metadata": {},
     "output_type": "execute_result"
    }
   ],
   "source": [
    "type StateID = Int\n",
    "type Alph = Int\n",
    "\n",
    "class MutableFSM(val delta: StateID => Alph => StateID,\n",
    "          val init_state_id: StateID, \n",
    "          val is_accepting: StateID => Boolean){\n",
    "    \n",
    "    /*-- Maintain the ID of the current state --*/\n",
    "    var current_state_id : StateID = init_state_id\n",
    "    /*-- A getter for the current state --*/\n",
    "    def get_current_state: StateID = { current_state_id }\n",
    "    /*-- Is the current state accepting? --*/\n",
    "    def accepting: Boolean =  { is_accepting(current_state_id) }\n",
    "    /*-- Apply transition from current state for alphabet `alph`: use the function delta provided as a class parameter.--*/\n",
    "    def step(alph: Int):Unit ={\n",
    "        // YOUR CODE HERE\n",
    "       current_state_id = delta(current_state_id)(alph);\n",
    "    }\n",
    "    /*-- multiple_steps on a list of alphabets\n",
    "    Use of for-loops ALLOWED for this one problem!\n",
    "    Use the function step that you just implemented.\n",
    "    --*/\n",
    "    def multiple_steps(alph_seq: List[Int]): Unit = {\n",
    "        // YOUR CODE HERE\n",
    "        for(x <- alph_seq)\n",
    "        {\n",
    "            step(x)\n",
    "        }\n",
    "    }\n",
    "}"
   ]
  },
  {
   "cell_type": "code",
   "execution_count": 3,
   "metadata": {
    "deletable": false,
    "editable": false,
    "nbgrader": {
     "cell_type": "code",
     "checksum": "5e416a1847e5b411c025365d84f88e1a",
     "grade": true,
     "grade_id": "cell-150275d7765e1a4b",
     "locked": true,
     "points": 5,
     "schema_version": 3,
     "solution": false,
     "task": false
    }
   },
   "outputs": [
    {
     "name": "stdout",
     "output_type": "stream",
     "text": [
      "\n",
      "*** Tests Passed (5 points) ***\n"
     ]
    },
    {
     "data": {
      "text/plain": [
       "defined \u001b[32mfunction\u001b[39m \u001b[36mdelta\u001b[39m\n",
       "defined \u001b[32mfunction\u001b[39m \u001b[36mis_accepting\u001b[39m\n",
       "\u001b[36mmfsm\u001b[39m: \u001b[32mMutableFSM\u001b[39m = ammonite.$sess.cmd1$Helper$MutableFSM@1d328942"
      ]
     },
     "execution_count": 3,
     "metadata": {},
     "output_type": "execute_result"
    }
   ],
   "source": [
    "//BEGIN TESTS\n",
    "def delta (st: StateID) (alph: Alph) = (st, alph) match {\n",
    "    case (0, 0) => 1\n",
    "    case (0, 1) => 0\n",
    "    case (0, 2) => 1\n",
    "    case (1, 0) => 1\n",
    "    case (1, 1) => 1\n",
    "    case (1, 2) => 2\n",
    "    case (2, 1) => 0\n",
    "    case (2, 0) => 1\n",
    "    case (2, 2) => 2\n",
    "}\n",
    "\n",
    "def is_accepting(st: StateID) = { st == 2 }\n",
    "\n",
    "val mfsm = new MutableFSM(delta, 0, is_accepting)\n",
    "\n",
    "mfsm.step(0)\n",
    "assert (mfsm.get_current_state == 1, s\"A: expected state: 1, your code returns: ${mfsm.get_current_state}\")\n",
    "mfsm.step(1)\n",
    "assert (mfsm.get_current_state == 1, s\"B: expected state: 1, your code returns: ${mfsm.get_current_state}\")\n",
    "mfsm.step(2)\n",
    "assert (mfsm.get_current_state == 2, s\"C: expected state: 2, your code returns: ${mfsm.get_current_state}\")\n",
    "mfsm.step(2)\n",
    "assert (mfsm.get_current_state == 2, s\"D: expected state: 2, your code returns: ${mfsm.get_current_state}\")\n",
    "mfsm.step(0)\n",
    "assert (mfsm.get_current_state == 1, s\"E: expected state: 1, your code returns: ${mfsm.get_current_state}\")\n",
    "mfsm.step(1)\n",
    "assert (mfsm.get_current_state == 1, s\"F: expected state: 1, your code returns: ${mfsm.get_current_state}\")\n",
    "mfsm.step(1)\n",
    "assert (mfsm.get_current_state == 1, s\"G: expected state: 1, your code returns: ${mfsm.get_current_state}\")\n",
    "mfsm.step(2)\n",
    "assert (mfsm.get_current_state == 2, s\"H: expected state: 2, your code returns: ${mfsm.get_current_state}\")\n",
    "mfsm.step(1)\n",
    "assert (mfsm.get_current_state == 0, s\"I: expected state: 0, your code returns: ${mfsm.get_current_state}\")\n",
    "mfsm.multiple_steps(List(0,1,2,2,0,1,1,2,1))\n",
    "assert (mfsm.get_current_state == 0, s\"I: expected state: 0, your code returns: ${mfsm.get_current_state}\")\n",
    "passed(5)\n",
    "//END TESTS"
   ]
  },
  {
   "cell_type": "markdown",
   "metadata": {
    "deletable": false,
    "editable": false,
    "nbgrader": {
     "cell_type": "markdown",
     "checksum": "10bb28312b2717ff5caa94f1e523ac87",
     "grade": false,
     "grade_id": "cell-c7aacd274249c023",
     "locked": true,
     "schema_version": 3,
     "solution": false,
     "task": false
    }
   },
   "source": [
    "Let us now explore a functional style of implementing a FSM.\n",
    "Note the following changes:\n",
    "  - `current_state_id` is immutable now.\n",
    "  - The function `step` returns a new FSM whose current state must be set to the next state from current state and alphabet.\n",
    "  - Similarly the function `multiple_step` returns a new FSM structure. \n",
    "  \n",
    " __Restrictions__  For the problem, below you are not allowed to use `var` or loops.  Please use `foldLeft` to implement `multiple_step` function."
   ]
  },
  {
   "cell_type": "code",
   "execution_count": 4,
   "metadata": {
    "deletable": false,
    "nbgrader": {
     "cell_type": "code",
     "checksum": "8ca58194137a14ef2f2bb96df7b5c1de",
     "grade": false,
     "grade_id": "cell-b87ab237a3bfcaa4",
     "locked": false,
     "schema_version": 3,
     "solution": true,
     "task": false
    }
   },
   "outputs": [
    {
     "data": {
      "text/plain": [
       "defined \u001b[32mclass\u001b[39m \u001b[36mFSM\u001b[39m"
      ]
     },
     "execution_count": 4,
     "metadata": {},
     "output_type": "execute_result"
    }
   ],
   "source": [
    "class FSM(val current_state_id: StateID,\n",
    "          val delta: StateID => Alph => StateID,\n",
    "          val is_accepting: StateID => Boolean) {\n",
    "    /*-- A getter for the current state --*/\n",
    "    def get_current_state: Int = current_state_id\n",
    "    /*-- Is the current state accepting? --*/\n",
    "    def accepting: Boolean = is_accepting(current_state_id)\n",
    "    /*-- Apply transition from current state for alphabet `alph`--*/\n",
    "    def step(alph: Int): FSM= {\n",
    "        // YOUR CODE HERE\n",
    "        val fsm =  delta(current_state_id)(alph);\n",
    "        val fms_Prime = new FSM(fsm, delta, is_accepting)\n",
    "        fms_Prime\n",
    "    }\n",
    "    /*-- multiple_steps on a list of alphabets\n",
    "    Use of var/loops not allowed.\n",
    "    --*/\n",
    "    def multiple_steps(alph_seq: List[Alph]):FSM = {\n",
    "        // YOUR CODE HERE\n",
    "        val init_FSM = new FSM (current_state_id, delta, is_accepting)\n",
    "        alph_seq.foldLeft(init_FSM){\n",
    "            (curr_FSM, elt) => curr_FSM.step(elt)\n",
    "        }\n",
    "        \n",
    "    }\n",
    "}"
   ]
  },
  {
   "cell_type": "code",
   "execution_count": 5,
   "metadata": {
    "deletable": false,
    "editable": false,
    "nbgrader": {
     "cell_type": "code",
     "checksum": "97387edc1c0842145c50f5c230c390b9",
     "grade": true,
     "grade_id": "cell-f7cf7f22f9634a92",
     "locked": true,
     "points": 10,
     "schema_version": 3,
     "solution": false,
     "task": false
    }
   },
   "outputs": [
    {
     "name": "stdout",
     "output_type": "stream",
     "text": [
      "\n",
      "*** Tests Passed (10 points) ***\n"
     ]
    },
    {
     "data": {
      "text/plain": [
       "defined \u001b[32mfunction\u001b[39m \u001b[36mdelta\u001b[39m\n",
       "defined \u001b[32mfunction\u001b[39m \u001b[36mis_accepting\u001b[39m\n",
       "\u001b[36mmfsm0\u001b[39m: \u001b[32mFSM\u001b[39m = ammonite.$sess.cmd3$Helper$FSM@1bb038c6\n",
       "\u001b[36mmfsm1\u001b[39m: \u001b[32mFSM\u001b[39m = ammonite.$sess.cmd3$Helper$FSM@1c83b5af\n",
       "\u001b[36mmfsm2\u001b[39m: \u001b[32mFSM\u001b[39m = ammonite.$sess.cmd3$Helper$FSM@99fa6ec\n",
       "\u001b[36mmfsm3\u001b[39m: \u001b[32mFSM\u001b[39m = ammonite.$sess.cmd3$Helper$FSM@7131176d\n",
       "\u001b[36mmfsm4\u001b[39m: \u001b[32mFSM\u001b[39m = ammonite.$sess.cmd3$Helper$FSM@4df8d871\n",
       "\u001b[36mmfsm5\u001b[39m: \u001b[32mFSM\u001b[39m = ammonite.$sess.cmd3$Helper$FSM@432e22ee\n",
       "\u001b[36mmfsm6\u001b[39m: \u001b[32mFSM\u001b[39m = ammonite.$sess.cmd3$Helper$FSM@63715f4a\n",
       "\u001b[36mmfsm7\u001b[39m: \u001b[32mFSM\u001b[39m = ammonite.$sess.cmd3$Helper$FSM@3f54c7ee\n",
       "\u001b[36mmfsm8\u001b[39m: \u001b[32mFSM\u001b[39m = ammonite.$sess.cmd3$Helper$FSM@20ad11ea\n",
       "\u001b[36mmfsm9\u001b[39m: \u001b[32mFSM\u001b[39m = ammonite.$sess.cmd3$Helper$FSM@4f72e262\n",
       "\u001b[36mmfsm10\u001b[39m: \u001b[32mFSM\u001b[39m = ammonite.$sess.cmd3$Helper$FSM@65737614"
      ]
     },
     "execution_count": 5,
     "metadata": {},
     "output_type": "execute_result"
    }
   ],
   "source": [
    "//BEGIN TEST\n",
    "def delta (st: StateID) (alph: Alph) = (st, alph) match {\n",
    "    case (0, 0) => 1\n",
    "    case (0, 1) => 0\n",
    "    case (0, 2) => 1\n",
    "    case (1, 0) => 1\n",
    "    case (1, 1) => 1\n",
    "    case (1, 2) => 2\n",
    "    case (2, 1) => 0\n",
    "    case (2, 0) => 1\n",
    "    case (2, 2) => 2\n",
    "}\n",
    "\n",
    "def is_accepting(st: StateID) = { st == 2 }\n",
    "\n",
    "val mfsm0 = new FSM(0, delta, is_accepting)\n",
    "\n",
    "val mfsm1 = mfsm0.step(0)\n",
    "assert (mfsm1.get_current_state == 1, s\"A: expected state: 1, your code returns: ${mfsm.get_current_state}\")\n",
    "val mfsm2 = mfsm1.step(1)\n",
    "assert (mfsm2.get_current_state == 1, s\"B: expected state: 1, your code returns: ${mfsm.get_current_state}\")\n",
    "val mfsm3 = mfsm2.step(2)\n",
    "assert (mfsm3.get_current_state == 2, s\"C: expected state: 2, your code returns: ${mfsm.get_current_state}\")\n",
    "val mfsm4 = mfsm3.step(2)\n",
    "assert (mfsm4.get_current_state == 2, s\"D: expected state: 2, your code returns: ${mfsm.get_current_state}\")\n",
    "val mfsm5 = mfsm4.step(0)\n",
    "assert (mfsm5.get_current_state == 1, s\"E: expected state: 1, your code returns: ${mfsm.get_current_state}\")\n",
    "val mfsm6 = mfsm5.step(1)\n",
    "assert (mfsm6.get_current_state == 1, s\"F: expected state: 1, your code returns: ${mfsm.get_current_state}\")\n",
    "val mfsm7 = mfsm6.step(1)\n",
    "assert (mfsm7.get_current_state == 1, s\"G: expected state: 1, your code returns: ${mfsm.get_current_state}\")\n",
    "val mfsm8 = mfsm7.step(2)\n",
    "assert (mfsm8.get_current_state == 2, s\"H: expected state: 2, your code returns: ${mfsm.get_current_state}\")\n",
    "val mfsm9 = mfsm8.step(1)\n",
    "assert (mfsm9.get_current_state == 0, s\"I: expected state: 0, your code returns: ${mfsm.get_current_state}\")\n",
    "val mfsm10 = mfsm9.multiple_steps(List(0,1,2,2,0,1,1,2,1))\n",
    "assert (mfsm10.get_current_state == 0, s\"I: expected state: 0, your code returns: ${mfsm.get_current_state}\")\n",
    "passed(10)\n",
    "//END TEST"
   ]
  },
  {
   "cell_type": "markdown",
   "metadata": {
    "deletable": false,
    "editable": false,
    "nbgrader": {
     "cell_type": "markdown",
     "checksum": "6b425b925e2fbb7ac339b80bfcca6787",
     "grade": false,
     "grade_id": "cell-f15cfededfc705b1",
     "locked": true,
     "schema_version": 3,
     "solution": false,
     "task": false
    }
   },
   "source": [
    "# Problem 2: Block of Statements in Lettuce with References (20 points).\n",
    "\n",
    "You have been using a sequence of statements in almost all languages that you have learned but for Lettuce.  If we write a sequence of expressions (statements) as follows\n",
    "\n",
    "~~~\n",
    "<expression 1> ;\n",
    "<expression 2> ;\n",
    "<expression 3> ;\n",
    "<expression 4> ;\n",
    "... \n",
    "<expression n>\n",
    "~~~\n",
    "Each of these expressions is interpreted in sequence starting from 1 to n. The return value of the entire\n",
    "block of expressions (statements) is simply the value returned by the very last statement. \n",
    "\n",
    "We would like to add this to Lettuce in the form of a new production.\n",
    "\n",
    "$$\\mathbf{Expr} \\ \\rightarrow\\ Seq(\\mathbf{Expr}, \\mathbf{Expr})$$\n",
    "\n",
    "The expression $\\texttt{Seq(e1, e2)}$ is a sequence `e1` followed by `e2`. The overall value of a `Seq` is that\n",
    "returned by `e2`. However, since we have Lettuce with references, it is possible that `e1` may have side effects that are visible in `e2`.\n",
    "\n",
    "Longer compositions can be obtained by nesting Seq.\n",
    "\n",
    "~~~\n",
    "Seq( e1, Seq(e2, Seq(e3, Seq(e4, e5))))\n",
    "~~~\n",
    "\n",
    "## 2 A (5 points): Extend the abstract syntax with Seq"
   ]
  },
  {
   "cell_type": "code",
   "execution_count": 6,
   "metadata": {
    "deletable": false,
    "nbgrader": {
     "cell_type": "code",
     "checksum": "43e491173285ead53044b1511b46fa2a",
     "grade": false,
     "grade_id": "cell-37d4c0a8dec8467e",
     "locked": false,
     "schema_version": 3,
     "solution": true,
     "task": false
    }
   },
   "outputs": [
    {
     "data": {
      "text/plain": [
       "defined \u001b[32mtrait\u001b[39m \u001b[36mProgram\u001b[39m\n",
       "defined \u001b[32mtrait\u001b[39m \u001b[36mExpr\u001b[39m\n",
       "defined \u001b[32mclass\u001b[39m \u001b[36mTopLevel\u001b[39m\n",
       "defined \u001b[32mclass\u001b[39m \u001b[36mConst\u001b[39m\n",
       "defined \u001b[32mclass\u001b[39m \u001b[36mIdent\u001b[39m\n",
       "defined \u001b[32mclass\u001b[39m \u001b[36mPlus\u001b[39m\n",
       "defined \u001b[32mclass\u001b[39m \u001b[36mMinus\u001b[39m\n",
       "defined \u001b[32mclass\u001b[39m \u001b[36mMult\u001b[39m\n",
       "defined \u001b[32mclass\u001b[39m \u001b[36mGeq\u001b[39m\n",
       "defined \u001b[32mclass\u001b[39m \u001b[36mEq\u001b[39m\n",
       "defined \u001b[32mclass\u001b[39m \u001b[36mIfThenElse\u001b[39m\n",
       "defined \u001b[32mclass\u001b[39m \u001b[36mLet\u001b[39m\n",
       "defined \u001b[32mclass\u001b[39m \u001b[36mFunDef\u001b[39m\n",
       "defined \u001b[32mclass\u001b[39m \u001b[36mFunCall\u001b[39m\n",
       "defined \u001b[32mclass\u001b[39m \u001b[36mNewRef\u001b[39m\n",
       "defined \u001b[32mclass\u001b[39m \u001b[36mDeRef\u001b[39m\n",
       "defined \u001b[32mclass\u001b[39m \u001b[36mAssignRef\u001b[39m\n",
       "defined \u001b[32mclass\u001b[39m \u001b[36mSeq\u001b[39m"
      ]
     },
     "execution_count": 6,
     "metadata": {},
     "output_type": "execute_result"
    }
   ],
   "source": [
    "sealed trait Program\n",
    "sealed trait Expr\n",
    "\n",
    "case class TopLevel(e: Expr) extends Program\n",
    "\n",
    "case class Const(v: Double) extends Expr // Expr -> Const(v)\n",
    "case class Ident(s: String) extends Expr // Expr -> Ident(s)\n",
    "\n",
    "// Arithmetic Expressions\n",
    "case class Plus(e1: Expr, e2: Expr) extends Expr // Expr -> Plus(Expr, Expr)\n",
    "case class Minus(e1: Expr, e2: Expr) extends Expr // Expr -> Minus(Expr, Expr)\n",
    "case class Mult(e1: Expr, e2: Expr) extends Expr // Expr -> Mult (Expr, Expr)\n",
    "\n",
    "// Boolean Expressions\n",
    "case class Geq(e1: Expr, e2:Expr) extends Expr\n",
    "case class Eq(e1: Expr, e2: Expr) extends Expr\n",
    "\n",
    "//If then else\n",
    "case class IfThenElse(e: Expr, eIf: Expr, eElse: Expr) extends Expr\n",
    "\n",
    "//Let bindings\n",
    "case class Let(s: String, defExpr: Expr, bodyExpr: Expr) extends Expr\n",
    "\n",
    "//Function definition\n",
    "case class FunDef(param: String, bodyExpr: Expr) extends Expr\n",
    "\n",
    "// Function call\n",
    "case class FunCall(funCalled: Expr, argExpr: Expr) extends Expr\n",
    "\n",
    "// New Ref\n",
    "case class NewRef(e: Expr) extends Expr\n",
    "\n",
    "//DeRef\n",
    "case class DeRef(lval: Expr) extends Expr\n",
    "\n",
    "//AssignRef\n",
    "case class AssignRef(lval: Expr, rval: Expr) extends Expr\n",
    "\n",
    "// Seq\n",
    "// YOUR CODE HERE\n",
    "case class Seq(e1: Expr, e2: Expr) extends Expr"
   ]
  },
  {
   "cell_type": "code",
   "execution_count": 7,
   "metadata": {
    "deletable": false,
    "editable": false,
    "nbgrader": {
     "cell_type": "code",
     "checksum": "de8119896ae0d0c13c374b8626069936",
     "grade": true,
     "grade_id": "cell-ff7933185693c16d",
     "locked": true,
     "points": 5,
     "schema_version": 3,
     "solution": false,
     "task": false
    }
   },
   "outputs": [
    {
     "name": "stdout",
     "output_type": "stream",
     "text": [
      "\n",
      "*** Tests Passed (5 points) ***\n"
     ]
    },
    {
     "data": {
      "text/plain": [
       "\u001b[36ms1\u001b[39m: \u001b[32mSeq\u001b[39m = \u001b[33mSeq\u001b[39m(e1 = \u001b[33mConst\u001b[39m(v = \u001b[32m10.0\u001b[39m), e2 = \u001b[33mNewRef\u001b[39m(e = \u001b[33mConst\u001b[39m(v = \u001b[32m15.0\u001b[39m)))\n",
       "\u001b[36ms2\u001b[39m: \u001b[32mSeq\u001b[39m = \u001b[33mSeq\u001b[39m(\n",
       "  e1 = \u001b[33mDeRef\u001b[39m(lval = \u001b[33mNewRef\u001b[39m(e = \u001b[33mConst\u001b[39m(v = \u001b[32m20.0\u001b[39m))),\n",
       "  e2 = \u001b[33mLet\u001b[39m(\n",
       "    s = \u001b[32m\"x\"\u001b[39m,\n",
       "    defExpr = \u001b[33mDeRef\u001b[39m(lval = \u001b[33mNewRef\u001b[39m(e = \u001b[33mConst\u001b[39m(v = \u001b[32m25.0\u001b[39m))),\n",
       "    bodyExpr = \u001b[33mIdent\u001b[39m(s = \u001b[32m\"x\"\u001b[39m)\n",
       "  )\n",
       ")\n",
       "\u001b[36ms3\u001b[39m: \u001b[32mSeq\u001b[39m = \u001b[33mSeq\u001b[39m(\n",
       "  e1 = \u001b[33mConst\u001b[39m(v = \u001b[32m10.0\u001b[39m),\n",
       "  e2 = \u001b[33mSeq\u001b[39m(e1 = \u001b[33mConst\u001b[39m(v = \u001b[32m25.0\u001b[39m), e2 = \u001b[33mConst\u001b[39m(v = \u001b[32m35.0\u001b[39m))\n",
       ")\n",
       "\u001b[36ms4\u001b[39m: \u001b[32mSeq\u001b[39m = \u001b[33mSeq\u001b[39m(\n",
       "  e1 = \u001b[33mSeq\u001b[39m(e1 = \u001b[33mConst\u001b[39m(v = \u001b[32m5.0\u001b[39m), e2 = \u001b[33mConst\u001b[39m(v = \u001b[32m10.0\u001b[39m)),\n",
       "  e2 = \u001b[33mSeq\u001b[39m(e1 = \u001b[33mConst\u001b[39m(v = \u001b[32m25.0\u001b[39m), e2 = \u001b[33mConst\u001b[39m(v = \u001b[32m35.0\u001b[39m))\n",
       ")"
      ]
     },
     "execution_count": 7,
     "metadata": {},
     "output_type": "execute_result"
    }
   ],
   "source": [
    "//BEGIN TEST\n",
    "val s1 = Seq(Const(10.0), NewRef(Const(15.0)))\n",
    "val s2 = Seq(DeRef(NewRef(Const(20.0))), Let(\"x\", DeRef(NewRef(Const(25.0))), Ident(\"x\")))\n",
    "val s3 = Seq(Const(10.0), Seq(Const(25.0), Const(35.0)))\n",
    "val s4 = Seq(Seq(Const(5.0), Const(10.0)),  Seq(Const(25.0), Const(35.0)) )\n",
    "\n",
    "passed(5)\n",
    "//END TEST"
   ]
  },
  {
   "cell_type": "markdown",
   "metadata": {
    "deletable": false,
    "editable": false,
    "nbgrader": {
     "cell_type": "markdown",
     "checksum": "c0c012cab16d71bdbdb4bf8e20e0bd85",
     "grade": false,
     "grade_id": "cell-701aaf0a4fab0cf0",
     "locked": true,
     "schema_version": 3,
     "solution": false,
     "task": false
    }
   },
   "source": [
    "## 2 B (5 Points): Write Semantics\n",
    "\n",
    "We would like to write a semantic rule for evaluating $\\texttt{Seq(e1, e2)}$. Complete the rules for the\n",
    "OK and error cases by filling in the ??? marks below.\n",
    "\n",
    "$$\\begin{array}{c}\n",
    "\\mathbf{eval}(\\texttt{e1}, \\sigma, s) = (v_1, s_1),\\;\\; v_1 \\not= \\mathbf{error},\\;\\;\\mathbf{eval}(\\texttt{e2}, \\sigma, \\color{red}{1} ) = (v_2, s_2)\\\\\n",
    "\\hline\n",
    "\\mathbf{eval}(\\texttt{Seq(e1, e2)}, \\sigma, s) = \\color{red}{2} \\\\\n",
    "\\end{array}(\\text{seq-ok})$$\n",
    "\n",
    "\n",
    "$$\\begin{array}{c}\n",
    "\\mathbf{eval}(\\texttt{e1}, \\sigma, s) = (v_1, s_1),\\;\\; v_1 = \\mathbf{error} \\\\\n",
    "\\hline\n",
    "\\mathbf{eval}(\\texttt{Seq(e1, e2)}, \\sigma, s) = \\color{red}{3} \\\\\n",
    "\\end{array}(\\text{seq-nok})$$\n",
    "\n",
    "Fill in the appropriate values for  $\\color{red}{1}, \\color{red}{2}, \\color{red}{3}$.\n",
    "\n",
    "Write your answer in the cell below. You can make a numbered list in markdown to represent your answers as follows:\n",
    "1. First\n",
    "2. Second\n",
    "3. And so on..."
   ]
  },
  {
   "cell_type": "markdown",
   "metadata": {
    "deletable": false,
    "nbgrader": {
     "cell_type": "markdown",
     "checksum": "b9c464cf65945a2c2640ecc6d35ce828",
     "grade": true,
     "grade_id": "cell-9e56e642e7fb7d92",
     "locked": false,
     "points": 5,
     "schema_version": 3,
     "solution": true,
     "task": false
    }
   },
   "source": [
    "1. s \n",
    "2. (v2,s2)\n",
    "3. ((error, s1))"
   ]
  },
  {
   "cell_type": "markdown",
   "metadata": {
    "deletable": false,
    "editable": false,
    "nbgrader": {
     "cell_type": "markdown",
     "checksum": "d361106dee17c7188672e2fa39386db8",
     "grade": false,
     "grade_id": "cell-1706d92e897e7d82",
     "locked": true,
     "schema_version": 3,
     "solution": false,
     "task": false
    }
   },
   "source": [
    "## 2 C (10 points): Implement the code\n",
    "\n",
    "Extend the implementation of the interpreter from the notebook on references to add support for Seq."
   ]
  },
  {
   "cell_type": "code",
   "execution_count": 8,
   "metadata": {
    "deletable": false,
    "nbgrader": {
     "cell_type": "code",
     "checksum": "b68505993b99efe4f66792a27a028ff3",
     "grade": false,
     "grade_id": "cell-a779a7114ebd9894",
     "locked": false,
     "schema_version": 3,
     "solution": true,
     "task": false
    }
   },
   "outputs": [
    {
     "data": {
      "text/plain": [
       "defined \u001b[32mtrait\u001b[39m \u001b[36mValue\u001b[39m\n",
       "defined \u001b[32mclass\u001b[39m \u001b[36mNumValue\u001b[39m\n",
       "defined \u001b[32mclass\u001b[39m \u001b[36mBoolValue\u001b[39m\n",
       "defined \u001b[32mclass\u001b[39m \u001b[36mClosure\u001b[39m\n",
       "defined \u001b[32mclass\u001b[39m \u001b[36mReference\u001b[39m\n",
       "defined \u001b[32mobject\u001b[39m \u001b[36mErrorValue\u001b[39m\n",
       "defined \u001b[32mfunction\u001b[39m \u001b[36mvalueToNumber\u001b[39m\n",
       "defined \u001b[32mfunction\u001b[39m \u001b[36mvalueToBoolean\u001b[39m\n",
       "defined \u001b[32mfunction\u001b[39m \u001b[36mvalueToClosure\u001b[39m\n",
       "defined \u001b[32mclass\u001b[39m \u001b[36mImmutableStore\u001b[39m\n",
       "defined \u001b[32mfunction\u001b[39m \u001b[36mcreateNewCell\u001b[39m\n",
       "defined \u001b[32mfunction\u001b[39m \u001b[36mlookupCellValue\u001b[39m\n",
       "defined \u001b[32mfunction\u001b[39m \u001b[36massignToCell\u001b[39m\n",
       "defined \u001b[32mfunction\u001b[39m \u001b[36mevalExpr\u001b[39m\n",
       "defined \u001b[32mfunction\u001b[39m \u001b[36mevalProgram\u001b[39m"
      ]
     },
     "execution_count": 8,
     "metadata": {},
     "output_type": "execute_result"
    }
   ],
   "source": [
    "sealed trait Value\n",
    "/*-- Now we can finish the rest --*/\n",
    "case class NumValue(f: Double) extends Value\n",
    "case class BoolValue(b: Boolean) extends Value\n",
    "/*-- Note: to get recursion working, we will need to make environments different --*/\n",
    "case class Closure(x: String, e: Expr, pi: Map[String, Value]) extends Value \n",
    "/* -- references are here -- */\n",
    "case class Reference(j: Int) extends Value\n",
    "case object ErrorValue extends Value\n",
    "/*2. Operators on values */\n",
    "def valueToNumber(v: Value): Double = v match {\n",
    "    case NumValue(d) => d\n",
    "    case _ => throw new IllegalArgumentException(s\"Error: Asking me to convert Value: $v to a number\")\n",
    "}\n",
    "def valueToBoolean(v: Value): Boolean = v match {\n",
    "    case BoolValue(b) => b\n",
    "    case _ => throw new IllegalArgumentException(s\"Error: Asking me to convert Value: $v to a boolean\")\n",
    "}\n",
    "def valueToClosure(v: Value): Closure = v match {\n",
    "    case Closure(x, e, pi) => Closure(x, e, pi)\n",
    "    case _ =>  throw new IllegalArgumentException(s\"Error: Asking me to convert Value: $v to a closure\")\n",
    "}\n",
    "\n",
    "/*3. Immutable Store */\n",
    "case class ImmutableStore(val nCells: Int, val storeMap: Map[Int, Value])\n",
    "def createNewCell(s: ImmutableStore, v: Value): (ImmutableStore, Int) = {\n",
    "        /*- make a new cell -*/\n",
    "        val j = s.nCells\n",
    "        val nMap = s.storeMap + (j -> v)\n",
    "        val nStore = ImmutableStore(s.nCells + 1, nMap) // Make a new store with one more cell\n",
    "        (nStore, j)\n",
    "}\n",
    "def lookupCellValue(s: ImmutableStore, j: Int): Value = {\n",
    "        if (s.storeMap.contains(j)){\n",
    "            s.storeMap(j)\n",
    "        } else {\n",
    "            throw new IllegalArgumentException(s\"Illegal lookup of nonexistant location $j\")\n",
    "        }\n",
    "}\n",
    "def assignToCell(s: ImmutableStore, j: Int, v: Value): ImmutableStore = {\n",
    "        if (s.storeMap.contains(j)){\n",
    "            val nMap = s.storeMap + (j -> v) // Update the store map.\n",
    "            ImmutableStore(s.nCells, nMap)\n",
    "        } else {\n",
    "            throw new IllegalArgumentException(s\"Illegal assignment to nonexistent location $j\")\n",
    "        }\n",
    "    }\n",
    "    \n",
    "def evalExpr(e: Expr, env: Map[String, Value], store: ImmutableStore): (Value, ImmutableStore) = {\n",
    "      /* Method to deal with binary arithmetic operations */\n",
    "    \n",
    "    def applyArith2 (e1: Expr, e2: Expr) (fun: (Double , Double) => Double) = {\n",
    "        val (v1, store1) = evalExpr(e1, env, store)\n",
    "        val (v2, store2) = evalExpr(e2, env, store1)\n",
    "        val v3 = fun(valueToNumber(v1), valueToNumber(v2))\n",
    "        (NumValue(v3), store2)\n",
    "    }  /* -- We have deliberately curried the method --*/\n",
    "    \n",
    "    /* Helper method to deal with unary arithmetic */\n",
    "    def applyArith1(e: Expr) (fun: Double => Double) = {\n",
    "        val (v,store1) = evalExpr(e, env, store)\n",
    "        val v1 = fun(valueToNumber(v))\n",
    "        (NumValue(v1), store1)\n",
    "    }\n",
    "    \n",
    "    /* Helper method to deal with comparison operators */\n",
    "    def applyComp(e1: Expr, e2: Expr) (fun: (Double, Double) => Boolean) = {\n",
    "        val (v1, store1) = evalExpr(e1, env, store)\n",
    "        val (v2, store2) = evalExpr(e2, env, store1)\n",
    "        val v3 = fun(valueToNumber(v1), valueToNumber(v2))\n",
    "        (BoolValue(v3), store2)\n",
    "    }\n",
    "    \n",
    "    e match {\n",
    "        case Const(f) => (NumValue(f), store)\n",
    "        \n",
    "        case Ident(x) => {\n",
    "            if (env contains x) \n",
    "                (env(x), store)\n",
    "            else \n",
    "                throw new IllegalArgumentException(s\"Undefined identifier $x\")\n",
    "        }\n",
    "    \n",
    "    \n",
    "        case Plus(e1, e2) => applyArith2 (e1, e2) ( _ + _ )\n",
    "            \n",
    "        case Minus(e1, e2) => applyArith2(e1, e2) ( _ - _ )\n",
    "    \n",
    "        case Mult(e1, e2) =>  applyArith2(e1, e2) (_ * _)\n",
    "        \n",
    "        case Geq(e1, e2) => applyComp(e1, e2)(_ >= _)\n",
    "    \n",
    "        case Eq(e1, e2) => applyComp(e1, e2)(_ == _)\n",
    "        \n",
    "        case IfThenElse(e1, e2, e3) => {\n",
    "            val (v, store1) = evalExpr(e1, env, store)\n",
    "            v match {\n",
    "                case BoolValue(true) => evalExpr(e2, env, store1)\n",
    "                case BoolValue(false) => evalExpr(e3, env, store1)\n",
    "                case _ => throw new IllegalArgumentException(s\"If-then-else condition expr: ${e1} is non-boolean -- evaluates to ${v}\")\n",
    "            }\n",
    "        }\n",
    "        \n",
    "        case Let(x, e1, e2) => {\n",
    "            val (v1, store1) = evalExpr(e1, env, store)  // eval e1\n",
    "            val env2 = env + (x -> v1) // create a new extended env\n",
    "            evalExpr(e2, env2, store1) // eval e2 under that.\n",
    "        }\n",
    "    \n",
    "        case FunDef(x, e) => {\n",
    "            (Closure(x, e, env), store) // Return a closure with the current enviroment.\n",
    "        }\n",
    "        \n",
    "        case FunCall(e1, e2) => {\n",
    "            val (v1, store1) = evalExpr(e1, env, store)\n",
    "            val (v2, store2) = evalExpr(e2, env, store1)\n",
    "            v1 match {\n",
    "                case Closure(x, closure_ex, closed_env) => {\n",
    "                    // First extend closed_env by binding x to v2\n",
    "                    val new_env = closed_env + ( x -> v2)\n",
    "                    // Evaluate the body of the closure under the extended environment.\n",
    "                    evalExpr(closure_ex, new_env, store2)\n",
    "                }\n",
    "                case _ => throw new IllegalArgumentException(s\"Function call error: expression $e1 does not evaluate to a closure\")\n",
    "            }\n",
    "        }\n",
    "        \n",
    "        case NewRef(e) => {\n",
    "            val (v, store1) = evalExpr(e, env, store)\n",
    "            val (store2, j) = createNewCell(store1, v)\n",
    "            (Reference(j), store2)\n",
    "        }\n",
    "        \n",
    "        case DeRef(e) => {\n",
    "            val (v, store1) = evalExpr(e, env, store)\n",
    "            v match {\n",
    "                case Reference(j) => {\n",
    "                    val v = lookupCellValue(store1, j)\n",
    "                    (v, store1)\n",
    "                }\n",
    "                case _ => throw new IllegalArgumentException(s\"Deref applied to an expression that does not evaluate to a reference\")\n",
    "            }\n",
    "        }\n",
    "        \n",
    "        case AssignRef(e1, e2) => {\n",
    "            val (v1, store1) = evalExpr(e1, env, store)\n",
    "            v1 match {\n",
    "                case Reference(j) => {\n",
    "                    val (v2, store2) = evalExpr(e2, env, store1)\n",
    "                    val store3 = assignToCell(store2, j, v2)\n",
    "                    (v2, store3)\n",
    "                }\n",
    "                case _ => throw new IllegalArgumentException(s\"AssignRef applied to argument that is not a reference\")\n",
    "                \n",
    "            }\n",
    "        }\n",
    "        \n",
    "        case Seq(e1, e2) => {\n",
    "            // YOUR CODE HERE\n",
    "            val (v1, store1) = evalExpr(e1, env, store)\n",
    "            val (v2, store2) = evalExpr(e2, env, store1) \n",
    "            (v2, store2);\n",
    "        }\n",
    "        \n",
    "    }\n",
    "\n",
    "}\n",
    "\n",
    "def evalProgram(p: Program) = p match {\n",
    "        case TopLevel(e) => { \n",
    "            // Start with empty environment and empty store\n",
    "            val (v1, s1) = evalExpr(e, Map(), new ImmutableStore(0, Map()))\n",
    "            v1\n",
    "        }\n",
    "}"
   ]
  },
  {
   "cell_type": "code",
   "execution_count": 9,
   "metadata": {
    "deletable": false,
    "editable": false,
    "nbgrader": {
     "cell_type": "code",
     "checksum": "19bdc751c20d25fa34e3306782ee2018",
     "grade": true,
     "grade_id": "cell-e4c17a6471569640",
     "locked": true,
     "points": 10,
     "schema_version": 3,
     "solution": false,
     "task": false
    }
   },
   "outputs": [
    {
     "name": "stdout",
     "output_type": "stream",
     "text": [
      "\n",
      "*** Tests Passed (10 points) ***\n"
     ]
    },
    {
     "data": {
      "text/plain": [
       "\u001b[36mincr\u001b[39m: \u001b[32mIdent\u001b[39m = \u001b[33mIdent\u001b[39m(s = \u001b[32m\"incr\"\u001b[39m)\n",
       "\u001b[36mdecr\u001b[39m: \u001b[32mIdent\u001b[39m = \u001b[33mIdent\u001b[39m(s = \u001b[32m\"decr\"\u001b[39m)\n",
       "\u001b[36mzero\u001b[39m: \u001b[32mIdent\u001b[39m = \u001b[33mIdent\u001b[39m(s = \u001b[32m\"zero\"\u001b[39m)\n",
       "\u001b[36mr\u001b[39m: \u001b[32mIdent\u001b[39m = \u001b[33mIdent\u001b[39m(s = \u001b[32m\"r\"\u001b[39m)\n",
       "\u001b[36mx\u001b[39m: \u001b[32mIdent\u001b[39m = \u001b[33mIdent\u001b[39m(s = \u001b[32m\"x\"\u001b[39m)\n",
       "\u001b[36me4\u001b[39m: \u001b[32mSeq\u001b[39m = \u001b[33mSeq\u001b[39m(\n",
       "  e1 = \u001b[33mSeq\u001b[39m(\n",
       "    e1 = \u001b[33mSeq\u001b[39m(\n",
       "      e1 = \u001b[33mFunCall\u001b[39m(funCalled = \u001b[33mIdent\u001b[39m(s = \u001b[32m\"zero\"\u001b[39m), argExpr = \u001b[33mIdent\u001b[39m(s = \u001b[32m\"r\"\u001b[39m)),\n",
       "      e2 = \u001b[33mFunCall\u001b[39m(funCalled = \u001b[33mIdent\u001b[39m(s = \u001b[32m\"incr\"\u001b[39m), argExpr = \u001b[33mIdent\u001b[39m(s = \u001b[32m\"r\"\u001b[39m))\n",
       "    ),\n",
       "    e2 = \u001b[33mSeq\u001b[39m(\n",
       "      e1 = \u001b[33mFunCall\u001b[39m(funCalled = \u001b[33mIdent\u001b[39m(s = \u001b[32m\"incr\"\u001b[39m), argExpr = \u001b[33mIdent\u001b[39m(s = \u001b[32m\"r\"\u001b[39m)),\n",
       "      e2 = \u001b[33mFunCall\u001b[39m(funCalled = \u001b[33mIdent\u001b[39m(s = \u001b[32m\"incr\"\u001b[39m), argExpr = \u001b[33mIdent\u001b[39m(s = \u001b[32m\"r\"\u001b[39m))\n",
       "    )\n",
       "  ),\n",
       "  e2 = \u001b[33mSeq\u001b[39m(\n",
       "    e1 = \u001b[33mFunCall\u001b[39m(funCalled = \u001b[33mIdent\u001b[39m(s = \u001b[32m\"decr\"\u001b[39m), argExpr = \u001b[33mIdent\u001b[39m(s = \u001b[32m\"r\"\u001b[39m)),\n",
       "    e2 = \u001b[33mFunCall\u001b[39m(funCalled = \u001b[33mIdent\u001b[39m(s = \u001b[32m\"decr\"\u001b[39m), argExpr = \u001b[33mIdent\u001b[39m(s = \u001b[32m\"r\"\u001b[39m))\n",
       "  )\n",
       ")\n",
       "\u001b[36mrr\u001b[39m: \u001b[32mLet\u001b[39m = \u001b[33mLet\u001b[39m(\n",
       "  s = \u001b[32m\"r\"\u001b[39m,\n",
       "  defExpr = \u001b[33mNewRef\u001b[39m(e = \u001b[33mConst\u001b[39m(v = \u001b[32m15.0\u001b[39m)),\n",
       "  bodyExpr = \u001b[33mSeq\u001b[39m(\n",
       "    e1 = \u001b[33mSeq\u001b[39m(\n",
       "      e1 = \u001b[33mSeq\u001b[39m(\n",
       "        e1 = \u001b[33mFunCall\u001b[39m(funCalled = \u001b[33mIdent\u001b[39m(s = \u001b[32m\"zero\"\u001b[39m), argExpr = \u001b[33mIdent\u001b[39m(s = \u001b[32m\"r\"\u001b[39m)),\n",
       "        e2 = \u001b[33mFunCall\u001b[39m(funCalled = \u001b[33mIdent\u001b[39m(s = \u001b[32m\"incr\"\u001b[39m), argExpr = \u001b[33mIdent\u001b[39m(s = \u001b[32m\"r\"\u001b[39m))\n",
       "      ),\n",
       "      e2 = \u001b[33mSeq\u001b[39m(\n",
       "        e1 = \u001b[33mFunCall\u001b[39m(funCalled = \u001b[33mIdent\u001b[39m(s = \u001b[32m\"incr\"\u001b[39m), argExpr = \u001b[33mIdent\u001b[39m(s = \u001b[32m\"r\"\u001b[39m)),\n",
       "        e2 = \u001b[33mFunCall\u001b[39m(funCalled = \u001b[33mIdent\u001b[39m(s = \u001b[32m\"incr\"\u001b[39m), argExpr = \u001b[33mIdent\u001b[39m(s = \u001b[32m\"r\"\u001b[39m))\n",
       "      )\n",
       "    ),\n",
       "    e2 = \u001b[33mSeq\u001b[39m(\n",
       "      e1 = \u001b[33mFunCall\u001b[39m(funCalled = \u001b[33mIdent\u001b[39m(s = \u001b[32m\"decr\"\u001b[39m), argExpr = \u001b[33mIdent\u001b[39m(s = \u001b[32m\"r\"\u001b[39m)),\n",
       "      e2 = \u001b[33mFunCall\u001b[39m(funCalled = \u001b[33mIdent\u001b[39m(s = \u001b[32m\"decr\"\u001b[39m), argExpr = \u001b[33mIdent\u001b[39m(s = \u001b[32m\"r\"\u001b[39m))\n",
       "    )\n",
       "  )\n",
       ")\n",
       "\u001b[36mz\u001b[39m: \u001b[32mLet\u001b[39m = \u001b[33mLet\u001b[39m(\n",
       "  s = \u001b[32m\"zero\"\u001b[39m,\n",
       "  defExpr = \u001b[33mFunDef\u001b[39m(\n",
       "    param = \u001b[32m\"x\"\u001b[39m,\n",
       "    bodyExpr = \u001b[33mAssignRef\u001b[39m(lval = \u001b[33mIdent\u001b[39m(s = \u001b[32m\"x\"\u001b[39m), rval = \u001b[33mConst\u001b[39m(v = \u001b[32m0.0\u001b[39m))\n",
       "  ),\n",
       "  bodyExpr = \u001b[33mLet\u001b[39m(\n",
       "    s = \u001b[32m\"r\"\u001b[39m,\n",
       "    defExpr = \u001b[33mNewRef\u001b[39m(e = \u001b[33mConst\u001b[39m(v = \u001b[32m15.0\u001b[39m)),\n",
       "    bodyExpr = \u001b[33mSeq\u001b[39m(\n",
       "      e1 = \u001b[33mSeq\u001b[39m(\n",
       "        e1 = \u001b[33mSeq\u001b[39m(\n",
       "          e1 = \u001b[33mFunCall\u001b[39m(funCalled = \u001b[33mIdent\u001b[39m(s = \u001b[32m\"zero\"\u001b[39m), argExpr = \u001b[33mIdent\u001b[39m(s = \u001b[32m\"r\"\u001b[39m)),\n",
       "          e2 = \u001b[33mFunCall\u001b[39m(funCalled = \u001b[33mIdent\u001b[39m(s = \u001b[32m\"incr\"\u001b[39m), argExpr = \u001b[33mIdent\u001b[39m(s = \u001b[32m\"r\"\u001b[39m))\n",
       "        ),\n",
       "        e2 = \u001b[33mSeq\u001b[39m(\n",
       "          e1 = \u001b[33mFunCall\u001b[39m(funCalled = \u001b[33mIdent\u001b[39m(s = \u001b[32m\"incr\"\u001b[39m), argExpr = \u001b[33mIdent\u001b[39m(s = \u001b[32m\"r\"\u001b[39m)),\n",
       "          e2 = \u001b[33mFunCall\u001b[39m(funCalled = \u001b[33mIdent\u001b[39m(s = \u001b[32m\"incr\"\u001b[39m), argExpr = \u001b[33mIdent\u001b[39m(s = \u001b[32m\"r\"\u001b[39m))\n",
       "        )\n",
       "      ),\n",
       "      e2 = \u001b[33mSeq\u001b[39m(\n",
       "        e1 = \u001b[33mFunCall\u001b[39m(funCalled = \u001b[33mIdent\u001b[39m(s = \u001b[32m\"decr\"\u001b[39m), argExpr = \u001b[33mIdent\u001b[39m(s = \u001b[32m\"r\"\u001b[39m)),\n",
       "        e2 = \u001b[33mFunCall\u001b[39m(funCalled = \u001b[33mIdent\u001b[39m(s = \u001b[32m\"decr\"\u001b[39m), argExpr = \u001b[33mIdent\u001b[39m(s = \u001b[32m\"r\"\u001b[39m))\n",
       "      )\n",
       "    )\n",
       "  )\n",
       ")\n",
       "\u001b[36md\u001b[39m: \u001b[32mLet\u001b[39m = \u001b[33mLet\u001b[39m(\n",
       "  s = \u001b[32m\"decr\"\u001b[39m,\n",
       "  defExpr = \u001b[33mFunDef\u001b[39m(\n",
       "    param = \u001b[32m\"x\"\u001b[39m,\n",
       "    bodyExpr = \u001b[33mAssignRef\u001b[39m(\n",
       "      lval = \u001b[33mIdent\u001b[39m(s = \u001b[32m\"x\"\u001b[39m),\n",
       "      rval = \u001b[33mMinus\u001b[39m(e1 = \u001b[33mDeRef\u001b[39m(lval = \u001b[33mIdent\u001b[39m(s = \u001b[32m\"x\"\u001b[39m)), e2 = \u001b[33mConst\u001b[39m(v = \u001b[32m1.0\u001b[39m))\n",
       "    )\n",
       "  ),\n",
       "  bodyExpr = \u001b[33mLet\u001b[39m(\n",
       "    s = \u001b[32m\"zero\"\u001b[39m,\n",
       "    defExpr = \u001b[33mFunDef\u001b[39m(\n",
       "      param = \u001b[32m\"x\"\u001b[39m,\n",
       "      bodyExpr = \u001b[33mAssignRef\u001b[39m(lval = \u001b[33mIdent\u001b[39m(s = \u001b[32m\"x\"\u001b[39m), rval = \u001b[33mConst\u001b[39m(v = \u001b[32m0.0\u001b[39m))\n",
       "    ),\n",
       "    bodyExpr = \u001b[33mLet\u001b[39m(\n",
       "      s = \u001b[32m\"r\"\u001b[39m,\n",
       "      defExpr = \u001b[33mNewRef\u001b[39m(e = \u001b[33mConst\u001b[39m(v = \u001b[32m15.0\u001b[39m)),\n",
       "      bodyExpr = \u001b[33mSeq\u001b[39m(\n",
       "        e1 = \u001b[33mSeq\u001b[39m(\n",
       "          e1 = \u001b[33mSeq\u001b[39m(\n",
       "            e1 = \u001b[33mFunCall\u001b[39m(\n",
       "              funCalled = \u001b[33mIdent\u001b[39m(s = \u001b[32m\"zero\"\u001b[39m),\n",
       "              argExpr = \u001b[33mIdent\u001b[39m(s = \u001b[32m\"r\"\u001b[39m)\n",
       "            ),\n",
       "            e2 = \u001b[33mFunCall\u001b[39m(\n",
       "              funCalled = \u001b[33mIdent\u001b[39m(s = \u001b[32m\"incr\"\u001b[39m),\n",
       "              argExpr = \u001b[33mIdent\u001b[39m(s = \u001b[32m\"r\"\u001b[39m)\n",
       "            )\n",
       "          ),\n",
       "          e2 = \u001b[33mSeq\u001b[39m(\n",
       "            e1 = \u001b[33mFunCall\u001b[39m(\n",
       "              funCalled = \u001b[33mIdent\u001b[39m(s = \u001b[32m\"incr\"\u001b[39m),\n",
       "              argExpr = \u001b[33mIdent\u001b[39m(s = \u001b[32m\"r\"\u001b[39m)\n",
       "            ),\n",
       "            e2 = \u001b[33mFunCall\u001b[39m(\n",
       "              funCalled = \u001b[33mIdent\u001b[39m(s = \u001b[32m\"incr\"\u001b[39m),\n",
       "              argExpr = \u001b[33mIdent\u001b[39m(s = \u001b[32m\"r\"\u001b[39m)\n",
       "            )\n",
       "...\n",
       "\u001b[36mi\u001b[39m: \u001b[32mLet\u001b[39m = \u001b[33mLet\u001b[39m(\n",
       "  s = \u001b[32m\"incr\"\u001b[39m,\n",
       "  defExpr = \u001b[33mFunDef\u001b[39m(\n",
       "    param = \u001b[32m\"x\"\u001b[39m,\n",
       "    bodyExpr = \u001b[33mAssignRef\u001b[39m(\n",
       "      lval = \u001b[33mIdent\u001b[39m(s = \u001b[32m\"x\"\u001b[39m),\n",
       "      rval = \u001b[33mPlus\u001b[39m(e1 = \u001b[33mDeRef\u001b[39m(lval = \u001b[33mIdent\u001b[39m(s = \u001b[32m\"x\"\u001b[39m)), e2 = \u001b[33mConst\u001b[39m(v = \u001b[32m1.0\u001b[39m))\n",
       "    )\n",
       "  ),\n",
       "  bodyExpr = \u001b[33mLet\u001b[39m(\n",
       "    s = \u001b[32m\"decr\"\u001b[39m,\n",
       "    defExpr = \u001b[33mFunDef\u001b[39m(\n",
       "      param = \u001b[32m\"x\"\u001b[39m,\n",
       "      bodyExpr = \u001b[33mAssignRef\u001b[39m(\n",
       "        lval = \u001b[33mIdent\u001b[39m(s = \u001b[32m\"x\"\u001b[39m),\n",
       "        rval = \u001b[33mMinus\u001b[39m(e1 = \u001b[33mDeRef\u001b[39m(lval = \u001b[33mIdent\u001b[39m(s = \u001b[32m\"x\"\u001b[39m)), e2 = \u001b[33mConst\u001b[39m(v = \u001b[32m1.0\u001b[39m))\n",
       "      )\n",
       "    ),\n",
       "    bodyExpr = \u001b[33mLet\u001b[39m(\n",
       "      s = \u001b[32m\"zero\"\u001b[39m,\n",
       "      defExpr = \u001b[33mFunDef\u001b[39m(\n",
       "        param = \u001b[32m\"x\"\u001b[39m,\n",
       "        bodyExpr = \u001b[33mAssignRef\u001b[39m(lval = \u001b[33mIdent\u001b[39m(s = \u001b[32m\"x\"\u001b[39m), rval = \u001b[33mConst\u001b[39m(v = \u001b[32m0.0\u001b[39m))\n",
       "      ),\n",
       "      bodyExpr = \u001b[33mLet\u001b[39m(\n",
       "        s = \u001b[32m\"r\"\u001b[39m,\n",
       "        defExpr = \u001b[33mNewRef\u001b[39m(e = \u001b[33mConst\u001b[39m(v = \u001b[32m15.0\u001b[39m)),\n",
       "        bodyExpr = \u001b[33mSeq\u001b[39m(\n",
       "          e1 = \u001b[33mSeq\u001b[39m(\n",
       "            e1 = \u001b[33mSeq\u001b[39m(\n",
       "              e1 = \u001b[33mFunCall\u001b[39m(\n",
       "                funCalled = \u001b[33mIdent\u001b[39m(s = \u001b[32m\"zero\"\u001b[39m),\n",
       "                argExpr = \u001b[33mIdent\u001b[39m(s = \u001b[32m\"r\"\u001b[39m)\n",
       "              ),\n",
       "              e2 = \u001b[33mFunCall\u001b[39m(\n",
       "                funCalled = \u001b[33mIdent\u001b[39m(s = \u001b[32m\"incr\"\u001b[39m),\n",
       "                argExpr = \u001b[33mIdent\u001b[39m(s = \u001b[32m\"r\"\u001b[39m)\n",
       "              )\n",
       "            ),\n",
       "...\n",
       "\u001b[36mprog\u001b[39m: \u001b[32mTopLevel\u001b[39m = \u001b[33mTopLevel\u001b[39m(\n",
       "  e = \u001b[33mLet\u001b[39m(\n",
       "    s = \u001b[32m\"incr\"\u001b[39m,\n",
       "    defExpr = \u001b[33mFunDef\u001b[39m(\n",
       "      param = \u001b[32m\"x\"\u001b[39m,\n",
       "      bodyExpr = \u001b[33mAssignRef\u001b[39m(\n",
       "        lval = \u001b[33mIdent\u001b[39m(s = \u001b[32m\"x\"\u001b[39m),\n",
       "        rval = \u001b[33mPlus\u001b[39m(e1 = \u001b[33mDeRef\u001b[39m(lval = \u001b[33mIdent\u001b[39m(s = \u001b[32m\"x\"\u001b[39m)), e2 = \u001b[33mConst\u001b[39m(v = \u001b[32m1.0\u001b[39m))\n",
       "      )\n",
       "    ),\n",
       "    bodyExpr = \u001b[33mLet\u001b[39m(\n",
       "      s = \u001b[32m\"decr\"\u001b[39m,\n",
       "      defExpr = \u001b[33mFunDef\u001b[39m(\n",
       "        param = \u001b[32m\"x\"\u001b[39m,\n",
       "        bodyExpr = \u001b[33mAssignRef\u001b[39m(\n",
       "          lval = \u001b[33mIdent\u001b[39m(s = \u001b[32m\"x\"\u001b[39m),\n",
       "          rval = \u001b[33mMinus\u001b[39m(e1 = \u001b[33mDeRef\u001b[39m(lval = \u001b[33mIdent\u001b[39m(s = \u001b[32m\"x\"\u001b[39m)), e2 = \u001b[33mConst\u001b[39m(v = \u001b[32m1.0\u001b[39m))\n",
       "        )\n",
       "      ),\n",
       "      bodyExpr = \u001b[33mLet\u001b[39m(\n",
       "        s = \u001b[32m\"zero\"\u001b[39m,\n",
       "        defExpr = \u001b[33mFunDef\u001b[39m(\n",
       "          param = \u001b[32m\"x\"\u001b[39m,\n",
       "          bodyExpr = \u001b[33mAssignRef\u001b[39m(lval = \u001b[33mIdent\u001b[39m(s = \u001b[32m\"x\"\u001b[39m), rval = \u001b[33mConst\u001b[39m(v = \u001b[32m0.0\u001b[39m))\n",
       "        ),\n",
       "        bodyExpr = \u001b[33mLet\u001b[39m(\n",
       "          s = \u001b[32m\"r\"\u001b[39m,\n",
       "          defExpr = \u001b[33mNewRef\u001b[39m(e = \u001b[33mConst\u001b[39m(v = \u001b[32m15.0\u001b[39m)),\n",
       "          bodyExpr = \u001b[33mSeq\u001b[39m(\n",
       "            e1 = \u001b[33mSeq\u001b[39m(\n",
       "              e1 = \u001b[33mSeq\u001b[39m(\n",
       "                e1 = \u001b[33mFunCall\u001b[39m(\n",
       "                  funCalled = \u001b[33mIdent\u001b[39m(s = \u001b[32m\"zero\"\u001b[39m),\n",
       "                  argExpr = \u001b[33mIdent\u001b[39m(s = \u001b[32m\"r\"\u001b[39m)\n",
       "                ),\n",
       "                e2 = \u001b[33mFunCall\u001b[39m(\n",
       "                  funCalled = \u001b[33mIdent\u001b[39m(s = \u001b[32m\"incr\"\u001b[39m),\n",
       "                  argExpr = \u001b[33mIdent\u001b[39m(s = \u001b[32m\"r\"\u001b[39m)\n",
       "                )\n",
       "..."
      ]
     },
     "execution_count": 9,
     "metadata": {},
     "output_type": "execute_result"
    }
   ],
   "source": [
    "//BEGIN TEST\n",
    "\n",
    "val incr = Ident(\"incr\")\n",
    "val decr = Ident(\"decr\")\n",
    "val zero = Ident(\"zero\")\n",
    "val r = Ident(\"r\")\n",
    "val x = Ident(\"x\")\n",
    "val e4 = Seq(Seq(Seq(FunCall(zero, r), FunCall(incr, r)), Seq(FunCall(incr, r), FunCall(incr, r))), Seq(FunCall(decr, r), FunCall(decr,r)))\n",
    "val rr = Let(\"r\", NewRef(Const(15.0)), e4)\n",
    "val z = Let(\"zero\", FunDef(\"x\", AssignRef(x, Const(0.0))), rr)\n",
    "val d = Let(\"decr\", FunDef(\"x\", AssignRef(x, Minus(DeRef(x), Const(1.0)))), z)\n",
    "val i = Let(\"incr\",FunDef(\"x\", AssignRef(x, Plus(DeRef(x), Const(1.0)))), d )\n",
    "val prog = TopLevel(i)\n",
    "             \n",
    "assert(evalProgram(prog) == NumValue(1.0), \"Test 1 Set 3 Failed\")\n",
    "\n",
    "passed(10)\n",
    "//END TEST"
   ]
  },
  {
   "cell_type": "markdown",
   "metadata": {
    "deletable": false,
    "editable": false,
    "nbgrader": {
     "cell_type": "markdown",
     "checksum": "62a97df544df16866998de6518df9617",
     "grade": false,
     "grade_id": "cell-3fb67a53d8e208c6",
     "locked": true,
     "schema_version": 3,
     "solution": false,
     "task": false
    }
   },
   "source": [
    "## That's All Folks!!"
   ]
  }
 ],
 "metadata": {
  "kernelspec": {
   "display_name": "Scala",
   "language": "scala",
   "name": "scala"
  },
  "language_info": {
   "codemirror_mode": "text/x-scala",
   "file_extension": ".sc",
   "mimetype": "text/x-scala",
   "name": "scala",
   "nbconvert_exporter": "script",
   "version": "2.13.10"
  }
 },
 "nbformat": 4,
 "nbformat_minor": 2
}
