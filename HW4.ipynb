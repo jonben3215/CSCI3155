{
 "cells": [
  {
   "cell_type": "markdown",
   "id": "military-ebony",
   "metadata": {},
   "source": [
    "Before you turn this problem in, make sure everything runs as expected. First, **restart the kernel** (in the menubar, select Kernel$\\rightarrow$Restart) and then **run all cells** (in the menubar, select Cell$\\rightarrow$Run All).\n",
    "\n",
    "Make sure you fill in any place that says `???` or \"YOUR ANSWER HERE\"."
   ]
  },
  {
   "cell_type": "markdown",
   "id": "entitled-lecture",
   "metadata": {},
   "source": [
    "---"
   ]
  },
  {
   "cell_type": "markdown",
   "id": "5dee8741",
   "metadata": {
    "deletable": false,
    "editable": false,
    "nbgrader": {
     "cell_type": "markdown",
     "checksum": "276f1108b0ab02ce0029a73f7e7d6118",
     "grade": false,
     "grade_id": "cell-acfad365fca0e57b",
     "locked": true,
     "schema_version": 3,
     "solution": false,
     "task": false
    }
   },
   "source": [
    "# CSCI 3155 Assignment 4 : Semantics and Map/Reduce/Filter.\n",
    "\n",
    "This assignment asks you to write scala programs. \n",
    "\n",
    "**Restrictions** apply to each problem in terms of forbidden Scala features and API functions. Please read them carefully and ask for clarifications from the course staff over Piazza or during office hours if unsure.\n",
    "\n",
    "Note: `???` indicates that there is a missing function or code fragment that needs to be filled in. In scala, \n",
    "it is also a macro that throws a `NotImplemented` exception. Make sure that you remove the `???` and replace it with the answer. \n",
    "\n",
    "Use the test cases provided to test them. You are also encouraged to write your own test cases to help debug your work. However, please delete any extra cells you may have created lest they break our autograder.\n",
    "\n",
    "**Very Important:** Please run the cell that defines the functions `passed` and `testWithMessage` below whenever you restart the notebook."
   ]
  },
  {
   "cell_type": "markdown",
   "id": "a7432028",
   "metadata": {},
   "source": [
    "### Your Name Here"
   ]
  },
  {
   "cell_type": "code",
   "execution_count": 1,
   "id": "0d648ed7",
   "metadata": {},
   "outputs": [
    {
     "data": {
      "text/plain": [
       "defined \u001b[32mfunction\u001b[39m \u001b[36mpassed\u001b[39m\n",
       "defined \u001b[32mfunction\u001b[39m \u001b[36mtestWithMessage\u001b[39m"
      ]
     },
     "execution_count": 1,
     "metadata": {},
     "output_type": "execute_result"
    }
   ],
   "source": [
    "// TEST HELPER\n",
    "\n",
    "// FIRST RUN THIS CELL EVERY TIME YOU START THE NOTEBOOK\n",
    "def passed(points: Int) {\n",
    "    require(points >=0)\n",
    "    if (points == 1) print(s\"\\n*** Tests Passed (1 point) ***\\n\")\n",
    "    else print(s\"\\n*** Tests Passed ($points points) ***\\n\")\n",
    "}\n",
    "\n",
    "def testWithMessage[T](v1: T, expected: T, testID: String) = { \n",
    "    println(s\"Test $testID\"); \n",
    "    println(s\"\\t Your code returned: $v1, Expected: $expected\")\n",
    "    assert (v1 == expected, s\"Test $testID FAILED.\")\n",
    "    println(\"\\t Passed!\")\n",
    "}\n",
    "/*\n",
    "\n",
    "def testWithMessage(v1: Double, expected: Double, testID: String) = {\n",
    "    val tolerance = 1E-5\n",
    "    println(s\"Test $testID -- comparing with tolerance $tolerance.\"); \n",
    "    println(s\"\\t Expected: $expected, your code returned: $v1\")\n",
    "    assert (math.abs(v1-expected) <= tolerance, s\"Test $testID FAILED.\")\n",
    "    println(\"\\t Passed!\")\n",
    "}\n",
    "*/"
   ]
  },
  {
   "cell_type": "markdown",
   "id": "6b0470ee",
   "metadata": {
    "deletable": false,
    "editable": false,
    "nbgrader": {
     "cell_type": "markdown",
     "checksum": "2cfd43ba507d0fdb805bfb844b3e63ae",
     "grade": false,
     "grade_id": "cell-11bdf98667c70c4a",
     "locked": true,
     "schema_version": 3,
     "solution": false,
     "task": false
    }
   },
   "source": [
    "## Problem 1 (45 points)\n",
    "\n",
    "In this assignment, we will implement regular expression \n",
    "matching using semantic rules. H/T to Prof. Matt Might : https://matt.might.net/articles/implementation-of-regular-expression-matching-in-scheme-with-derivatives/ \n",
    "\n",
    "\n",
    "\n",
    "$$\\newcommand\\Regex{\\mathbf{Regex}}\n",
    "\\newcommand\\trm[1]{\\mathit{#1}}$$\n",
    "\n",
    "The grammar of regular expressions is given by \n",
    "$$\\begin{array}{rll}\n",
    "\\Regex & \\Rightarrow \\trm{Atom}(\\mathbf{String}) & \\text{match the string}\\\\ \n",
    "& | \\ \\trm{EmptyStr} & \\text{match empty string} \\\\ \n",
    "& | \\ \\trm{Null} & \\text{a regular expression that does not match any string} \\\\ \n",
    "& |\\ \\trm{Seq}(\\Regex, \\Regex) & \\text{match the first regex and then the second}\\\\ \n",
    "& |\\ \\trm{Or}(\\Regex, \\Regex) & \\text{Or of two regular expressions}\\\\ \n",
    "& |\\ \\trm{Star} (\\Regex) & \\text{Kleene-star: match zero or more occurrences of regex}\\\\ \n",
    "\\end{array} $$ \n",
    "\n",
    "A regex such as `(\"hello\")* | ( \"world\" ; \"csci3155) *` is expressed in our abstract syntax by the term\n",
    "~~~\n",
    "Or( \n",
    "    Star(Atom(\"hello\")), \n",
    "    Star( Seq( Atom(\"world\"), Atom(\"csci3155\")) \n",
    "  )\n",
    "~~~\n",
    "\n",
    "Note that `Null` is not something that a user writes or for that matter `EmptyStr`. But we will need them \n",
    "for our match: these will typically not be part of the \"concrete\" syntax that a user sees.\n",
    "\n",
    "### Regular Expression Matching\n",
    "\n",
    "Given a Regex `(\"hello\")* | ( \"world\" ; \"csci3155) *` \n",
    " - The string `\"worldcsci3155worldcsci3155\"` matches the regex. \n",
    " - Likewise the string `\"hellohellohello\"` also matches\n",
    "the regex. \n",
    " - However, the string `\"helloworld\"` does not match the regex.\n",
    "\n",
    "We will use semantic rules to write a matcher function `match(str, regex)` that returns `true` if a string matches a regular expression and `false` otherwise. \n",
    "\n",
    "To do so, we proceed in three stages: \n",
    "  - We will define the `accepts` function.\n",
    "  - We will define the `simplifyNull` function to remove `null` wherever possible.\n",
    "  - We will define the `derivative` of a regex with respect to a character.\n",
    "  - We will finally put the two together to define a `match` function. \n",
    "  \n",
    "Strap on your seatbelts and join us for the regex match!!\n",
    "\n",
    "\n"
   ]
  },
  {
   "cell_type": "markdown",
   "id": "d5a8e536",
   "metadata": {
    "deletable": false,
    "editable": false,
    "nbgrader": {
     "cell_type": "markdown",
     "checksum": "9706c9ad20e9ad1236f6282c010f0ea1",
     "grade": false,
     "grade_id": "cell-3067de82c9a1506b",
     "locked": true,
     "schema_version": 3,
     "solution": false,
     "task": false
    }
   },
   "source": [
    "### Accepts Function\n",
    "\n",
    "The accepts function specified below using semantic rules encodes whether a regular expression accepts the _empty string_.\n",
    "\n",
    "\n",
    "$$\\newcommand\\semRule[3]{\\begin{array}{c} #1 \\\\ \\hline #2 \\\\ \\end{array}\\ (\\text{#3}) }\\newcommand\\acc{\\mathsf{accepts}} \\newcommand\\true{\\mathit{true}} \\newcommand\\false{\\mathit{false}}\\newcommand\\sNull{\\mathsf{simplifyNull}}$$\n",
    "\n",
    "Here are three simple rules. They state that empty string regex accepts the empty string, $\\trm{Null}$ rejects the empty string and a regex of the form $\\trm{Star}(t)$ accepts the empty string as long as $t \\not= Null$. Additionally, there are two rules for $\\trm{Atom}$, as well.\n",
    "\n",
    "$$\\semRule{}{\\acc(\\trm{EmptyStr}) = \\true}{empty-str}$$\n",
    "$$\\semRule{}{\\acc(\\trm{Null}) = \\false}{null}$$\n",
    "$$\\semRule{s \\not= \"\"}{\\acc(\\trm{Atom}(s)) = \\false}{atom-non-empty}$$\n",
    "$$\\semRule{s = \"\"}{\\acc(\\trm{Atom}(s)) = \\true}{atom-empty}$$\n",
    "$$\\semRule{t \\not= Null}{\\acc(\\trm{Star}(t)) = \\true}{kleene-star}$$\n",
    "\n",
    "The rules for Or and Seq.\n",
    "$$\\semRule{ \\acc(t_1) \\ \\textbf{or}\\ \\acc(t_2) }{\\acc(Or(t_1, t_2)) = \\true }{or-rule}$$\n",
    "$$\\semRule{ \\acc(t_1) \\ \\textbf{and}\\ \\acc(t_2) }{\\acc(Seq(t_1, t_2)) = \\true }{or-rule}$$\n",
    "\n",
    "We will skip the remaining rules for $\\trm{Or}(...)$, $\\trm{Seq}(...)$ and $\\trm{Star}(\\trm{Null})$ for which the function evaluates to  $\\false$ but you should be able to figure those out yourself.\n",
    "\n",
    "Run the definitions for Regex below and implement the function `accepts(r: Regex): Boolean` as specified by the rules above.\n"
   ]
  },
  {
   "cell_type": "code",
   "execution_count": 2,
   "id": "61e8d24d",
   "metadata": {
    "deletable": false,
    "editable": false,
    "nbgrader": {
     "cell_type": "code",
     "checksum": "10951aaf2267661f668b1c8786d90f7c",
     "grade": false,
     "grade_id": "cell-6b59accd2267acd1",
     "locked": true,
     "schema_version": 3,
     "solution": false,
     "task": false
    }
   },
   "outputs": [
    {
     "data": {
      "text/plain": [
       "\u001b[32mimport \u001b[39m\u001b[36mscala.language.postfixOps\n",
       "/* Please ensure that you run this cell */\n",
       "\u001b[39m\n",
       "defined \u001b[32mtrait\u001b[39m \u001b[36mRegex\u001b[39m\n",
       "defined \u001b[32mobject\u001b[39m \u001b[36mEmptyStr\u001b[39m\n",
       "defined \u001b[32mobject\u001b[39m \u001b[36mNull\u001b[39m\n",
       "defined \u001b[32mclass\u001b[39m \u001b[36mAtom\u001b[39m\n",
       "defined \u001b[32mclass\u001b[39m \u001b[36mOr\u001b[39m\n",
       "defined \u001b[32mclass\u001b[39m \u001b[36mSeq\u001b[39m\n",
       "defined \u001b[32mclass\u001b[39m \u001b[36mStar\u001b[39m\n",
       "defined \u001b[32mfunction\u001b[39m \u001b[36mto_regex\u001b[39m"
      ]
     },
     "execution_count": 2,
     "metadata": {},
     "output_type": "execute_result"
    }
   ],
   "source": [
    "import scala.language.postfixOps\n",
    "/* Please ensure that you run this cell */\n",
    "sealed trait Regex { // Let's overload some operators for testing purposes.\n",
    "    def | (r2: Regex) = Or(this, r2) // or\n",
    "    def o (r2: Regex) = Seq(this, r2) // semicolon operator\n",
    "    def star = Star(this) // Kleene star\n",
    "}\n",
    "case object EmptyStr extends Regex\n",
    "case object Null extends Regex\n",
    "case class Atom(s: String) extends Regex\n",
    "case class Or(r1: Regex, r2: Regex) extends Regex\n",
    "case class Seq(r1: Regex, r2: Regex) extends Regex\n",
    "case class Star(r: Regex) extends Regex\n",
    "\n",
    "/*-- implicitly convert strings to Atoms --*/\n",
    "implicit def to_regex(s:String): Regex = Atom(s)\n",
    "\n"
   ]
  },
  {
   "cell_type": "code",
   "execution_count": 3,
   "id": "4f1fec34",
   "metadata": {
    "deletable": false,
    "editable": false,
    "nbgrader": {
     "cell_type": "code",
     "checksum": "9b27ffdb2fcc53d972271fef6afb0ad2",
     "grade": false,
     "grade_id": "cell-bb61ffcc9bc8aa1f",
     "locked": true,
     "schema_version": 3,
     "solution": false,
     "task": false
    }
   },
   "outputs": [
    {
     "data": {
      "text/plain": [
       "\u001b[36mr1\u001b[39m: \u001b[32mOr\u001b[39m = \u001b[33mOr\u001b[39m(\n",
       "  r1 = \u001b[33mStar\u001b[39m(r = \u001b[33mSeq\u001b[39m(r1 = \u001b[33mAtom\u001b[39m(s = \u001b[32m\"x\"\u001b[39m), r2 = \u001b[33mStar\u001b[39m(r = \u001b[33mAtom\u001b[39m(s = \u001b[32m\"_yellow\"\u001b[39m)))),\n",
       "  r2 = \u001b[33mAtom\u001b[39m(s = \u001b[32m\"_white\"\u001b[39m)\n",
       ")"
      ]
     },
     "execution_count": 3,
     "metadata": {},
     "output_type": "execute_result"
    }
   ],
   "source": [
    "val r1 = (\"x\" o (\"_yellow\").star).star | (\"_white\")"
   ]
  },
  {
   "cell_type": "code",
   "execution_count": 4,
   "id": "b3cec1cd",
   "metadata": {
    "deletable": false,
    "nbgrader": {
     "cell_type": "code",
     "checksum": "e94a52340f9d257af42a7229dda11c74",
     "grade": false,
     "grade_id": "cell-79ccbcf0e76b06ed",
     "locked": false,
     "schema_version": 3,
     "solution": true,
     "task": false
    }
   },
   "outputs": [
    {
     "data": {
      "text/plain": [
       "defined \u001b[32mfunction\u001b[39m \u001b[36maccepts\u001b[39m"
      ]
     },
     "execution_count": 4,
     "metadata": {},
     "output_type": "execute_result"
    }
   ],
   "source": [
    "/* Implement the accepts function */\n",
    "// YOUR CODE HERE\n",
    "def accepts(r: Regex): Boolean=\n",
    "{\n",
    "    r match\n",
    "    {\n",
    "        case EmptyStr => true;\n",
    "        case Null => false;\n",
    "        case Atom(s) => if(s == \"\"){true} else{false}\n",
    "        case Star(e1) => if(e1 == Null){false} else{true}\n",
    "        case Or(e1, e2) => accepts(e1) || accepts(e2)\n",
    "        case Seq(e1, e2) =>accepts(e1) && accepts(e2)\n",
    "        \n",
    "        \n",
    "    }\n",
    "}"
   ]
  },
  {
   "cell_type": "code",
   "execution_count": 5,
   "id": "f59f3594",
   "metadata": {
    "deletable": false,
    "editable": false,
    "nbgrader": {
     "cell_type": "code",
     "checksum": "8d059f200e5daa44714b5e0abe36f08b",
     "grade": true,
     "grade_id": "cell-19b32e1f8fc5c630",
     "locked": true,
     "points": 10,
     "schema_version": 3,
     "solution": false,
     "task": false
    }
   },
   "outputs": [
    {
     "name": "stdout",
     "output_type": "stream",
     "text": [
      "\n",
      "*** Tests Passed (10 points) ***\n"
     ]
    },
    {
     "data": {
      "text/plain": [
       "\u001b[36mr1\u001b[39m: \u001b[32mRegex\u001b[39m = \u001b[33mAtom\u001b[39m(s = \u001b[32m\"\"\u001b[39m)\n",
       "\u001b[36mr2\u001b[39m: \u001b[32mStar\u001b[39m = \u001b[33mStar\u001b[39m(r = \u001b[33mAtom\u001b[39m(s = \u001b[32m\"\"\u001b[39m))\n",
       "\u001b[36mr3\u001b[39m: \u001b[32mOr\u001b[39m = \u001b[33mOr\u001b[39m(r1 = \u001b[33mAtom\u001b[39m(s = \u001b[32m\"hello\"\u001b[39m), r2 = \u001b[33mAtom\u001b[39m(s = \u001b[32m\"world\"\u001b[39m))\n",
       "\u001b[36mr4\u001b[39m: \u001b[32mOr\u001b[39m = \u001b[33mOr\u001b[39m(r1 = \u001b[33mAtom\u001b[39m(s = \u001b[32m\"hello\"\u001b[39m), r2 = \u001b[33mStar\u001b[39m(r = \u001b[33mAtom\u001b[39m(s = \u001b[32m\"world\"\u001b[39m)))\n",
       "\u001b[36mr5\u001b[39m: \u001b[32mRegex\u001b[39m = \u001b[33mAtom\u001b[39m(s = \u001b[32m\"hello\"\u001b[39m)\n",
       "\u001b[36mr6\u001b[39m: \u001b[32mRegex\u001b[39m = \u001b[33mSeq\u001b[39m(r1 = \u001b[33mAtom\u001b[39m(s = \u001b[32m\"hello\"\u001b[39m), r2 = \u001b[33mStar\u001b[39m(r = \u001b[33mAtom\u001b[39m(s = \u001b[32m\"world\"\u001b[39m)))\n",
       "\u001b[36mr7\u001b[39m: \u001b[32mRegex\u001b[39m = \u001b[33mSeq\u001b[39m(r1 = \u001b[33mAtom\u001b[39m(s = \u001b[32m\"\"\u001b[39m), r2 = \u001b[33mAtom\u001b[39m(s = \u001b[32m\"world\"\u001b[39m))\n",
       "\u001b[36mr8\u001b[39m: \u001b[32mRegex\u001b[39m = \u001b[33mSeq\u001b[39m(\n",
       "  r1 = \u001b[33mOr\u001b[39m(\n",
       "    r1 = \u001b[33mSeq\u001b[39m(r1 = \u001b[33mAtom\u001b[39m(s = \u001b[32m\"\"\u001b[39m), r2 = \u001b[33mStar\u001b[39m(r = \u001b[33mAtom\u001b[39m(s = \u001b[32m\"world\"\u001b[39m))),\n",
       "    r2 = \u001b[33mAtom\u001b[39m(s = \u001b[32m\"csci3155\"\u001b[39m)\n",
       "  ),\n",
       "  r2 = \u001b[33mStar\u001b[39m(r = \u001b[33mAtom\u001b[39m(s = \u001b[32m\"hello\"\u001b[39m))\n",
       ")\n",
       "\u001b[36mr9\u001b[39m: \u001b[32mRegex\u001b[39m = \u001b[33mOr\u001b[39m(\n",
       "  r1 = \u001b[33mSeq\u001b[39m(r1 = \u001b[33mAtom\u001b[39m(s = \u001b[32m\"\"\u001b[39m), r2 = \u001b[33mStar\u001b[39m(r = \u001b[33mAtom\u001b[39m(s = \u001b[32m\"world\"\u001b[39m))),\n",
       "  r2 = \u001b[33mSeq\u001b[39m(r1 = \u001b[33mAtom\u001b[39m(s = \u001b[32m\"csci3155\"\u001b[39m), r2 = \u001b[33mStar\u001b[39m(r = \u001b[33mAtom\u001b[39m(s = \u001b[32m\"hello\"\u001b[39m)))\n",
       ")\n",
       "\u001b[36mr10\u001b[39m: \u001b[32mRegex\u001b[39m = \u001b[33mOr\u001b[39m(r1 = Null, r2 = \u001b[33mAtom\u001b[39m(s = \u001b[32m\"hello\"\u001b[39m))\n",
       "\u001b[36mr11\u001b[39m: \u001b[32mRegex\u001b[39m = \u001b[33mStar\u001b[39m(r = Null)"
      ]
     },
     "execution_count": 5,
     "metadata": {},
     "output_type": "execute_result"
    }
   ],
   "source": [
    "val r1: Regex = \"\" // This is where the implicit function we defined above helps us\n",
    "assert(accepts(r1), \"Test # 1 failed\")\n",
    "\n",
    "val r2 = \"\".star\n",
    "assert(accepts(r2), \"Test # 2 failed\")\n",
    "\n",
    "val r3 = \"hello\" | \"world\"\n",
    "assert(!accepts(r3), \"Test # 3 failed\")\n",
    "\n",
    "val r4 = \"hello\" | \"world\".star \n",
    "assert (accepts(r4), \"Test # 4 failed\")\n",
    "\n",
    "val r5: Regex = \"hello\"\n",
    "assert(!accepts(r5), \"Test # 5 failed\")\n",
    "\n",
    "val r6: Regex = \"hello\" o \"world\".star\n",
    "assert(!accepts(r6), \"Test #6 failed\")\n",
    "\n",
    "val r7: Regex = \"\" o \"world\"\n",
    "assert(!accepts(r7), \"Test # 7 failed\")\n",
    "\n",
    "val r8: Regex = (\"\" o \"world\".star ) |  \"csci3155\"o \"hello\".star\n",
    "assert(accepts(r8), \"Test # 8 failed\")\n",
    "\n",
    "val r9: Regex = (\"\" o \"world\".star ) |  (\"csci3155\"o \"hello\".star)\n",
    "assert(accepts(r9), \"Test # 9 failed\")\n",
    "\n",
    "val r10: Regex = Null | \"hello\"\n",
    "assert(!accepts(r10), \"Test # 10 failed\")\n",
    "\n",
    "val r11:Regex =  Null.star\n",
    "assert(!accepts(r11), \"Test #11 failed\")\n",
    "\n",
    "passed(10)"
   ]
  },
  {
   "cell_type": "markdown",
   "id": "d74f5834",
   "metadata": {
    "deletable": false,
    "editable": false,
    "nbgrader": {
     "cell_type": "markdown",
     "checksum": "327f66090ac8d7c0da11c67b511d821b",
     "grade": false,
     "grade_id": "cell-b089888be18dfd5a",
     "locked": true,
     "schema_version": 3,
     "solution": false,
     "task": false
    }
   },
   "source": [
    "## Simplify Null \n",
    "\n",
    "Next we specify some rules for getting rid of $\\trm{Null}$. These rules are deliberately setup to avoid doing expensive \"full\" simplifications. Please read them carefully and implement  them as specified below.\n",
    "\n",
    "If a term is an atom or null or an empty string, simplifying the term just yields the original term  back.\n",
    "$$\\semRule{t \\in \\{  \\trm{Atom}(s), \\trm{Null}, \\trm{EmptyStr} \\} }{\\sNull(t) = t }{simplify-base}$$\n",
    "\n",
    "Here are the rules for $\\trm{Or}$: if one of the two arguments simplifies to $\\trm{Null}$, we remove $\\trm{Or}$ and replace it by the simplified version of the other term.\n",
    "\n",
    "$$\\semRule{\\sNull(t_1) = \\trm{Null} }{\\sNull( \\trm{Or}(t_1, t_2) ) = \\sNull(t_2) }{simplify-or-1}$$\n",
    "\n",
    "$$\\semRule{\\sNull(t_1) = s_1, s_1 \\not= \\trm{Null}, \\text{and}\\ \\sNull(t_2) = \\trm{Null} }{\\sNull( \\trm{Or}(t_1, t_2) ) = s_1 }{simplify-or-2}$$\n",
    "\n",
    "$$\\semRule{\\sNull(t_1) = s_1,\\ s_1 \\not= \\trm{Null},\\ \\sNull(t_2) = s_2,\\ \\text{and}\\ s_2 \\not= \\trm{Null} }{\\sNull( \\trm{Or}(t_1, t_2) ) = \\trm{Or}(s_1, s_2) }{simplify-or-2}$$\n",
    "\n",
    "Here are the rules for $\\trm{Seq}$:\n",
    "\n",
    "\n",
    "$$\\semRule{\\sNull(t_1) = \\trm{Null} }{\\sNull( \\trm{Seq}(t_1, t_2) ) = \\trm{Null} }{simplify-seq-1}$$\n",
    "\n",
    "$$\\semRule{\\sNull(t_1)= s_1\\ \\text{and}\\ s_1 \\not= \\trm{Null}}{\\sNull( \\trm{Seq}(t_1, t_2) ) = \\trm{Seq}(s_1, t_2) }{simplify-seq-2}$$\n",
    "\n",
    "Notice that we do not bother simplifying $t_2$ for the $\\trm{Seq}$ operator. We simplify $t_1$ and the two rules do different things based on whether $t_1$ simplifies to $\\trm{Null}$ or not.\n",
    "\n",
    "Here are the rules for $\\trm{Star}$:\n",
    "$$\\semRule{\\sNull(t_1) = \\trm{Null} }{\\sNull( \\trm{Star}(t_1) ) = \\trm{Null} }{simplify-star-1}$$\n",
    "$$\\semRule{\\sNull(t_1)= s_1\\ \\text{and}\\ s_1 \\not= \\trm{Null}}{\\sNull( \\trm{Star}(t_1) ) = \\trm{Star}(s_1) }{simplify-star-2}$$\n",
    "\n",
    "Implement a function `simplifyNull(r: Regex): Regex` following the specifications above."
   ]
  },
  {
   "cell_type": "code",
   "execution_count": 6,
   "id": "f6cb6425",
   "metadata": {
    "deletable": false,
    "nbgrader": {
     "cell_type": "code",
     "checksum": "633e0c082517efb980ea053dfe879f1a",
     "grade": false,
     "grade_id": "cell-8814afec1f94eb44",
     "locked": false,
     "schema_version": 3,
     "solution": true,
     "task": false
    }
   },
   "outputs": [
    {
     "data": {
      "text/plain": [
       "defined \u001b[32mfunction\u001b[39m \u001b[36msimplifyNull\u001b[39m"
      ]
     },
     "execution_count": 6,
     "metadata": {},
     "output_type": "execute_result"
    }
   ],
   "source": [
    "// YOUR CODE HERE\n",
    "def simplifyNull(r: Regex): Regex = \n",
    "{\n",
    "    r match\n",
    "    {\n",
    "        case EmptyStr => r\n",
    "        case Null => r\n",
    "        case Atom(s) => r\n",
    "        case Star(e1) => if (simplifyNull(e1) == Null) {Null} else{Star(simplifyNull(e1))}\n",
    "        case Or(t1, t2) => \n",
    "        {\n",
    "            if(simplifyNull(t1) == Null) \n",
    "                simplifyNull(t2)\n",
    "            \n",
    "            else if(simplifyNull(t2) == Null) \n",
    "                    simplifyNull(t1) \n",
    "            \n",
    "            else\n",
    "                Or(simplifyNull(t1),simplifyNull(t2))\n",
    "        }\n",
    "        case Seq(e1, e2) => \n",
    "        {\n",
    "            if(simplifyNull(e1) == Null)\n",
    "                Null\n",
    "            else\n",
    "                Seq(simplifyNull(e1), e2)\n",
    "                \n",
    "        }\n",
    "    }\n",
    "}"
   ]
  },
  {
   "cell_type": "code",
   "execution_count": 7,
   "id": "65db14a3",
   "metadata": {
    "deletable": false,
    "editable": false,
    "nbgrader": {
     "cell_type": "code",
     "checksum": "57112cb2371fd3cdff4158fcebfce26c",
     "grade": true,
     "grade_id": "cell-bc8cb5024285d4e3",
     "locked": true,
     "points": 10,
     "schema_version": 3,
     "solution": false,
     "task": false
    }
   },
   "outputs": [
    {
     "name": "stdout",
     "output_type": "stream",
     "text": [
      "Test 1\n",
      "\t Your code returned: Atom(hello), Expected: Atom(hello)\n",
      "\t Passed!\n",
      "Test 2\n",
      "\t Your code returned: Atom(hello), Expected: Atom(hello)\n",
      "\t Passed!\n",
      "Test 3\n",
      "\t Your code returned: Atom(excellent), Expected: Atom(excellent)\n",
      "\t Passed!\n",
      "Test 4\n",
      "\t Your code returned: Null, Expected: Null\n",
      "\t Passed!\n",
      "Test 5\n",
      "\t Your code returned: Or(Atom(star rise),Atom(very nice)), Expected: Or(Atom(star rise),Atom(very nice))\n",
      "\t Passed!\n",
      "\n",
      "*** Tests Passed (10 points) ***\n"
     ]
    },
    {
     "data": {
      "text/plain": [
       "\u001b[36mr1\u001b[39m: \u001b[32mOr\u001b[39m = \u001b[33mOr\u001b[39m(r1 = \u001b[33mAtom\u001b[39m(s = \u001b[32m\"hello\"\u001b[39m), r2 = \u001b[33mSeq\u001b[39m(r1 = Null, r2 = \u001b[33mAtom\u001b[39m(s = \u001b[32m\"World\"\u001b[39m)))\n",
       "\u001b[36me1\u001b[39m: \u001b[32mAtom\u001b[39m = \u001b[33mAtom\u001b[39m(s = \u001b[32m\"hello\"\u001b[39m)\n",
       "\u001b[36mr2\u001b[39m: \u001b[32mOr\u001b[39m = \u001b[33mOr\u001b[39m(\n",
       "  r1 = \u001b[33mAtom\u001b[39m(s = \u001b[32m\"hello\"\u001b[39m),\n",
       "  r2 = \u001b[33mSeq\u001b[39m(r1 = \u001b[33mStar\u001b[39m(r = Null), r2 = \u001b[33mAtom\u001b[39m(s = \u001b[32m\"World\"\u001b[39m))\n",
       ")\n",
       "\u001b[36me2\u001b[39m: \u001b[32mAtom\u001b[39m = \u001b[33mAtom\u001b[39m(s = \u001b[32m\"hello\"\u001b[39m)\n",
       "\u001b[36mr3\u001b[39m: \u001b[32mOr\u001b[39m = \u001b[33mOr\u001b[39m(\n",
       "  r1 = \u001b[33mSeq\u001b[39m(r1 = \u001b[33mStar\u001b[39m(r = Null), r2 = \u001b[33mAtom\u001b[39m(s = \u001b[32m\"World\"\u001b[39m)),\n",
       "  r2 = \u001b[33mAtom\u001b[39m(s = \u001b[32m\"excellent\"\u001b[39m)\n",
       ")\n",
       "\u001b[36me3\u001b[39m: \u001b[32mAtom\u001b[39m = \u001b[33mAtom\u001b[39m(s = \u001b[32m\"excellent\"\u001b[39m)\n",
       "\u001b[36mr4\u001b[39m: \u001b[32mOr\u001b[39m = \u001b[33mOr\u001b[39m(\n",
       "  r1 = \u001b[33mSeq\u001b[39m(r1 = \u001b[33mStar\u001b[39m(r = Null), r2 = \u001b[33mAtom\u001b[39m(s = \u001b[32m\"sophisticated\"\u001b[39m)),\n",
       "  r2 = \u001b[33mSeq\u001b[39m(r1 = \u001b[33mStar\u001b[39m(r = Null), r2 = Null)\n",
       ")\n",
       "\u001b[36me4\u001b[39m: \u001b[32mNull\u001b[39m.type = Null\n",
       "\u001b[36mr5\u001b[39m: \u001b[32mOr\u001b[39m = \u001b[33mOr\u001b[39m(\n",
       "  r1 = \u001b[33mOr\u001b[39m(\n",
       "    r1 = \u001b[33mAtom\u001b[39m(s = \u001b[32m\"star rise\"\u001b[39m),\n",
       "    r2 = \u001b[33mStar\u001b[39m(\n",
       "      r = \u001b[33mOr\u001b[39m(\n",
       "        r1 = \u001b[33mSeq\u001b[39m(r1 = \u001b[33mStar\u001b[39m(r = Null), r2 = \u001b[33mAtom\u001b[39m(s = \u001b[32m\"sophisticated\"\u001b[39m)),\n",
       "        r2 = \u001b[33mSeq\u001b[39m(r1 = \u001b[33mStar\u001b[39m(r = Null), r2 = Null)\n",
       "      )\n",
       "    )\n",
       "  ),\n",
       "  r2 = \u001b[33mAtom\u001b[39m(s = \u001b[32m\"very nice\"\u001b[39m)\n",
       ")\n",
       "\u001b[36me5\u001b[39m: \u001b[32mOr\u001b[39m = \u001b[33mOr\u001b[39m(r1 = \u001b[33mAtom\u001b[39m(s = \u001b[32m\"star rise\"\u001b[39m), r2 = \u001b[33mAtom\u001b[39m(s = \u001b[32m\"very nice\"\u001b[39m))"
      ]
     },
     "execution_count": 7,
     "metadata": {},
     "output_type": "execute_result"
    }
   ],
   "source": [
    "val r1 = Atom(\"hello\") | (Null o Atom(\"World\"))\n",
    "val e1 = Atom(\"hello\")\n",
    "testWithMessage(simplifyNull(r1), e1, \"1\")\n",
    "\n",
    "val r2 = Atom(\"hello\") | (Null.star o Atom(\"World\"))\n",
    "val e2 = Atom(\"hello\")\n",
    "testWithMessage(simplifyNull(r2), e2, \"2\")\n",
    "\n",
    "\n",
    "val r3 = (Null.star o Atom(\"World\")) | Atom(\"excellent\")\n",
    "val e3 = Atom(\"excellent\")\n",
    "testWithMessage(simplifyNull(r3), e3, \"3\")\n",
    "\n",
    "val r4 = (Null.star o Atom(\"sophisticated\")) | (Null.star o Null)\n",
    "val e4 = Null\n",
    "testWithMessage(simplifyNull(r4), e4, \"4\")\n",
    "\n",
    "val r5 = Atom(\"star rise\") | r4.star | Atom(\"very nice\")\n",
    "val e5 = Atom(\"star rise\") | Atom(\"very nice\")\n",
    "testWithMessage(simplifyNull(r5), e5, \"5\")\n",
    "passed(10)"
   ]
  },
  {
   "cell_type": "code",
   "execution_count": 8,
   "id": "ceac71c8",
   "metadata": {
    "deletable": false,
    "editable": false,
    "nbgrader": {
     "cell_type": "code",
     "checksum": "7763539173842121f230c334cd767a9e",
     "grade": true,
     "grade_id": "cell-4326162d3b03be55",
     "locked": true,
     "points": 5,
     "schema_version": 3,
     "solution": false,
     "task": false
    }
   },
   "outputs": [
    {
     "name": "stdout",
     "output_type": "stream",
     "text": [
      "Test 6\n",
      "\t Your code returned: Null, Expected: Null\n",
      "\t Passed!\n",
      "Remember according to semantic rules for seq, you should not simplify the second argument\n",
      "Test 7\n",
      "\t Your code returned: Seq(Atom(Python),Star(Null)), Expected: Seq(Atom(Python),Star(Null))\n",
      "\t Passed!\n",
      "Test 8\n",
      "\t Your code returned: Seq(Atom(Python),Seq(Star(Null),Atom(Scala))), Expected: Seq(Atom(Python),Seq(Star(Null),Atom(Scala)))\n",
      "\t Passed!\n",
      "\n",
      "*** Tests Passed (5 points) ***\n"
     ]
    },
    {
     "data": {
      "text/plain": [
       "\u001b[36mr6\u001b[39m: \u001b[32mSeq\u001b[39m = \u001b[33mSeq\u001b[39m(r1 = Null, r2 = \u001b[33mAtom\u001b[39m(s = \u001b[32m\"Python\"\u001b[39m))\n",
       "\u001b[36me6\u001b[39m: \u001b[32mNull\u001b[39m.type = Null\n",
       "\u001b[36mr7\u001b[39m: \u001b[32mSeq\u001b[39m = \u001b[33mSeq\u001b[39m(r1 = \u001b[33mAtom\u001b[39m(s = \u001b[32m\"Python\"\u001b[39m), r2 = \u001b[33mStar\u001b[39m(r = Null))\n",
       "\u001b[36me7\u001b[39m: \u001b[32mSeq\u001b[39m = \u001b[33mSeq\u001b[39m(r1 = \u001b[33mAtom\u001b[39m(s = \u001b[32m\"Python\"\u001b[39m), r2 = \u001b[33mStar\u001b[39m(r = Null))\n",
       "\u001b[36mr8\u001b[39m: \u001b[32mSeq\u001b[39m = \u001b[33mSeq\u001b[39m(\n",
       "  r1 = \u001b[33mOr\u001b[39m(r1 = \u001b[33mAtom\u001b[39m(s = \u001b[32m\"Python\"\u001b[39m), r2 = \u001b[33mStar\u001b[39m(r = Null)),\n",
       "  r2 = \u001b[33mSeq\u001b[39m(r1 = \u001b[33mStar\u001b[39m(r = Null), r2 = \u001b[33mAtom\u001b[39m(s = \u001b[32m\"Scala\"\u001b[39m))\n",
       ")\n",
       "\u001b[36me8\u001b[39m: \u001b[32mSeq\u001b[39m = \u001b[33mSeq\u001b[39m(\n",
       "  r1 = \u001b[33mAtom\u001b[39m(s = \u001b[32m\"Python\"\u001b[39m),\n",
       "  r2 = \u001b[33mSeq\u001b[39m(r1 = \u001b[33mStar\u001b[39m(r = Null), r2 = \u001b[33mAtom\u001b[39m(s = \u001b[32m\"Scala\"\u001b[39m))\n",
       ")"
      ]
     },
     "execution_count": 8,
     "metadata": {},
     "output_type": "execute_result"
    }
   ],
   "source": [
    "//Tests for Seq\n",
    "val r6 = Null o \"Python\"\n",
    "val e6 = Null\n",
    "testWithMessage(simplifyNull(r6), e6, \"6\")\n",
    "\n",
    "println(\"Remember according to semantic rules for seq, you should not simplify the second argument\")\n",
    "val r7 =  \"Python\" o Null.star\n",
    "val e7 = r7\n",
    "testWithMessage(simplifyNull(r7), e7, \"7\")\n",
    "\n",
    "val r8 =  (\"Python\" | Null.star) o ( Null.star o \"Scala\")\n",
    "val e8 = \"Python\" o (Null.star o \"Scala\")\n",
    "testWithMessage(simplifyNull(r8), e8, \"8\")\n",
    "\n",
    "passed(5)"
   ]
  },
  {
   "cell_type": "markdown",
   "id": "9e8c295a",
   "metadata": {
    "deletable": false,
    "editable": false,
    "nbgrader": {
     "cell_type": "markdown",
     "checksum": "8e560858cc5eced60aa92d267ea72df0",
     "grade": false,
     "grade_id": "cell-2dc3be25c2b2fa25",
     "locked": true,
     "schema_version": 3,
     "solution": false,
     "task": false
    }
   },
   "source": [
    "## Derivatives \n",
    "\n",
    "We will now define the \"derivative\" of a regular expression `r` with respect to a characted `c` $\\delta(r, c)$ using the semantic rules below.\n",
    "\n",
    "$$\\semRule{r \\in \\{  \\trm{EmptyStr}, \\trm{Null} \\} }{\\delta(r, c) = \\trm{Null}}{deriv-empty-null}$$\n",
    "\n",
    "Rules for `Atom`. For a string $s$, we will denote its first characted by $s.head$ and the substring from second position to end as $s.tail$.\n",
    "\n",
    "$$\\semRule{}{\\delta(\\trm{Atom}(\"\"), c) = \\trm{Null}}{deriv-empty-atom}$$\n",
    "$$\\semRule{s.head = c}{\\delta(\\trm{Atom}(s), c) = \\trm{Atom}(s.tail)}{deriv-atom-1}$$\n",
    "$$\\semRule{s.head \\not= c}{\\delta(\\trm{Atom}(s), c) = \\trm{Null} }{deriv-atom-2}$$\n",
    "\n",
    "Notice that if an atom starts with the character `c`, then the derivative is the tail of the contained string. But if an atom does not start with the character `c`, its derivative is simply null denoting a match failure.\n",
    "\n",
    "Rules for `Seq`.\n",
    "\n",
    "If the first sub-term $t_1$ is not accepting then we take the derivative of $t_1$ as specified below:\n",
    "\n",
    "$$\\semRule{\\acc(t_1) = \\false,\\ \\text{and}\\  s_1 = \\delta(t_1, c) }{\\delta(\\trm{Seq}(t_1, t_2), c)) = \\trm{Seq}(s_1, t_2)}{deriv-seq-1}$$\n",
    "\n",
    "If the first sub-term $t_1$ is accepting, then the derivative of $\\trm{Seq}(t_1, t_2)$ is given by the following expression obtained by taking derivative of both subterms. \n",
    "\n",
    "$$\\semRule{\\acc(t_1) = \\true,\\ s_1 = \\delta(t_1, c),\\ \\text{and}\\ s_2 = \\delta(t_2, c) }{\\delta(\\trm{Seq}(t_1, t_2), c)) = \\trm{Or}( \\trm{Seq}(s_1, t_2), s_2 )}{deriv-seq-2}$$\n",
    "\n",
    "Rules of `Or`.\n",
    "$$\\semRule{}{\\delta(\\trm{Or}(t_1, t_2), c)) = \\trm{Or}(\\delta(t_1, c), \\delta(t_2, c))}{deriv-or-1}$$\n",
    "\n",
    "Rule for `Star`.\n",
    "\n",
    "$$\\semRule{}{\\delta(\\trm{Star}(t)), c) = \\trm{Seq}(\\delta(t, c), \\trm{Star}(t))}{deriv-star-1}$$\n",
    "\n",
    "Implement the function `delta(r: Regex, c: Char): Regex` using the semantic rules above."
   ]
  },
  {
   "cell_type": "code",
   "execution_count": 9,
   "id": "e1716bf6",
   "metadata": {
    "deletable": false,
    "nbgrader": {
     "cell_type": "code",
     "checksum": "96c76393a3977ae83a49c46c560db9e0",
     "grade": false,
     "grade_id": "cell-2ab4fe98fb27019c",
     "locked": false,
     "schema_version": 3,
     "solution": true,
     "task": false
    }
   },
   "outputs": [
    {
     "data": {
      "text/plain": [
       "defined \u001b[32mfunction\u001b[39m \u001b[36mdelta\u001b[39m"
      ]
     },
     "execution_count": 9,
     "metadata": {},
     "output_type": "execute_result"
    }
   ],
   "source": [
    "// YOUR CODE HERE\n",
    "def delta(r: Regex, c: Char): Regex = \n",
    "{\n",
    "    r match\n",
    "    {\n",
    "        case EmptyStr => Null\n",
    "        case Null => r\n",
    "        case Atom(s) => if(s == \"\") {Null} else if(s.head != c) {Null} else{s.tail}\n",
    "        case Star(e1) => Seq(delta(e1, c), Star(e1))\n",
    "        case Or(e1, e2) => Or(delta(e1, c), delta(e2,c))\n",
    "        case Seq(e1, e2) =>\n",
    "        {\n",
    "            if(accepts(e1) == false)\n",
    "                Seq(delta(e1, c), e2)\n",
    "            else\n",
    "            {\n",
    "                val s1 = delta(e1, c);\n",
    "                val s2 = delta(e2, c);\n",
    "                Or(Seq(s1, e2), s2)\n",
    "            }\n",
    "        }\n",
    "    }\n",
    "}"
   ]
  },
  {
   "cell_type": "code",
   "execution_count": 10,
   "id": "98a21f55",
   "metadata": {
    "deletable": false,
    "editable": false,
    "nbgrader": {
     "cell_type": "code",
     "checksum": "4ef919bb4929bc76ee54bfc1c76fa8d5",
     "grade": true,
     "grade_id": "cell-d3afaca2f34fd184",
     "locked": true,
     "points": 5,
     "schema_version": 3,
     "solution": false,
     "task": false
    }
   },
   "outputs": [
    {
     "name": "stdout",
     "output_type": "stream",
     "text": [
      "Test #1\n",
      "\t Your code returned: Atom(ello), Expected: Atom(ello)\n",
      "\t Passed!\n",
      "Test #2\n",
      "\t Your code returned: Null, Expected: Null\n",
      "\t Passed!\n",
      "Test #3\n",
      "\t Your code returned: Null, Expected: Null\n",
      "\t Passed!\n",
      "Test #4\n",
      "\t Your code returned: Null, Expected: Null\n",
      "\t Passed!\n",
      "Test #5\n",
      "\t Your code returned: Null, Expected: Null\n",
      "\t Passed!\n",
      "\n",
      "*** Tests Passed (5 points) ***\n"
     ]
    },
    {
     "data": {
      "text/plain": [
       "\u001b[36mr1\u001b[39m: \u001b[32mAtom\u001b[39m = \u001b[33mAtom\u001b[39m(s = \u001b[32m\"hello\"\u001b[39m)\n",
       "\u001b[36me1\u001b[39m: \u001b[32mAtom\u001b[39m = \u001b[33mAtom\u001b[39m(s = \u001b[32m\"ello\"\u001b[39m)\n",
       "\u001b[36mr2\u001b[39m: \u001b[32mAtom\u001b[39m = \u001b[33mAtom\u001b[39m(s = \u001b[32m\"hello\"\u001b[39m)\n",
       "\u001b[36me2\u001b[39m: \u001b[32mNull\u001b[39m.type = Null\n",
       "\u001b[36mr3\u001b[39m: \u001b[32mEmptyStr\u001b[39m.type = EmptyStr\n",
       "\u001b[36mr4\u001b[39m: \u001b[32mNull\u001b[39m.type = Null\n",
       "\u001b[36mr5\u001b[39m: \u001b[32mAtom\u001b[39m = \u001b[33mAtom\u001b[39m(s = \u001b[32m\"\"\u001b[39m)"
      ]
     },
     "execution_count": 10,
     "metadata": {},
     "output_type": "execute_result"
    }
   ],
   "source": [
    "// Test for Atom\n",
    "val r1 = Atom(\"hello\")\n",
    "val e1 = Atom(\"ello\")\n",
    "testWithMessage(delta(r1, 'h'), e1, \"#1\")\n",
    "\n",
    "val r2 = Atom(\"hello\")\n",
    "val e2 = Null\n",
    "testWithMessage(delta(r2, 'c'), e2, \"#2\")\n",
    "\n",
    "// Test for EmptyStr\n",
    "\n",
    "\n",
    "val r3 = EmptyStr\n",
    "testWithMessage(delta(r3, 'a'), Null, \"#3\")\n",
    "\n",
    "// Test for Null\n",
    "\n",
    "val r4 = Null\n",
    "testWithMessage(delta(r4, 'a'), Null, \"#4\")\n",
    "\n",
    "// Atom empty str\n",
    "val r5 = Atom(\"\")\n",
    "testWithMessage(delta(r5, 'x'), Null, \"#5\")\n",
    "\n",
    "passed(5)"
   ]
  },
  {
   "cell_type": "code",
   "execution_count": 11,
   "id": "671d5fa9",
   "metadata": {
    "deletable": false,
    "editable": false,
    "nbgrader": {
     "cell_type": "code",
     "checksum": "746dc8d4bc0d040dd4784083fd14e87c",
     "grade": true,
     "grade_id": "cell-f4c7ca1eae7a74a4",
     "locked": true,
     "points": 5,
     "schema_version": 3,
     "solution": false,
     "task": false
    }
   },
   "outputs": [
    {
     "name": "stdout",
     "output_type": "stream",
     "text": [
      "Test #6\n",
      "\t Your code returned: Or(Null,Atom(orld)), Expected: Or(Null,Atom(orld))\n",
      "\t Passed!\n",
      "Test #7\n",
      "\t Your code returned: Or(Atom(ello),Seq(Null,Star(Atom(world)))), Expected: Or(Atom(ello),Seq(Null,Star(Atom(world))))\n",
      "\t Passed!\n",
      "Test #8\n",
      "\t Your code returned: Seq(Atom(tar),Star(Atom(star))), Expected: Seq(Atom(tar),Star(Atom(star)))\n",
      "\t Passed!\n",
      "Test #9\n",
      "\t Your code returned: Seq(Null,Star(Atom())), Expected: Seq(Null,Star(Atom()))\n",
      "\t Passed!\n",
      "\n",
      "*** Tests Passed (5 points) ***\n"
     ]
    },
    {
     "data": {
      "text/plain": [
       "\u001b[36mr7\u001b[39m: \u001b[32mOr\u001b[39m = \u001b[33mOr\u001b[39m(r1 = \u001b[33mAtom\u001b[39m(s = \u001b[32m\"hello\"\u001b[39m), r2 = \u001b[33mAtom\u001b[39m(s = \u001b[32m\"world\"\u001b[39m))\n",
       "\u001b[36me7\u001b[39m: \u001b[32mOr\u001b[39m = \u001b[33mOr\u001b[39m(r1 = Null, r2 = \u001b[33mAtom\u001b[39m(s = \u001b[32m\"orld\"\u001b[39m))\n",
       "\u001b[36mr6\u001b[39m: \u001b[32mOr\u001b[39m = \u001b[33mOr\u001b[39m(r1 = \u001b[33mAtom\u001b[39m(s = \u001b[32m\"hello\"\u001b[39m), r2 = \u001b[33mStar\u001b[39m(r = \u001b[33mAtom\u001b[39m(s = \u001b[32m\"world\"\u001b[39m)))\n",
       "\u001b[36me6\u001b[39m: \u001b[32mOr\u001b[39m = \u001b[33mOr\u001b[39m(\n",
       "  r1 = \u001b[33mAtom\u001b[39m(s = \u001b[32m\"ello\"\u001b[39m),\n",
       "  r2 = \u001b[33mSeq\u001b[39m(r1 = Null, r2 = \u001b[33mStar\u001b[39m(r = \u001b[33mAtom\u001b[39m(s = \u001b[32m\"world\"\u001b[39m)))\n",
       ")\n",
       "\u001b[36mr8\u001b[39m: \u001b[32mStar\u001b[39m = \u001b[33mStar\u001b[39m(r = \u001b[33mAtom\u001b[39m(s = \u001b[32m\"star\"\u001b[39m))\n",
       "\u001b[36me8\u001b[39m: \u001b[32mSeq\u001b[39m = \u001b[33mSeq\u001b[39m(r1 = \u001b[33mAtom\u001b[39m(s = \u001b[32m\"tar\"\u001b[39m), r2 = \u001b[33mStar\u001b[39m(r = \u001b[33mAtom\u001b[39m(s = \u001b[32m\"star\"\u001b[39m)))\n",
       "\u001b[36mr9\u001b[39m: \u001b[32mStar\u001b[39m = \u001b[33mStar\u001b[39m(r = \u001b[33mAtom\u001b[39m(s = \u001b[32m\"\"\u001b[39m))"
      ]
     },
     "execution_count": 11,
     "metadata": {},
     "output_type": "execute_result"
    }
   ],
   "source": [
    "// Test Or only\n",
    "val r7 = \"hello\" | \"world\"\n",
    "val e7 = Null | \"orld\"\n",
    "testWithMessage(delta(r7,'w'), e7, \"#6\")\n",
    "// Test Or and star\n",
    "val r6 = \"hello\" | \"world\".star \n",
    "val e6 = \"ello\" | (Null o \"world\".star)\n",
    "testWithMessage(delta(r6,'h'), e6, \"#7\")\n",
    "// Test Star\n",
    "val r8 = \"star\".star \n",
    "val e8 = \"tar\" o r8\n",
    "testWithMessage(delta(r8, 's'), e8, \"#8\")\n",
    "// Test Star\n",
    "val r9 = \"\".star\n",
    "testWithMessage(delta(r9, 'x'), Null o r9, \"#9\")\n",
    "passed(5)"
   ]
  },
  {
   "cell_type": "code",
   "execution_count": 12,
   "id": "41954287",
   "metadata": {
    "deletable": false,
    "editable": false,
    "nbgrader": {
     "cell_type": "code",
     "checksum": "6b9260e5cde026af1d4db02ff21aedae",
     "grade": true,
     "grade_id": "cell-bcfdacf07a47749a",
     "locked": true,
     "points": 5,
     "schema_version": 3,
     "solution": false,
     "task": false
    }
   },
   "outputs": [
    {
     "name": "stdout",
     "output_type": "stream",
     "text": [
      "Test #10\n",
      "\t Your code returned: Seq(Atom(ello),Atom(world)), Expected: Seq(Atom(ello),Atom(world))\n",
      "\t Passed!\n",
      "Test #11\n",
      "\t Your code returned: Seq(Null,Atom(world)), Expected: Seq(Null,Atom(world))\n",
      "\t Passed!\n",
      "Test #12\n",
      "\t Your code returned: Or(Seq(Null,Atom(world)),Atom(orld)), Expected: Or(Seq(Null,Atom(world)),Atom(orld))\n",
      "\t Passed!\n",
      "Test #13\n",
      "\t Your code returned: Or(Seq(Seq(Atom(orld),Star(Atom(world))),Atom(water)),Atom(ater)), Expected: Or(Seq(Seq(Atom(orld),Star(Atom(world))),Atom(water)),Atom(ater))\n",
      "\t Passed!\n",
      "\n",
      "*** Tests Passed (5 points) ***\n"
     ]
    },
    {
     "data": {
      "text/plain": [
       "\u001b[36mr10\u001b[39m: \u001b[32mSeq\u001b[39m = \u001b[33mSeq\u001b[39m(r1 = \u001b[33mAtom\u001b[39m(s = \u001b[32m\"hello\"\u001b[39m), r2 = \u001b[33mAtom\u001b[39m(s = \u001b[32m\"world\"\u001b[39m))\n",
       "\u001b[36me10\u001b[39m: \u001b[32mRegex\u001b[39m = \u001b[33mSeq\u001b[39m(r1 = \u001b[33mAtom\u001b[39m(s = \u001b[32m\"ello\"\u001b[39m), r2 = \u001b[33mAtom\u001b[39m(s = \u001b[32m\"world\"\u001b[39m))\n",
       "\u001b[36mr11\u001b[39m: \u001b[32mSeq\u001b[39m = \u001b[33mSeq\u001b[39m(r1 = \u001b[33mAtom\u001b[39m(s = \u001b[32m\"\"\u001b[39m), r2 = \u001b[33mAtom\u001b[39m(s = \u001b[32m\"world\"\u001b[39m))\n",
       "\u001b[36me11\u001b[39m: \u001b[32mOr\u001b[39m = \u001b[33mOr\u001b[39m(r1 = \u001b[33mSeq\u001b[39m(r1 = Null, r2 = \u001b[33mAtom\u001b[39m(s = \u001b[32m\"world\"\u001b[39m)), r2 = \u001b[33mAtom\u001b[39m(s = \u001b[32m\"orld\"\u001b[39m))\n",
       "\u001b[36mr12\u001b[39m: \u001b[32mSeq\u001b[39m = \u001b[33mSeq\u001b[39m(r1 = \u001b[33mStar\u001b[39m(r = \u001b[33mAtom\u001b[39m(s = \u001b[32m\"world\"\u001b[39m)), r2 = \u001b[33mAtom\u001b[39m(s = \u001b[32m\"water\"\u001b[39m))\n",
       "\u001b[36me12\u001b[39m: \u001b[32mOr\u001b[39m = \u001b[33mOr\u001b[39m(\n",
       "  r1 = \u001b[33mSeq\u001b[39m(\n",
       "    r1 = \u001b[33mSeq\u001b[39m(r1 = \u001b[33mAtom\u001b[39m(s = \u001b[32m\"orld\"\u001b[39m), r2 = \u001b[33mStar\u001b[39m(r = \u001b[33mAtom\u001b[39m(s = \u001b[32m\"world\"\u001b[39m))),\n",
       "    r2 = \u001b[33mAtom\u001b[39m(s = \u001b[32m\"water\"\u001b[39m)\n",
       "  ),\n",
       "  r2 = \u001b[33mAtom\u001b[39m(s = \u001b[32m\"ater\"\u001b[39m)\n",
       ")"
      ]
     },
     "execution_count": 12,
     "metadata": {},
     "output_type": "execute_result"
    }
   ],
   "source": [
    "// Test Seq\n",
    "val r10 = \"hello\" o \"world\"\n",
    "val e10: Regex = \"ello\" o \"world\"\n",
    "testWithMessage(delta(r10, 'h'), e10, \"#10\")\n",
    "testWithMessage(delta(r10, 'k'), Null o \"world\", \"#11\")\n",
    "\n",
    "val r11 = \"\" o \"world\"\n",
    "val e11 = (Null o \"world\") | \"orld\"\n",
    "testWithMessage(delta(r11, 'w'), e11, \"#12\")\n",
    "\n",
    "val r12 = Star(\"world\") o \"water\"\n",
    "val e12 = ((\"orld\" o Star(\"world\")) o \"water\") | \"ater\"\n",
    "testWithMessage(delta(r12,'w'), e12, \"#13\")\n",
    "passed(5)\n"
   ]
  },
  {
   "cell_type": "markdown",
   "id": "41480684",
   "metadata": {
    "deletable": false,
    "editable": false,
    "nbgrader": {
     "cell_type": "markdown",
     "checksum": "109f4e2a79b36f2ac9b22f1d0882f059",
     "grade": false,
     "grade_id": "cell-433e4c0c8d5c8658",
     "locked": true,
     "schema_version": 3,
     "solution": false,
     "task": false
    }
   },
   "source": [
    "We are now ready to implement our regular expression matcher. You are given  a regex `r` and a string `s`. We wish to know if the entire string `s` matches `r`. We do the following: \n",
    "\n",
    "  1. Start with initial regex `r`\n",
    "  2. Iterate through each character `c` of the string:\n",
    "     - compute derivative $\\delta(r, c)$, call the result $r'$.\n",
    "     - assign $r'' = \\sNull(r')$ and update $r$ to equal $r''$.\n",
    "  3. If at the end of the string, $\\acc(r)$ is true then we have a match, else we do not have a match.\n",
    "\n",
    "Here is a loopy version for your reference."
   ]
  },
  {
   "cell_type": "code",
   "execution_count": 13,
   "id": "8cf354eb",
   "metadata": {
    "deletable": false,
    "editable": false,
    "nbgrader": {
     "cell_type": "code",
     "checksum": "b6ff8c4d4d55d17d10ccab7a485de71d",
     "grade": false,
     "grade_id": "cell-78305a22f64f5a99",
     "locked": true,
     "schema_version": 3,
     "solution": false,
     "task": false
    }
   },
   "outputs": [
    {
     "data": {
      "text/plain": [
       "defined \u001b[32mfunction\u001b[39m \u001b[36mmatch_loop\u001b[39m"
      ]
     },
     "execution_count": 13,
     "metadata": {},
     "output_type": "execute_result"
    }
   ],
   "source": [
    "def match_loop(r0: Regex, s: String) : Boolean = {\n",
    "    var r = r0\n",
    "    for (c <- s) { // Iterate through the string\n",
    "        r  = simplifyNull(delta(r, c))\n",
    "    }\n",
    "    accepts(r)\n",
    "}"
   ]
  },
  {
   "cell_type": "code",
   "execution_count": 14,
   "id": "436f78ca",
   "metadata": {
    "deletable": false,
    "editable": false,
    "nbgrader": {
     "cell_type": "code",
     "checksum": "11a96d247248676478f96d9e11e63afc",
     "grade": false,
     "grade_id": "cell-58a62d30002e9bd1",
     "locked": true,
     "schema_version": 3,
     "solution": false,
     "task": false
    }
   },
   "outputs": [
    {
     "name": "stdout",
     "output_type": "stream",
     "text": [
      "1 -> true\n",
      "2 -> false\n",
      "3 -> true\n",
      "4 -> false\n",
      "5 -> true\n",
      "6 -> true\n",
      "7 -> true\n",
      "8 ->true\n"
     ]
    },
    {
     "data": {
      "text/plain": [
       "\u001b[36mr12\u001b[39m: \u001b[32mSeq\u001b[39m = \u001b[33mSeq\u001b[39m(r1 = \u001b[33mStar\u001b[39m(r = \u001b[33mAtom\u001b[39m(s = \u001b[32m\"world\"\u001b[39m)), r2 = \u001b[33mAtom\u001b[39m(s = \u001b[32m\"water\"\u001b[39m))\n",
       "\u001b[36mr13\u001b[39m: \u001b[32mOr\u001b[39m = \u001b[33mOr\u001b[39m(\n",
       "  r1 = \u001b[33mStar\u001b[39m(r = \u001b[33mSeq\u001b[39m(r1 = \u001b[33mAtom\u001b[39m(s = \u001b[32m\"x\"\u001b[39m), r2 = \u001b[33mStar\u001b[39m(r = \u001b[33mAtom\u001b[39m(s = \u001b[32m\"_yellow\"\u001b[39m)))),\n",
       "  r2 = \u001b[33mAtom\u001b[39m(s = \u001b[32m\"_white\"\u001b[39m)\n",
       ")\n",
       "\u001b[36mr14\u001b[39m: \u001b[32mStar\u001b[39m = \u001b[33mStar\u001b[39m(\n",
       "  r = \u001b[33mOr\u001b[39m(\n",
       "    r1 = \u001b[33mStar\u001b[39m(r = \u001b[33mSeq\u001b[39m(r1 = \u001b[33mAtom\u001b[39m(s = \u001b[32m\"x\"\u001b[39m), r2 = \u001b[33mStar\u001b[39m(r = \u001b[33mAtom\u001b[39m(s = \u001b[32m\"_yellow\"\u001b[39m)))),\n",
       "    r2 = \u001b[33mAtom\u001b[39m(s = \u001b[32m\"_white\"\u001b[39m)\n",
       "  )\n",
       ")"
      ]
     },
     "execution_count": 14,
     "metadata": {},
     "output_type": "execute_result"
    }
   ],
   "source": [
    "val r12 = Star(\"world\") o \"water\"\n",
    "println(\"1 -> \"+ match_loop(r12, \"worldworldwater\"))\n",
    "println(\"2 -> \"+match_loop(r12, \"worldwaterwater\"))\n",
    "println(\"3 -> \"+match_loop(r12, \"water\"))\n",
    "println(\"4 -> \"+match_loop(r12, \"waterworldworld\"))\n",
    "\n",
    "val r13 = (\"x\" o (\"_yellow\").star).star | (\"_white\")\n",
    "println(\"5 -> \"+match_loop(r13, \"x\"))\n",
    "println(\"6 -> \"+match_loop(r13, \"x_yellow_yellowx_yellow_yellow_yellowxxxxx\"))\n",
    "println(\"7 -> \"+match_loop(r13, \"_white\"))\n",
    "\n",
    "val r14 = r13.star\n",
    "println(\"8 ->\" +  match_loop(r14,\"x_yellow_whitex_yellow_yellow_whitexxxx_yellow_whitex\"))\n"
   ]
  },
  {
   "cell_type": "markdown",
   "id": "16532431",
   "metadata": {
    "deletable": false,
    "editable": false,
    "nbgrader": {
     "cell_type": "markdown",
     "checksum": "c6095e34643944cb3f280801e5eec8df",
     "grade": false,
     "grade_id": "cell-a3fe84c69520c836",
     "locked": true,
     "schema_version": 3,
     "solution": false,
     "task": false
    }
   },
   "source": [
    "Just like lists, scala String API has fold operation (see example below). Use fold left instead of loop to match a string to a regex."
   ]
  },
  {
   "cell_type": "code",
   "execution_count": 15,
   "id": "db26ec3a",
   "metadata": {},
   "outputs": [
    {
     "data": {
      "text/plain": [
       "\u001b[36mstr\u001b[39m: \u001b[32mString\u001b[39m = \u001b[32m\"Hello\"\u001b[39m\n",
       "\u001b[36mcount_num_l\u001b[39m: \u001b[32mInt\u001b[39m = \u001b[32m2\u001b[39m"
      ]
     },
     "execution_count": 15,
     "metadata": {},
     "output_type": "execute_result"
    }
   ],
   "source": [
    "val str = \"Hello\"\n",
    "\n",
    "val count_num_l = str.foldLeft[Int] (0) { \n",
    "    case (acc, char) => if (char == 'l') { acc + 1 } else { acc }\n",
    "}\n",
    "\n"
   ]
  },
  {
   "cell_type": "code",
   "execution_count": 16,
   "id": "0f133053",
   "metadata": {
    "deletable": false,
    "nbgrader": {
     "cell_type": "code",
     "checksum": "65b08c3b9d6cf7dac2d88e68d4f8e9c5",
     "grade": false,
     "grade_id": "cell-674437523ce86666",
     "locked": false,
     "schema_version": 3,
     "solution": true,
     "task": false
    }
   },
   "outputs": [
    {
     "data": {
      "text/plain": [
       "defined \u001b[32mfunction\u001b[39m \u001b[36mfold_match\u001b[39m"
      ]
     },
     "execution_count": 16,
     "metadata": {},
     "output_type": "execute_result"
    }
   ],
   "source": [
    "/* Restriction: Code has to use foldLeft on string -- \n",
    "   no vars and loops allowed */\n",
    "\n",
    "def fold_match(r: Regex, s: String) : Boolean = {\n",
    "   val store = s.foldLeft(r)\n",
    "    {\n",
    "        case (e1, c) => simplifyNull(delta(e1, c))\n",
    "    }\n",
    "     accepts(store)\n",
    "}\n"
   ]
  },
  {
   "cell_type": "code",
   "execution_count": 17,
   "id": "b52c5a39",
   "metadata": {
    "deletable": false,
    "editable": false,
    "nbgrader": {
     "cell_type": "code",
     "checksum": "2a6b1b32840a92a9fe797c0dbc6be0c3",
     "grade": true,
     "grade_id": "cell-585c84cca0775e21",
     "locked": true,
     "points": 5,
     "schema_version": 3,
     "solution": false,
     "task": false
    }
   },
   "outputs": [
    {
     "name": "stdout",
     "output_type": "stream",
     "text": [
      "Test #1\n",
      "\t Your code returned: true, Expected: true\n",
      "\t Passed!\n",
      "Test #2\n",
      "\t Your code returned: false, Expected: false\n",
      "\t Passed!\n",
      "Test #3\n",
      "\t Your code returned: true, Expected: true\n",
      "\t Passed!\n",
      "Test #4\n",
      "\t Your code returned: false, Expected: false\n",
      "\t Passed!\n",
      "Test #5\n",
      "\t Your code returned: true, Expected: true\n",
      "\t Passed!\n",
      "Test #6\n",
      "\t Your code returned: true, Expected: true\n",
      "\t Passed!\n",
      "Test #7\n",
      "\t Your code returned: true, Expected: true\n",
      "\t Passed!\n",
      "Test #8\n",
      "\t Your code returned: true, Expected: true\n",
      "\t Passed!\n",
      "\n",
      "*** Tests Passed (10 points) ***\n"
     ]
    },
    {
     "data": {
      "text/plain": [
       "\u001b[36mr12\u001b[39m: \u001b[32mSeq\u001b[39m = \u001b[33mSeq\u001b[39m(r1 = \u001b[33mStar\u001b[39m(r = \u001b[33mAtom\u001b[39m(s = \u001b[32m\"world\"\u001b[39m)), r2 = \u001b[33mAtom\u001b[39m(s = \u001b[32m\"water\"\u001b[39m))\n",
       "\u001b[36mr13\u001b[39m: \u001b[32mOr\u001b[39m = \u001b[33mOr\u001b[39m(\n",
       "  r1 = \u001b[33mStar\u001b[39m(r = \u001b[33mSeq\u001b[39m(r1 = \u001b[33mAtom\u001b[39m(s = \u001b[32m\"x\"\u001b[39m), r2 = \u001b[33mStar\u001b[39m(r = \u001b[33mAtom\u001b[39m(s = \u001b[32m\"_yellow\"\u001b[39m)))),\n",
       "  r2 = \u001b[33mAtom\u001b[39m(s = \u001b[32m\"_white\"\u001b[39m)\n",
       ")\n",
       "\u001b[36mr14\u001b[39m: \u001b[32mStar\u001b[39m = \u001b[33mStar\u001b[39m(\n",
       "  r = \u001b[33mOr\u001b[39m(\n",
       "    r1 = \u001b[33mStar\u001b[39m(r = \u001b[33mSeq\u001b[39m(r1 = \u001b[33mAtom\u001b[39m(s = \u001b[32m\"x\"\u001b[39m), r2 = \u001b[33mStar\u001b[39m(r = \u001b[33mAtom\u001b[39m(s = \u001b[32m\"_yellow\"\u001b[39m)))),\n",
       "    r2 = \u001b[33mAtom\u001b[39m(s = \u001b[32m\"_white\"\u001b[39m)\n",
       "  )\n",
       ")"
      ]
     },
     "execution_count": 17,
     "metadata": {},
     "output_type": "execute_result"
    }
   ],
   "source": [
    "val r12 = Star(\"world\") o \"water\"\n",
    "testWithMessage( fold_match(r12, \"worldworldwater\"), match_loop(r12, \"worldworldwater\"), \"#1\")\n",
    "testWithMessage( fold_match(r12, \"worldwaterwater\"), match_loop(r12, \"worldwaterwater\"), \"#2\")\n",
    "testWithMessage( fold_match(r12, \"water\"), match_loop(r12, \"water\"), \"#3\")\n",
    "testWithMessage(fold_match(r12, \"waterworldworld\"), match_loop(r12, \"waterworldworld\"), \"#4\")\n",
    "\n",
    "val r13 = (\"x\" o (\"_yellow\").star).star | (\"_white\")\n",
    "testWithMessage(fold_match(r13,\"x\"), match_loop(r13, \"x\"), \"#5\")\n",
    "testWithMessage(fold_match(r13, \"x_yellow_yellowx_yellow_yellow_yellowxxxxx\"),\n",
    "                match_loop(r13, \"x_yellow_yellowx_yellow_yellow_yellowxxxxx\"),\n",
    "                \"#6\")\n",
    "testWithMessage(fold_match(r13, \"_white\"), match_loop(r13, \"_white\"), \"#7\")\n",
    "\n",
    "val r14 = r13.star\n",
    "testWithMessage( fold_match(r14,\"x_yellow_whitex_yellow_yellow_whitexxxx_yellow_whitex\"),\n",
    "                match_loop(r14,\"x_yellow_whitex_yellow_yellow_whitexxxx_yellow_whitex\"), \"#8\")\n",
    "\n",
    "passed(10)"
   ]
  },
  {
   "cell_type": "markdown",
   "id": "b368abdb",
   "metadata": {
    "deletable": false,
    "editable": false,
    "nbgrader": {
     "cell_type": "markdown",
     "checksum": "9b22298d1af58700c78ef62370388288",
     "grade": false,
     "grade_id": "cell-fae5906f6dcd719f",
     "locked": true,
     "schema_version": 3,
     "solution": false,
     "task": false
    }
   },
   "source": [
    "Congratulations! You have now implemented a fairly decent regex matcher using functional programming principles. We will eliminate the use of recursion later in this course using continuations and trampolines. "
   ]
  },
  {
   "cell_type": "markdown",
   "id": "3e6c9b40",
   "metadata": {
    "deletable": false,
    "editable": false,
    "nbgrader": {
     "cell_type": "markdown",
     "checksum": "b6794df7896727c549b805584ad10ca7",
     "grade": false,
     "grade_id": "cell-1c25ff5512e1304b",
     "locked": true,
     "schema_version": 3,
     "solution": false,
     "task": false
    }
   },
   "source": [
    "## Problem 2: map, filter, reduce on containers (20 points)\n",
    "\n",
    "Solve the problems using a combination of map, filter and foldLeft/foldRight opertions over lists. The use of mutables, recursion, For/While loops is forbidden for this problem."
   ]
  },
  {
   "cell_type": "markdown",
   "id": "cc5fff21",
   "metadata": {
    "deletable": false,
    "editable": false,
    "nbgrader": {
     "cell_type": "markdown",
     "checksum": "6cb9a7e94caf3881d8a990f2a1ebcf1d",
     "grade": false,
     "grade_id": "cell-57eb1b5c1720b797",
     "locked": true,
     "schema_version": 3,
     "solution": false
    }
   },
   "source": [
    "\n",
    "### 2A (5 points): Compute the dot-product of two lists of numbers.\n",
    "Write a function `computeDotProduct` that takes two lists `lstA` and `lstB` of double precision numbers. The lists are given to be the same size. You need to compute the dot product. \n",
    "\n",
    "$$(a_0, \\ldots, a_n) \\cdot (b_0, \\ldots, b_n) = \\sum_{j=0}^n a_j b_j $$.\n",
    "\n",
    "List API functions that you are allowed to use: `zip`,  `map`, `filter`, `foldLeft`, and `sum`. You can look the list API documentation for scala to find out more about these functions. Post/Search on piazza if you are unsure. You are __not__ allowed to use __var__, any kind of loops or recursion."
   ]
  },
  {
   "cell_type": "code",
   "execution_count": 18,
   "id": "63400946",
   "metadata": {
    "deletable": false,
    "nbgrader": {
     "cell_type": "code",
     "checksum": "12ca97caf6b8572e85b05e30b803cd7d",
     "grade": false,
     "grade_id": "cell-d07d79524c90fd4e",
     "locked": false,
     "schema_version": 3,
     "solution": true,
     "task": false
    }
   },
   "outputs": [
    {
     "data": {
      "text/plain": [
       "defined \u001b[32mfunction\u001b[39m \u001b[36mdotProduct\u001b[39m"
      ]
     },
     "execution_count": 18,
     "metadata": {},
     "output_type": "execute_result"
    }
   ],
   "source": [
    "def dotProduct(lstA: List[Double], lstB: List[Double]): Double =\n",
    "    \n",
    "    {\n",
    "        require(lstA.length == lstB.length)\n",
    "        // YOUR CODE HERE\n",
    "        val lst1 = lstA.zip(lstB)\n",
    "            .map{\n",
    "                case num:(Double,Double) => {num._1 * num._2}\n",
    "            }\n",
    "            .sum\n",
    "        \n",
    "        return lst1\n",
    "    }\n",
    "// val a = dotProduct(List(1.1,2.0), List(3.0, 4.2))\n",
    "// a"
   ]
  },
  {
   "cell_type": "code",
   "execution_count": 19,
   "id": "33b1d1d9",
   "metadata": {
    "deletable": false,
    "editable": false,
    "nbgrader": {
     "cell_type": "code",
     "checksum": "c6af33538d5a04be01cc2e263c4b3592",
     "grade": true,
     "grade_id": "cell-054acf67575fc99c",
     "locked": true,
     "points": 5,
     "schema_version": 3,
     "solution": false
    }
   },
   "outputs": [
    {
     "name": "stdout",
     "output_type": "stream",
     "text": [
      "\n",
      "*** Tests Passed (5 points) ***\n"
     ]
    },
    {
     "data": {
      "text/plain": [
       "\u001b[36mt1\u001b[39m: \u001b[32mDouble\u001b[39m = \u001b[32m11.700000000000001\u001b[39m\n",
       "\u001b[36mt2\u001b[39m: \u001b[32mDouble\u001b[39m = \u001b[32m2.2\u001b[39m\n",
       "\u001b[36mt3\u001b[39m: \u001b[32mDouble\u001b[39m = \u001b[32m0.0\u001b[39m\n",
       "\u001b[36mt4\u001b[39m: \u001b[32mDouble\u001b[39m = \u001b[32m0.0\u001b[39m"
      ]
     },
     "execution_count": 19,
     "metadata": {},
     "output_type": "execute_result"
    }
   ],
   "source": [
    "// BEGIN TEST\n",
    "\n",
    "val t1 = dotProduct(List(1.1,2.0), List(3.0, 4.2))\n",
    "assert(math.abs(t1 - 11.7)<= 1E-08, \"Test 1 failed\")\n",
    "\n",
    "val t2 = dotProduct(List(1.1), List(2.0))\n",
    "assert(math.abs(t2 - 2.2)<= 1E-08, \"Test 2 failed\")\n",
    "\n",
    "val t3 = dotProduct(List(), List())\n",
    "assert(math.abs(t3)<= 1E-08, \"Test 3 failed\")\n",
    "\n",
    "val t4 = dotProduct(List(1.5, 0.0, 2.3, -1.1, 0.0), List(0.0, 4.5, 1.1, 2.3, 5.0))\n",
    "assert(math.abs(t4) <= 1E-08, \"Test 4 failed\")\n",
    "\n",
    "passed(5)\n",
    "// END TEST"
   ]
  },
  {
   "cell_type": "markdown",
   "id": "c3a65599",
   "metadata": {
    "deletable": false,
    "editable": false,
    "nbgrader": {
     "cell_type": "markdown",
     "checksum": "4a0f0542c1570a02e94b0739c65140b4",
     "grade": false,
     "grade_id": "cell-cce284d399573f50",
     "locked": true,
     "schema_version": 3,
     "solution": false
    }
   },
   "source": [
    "### 2B (5 points): LCM of all Denominators.\n",
    "\n",
    "You are given a list of pairs of integers that are supposed to represent fractions. You can assume that all fractions are positive and already in their lowest terms. This problem asks you to compute the LCM of the denominators.\n",
    "\n",
    "Eg., Input: `List((1,2), (3,4), (8,9), (15,24))`\n",
    "The denominators are `2, 4, 9, 24` and their LCM is `72`, which is the answer your function should return.\n",
    "\n",
    "For the empty list as input, your code must return the answer 1.\n",
    "\n",
    "You should assume that all the denominators are positive.\n",
    "\n",
    "You are allowed to use the provided `lcm` function that computes LCM of two numbers, `map`, `filter`, `foldLeft`, and `foldRight`. No __var__, no loops and no recursive calls other than the call made for LCM.\n"
   ]
  },
  {
   "cell_type": "code",
   "execution_count": 20,
   "id": "1726203d",
   "metadata": {
    "deletable": false,
    "nbgrader": {
     "cell_type": "code",
     "checksum": "093eb92563d1ca2af05011bf42598bb4",
     "grade": false,
     "grade_id": "cell-332c55ac9d70c435",
     "locked": false,
     "schema_version": 3,
     "solution": true
    }
   },
   "outputs": [
    {
     "data": {
      "text/plain": [
       "\u001b[32mimport \u001b[39m\u001b[36mscala.annotation._\n",
       "\n",
       "\u001b[39m\n",
       "defined \u001b[32mfunction\u001b[39m \u001b[36mlcm\u001b[39m\n",
       "defined \u001b[32mfunction\u001b[39m \u001b[36mlcmOfDenominators\u001b[39m"
      ]
     },
     "execution_count": 20,
     "metadata": {},
     "output_type": "execute_result"
    }
   ],
   "source": [
    "import scala.annotation._\n",
    "\n",
    "@tailrec\n",
    "private def gcd(a: Int, b: Int):Int=if (b==0) a.abs else gcd(b, a%b)\n",
    "\n",
    "def lcm(a: Int, b: Int)=(a*b).abs/gcd(a,b)\n",
    "\n",
    "def lcmOfDenominators(lst: List[(Int, Int)]): Int = {\n",
    "    // YOUR CODE HERE\n",
    "    val lst1 = lst.map {\n",
    "        case num:(Int, Int) =>(num._2)\n",
    "    }\n",
    "    lst1.foldLeft(1)(lcm)\n",
    "}"
   ]
  },
  {
   "cell_type": "code",
   "execution_count": 21,
   "id": "44281d83",
   "metadata": {
    "deletable": false,
    "editable": false,
    "nbgrader": {
     "cell_type": "code",
     "checksum": "c0fe18e38b28d08dfc5a9107401ec2fd",
     "grade": true,
     "grade_id": "cell-b37de6cd26982543",
     "locked": true,
     "points": 5,
     "schema_version": 3,
     "solution": false
    }
   },
   "outputs": [
    {
     "name": "stdout",
     "output_type": "stream",
     "text": [
      "\n",
      "*** Tests Passed (5 points) ***\n"
     ]
    },
    {
     "data": {
      "text/plain": [
       "\u001b[36mi1\u001b[39m: \u001b[32mInt\u001b[39m = \u001b[32m36\u001b[39m\n",
       "\u001b[36mi2\u001b[39m: \u001b[32mInt\u001b[39m = \u001b[32m1\u001b[39m\n",
       "\u001b[36mi3\u001b[39m: \u001b[32mInt\u001b[39m = \u001b[32m45\u001b[39m"
      ]
     },
     "execution_count": 21,
     "metadata": {},
     "output_type": "execute_result"
    }
   ],
   "source": [
    "// BEGIN TEST\n",
    "val i1 = lcmOfDenominators(List((1,2), (3,4), (5,6),(8,9), (11,12)))\n",
    "assert(i1 == 36, s\"Test 1 failed -- expected answer is 36, you got $i1\")\n",
    "val i2 = lcmOfDenominators(List())\n",
    "assert(i2 == 1, s\"Test 2 failed -- empty list must trivially have lcm of 1\")\n",
    "val i3 = lcmOfDenominators(List((4,5),(5,9),(18,15)))\n",
    "assert(i3 == 45, s\"Test 2 failed -- your answer is $i3\")\n",
    "passed(5)\n",
    "// END TEST"
   ]
  },
  {
   "cell_type": "markdown",
   "id": "4fce9dd9",
   "metadata": {
    "deletable": false,
    "editable": false,
    "nbgrader": {
     "cell_type": "markdown",
     "checksum": "3e5d394c6dd037f142e2c1ae0ebc03b2",
     "grade": false,
     "grade_id": "cell-1de14d7f940a930f",
     "locked": true,
     "schema_version": 3,
     "solution": false
    }
   },
   "source": [
    "### 2C (10 points): Convert a list into an indexed list.\n",
    "\n",
    "Write a function to convert a list of strings into an indexed list of strings.  Indices start at 0.\n",
    "As an example:\n",
    "\n",
    "__Input__ List(\"hello\", \"world\", \"my\", \"cat\", \"is\", \"grumpy\", \"today\")\n",
    "\n",
    "__Output__  List( (0, \"hello\"), (1, \"world\"), (2, \"my\"), (3,\"cat\"), (4, \"is\"), (5, \"grumpy\"), (6,\"today\") )\n",
    "\n",
    "\n",
    "You are allowed to use just the basic list operatios such as cons of an element to a list (::) and concatenation of two lists (++, or ::: operators). List API functions `reverse`, `map`, `filter`, `foldLeft` and `foldRight` but not other list API functions. Do not use __var__, __loops__ or __recursion__. Use of `zipWithIndex` or other API functions  is forbidden."
   ]
  },
  {
   "cell_type": "code",
   "execution_count": 22,
   "id": "417fb8f6",
   "metadata": {
    "deletable": false,
    "nbgrader": {
     "cell_type": "code",
     "checksum": "313b192f5f4595b29d1122ecc07bdf69",
     "grade": false,
     "grade_id": "cell-0c984f492b25b8b4",
     "locked": false,
     "schema_version": 3,
     "solution": true
    }
   },
   "outputs": [
    {
     "data": {
      "text/plain": [
       "defined \u001b[32mfunction\u001b[39m \u001b[36mmakeIndexedList\u001b[39m"
      ]
     },
     "execution_count": 22,
     "metadata": {},
     "output_type": "execute_result"
    }
   ],
   "source": [
    "def makeIndexedList(lst:List[String]): List[(Int, String)] = {\n",
    "    // YOUR CODE HERE\n",
    "\n",
    "    lst.foldLeft(0, List[(Int, String)]())\n",
    "    {\n",
    "       case ((num, nList), s)  => (num+1, nList :+(num, s))\n",
    "    }._2\n",
    "    \n",
    "    \n",
    "}"
   ]
  },
  {
   "cell_type": "code",
   "execution_count": 23,
   "id": "ee17d7c8",
   "metadata": {
    "deletable": false,
    "editable": false,
    "nbgrader": {
     "cell_type": "code",
     "checksum": "afa67c8ba194452b4ff80acd4dcee38b",
     "grade": true,
     "grade_id": "cell-8c49d31044f1e0ae",
     "locked": true,
     "points": 10,
     "schema_version": 3,
     "solution": false
    }
   },
   "outputs": [
    {
     "name": "stdout",
     "output_type": "stream",
     "text": [
      "\n",
      "*** Tests Passed (10 points) ***\n"
     ]
    },
    {
     "data": {
      "text/plain": [
       "\u001b[36mt1\u001b[39m: \u001b[32mList\u001b[39m[(\u001b[32mInt\u001b[39m, \u001b[32mString\u001b[39m)] = \u001b[33mList\u001b[39m((\u001b[32m0\u001b[39m, \u001b[32m\"hello\"\u001b[39m))\n",
       "\u001b[36mt2\u001b[39m: \u001b[32mList\u001b[39m[(\u001b[32mInt\u001b[39m, \u001b[32mString\u001b[39m)] = \u001b[33mList\u001b[39m((\u001b[32m0\u001b[39m, \u001b[32m\"hello\"\u001b[39m), (\u001b[32m1\u001b[39m, \u001b[32m\"world\"\u001b[39m))\n",
       "\u001b[36mt3\u001b[39m: \u001b[32mList\u001b[39m[(\u001b[32mInt\u001b[39m, \u001b[32mString\u001b[39m)] = \u001b[33mList\u001b[39m()\n",
       "\u001b[36mt4\u001b[39m: \u001b[32mList\u001b[39m[(\u001b[32mInt\u001b[39m, \u001b[32mString\u001b[39m)] = \u001b[33mList\u001b[39m((\u001b[32m0\u001b[39m, \u001b[32m\"a\"\u001b[39m), (\u001b[32m1\u001b[39m, \u001b[32m\"b\"\u001b[39m), (\u001b[32m2\u001b[39m, \u001b[32m\"c\"\u001b[39m), (\u001b[32m3\u001b[39m, \u001b[32m\"d\"\u001b[39m), (\u001b[32m4\u001b[39m, \u001b[32m\"e\"\u001b[39m))"
      ]
     },
     "execution_count": 23,
     "metadata": {},
     "output_type": "execute_result"
    }
   ],
   "source": [
    "// BEGIN TEST\n",
    "val t1 = makeIndexedList(List(\"hello\"))\n",
    "assert(t1 == List((0,\"hello\")), s\"Test 1 failed - your code returned $t1\")\n",
    "\n",
    "val t2 = makeIndexedList(List(\"hello\", \"world\"))\n",
    "assert(t2 == List((0,\"hello\"), (1, \"world\")), s\"Test 2 failed - your code returned $t2\")\n",
    "\n",
    "val t3 = makeIndexedList(Nil)\n",
    "assert(t3 == Nil, s\"Test 3 failed - your code returned $t3\")\n",
    "\n",
    "val t4 = makeIndexedList(List(\"a\",\"b\",\"c\",\"d\",\"e\"))\n",
    "assert(t4 == List((0,\"a\"), (1,\"b\"), (2,\"c\"), (3,\"d\"), (4,\"e\")), s\"Test 4 failed - your code returned $t4\")\n",
    "\n",
    "passed(10)\n",
    "// END TEST"
   ]
  },
  {
   "cell_type": "markdown",
   "id": "525e2beb",
   "metadata": {
    "deletable": false,
    "editable": false,
    "nbgrader": {
     "cell_type": "markdown",
     "checksum": "8bf705e2de71e43cfc8e5bdd69cbcf68",
     "grade": false,
     "grade_id": "cell-7e1d531affd2434a",
     "locked": true,
     "schema_version": 3,
     "solution": false,
     "task": false
    }
   },
   "source": [
    "## That's All Folks!"
   ]
  }
 ],
 "metadata": {
  "kernelspec": {
   "display_name": "Scala",
   "language": "scala",
   "name": "scala"
  },
  "language_info": {
   "codemirror_mode": "text/x-scala",
   "file_extension": ".sc",
   "mimetype": "text/x-scala",
   "name": "scala",
   "nbconvert_exporter": "script",
   "version": "2.13.10"
  }
 },
 "nbformat": 4,
 "nbformat_minor": 5
}
