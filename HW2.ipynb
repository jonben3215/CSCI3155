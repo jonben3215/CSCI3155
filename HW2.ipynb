{
 "cells": [
  {
   "cell_type": "markdown",
   "id": "popular-afghanistan",
   "metadata": {},
   "source": [
    "Before you turn this problem in, make sure everything runs as expected. First, **restart the kernel** (in the menubar, select Kernel$\\rightarrow$Restart) and then **run all cells** (in the menubar, select Cell$\\rightarrow$Run All).\n",
    "\n",
    "Make sure you fill in any place that says `???` or \"YOUR ANSWER HERE\"."
   ]
  },
  {
   "cell_type": "markdown",
   "id": "advised-presentation",
   "metadata": {},
   "source": [
    "---"
   ]
  },
  {
   "cell_type": "markdown",
   "id": "f91921b5",
   "metadata": {
    "deletable": false,
    "editable": false,
    "nbgrader": {
     "cell_type": "markdown",
     "checksum": "5b2c7313833f1c60f8bef95bd327837b",
     "grade": false,
     "grade_id": "cell-9a0dcde249e20581",
     "locked": true,
     "schema_version": 3,
     "solution": false,
     "task": false
    }
   },
   "source": [
    "# CSCI 3155 Assignment 2 : Recursion and Tail Recursion\n",
    "\n",
    "This assignment asks you to write scala programs. \n",
    "\n",
    "**Restrictions** apply to each problem in terms of forbidden Scala features and API functions. Please read them carefully and ask for clarifications from the course staff over Piazza or during office hours if unsure.\n",
    "\n",
    "Note: `???` indicates that there is a missing function or code fragment that needs to be filled in. In scala, \n",
    "it is also a macro that throws a `NotImplemented` exception. Make sure that you remove the `???` and replace it with the answer. \n",
    "\n",
    "Use the test cases provided to test them. You are also encouraged to write your own test cases to help debug your work. However, please delete any extra cells you may have created lest they break our autograder.\n",
    "\n",
    "**Very Important:** Please run the cell that defines the functions `passed` and `testWithMessage` below whenever you restart the notebook."
   ]
  },
  {
   "cell_type": "markdown",
   "id": "9bc9c5a8",
   "metadata": {},
   "source": [
    "### YOUR NAME HERE"
   ]
  },
  {
   "cell_type": "code",
   "execution_count": 1,
   "id": "d4bf047a",
   "metadata": {
    "deletable": false,
    "editable": false,
    "nbgrader": {
     "cell_type": "code",
     "checksum": "82eccd2068b8150a0b901323e2cc75ea",
     "grade": false,
     "grade_id": "cell-df6a45f0c2ca07fa",
     "locked": true,
     "schema_version": 3,
     "solution": false,
     "task": false
    }
   },
   "outputs": [
    {
     "data": {
      "text/plain": [
       "defined \u001b[32mfunction\u001b[39m \u001b[36mpassed\u001b[39m\n",
       "defined \u001b[32mfunction\u001b[39m \u001b[36mtestWithMessage\u001b[39m"
      ]
     },
     "execution_count": 1,
     "metadata": {},
     "output_type": "execute_result"
    }
   ],
   "source": [
    "// TEST HELPER\n",
    "\n",
    "// FIRST RUN THIS CELL EVERY TIME YOU START THE NOTEBOOK\n",
    "def passed(points: Int) {\n",
    "    require(points >=0)\n",
    "    if (points == 1) print(s\"\\n*** Tests Passed (1 point) ***\\n\")\n",
    "    else print(s\"\\n*** Tests Passed ($points points) ***\\n\")\n",
    "}\n",
    "\n",
    "def testWithMessage[T](v1: T, expected: T, testID: String) = { \n",
    "    println(s\"Test $testID\"); \n",
    "    println(s\"\\t Expected: $expected, your code returned: $v1\")\n",
    "    assert (v1 == expected, s\"Test $testID FAILED.\")\n",
    "    println(\"\\t Passed!\")\n",
    "}"
   ]
  },
  {
   "cell_type": "markdown",
   "id": "3bb8682f",
   "metadata": {
    "deletable": false,
    "editable": false,
    "nbgrader": {
     "cell_type": "markdown",
     "checksum": "8bf37a0f36999d05274fec38e754757b",
     "grade": false,
     "grade_id": "cell-6dacb55d475bec66",
     "locked": true,
     "schema_version": 3,
     "solution": false,
     "task": false
    }
   },
   "source": [
    "## Problem 0 (10 points)\n",
    "\n",
    "Write a _tail recursive_ implementation of the function `findAllOddIndices` that given a list `List`($e_0, \\cdots, e_n$) returns a list of integers consisting of indices \n",
    "`List`($i_1, \\ldots, i_k$)  corresponding  to all the _odd number_ elements $e_{i_1}, \\ldots, e_{i_k}$ in the original list. Note that you must return a list in the increasing order of indices.\n",
    "\n",
    "**Restrictions**\n",
    "\n",
    "- Must be tail recursive.\n",
    "- Must not use any list operations/API functions other than the following:\n",
    "  - Cons (`::`)\n",
    "  - `length`, `head`, `tail`, `reverse`."
   ]
  },
  {
   "cell_type": "code",
   "execution_count": 2,
   "id": "d6db72c7",
   "metadata": {
    "deletable": false,
    "nbgrader": {
     "cell_type": "code",
     "checksum": "a41590b45cc0d90bd066049bb39e3049",
     "grade": false,
     "grade_id": "cell-c09fac6387b15cfc",
     "locked": false,
     "schema_version": 3,
     "solution": true,
     "task": false
    }
   },
   "outputs": [
    {
     "data": {
      "text/plain": [
       "\u001b[32mimport \u001b[39m\u001b[36mscala.annotation.tailrec\n",
       "\u001b[39m\n",
       "defined \u001b[32mfunction\u001b[39m \u001b[36mfindAllOddIndices\u001b[39m"
      ]
     },
     "execution_count": 2,
     "metadata": {},
     "output_type": "execute_result"
    }
   ],
   "source": [
    "import scala.annotation.tailrec\n",
    "@tailrec\n",
    "final def findAllOddIndices(lst: List[Int], i:Int = 0, rev_lst:List[Int] = Nil): List[Int] = \n",
    "{\n",
    "    if(lst == Nil)\n",
    "    {\n",
    "        return rev_lst.reverse;\n",
    "    }\n",
    "    else\n",
    "    {\n",
    "        val head_elt = lst.head;\n",
    "        if(head_elt % 2 != 0)\n",
    "        {\n",
    "            findAllOddIndices(lst.tail, i+1, i::rev_lst);\n",
    "        }\n",
    "        else\n",
    "        {\n",
    "            findAllOddIndices(lst.tail, i+1, rev_lst);\n",
    "        }\n",
    "    }\n",
    "} "
   ]
  },
  {
   "cell_type": "code",
   "execution_count": 3,
   "id": "b784b16c",
   "metadata": {
    "deletable": false,
    "editable": false,
    "nbgrader": {
     "cell_type": "code",
     "checksum": "0dd6016309da8785bb771a1086449356",
     "grade": true,
     "grade_id": "cell-98cf9955eb5c985e",
     "locked": true,
     "points": 10,
     "schema_version": 3,
     "solution": false,
     "task": false
    }
   },
   "outputs": [
    {
     "name": "stdout",
     "output_type": "stream",
     "text": [
      "Test #1 passed\n",
      "Test #2 passed\n",
      "Test #3 passed\n",
      "Test #4 passed\n",
      "Test #5 passed\n",
      "\n",
      "*** Tests Passed (10 points) ***\n"
     ]
    },
    {
     "data": {
      "text/plain": [
       "defined \u001b[32mfunction\u001b[39m \u001b[36mtestMsg\u001b[39m\n",
       "\u001b[36mlst1\u001b[39m: \u001b[32mList\u001b[39m[\u001b[32mInt\u001b[39m] = \u001b[33mList\u001b[39m(\u001b[32m0\u001b[39m, \u001b[32m5\u001b[39m, \u001b[32m2\u001b[39m, \u001b[32m1\u001b[39m, \u001b[32m3\u001b[39m, \u001b[32m4\u001b[39m, \u001b[32m7\u001b[39m)\n",
       "\u001b[36mlst1_expected\u001b[39m: \u001b[32mList\u001b[39m[\u001b[32mInt\u001b[39m] = \u001b[33mList\u001b[39m(\u001b[32m1\u001b[39m, \u001b[32m3\u001b[39m, \u001b[32m4\u001b[39m, \u001b[32m6\u001b[39m)\n",
       "\u001b[36mlst2\u001b[39m: \u001b[32mList\u001b[39m[\u001b[32mInt\u001b[39m] = \u001b[33mList\u001b[39m()\n",
       "\u001b[36mlst2_expected\u001b[39m: \u001b[32mList\u001b[39m[\u001b[32mInt\u001b[39m] = \u001b[33mList\u001b[39m()\n",
       "\u001b[36mlst3\u001b[39m: \u001b[32mList\u001b[39m[\u001b[32mInt\u001b[39m] = \u001b[33mList\u001b[39m(\u001b[32m0\u001b[39m, \u001b[32m2\u001b[39m, \u001b[32m4\u001b[39m, \u001b[32m6\u001b[39m, \u001b[32m8\u001b[39m, \u001b[32m10\u001b[39m, \u001b[32m12\u001b[39m, \u001b[32m14\u001b[39m, \u001b[32m16\u001b[39m)\n",
       "\u001b[36mlst3_expected\u001b[39m: \u001b[32mList\u001b[39m[\u001b[32mInt\u001b[39m] = \u001b[33mList\u001b[39m()\n",
       "\u001b[36mlst4\u001b[39m: \u001b[32mList\u001b[39m[\u001b[32mInt\u001b[39m] = \u001b[33mList\u001b[39m(\u001b[32m1\u001b[39m, \u001b[32m3\u001b[39m, \u001b[32m5\u001b[39m, \u001b[32m7\u001b[39m, \u001b[32m9\u001b[39m, \u001b[32m11\u001b[39m, \u001b[32m13\u001b[39m, \u001b[32m15\u001b[39m)\n",
       "\u001b[36mlst4_expected\u001b[39m: \u001b[32mList\u001b[39m[\u001b[32mInt\u001b[39m] = \u001b[33mList\u001b[39m(\u001b[32m0\u001b[39m, \u001b[32m1\u001b[39m, \u001b[32m2\u001b[39m, \u001b[32m3\u001b[39m, \u001b[32m4\u001b[39m, \u001b[32m5\u001b[39m, \u001b[32m6\u001b[39m, \u001b[32m7\u001b[39m)\n",
       "\u001b[36mlst5\u001b[39m: \u001b[32mList\u001b[39m[\u001b[32mInt\u001b[39m] = \u001b[33mList\u001b[39m(\u001b[32m0\u001b[39m, \u001b[32m0\u001b[39m, \u001b[32m0\u001b[39m, \u001b[32m0\u001b[39m, \u001b[32m0\u001b[39m, \u001b[32m-5\u001b[39m)\n",
       "\u001b[36mlst5_expected\u001b[39m: \u001b[32mList\u001b[39m[\u001b[32mInt\u001b[39m] = \u001b[33mList\u001b[39m(\u001b[32m5\u001b[39m)"
      ]
     },
     "execution_count": 3,
     "metadata": {},
     "output_type": "execute_result"
    }
   ],
   "source": [
    "def testMsg(lst: List[Int], lst_expected: List[Int], testName: String):Unit = {\n",
    "    val lst_ret = findAllOddIndices(lst) // Call the student's code\n",
    "    if (lst_ret == lst_expected){ // compare result against expected\n",
    "        println(s\"Test $testName passed\") // let the good times roll.\n",
    "    } else {\n",
    "        println(s\"Test $testName failed\") //oops..Houston, we have a problem.\n",
    "        println(s\"Input: ${lst}, Your code: ${lst_ret}, Expected: ${lst_expected}\")\n",
    "        assert(false, \"Assertion failed\")\n",
    "    }\n",
    "}\n",
    "\n",
    "val lst1 = List(0, 5, 2, 1, 3, 4, 7)\n",
    "val lst1_expected = List(1, 3, 4, 6)\n",
    "testMsg(lst1,  lst1_expected, \"#1\")\n",
    "\n",
    "val lst2: List[Int] = Nil\n",
    "val lst2_expected:List[Int] = Nil \n",
    "testMsg(lst2, lst2_expected, \"#2\")\n",
    "\n",
    "val lst3: List[Int] = List(0, 2, 4, 6, 8, 10, 12, 14, 16)\n",
    "val lst3_expected: List[Int] = Nil\n",
    "testMsg(lst3, lst3_expected, \"#3\")\n",
    "\n",
    "val lst4: List[Int] = List(1, 3, 5, 7, 9, 11, 13, 15)\n",
    "val lst4_expected: List[Int] = (0 until 8).toList\n",
    "testMsg(lst4, lst4_expected, \"#4\")\n",
    "\n",
    "val lst5: List[Int] = List(0, 0, 0, 0, 0, -5) // Sorry :-)\n",
    "val lst5_expected:List[Int] = List(5)\n",
    "testMsg(lst5, lst5_expected, \"#5\")\n",
    "\n",
    "passed(10)"
   ]
  },
  {
   "cell_type": "markdown",
   "id": "ebf7fcbd",
   "metadata": {
    "deletable": false,
    "editable": false,
    "nbgrader": {
     "cell_type": "markdown",
     "checksum": "ca342767841a61bfbafa6d3bf8a61733",
     "grade": false,
     "grade_id": "cell-fbf846514712d24a",
     "locked": true,
     "schema_version": 3,
     "solution": false,
     "task": false
    }
   },
   "source": [
    "## Problem 1 (15 points)\n",
    "\n",
    "### A (5 points) Recursively compute binary representation\n",
    "\n",
    "Write a function `convertToBinary` that inputs  a non-negative integer $n$, \n",
    "and returns its binary representation as a `String`. \n",
    "  - Use of var and loops forbidden. \n",
    "  - Inbuilt functions that directly perform conversion are also forbidden.\n",
    "  - Try a recursive solution but no need to make it tail recursive for this part.\n",
    "\n",
    "__Example:__ if input is 5, output should be \"101\".\n",
    "\n",
    "Use the following scheme:\n",
    "  - If number is 0 or 1, we can convert them into binary string \"0\" or \"1\", respectively.\n",
    "  - If input number `n` is odd, recursively convert `(n-1)/2` into binary and append a `1` to the end of the string returned.\n",
    "  - else  (input number `n` is even) convert `n/2` into binary and append `0` to end of the string returned.\n",
    "\n",
    "For your convenience we have provided an \"iterative solution\" that uses a while loop. But __your__ solution must conform to the restrictions above."
   ]
  },
  {
   "cell_type": "code",
   "execution_count": 4,
   "id": "ea328831",
   "metadata": {
    "deletable": false,
    "editable": false,
    "nbgrader": {
     "cell_type": "code",
     "checksum": "ab2f00f143ceb729b5244b914267e513",
     "grade": false,
     "grade_id": "cell-1126b59ebcf4ead7",
     "locked": true,
     "schema_version": 3,
     "solution": false,
     "task": false
    }
   },
   "outputs": [
    {
     "data": {
      "text/plain": [
       "defined \u001b[32mfunction\u001b[39m \u001b[36mconvertToBinaryLoop\u001b[39m"
      ]
     },
     "execution_count": 4,
     "metadata": {},
     "output_type": "execute_result"
    }
   ],
   "source": [
    "def convertToBinaryLoop(n0: Int): String = {\n",
    "    require(n0 >= 0)\n",
    "    var n:Int = n0\n",
    "    var str = \"\"\n",
    "    if (n == 0){\n",
    "        \"0\"\n",
    "    } else {\n",
    "        while (n > 0 ) {\n",
    "            val bit = n % 2 \n",
    "            str = bit.toString + str \n",
    "            n = n/2 // This is integer division\n",
    "        }\n",
    "        str\n",
    "    }\n",
    "}"
   ]
  },
  {
   "cell_type": "code",
   "execution_count": 5,
   "id": "74908216",
   "metadata": {
    "deletable": false,
    "editable": false,
    "nbgrader": {
     "cell_type": "code",
     "checksum": "46cd337816ae775eea9d2ea5ee9c61a1",
     "grade": false,
     "grade_id": "cell-e015968bed8feb20",
     "locked": true,
     "schema_version": 3,
     "solution": false,
     "task": false
    }
   },
   "outputs": [
    {
     "name": "stdout",
     "output_type": "stream",
     "text": [
      "0 in binary = 0\n",
      "1 in binary = 1\n",
      "5 in binary = 101\n",
      "10 in binary = 1010\n",
      "12 in binary = 1100\n",
      "19 in binary = 10011\n",
      "29 in binary = 11101\n",
      "51 in binary = 110011\n"
     ]
    }
   ],
   "source": [
    "println(s\"0 in binary = ${convertToBinaryLoop(0)}\")\n",
    "println(s\"1 in binary = ${convertToBinaryLoop(1)}\")\n",
    "println(s\"5 in binary = ${convertToBinaryLoop(5)}\")\n",
    "println(s\"10 in binary = ${convertToBinaryLoop(10)}\")\n",
    "println(s\"12 in binary = ${convertToBinaryLoop(12)}\")\n",
    "println(s\"19 in binary = ${convertToBinaryLoop(19)}\")\n",
    "println(s\"29 in binary = ${convertToBinaryLoop(29)}\")\n",
    "println(s\"51 in binary = ${convertToBinaryLoop(51)}\")"
   ]
  },
  {
   "cell_type": "code",
   "execution_count": 6,
   "id": "af8cf1d5",
   "metadata": {
    "deletable": false,
    "nbgrader": {
     "cell_type": "code",
     "checksum": "008794c54b4535859bd9d45f56264f85",
     "grade": false,
     "grade_id": "cell-b203e0766dddb81c",
     "locked": false,
     "schema_version": 3,
     "solution": true,
     "task": false
    }
   },
   "outputs": [
    {
     "data": {
      "text/plain": [
       "defined \u001b[32mfunction\u001b[39m \u001b[36mconvertToBinary\u001b[39m"
      ]
     },
     "execution_count": 6,
     "metadata": {},
     "output_type": "execute_result"
    }
   ],
   "source": [
    "// YOUR CODE HERE\n",
    "def convertToBinary(num: Int):String = \n",
    "{\n",
    "    if (num == 0)\n",
    "    {\n",
    "        return \"0\";\n",
    "    }\n",
    "    else if (num == 1)\n",
    "    {\n",
    "        return \"1\";\n",
    "    }\n",
    "    else\n",
    "    {\n",
    "        //formula for converting decmial to bianry: num % 2 + 10 * convertToBinary(num/2)\n",
    "        if(num %2 != 0)\n",
    "        {\n",
    "           val remain = (num-1)/2;\n",
    "            convertToBinary(remain) + \"1\";\n",
    "        }\n",
    "        else\n",
    "        {\n",
    "            val div = num/2;\n",
    "             convertToBinary(div) + \"0\";\n",
    "        }\n",
    "    }\n",
    "    \n",
    "}"
   ]
  },
  {
   "cell_type": "code",
   "execution_count": 7,
   "id": "983d6ccc",
   "metadata": {
    "deletable": false,
    "editable": false,
    "nbgrader": {
     "cell_type": "code",
     "checksum": "e7fd9f736600f519d90b61af2b1b3288",
     "grade": true,
     "grade_id": "cell-e185be4282235b2a",
     "locked": true,
     "points": 5,
     "schema_version": 3,
     "solution": false,
     "task": false
    }
   },
   "outputs": [
    {
     "name": "stdout",
     "output_type": "stream",
     "text": [
      "\n",
      "*** Tests Passed (5 points) ***\n"
     ]
    }
   ],
   "source": [
    "//BEGIN TEST\n",
    "assert(convertToBinary(1) == \"1\", \"(1)decimal must be 1 binary\")\n",
    "assert(convertToBinary(5) == \"101\", \"5 must be 101 binary\")\n",
    "assert(convertToBinary(11) == \"1011\", \"(11) must be 1011\")\n",
    "assert(convertToBinary(4100) == \"1000000000100\", \"(4100) must be 1000000000100\")\n",
    "assert(convertToBinary(30108100) == \"1110010110110100111000100\", \"(30108100) must be 1110010110110100111000100\")\n",
    "passed(5)\n",
    "//END TEST"
   ]
  },
  {
   "cell_type": "markdown",
   "id": "7a2e9227",
   "metadata": {
    "deletable": false,
    "editable": false,
    "nbgrader": {
     "cell_type": "markdown",
     "checksum": "04442ff90f1972ac22e799e999032396",
     "grade": false,
     "grade_id": "cell-12d5214e2a806a43",
     "locked": true,
     "schema_version": 3,
     "solution": false
    }
   },
   "source": [
    "### B ( 10 points) _Tail_ Recursive `convertToBinary`\n",
    "Now, write a tail recursive version of the `convertToBinary` function, called `convertToBinaryTail`. \n",
    "\n",
    "Your function should be tail recursive and takes in a single integer argument and returns a String. \n",
    "\n",
    "**Hint** You can have more arguments to your tail recursive function but make sure to give them a default value. Alternatively, you can make an explicit helper function. \n",
    "\n",
    "**Restrictions** \n",
    "\n",
    "Use of var and loops forbidden. Inbuilt functions that directly perform conversion are also forbidden. Must be tail recursive."
   ]
  },
  {
   "cell_type": "code",
   "execution_count": 8,
   "id": "569f02ef",
   "metadata": {
    "deletable": false,
    "nbgrader": {
     "cell_type": "code",
     "checksum": "ce44cd3e89437280167059550607e7b3",
     "grade": false,
     "grade_id": "cell-1411df4e4ec22bdc",
     "locked": false,
     "schema_version": 3,
     "solution": true,
     "task": false
    }
   },
   "outputs": [
    {
     "data": {
      "text/plain": [
       "\u001b[32mimport \u001b[39m\u001b[36mscala.annotation.tailrec\n",
       "\u001b[39m\n",
       "defined \u001b[32mfunction\u001b[39m \u001b[36mconvertToBinaryTail\u001b[39m"
      ]
     },
     "execution_count": 8,
     "metadata": {},
     "output_type": "execute_result"
    }
   ],
   "source": [
    "import scala.annotation.tailrec\n",
    "@tailrec\n",
    "final def convertToBinaryTail(num:Int, i:String = \"\"): String =\n",
    "{\n",
    "    if (num == 0)\n",
    "    {\n",
    "        return i +\"0\";\n",
    "    }\n",
    "    else if (num == 1)\n",
    "    {\n",
    "        return (i + \"1\").reverse;\n",
    "    }\n",
    "    else\n",
    "    {\n",
    "        //formula for converting decmial to bianry: num % 2 + 10 * convertToBinary(num/2)\n",
    "        if(num %2 != 0)\n",
    "        {\n",
    "            val remain = (num-1)/2;\n",
    "            convertToBinaryTail(remain, i + \"1\");\n",
    "        }\n",
    "        else\n",
    "        {\n",
    "             val div = num/2;\n",
    "             convertToBinaryTail(div, i + \"0\");\n",
    "        }\n",
    "    }\n",
    "}\n"
   ]
  },
  {
   "cell_type": "code",
   "execution_count": 9,
   "id": "c48c2fa4",
   "metadata": {
    "deletable": false,
    "editable": false,
    "nbgrader": {
     "cell_type": "code",
     "checksum": "8e39fc392d72947982250652e4788746",
     "grade": true,
     "grade_id": "cell-9d54c16fa3009152",
     "locked": true,
     "points": 10,
     "schema_version": 3,
     "solution": false,
     "task": false
    }
   },
   "outputs": [
    {
     "name": "stdout",
     "output_type": "stream",
     "text": [
      "\n",
      "*** Tests Passed (10 points) ***\n"
     ]
    }
   ],
   "source": [
    "//BEGIN TEST\n",
    "assert(convertToBinaryTail(1) == \"1\", \"(1)decimal must be 1 binary\")\n",
    "assert(convertToBinaryTail(5) == \"101\", \"5 must be 101 binary\")\n",
    "assert(convertToBinaryTail(11) == \"1011\", \"(11) must be 1011\")\n",
    "assert(convertToBinaryTail(4100) == \"1000000000100\", \"(4100) must be 1000000000100\")\n",
    "assert(convertToBinaryTail(30108100) == \"1110010110110100111000100\", \"(30108100) must be 1110010110110100111000100\")\n",
    "passed(10)\n",
    "//END TEST"
   ]
  },
  {
   "cell_type": "markdown",
   "id": "0e5b4c13",
   "metadata": {
    "deletable": false,
    "editable": false,
    "nbgrader": {
     "cell_type": "markdown",
     "checksum": "72e652c719fe4b0d059a6ec57873d633",
     "grade": false,
     "grade_id": "cell-4cc8f97c4996cf61",
     "locked": true,
     "schema_version": 3,
     "solution": false,
     "task": false
    }
   },
   "source": [
    "## Problem 2 (15 points)\n",
    "\n",
    "### Part A (7 points)\n",
    "\n",
    "Write a tail recursive function `sumUpEvenIndices` that given a list of integers `List`($e_0$, ..., $e_{n-1}$) returns the sum of all elements $e_0 + e_2 + \\cdots $\n",
    "at even numbered indices.\n",
    "\n",
    "## Corner Cases\n",
    " - Empty list must return 0.\n",
    " - List with just one element must return that element. \n",
    " \n",
    "### Restrictions\n",
    "  - Must be tail recursive.\n",
    "  - Allowed list API functions/operations: `list.length`, `list.head`, `list.tail`. \n",
    "    - All other operations over lists disallowed.\n",
    "  - Do not try to convert the list into an array or some other data structure.\n",
    "  - Use of vars/loops is not allowed.\n",
    " "
   ]
  },
  {
   "cell_type": "code",
   "execution_count": 10,
   "id": "48311506",
   "metadata": {
    "deletable": false,
    "nbgrader": {
     "cell_type": "code",
     "checksum": "d18b8480e75c65ac6a1a1d18c1010072",
     "grade": false,
     "grade_id": "cell-c6c77b82bcccd63f",
     "locked": false,
     "schema_version": 3,
     "solution": true,
     "task": false
    }
   },
   "outputs": [
    {
     "data": {
      "text/plain": [
       "\u001b[32mimport \u001b[39m\u001b[36mscala.annotation.tailrec\n",
       "\u001b[39m\n",
       "defined \u001b[32mfunction\u001b[39m \u001b[36msumUpEvenIndices\u001b[39m"
      ]
     },
     "execution_count": 10,
     "metadata": {},
     "output_type": "execute_result"
    }
   ],
   "source": [
    "import scala.annotation.tailrec\n",
    "@tailrec\n",
    "final def sumUpEvenIndices(lst:List[Int], sum:Int = 0, idx:Int = 0 ): Int =\n",
    "{\n",
    "    if(idx == lst.length)\n",
    "    {\n",
    "        return sum;\n",
    "    }\n",
    "    else\n",
    "    {\n",
    "        if( idx % 2 == 0)\n",
    "        {\n",
    "            sumUpEvenIndices(lst, sum + lst(idx), idx+1);\n",
    "        }\n",
    "        else\n",
    "        {\n",
    "            sumUpEvenIndices(lst, sum, idx+1);\n",
    "        }\n",
    "    }\n",
    "}"
   ]
  },
  {
   "cell_type": "code",
   "execution_count": 11,
   "id": "0d869fde",
   "metadata": {
    "deletable": false,
    "editable": false,
    "nbgrader": {
     "cell_type": "code",
     "checksum": "b63042ea6518c84d3bf6227595faced0",
     "grade": true,
     "grade_id": "cell-90640429de869647",
     "locked": true,
     "points": 7,
     "schema_version": 3,
     "solution": false,
     "task": false
    }
   },
   "outputs": [
    {
     "name": "stdout",
     "output_type": "stream",
     "text": [
      "\n",
      "*** Tests Passed (7 points) ***\n"
     ]
    },
    {
     "data": {
      "text/plain": [
       "\u001b[36mt1\u001b[39m: \u001b[32mInt\u001b[39m = \u001b[32m17\u001b[39m\n",
       "\u001b[36mt2\u001b[39m: \u001b[32mInt\u001b[39m = \u001b[32m0\u001b[39m\n",
       "\u001b[36mt3\u001b[39m: \u001b[32mInt\u001b[39m = \u001b[32m-3\u001b[39m\n",
       "\u001b[36mt4\u001b[39m: \u001b[32mInt\u001b[39m = \u001b[32m0\u001b[39m\n",
       "\u001b[36mt5\u001b[39m: \u001b[32mInt\u001b[39m = \u001b[32m11\u001b[39m"
      ]
     },
     "execution_count": 11,
     "metadata": {},
     "output_type": "execute_result"
    }
   ],
   "source": [
    "val t1 = sumUpEvenIndices(List(5, 10, 12, -3) )\n",
    "assert( t1 == 17, s\"Test1 failed: expected answer 17, got: $t1\")\n",
    "\n",
    "val t2 = sumUpEvenIndices(List() )\n",
    "assert( t2 == 0, s\"Test2 failed: expected answer 0, got: $t2\")\n",
    "\n",
    "val t3 = sumUpEvenIndices(List(-3) )\n",
    "assert( t3 == -3, s\"Test3 failed: expected answer -3, got: $t3\")\n",
    "\n",
    "val t4 = sumUpEvenIndices(List(0, 1, 0, 5, 0, 9, 0, 12, 0, -45, 0, -56) )\n",
    "assert( t4 == 0, s\"Test4 failed: expected answer 0, got: $t4\")\n",
    "\n",
    "val t5 = sumUpEvenIndices(List(11, 0) )\n",
    "assert( t5 == 11, s\"Test5 failed: expected answer 11, got: $t5\")\n",
    "\n",
    "passed(7)"
   ]
  },
  {
   "cell_type": "markdown",
   "id": "9565dc50",
   "metadata": {
    "deletable": false,
    "editable": false,
    "nbgrader": {
     "cell_type": "markdown",
     "checksum": "161b4d452bb3a92b83ad81983ed03ee3",
     "grade": false,
     "grade_id": "cell-357b75d9f0a4a38c",
     "locked": true,
     "schema_version": 3,
     "solution": false,
     "task": false
    }
   },
   "source": [
    "### Part B (8 points)\n",
    "\n",
    "Write a tail recursive function `zipLists` that given two lists of integers `List(e1, ..., em)` and  `List(f1, ..., fn)`, computes the list of pairs `List( (e1, f1), ..., (ek, fk) )` where $k = \\min(m, n)$.\n",
    "\n",
    "The function takes in two arguments of type `List[Int]` and returns `List[(Int, Int)]`. You may have extra arguments but set them to default values or have an explicit helper function. \n",
    "\n",
    "## Corner Cases\n",
    " - If one of the lists is empty, it must return empty list.\n",
    " \n",
    "### Restrictions\n",
    "  - Must be tail recursive.\n",
    "  - Allowed list API functions/operations: `list.length`, `list.head`, `list.tail`, `list.reverse` and `::` (cons or append an element to the front of a list).\n",
    "    - All other operations over lists are __not__ allowed. In particular do not use `zip`, `:+` (append to end) or `++` (join/concatenate two lists). \n",
    "  - Do not try to convert the list into an array or some other data structure.\n",
    "  - Use of vars/loops is not allowed.\n",
    " \n"
   ]
  },
  {
   "cell_type": "code",
   "execution_count": 12,
   "id": "f3f697dd",
   "metadata": {
    "deletable": false,
    "nbgrader": {
     "cell_type": "code",
     "checksum": "9b9e4ea15cccd8d5b4ceb1afac0564ba",
     "grade": false,
     "grade_id": "cell-a68d2b264a132205",
     "locked": false,
     "schema_version": 3,
     "solution": true,
     "task": false
    }
   },
   "outputs": [
    {
     "data": {
      "text/plain": [
       "\u001b[32mimport \u001b[39m\u001b[36mscala.annotation.tailrec\n",
       "\u001b[39m\n",
       "defined \u001b[32mfunction\u001b[39m \u001b[36mzipLists\u001b[39m"
      ]
     },
     "execution_count": 12,
     "metadata": {},
     "output_type": "execute_result"
    }
   ],
   "source": [
    "import scala.annotation.tailrec\n",
    "@tailrec\n",
    "final def zipLists(lst_1: List[Int], lst_2:List[Int], lst_f:List[(Int, Int)] = Nil, idx_1: Int = 0, idx_2: Int = 0): List[(Int, Int)] = \n",
    "{\n",
    "    if (idx_1 == lst_1.length || idx_2 == lst_2.length)\n",
    "    {\n",
    "        return lst_f.reverse;\n",
    "    }\n",
    "    else\n",
    "    {\n",
    "        zipLists(lst_1, lst_2, lst_f = (lst_1(idx_1), lst_2(idx_2)) :: lst_f , idx_1+1, idx_2+1)\n",
    "    }\n",
    "}"
   ]
  },
  {
   "cell_type": "code",
   "execution_count": 13,
   "id": "60eaa3d6",
   "metadata": {
    "deletable": false,
    "editable": false,
    "nbgrader": {
     "cell_type": "code",
     "checksum": "d850f172c05acdb5a9b026eebc8937e8",
     "grade": true,
     "grade_id": "cell-53f9fbd16982ad66",
     "locked": true,
     "points": 8,
     "schema_version": 3,
     "solution": false,
     "task": false
    }
   },
   "outputs": [
    {
     "name": "stdout",
     "output_type": "stream",
     "text": [
      "\n",
      "*** Tests Passed (8 points) ***\n"
     ]
    },
    {
     "data": {
      "text/plain": [
       "\u001b[36ml1\u001b[39m: \u001b[32mList\u001b[39m[(\u001b[32mInt\u001b[39m, \u001b[32mInt\u001b[39m)] = \u001b[33mList\u001b[39m()\n",
       "\u001b[36ml2\u001b[39m: \u001b[32mList\u001b[39m[(\u001b[32mInt\u001b[39m, \u001b[32mInt\u001b[39m)] = \u001b[33mList\u001b[39m()\n",
       "\u001b[36ml3\u001b[39m: \u001b[32mList\u001b[39m[(\u001b[32mInt\u001b[39m, \u001b[32mInt\u001b[39m)] = \u001b[33mList\u001b[39m((\u001b[32m10\u001b[39m, \u001b[32m5\u001b[39m))\n",
       "\u001b[36ml4\u001b[39m: \u001b[32mList\u001b[39m[(\u001b[32mInt\u001b[39m, \u001b[32mInt\u001b[39m)] = \u001b[33mList\u001b[39m((\u001b[32m0\u001b[39m, \u001b[32m-5\u001b[39m), (\u001b[32m1\u001b[39m, \u001b[32m2\u001b[39m), (\u001b[32m2\u001b[39m, \u001b[32m-1\u001b[39m), (\u001b[32m3\u001b[39m, \u001b[32m2\u001b[39m), (\u001b[32m4\u001b[39m, \u001b[32m-3\u001b[39m))\n",
       "\u001b[36ml5\u001b[39m: \u001b[32mList\u001b[39m[(\u001b[32mInt\u001b[39m, \u001b[32mInt\u001b[39m)] = \u001b[33mList\u001b[39m((\u001b[32m1\u001b[39m, \u001b[32m5\u001b[39m), (\u001b[32m2\u001b[39m, \u001b[32m2\u001b[39m), (\u001b[32m3\u001b[39m, \u001b[32m1\u001b[39m))"
      ]
     },
     "execution_count": 13,
     "metadata": {},
     "output_type": "execute_result"
    }
   ],
   "source": [
    "val l1 = zipLists(Nil, List(5, 2, 1, 2, 3))\n",
    "assert(l1 == Nil, s\"Test 1 failed: expected : Nil, obtained: $l1\")\n",
    "\n",
    "val l2 = zipLists( List(5, 2, 1, 2, 3), Nil)\n",
    "assert(l2  == Nil, s\"Test 2 failed: expected : Nil, obtained: $l2\")\n",
    "\n",
    "val l3 = zipLists(List(10), List(5, 2, 1, 2, 3))\n",
    "assert(l3 == List((10,5)) , s\"Test 3 failed: expected : List((10,5)), obtained: $l3\")\n",
    "\n",
    "val l4 = zipLists(List(0, 1, 2, 3, 4), List(-5, 2, -1, 2, -3))\n",
    "assert(l4 == List( (0, -5), (1, 2), (2, -1), (3, 2), (4, -3) ), s\"Test 4 failed: expected : List( (0, -5), (1, 2), (2, -1), (3, 2), (4, -3) ) , obtained: $l4\")\n",
    "\n",
    "val l5 = zipLists(List(1, 2, 3), List(5, 2, 1, 2, 3))\n",
    "assert(l5 == List((1, 5), (2, 2), (3, 1)), s\"Test 5 failed: List((1, 5), (2, 2), (3, 1)) expected : , obtained: $l5\")\n",
    "\n",
    "passed(8)"
   ]
  },
  {
   "cell_type": "markdown",
   "id": "0732acaa",
   "metadata": {
    "deletable": false,
    "editable": false,
    "nbgrader": {
     "cell_type": "markdown",
     "checksum": "cab37b842663de2432c88d76d4209b80",
     "grade": false,
     "grade_id": "cell-3e1ee04474d7b36f",
     "locked": true,
     "schema_version": 3,
     "solution": false,
     "task": false
    }
   },
   "source": [
    "## Problem 3 (10 points)\n",
    "\n",
    "###  Bisection method for solving equations \n",
    "\n",
    "Suppose we wanted to find the root for an equation :  $ f(x) = 0$, \n",
    "\n",
    "The bisection method starts with two bounds $\\ell < u$ where $f(\\ell), f(u)$ have opposite signs. I.e, either \n",
    "  - (A) $ f(\\ell) < 0$ and $f(u) > 0$ or \n",
    "  - (B) $f(\\ell) > 0$ and $f(u) < 0$.\n",
    "\n",
    "At each iteration, it computes $m = (\\ell + u) /2$ and checks the sign of $f(m)$. Depending on the sign of $f(m)$ it updates $\\ell, u$ by setting : $\\ell = m$ if $f(\\ell), f(m)$ have the same signs or $u = m$ if $f(u), f(m)$ have the same signs. \n",
    "\n",
    "The method terminates under the following conditions: \n",
    "\n",
    "  - $  | f(m) | \\leq \\epsilon$ where $\\epsilon$ is a given tolerance (typically $10^{-10}$). In this case, $m$ is the root and we declare success.\n",
    "  - $ | u - \\ell | \\leq \\epsilon $ but $f(m) > \\epsilon$. In this case, we return $m$ but declare failure.\n",
    "  \n",
    "Here is a version of the bisection method implemented using a while loop for your convenience."
   ]
  },
  {
   "cell_type": "code",
   "execution_count": 14,
   "id": "e99f326b",
   "metadata": {
    "deletable": false,
    "editable": false,
    "nbgrader": {
     "cell_type": "code",
     "checksum": "b9713107880e9a2dd7f6b296ccfb769e",
     "grade": false,
     "grade_id": "cell-99c6d522bbdedeec",
     "locked": true,
     "schema_version": 3,
     "solution": false,
     "task": false
    }
   },
   "outputs": [
    {
     "data": {
      "text/plain": [
       "defined \u001b[32mfunction\u001b[39m \u001b[36mbisectWhileLoop\u001b[39m"
      ]
     },
     "execution_count": 14,
     "metadata": {},
     "output_type": "execute_result"
    }
   ],
   "source": [
    "def bisectWhileLoop(f: Double => Double, \n",
    "                    l0: Double, u0: Double, \n",
    "                    epsilon: Double=1E-10): (Double, Boolean) = {\n",
    "    var l = l0\n",
    "    var u = u0\n",
    "    require ( u - l >= epsilon)\n",
    "    require ( (f(l) < 0.0 && f(u) > 0.0 ) || (f(l) > 0.0 && f(u) < 0.0))\n",
    "    /* Note: we may have as well just said assert(f(l) * f(u) < 0.0) */\n",
    "    var m = (l + u)/2.0\n",
    "    while (math.abs(f (m)) > epsilon && (u - l) > epsilon) {\n",
    "        if ( f(m) * f(l) > 0) { /* Does l, m have same sign */\n",
    "            l = m\n",
    "        } else {\n",
    "            assert(f(m) * f(u) > 0) /* u, m must have the same sign */\n",
    "            u = m\n",
    "        }\n",
    "        m = (l + u)/2\n",
    "    }\n",
    "    if (math.abs(f (m)) <= epsilon){\n",
    "        (m, true) /* good enough to count as a solution to f(x) = 0 */\n",
    "    } else {\n",
    "        (m, false) /* Not good enough for the given tolerance. */\n",
    "    }\n",
    "}"
   ]
  },
  {
   "cell_type": "code",
   "execution_count": 15,
   "id": "8789215f",
   "metadata": {
    "deletable": false,
    "editable": false,
    "nbgrader": {
     "cell_type": "code",
     "checksum": "4e632f8dbdb0c919699ef7fc1e62f53c",
     "grade": false,
     "grade_id": "cell-ee87723ae91b8e57",
     "locked": true,
     "schema_version": 3,
     "solution": false,
     "task": false
    }
   },
   "outputs": [
    {
     "data": {
      "text/plain": [
       "\u001b[36mf\u001b[39m: \u001b[32mDouble\u001b[39m => \u001b[32mDouble\u001b[39m = ammonite.$sess.cmd14$Helper$$Lambda$2184/0x0000000801391ed0@3b608e9f\n",
       "\u001b[36ml0\u001b[39m: \u001b[32mDouble\u001b[39m = \u001b[32m1.0\u001b[39m\n",
       "\u001b[36mu0\u001b[39m: \u001b[32mDouble\u001b[39m = \u001b[32m2.0\u001b[39m\n",
       "\u001b[36mres\u001b[39m: \u001b[32mDouble\u001b[39m = \u001b[32m1.4142135623842478\u001b[39m\n",
       "\u001b[36msuccess\u001b[39m: \u001b[32mBoolean\u001b[39m = \u001b[32mtrue\u001b[39m"
      ]
     },
     "execution_count": 15,
     "metadata": {},
     "output_type": "execute_result"
    }
   ],
   "source": [
    "// Let's compute sqrt(2)\n",
    "val f: Double => Double = x => (x*x - 2)\n",
    "val l0 = 1.0\n",
    "val u0 = 2.0\n",
    "val (res, success) = bisectWhileLoop(f, l0, u0)"
   ]
  },
  {
   "cell_type": "code",
   "execution_count": 16,
   "id": "9b718faa",
   "metadata": {
    "deletable": false,
    "editable": false,
    "nbgrader": {
     "cell_type": "code",
     "checksum": "349aa56359966e1c7960e0cf6a40102f",
     "grade": false,
     "grade_id": "cell-52e6de2675de1bc5",
     "locked": true,
     "schema_version": 3,
     "solution": false,
     "task": false
    }
   },
   "outputs": [
    {
     "data": {
      "text/plain": [
       "\u001b[36mf\u001b[39m: \u001b[32mDouble\u001b[39m => \u001b[32mDouble\u001b[39m = ammonite.$sess.cmd15$Helper$$Lambda$2194/0x0000000801393648@c3110c0\n",
       "\u001b[36ml0\u001b[39m: \u001b[32mDouble\u001b[39m = \u001b[32m1.0\u001b[39m\n",
       "\u001b[36mu0\u001b[39m: \u001b[32mDouble\u001b[39m = \u001b[32m2.0\u001b[39m\n",
       "\u001b[36mres\u001b[39m: \u001b[32mDouble\u001b[39m = \u001b[32m1.7099759466655087\u001b[39m\n",
       "\u001b[36msuccess\u001b[39m: \u001b[32mBoolean\u001b[39m = \u001b[32mtrue\u001b[39m"
      ]
     },
     "execution_count": 16,
     "metadata": {},
     "output_type": "execute_result"
    }
   ],
   "source": [
    "// Let's compute cube-root(5)\n",
    "val f: Double => Double = x => (x*x*x - 5)\n",
    "val l0 = 1.0\n",
    "val u0 = 2.0\n",
    "val (res, success) = bisectWhileLoop(f, l0, u0)"
   ]
  },
  {
   "cell_type": "code",
   "execution_count": 17,
   "id": "c637438d",
   "metadata": {
    "deletable": false,
    "editable": false,
    "nbgrader": {
     "cell_type": "code",
     "checksum": "30b97538b72723413b025a67c088c869",
     "grade": false,
     "grade_id": "cell-e586787baaf2db7d",
     "locked": true,
     "schema_version": 3,
     "solution": false,
     "task": false
    }
   },
   "outputs": [
    {
     "name": "stdout",
     "output_type": "stream",
     "text": [
      "Estimated value of pi: 3.141592653589794\n"
     ]
    },
    {
     "data": {
      "text/plain": [
       "\u001b[36mf\u001b[39m: \u001b[32mDouble\u001b[39m => \u001b[32mDouble\u001b[39m = ammonite.$sess.cmd16$Helper$$Lambda$2200/0x00000008013c4e38@7b8eae66\n",
       "\u001b[36ml0\u001b[39m: \u001b[32mDouble\u001b[39m = \u001b[32m0.5\u001b[39m\n",
       "\u001b[36mu0\u001b[39m: \u001b[32mDouble\u001b[39m = \u001b[32m1.3\u001b[39m\n",
       "\u001b[36mres\u001b[39m: \u001b[32mDouble\u001b[39m = \u001b[32m0.7853981633974485\u001b[39m\n",
       "\u001b[36msuccess\u001b[39m: \u001b[32mBoolean\u001b[39m = \u001b[32mtrue\u001b[39m"
      ]
     },
     "execution_count": 17,
     "metadata": {},
     "output_type": "execute_result"
    }
   ],
   "source": [
    "//Solve the equation sin(x) - cos(x) = 0\n",
    "val f: Double => Double = x => math.sin(x) - math.cos(x)\n",
    "val l0 = 0.5\n",
    "val u0 = 1.3\n",
    "val (res, success) = bisectWhileLoop(f, l0, u0,1E-15)\n",
    "println(s\"Estimated value of pi: ${4*res}\")"
   ]
  },
  {
   "cell_type": "markdown",
   "id": "cd30ee94",
   "metadata": {
    "deletable": false,
    "editable": false,
    "nbgrader": {
     "cell_type": "markdown",
     "checksum": "b6074605e4181a156054dfe01809e06a",
     "grade": false,
     "grade_id": "cell-5fcf8fc11e3e3661",
     "locked": true,
     "schema_version": 3,
     "solution": false,
     "task": false
    }
   },
   "source": [
    "Implement a tail recursive version of bisection called `bisectTail` that inputs\n",
    " - Function `f: Double => Double`\n",
    " - limits `l: Double`, `u: Double`\n",
    " - tolerance `epsilon:Double` that defaults to `1E-10`.\n",
    " \n",
    " It must return `(Double, Boolean)` where the first component is the approximate root and the second component of the tuple signals success/failure. \n",
    " \n",
    "   - Your function must be tail recursive.\n",
    "   - Avoid the use of `var` and loops in your code. \n",
    "   - Do not use any API functions outside of those used in the while loop solution above such as `math.abs`."
   ]
  },
  {
   "cell_type": "code",
   "execution_count": 18,
   "id": "e11f029d",
   "metadata": {
    "deletable": false,
    "nbgrader": {
     "cell_type": "code",
     "checksum": "5fbc3bb9a1ddd79f20aa2800170e9205",
     "grade": false,
     "grade_id": "cell-4e0427b9f8dde074",
     "locked": false,
     "schema_version": 3,
     "solution": true,
     "task": false
    }
   },
   "outputs": [
    {
     "data": {
      "text/plain": [
       "\u001b[32mimport \u001b[39m\u001b[36mscala.annotation.tailrec\n",
       "\u001b[39m\n",
       "defined \u001b[32mfunction\u001b[39m \u001b[36mbisectTail\u001b[39m"
      ]
     },
     "execution_count": 18,
     "metadata": {},
     "output_type": "execute_result"
    }
   ],
   "source": [
    "import scala.annotation.tailrec\n",
    "@tailrec\n",
    "final def bisectTail (f: Double => Double, l0: Double, u0: Double, epsilon: Double=1E-10, m: Double=(l0 + u0)/2.0): (Double, Boolean) = \n",
    "{\n",
    "    require ((f(l0) < 0.0 && f(u0) > 0.0 ) || (f(l0) > 0.0 && f(u0) < 0.0))\n",
    "\n",
    "    if(f(m) * f(l0) > 0)\n",
    "    {\n",
    "        bisectTail(f, m, u0, epsilon, (m+u0)/2.0);\n",
    "    }\n",
    "    else if (f(m).abs <= epsilon)\n",
    "    {\n",
    "        return (m, true);\n",
    "    }\n",
    "    else if ((u0 - l0).abs <= epsilon && f(m) > epsilon)\n",
    "    {\n",
    "        return (m, false);\n",
    "    }\n",
    "    else \n",
    "    {\n",
    "        bisectTail(f, l0, m, epsilon, (m+l0)/2.0);\n",
    "    }\n",
    "    \n",
    "        \n",
    "    \n",
    "}"
   ]
  },
  {
   "cell_type": "code",
   "execution_count": 19,
   "id": "5d15af3c",
   "metadata": {
    "deletable": false,
    "editable": false,
    "nbgrader": {
     "cell_type": "code",
     "checksum": "380052bf8c027209ddeb21c9a2b4603d",
     "grade": true,
     "grade_id": "cell-5df0a19ea24b023c",
     "locked": true,
     "points": 3,
     "schema_version": 3,
     "solution": false,
     "task": false
    }
   },
   "outputs": [
    {
     "name": "stdout",
     "output_type": "stream",
     "text": [
      "\n",
      "*** Tests Passed (3 points) ***\n"
     ]
    },
    {
     "data": {
      "text/plain": [
       "\u001b[36mf\u001b[39m: \u001b[32mDouble\u001b[39m => \u001b[32mDouble\u001b[39m = ammonite.$sess.cmd18$Helper$$Lambda$2207/0x00000008013c6e58@35127b45\n",
       "\u001b[36ml0\u001b[39m: \u001b[32mDouble\u001b[39m = \u001b[32m1.0\u001b[39m\n",
       "\u001b[36mu0\u001b[39m: \u001b[32mDouble\u001b[39m = \u001b[32m2.0\u001b[39m\n",
       "\u001b[36mres\u001b[39m: \u001b[32mDouble\u001b[39m = \u001b[32m1.4142135623813377\u001b[39m\n",
       "\u001b[36msuccess\u001b[39m: \u001b[32mBoolean\u001b[39m = \u001b[32mtrue\u001b[39m"
      ]
     },
     "execution_count": 19,
     "metadata": {},
     "output_type": "execute_result"
    }
   ],
   "source": [
    "// Let's compute sqrt(2)\n",
    "val f: Double => Double = x => (x*x - 2)\n",
    "val l0 = 1.0\n",
    "val u0 = 2.0\n",
    "val (res, success) = bisectTail(f, l0, u0,1E-10)\n",
    "assert (success && math.abs(res - 1.4142135) <= 1E-6)\n",
    "passed(3)"
   ]
  },
  {
   "cell_type": "code",
   "execution_count": 20,
   "id": "67da95b1",
   "metadata": {
    "deletable": false,
    "editable": false,
    "nbgrader": {
     "cell_type": "code",
     "checksum": "ba7770f76471bcf194b3e955316f5ba4",
     "grade": true,
     "grade_id": "cell-df92d032bc5425df",
     "locked": true,
     "points": 2,
     "schema_version": 3,
     "solution": false,
     "task": false
    }
   },
   "outputs": [
    {
     "name": "stdout",
     "output_type": "stream",
     "text": [
      "\n",
      "*** Tests Passed (2 points) ***\n"
     ]
    },
    {
     "data": {
      "text/plain": [
       "\u001b[36mf\u001b[39m: \u001b[32mDouble\u001b[39m => \u001b[32mDouble\u001b[39m = ammonite.$sess.cmd19$Helper$$Lambda$2215/0x00000008013c2b70@6f2ce45d\n",
       "\u001b[36ml0\u001b[39m: \u001b[32mDouble\u001b[39m = \u001b[32m2.0\u001b[39m\n",
       "\u001b[36mu0\u001b[39m: \u001b[32mDouble\u001b[39m = \u001b[32m2.5\u001b[39m\n",
       "\u001b[36mres\u001b[39m: \u001b[32mDouble\u001b[39m = \u001b[32m2.2360679775010794\u001b[39m\n",
       "\u001b[36msuccess\u001b[39m: \u001b[32mBoolean\u001b[39m = \u001b[32mtrue\u001b[39m"
      ]
     },
     "execution_count": 20,
     "metadata": {},
     "output_type": "execute_result"
    }
   ],
   "source": [
    "// Let's compute sqrt(5)\n",
    "val f: Double => Double = x => (x*x - 5)\n",
    "val l0 = 2.0\n",
    "val u0 = 2.5\n",
    "val (res, success) = bisectTail(f, l0, u0,1E-10)\n",
    "assert(success && math.abs(res - 2.236067977) <= 1E-08)\n",
    "passed(2)"
   ]
  },
  {
   "cell_type": "code",
   "execution_count": 21,
   "id": "481930df",
   "metadata": {
    "deletable": false,
    "editable": false,
    "nbgrader": {
     "cell_type": "code",
     "checksum": "fe32de558b5fc2390a4cb42482872d95",
     "grade": true,
     "grade_id": "cell-10a1539481c60d74",
     "locked": true,
     "points": 2,
     "schema_version": 3,
     "solution": false,
     "task": false
    }
   },
   "outputs": [
    {
     "name": "stdout",
     "output_type": "stream",
     "text": [
      "Estimated value of pi: 3.141592653589794\n",
      "\n",
      "*** Tests Passed (2 points) ***\n"
     ]
    },
    {
     "data": {
      "text/plain": [
       "\u001b[36mf\u001b[39m: \u001b[32mDouble\u001b[39m => \u001b[32mDouble\u001b[39m = ammonite.$sess.cmd20$Helper$$Lambda$2223/0x00000008013c18a8@677f6448\n",
       "\u001b[36ml0\u001b[39m: \u001b[32mDouble\u001b[39m = \u001b[32m0.5\u001b[39m\n",
       "\u001b[36mu0\u001b[39m: \u001b[32mDouble\u001b[39m = \u001b[32m1.3\u001b[39m\n",
       "\u001b[36mres\u001b[39m: \u001b[32mDouble\u001b[39m = \u001b[32m0.7853981633974485\u001b[39m\n",
       "\u001b[36msuccess\u001b[39m: \u001b[32mBoolean\u001b[39m = \u001b[32mtrue\u001b[39m"
      ]
     },
     "execution_count": 21,
     "metadata": {},
     "output_type": "execute_result"
    }
   ],
   "source": [
    "//Solve the equation sin(x) - cos(x) = 0\n",
    "val f: Double => Double = x => math.sin(x) - math.cos(x)\n",
    "val l0 = 0.5\n",
    "val u0 = 1.3\n",
    "val (res, success) = bisectWhileLoop(f, l0, u0,1E-15)\n",
    "println(s\"Estimated value of pi: ${4*res}\")\n",
    "assert(success && math.abs(res - 0.78539816) <= 1E-07)\n",
    "passed(2)"
   ]
  },
  {
   "cell_type": "code",
   "execution_count": 22,
   "id": "f747d744",
   "metadata": {
    "deletable": false,
    "editable": false,
    "nbgrader": {
     "cell_type": "code",
     "checksum": "b90d581445fe0714a22a0bd2981c8ada",
     "grade": true,
     "grade_id": "cell-88f1375c6182473b",
     "locked": true,
     "points": 3,
     "schema_version": 3,
     "solution": false,
     "task": false
    }
   },
   "outputs": [
    {
     "name": "stdout",
     "output_type": "stream",
     "text": [
      "\n",
      "*** Tests Passed (3 points) ***\n"
     ]
    },
    {
     "data": {
      "text/plain": [
       "\u001b[36mf\u001b[39m: \u001b[32mDouble\u001b[39m => \u001b[32mDouble\u001b[39m = ammonite.$sess.cmd21$Helper$$Lambda$2232/0x00000008013c91d0@61c50272\n",
       "\u001b[36ml0\u001b[39m: \u001b[32mDouble\u001b[39m = \u001b[32m1.0\u001b[39m\n",
       "\u001b[36mu0\u001b[39m: \u001b[32mDouble\u001b[39m = \u001b[32m1.5\u001b[39m\n",
       "\u001b[36mres\u001b[39m: \u001b[32mDouble\u001b[39m = \u001b[32m1.1467652873041563\u001b[39m\n",
       "\u001b[36msuccess\u001b[39m: \u001b[32mBoolean\u001b[39m = \u001b[32mtrue\u001b[39m"
      ]
     },
     "execution_count": 22,
     "metadata": {},
     "output_type": "execute_result"
    }
   ],
   "source": [
    "//Solve the equation sin(x) - cos(x) = 0.5\n",
    "val f: Double => Double = x => math.sin(x) - math.cos(x) - 0.5\n",
    "val l0 = 1.0\n",
    "val u0 = 1.5\n",
    "val (res, success) = bisectTail(f, l0, u0,1E-15)\n",
    "assert(success && math.abs(math.sin(res) - math.cos(res) -0.5) <= 1E-09)\n",
    "passed(3)"
   ]
  },
  {
   "cell_type": "markdown",
   "id": "fe18cdc8",
   "metadata": {
    "deletable": false,
    "editable": false,
    "nbgrader": {
     "cell_type": "markdown",
     "checksum": "6131b61a1f3745c19e990bd7c4fdcae0",
     "grade": false,
     "grade_id": "cell-01b33b0c2db0089d",
     "locked": true,
     "schema_version": 3,
     "solution": false,
     "task": false
    }
   },
   "source": [
    "## That's All Folks!"
   ]
  }
 ],
 "metadata": {
  "kernelspec": {
   "display_name": "Scala",
   "language": "scala",
   "name": "scala"
  },
  "language_info": {
   "codemirror_mode": "text/x-scala",
   "file_extension": ".sc",
   "mimetype": "text/x-scala",
   "name": "scala",
   "nbconvert_exporter": "script",
   "version": "2.13.10"
  }
 },
 "nbformat": 4,
 "nbformat_minor": 5
}
