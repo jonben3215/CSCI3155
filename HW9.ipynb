{
 "cells": [
  {
   "cell_type": "markdown",
   "id": "e53ddd9c",
   "metadata": {},
   "source": [
    "Before you turn this problem in, make sure everything runs as expected. First, **restart the kernel** (in the menubar, select Kernel$\\rightarrow$Restart) and then **run all cells** (in the menubar, select Cell$\\rightarrow$Run All).\n",
    "\n",
    "Make sure you fill in any place that says `???` or \"YOUR ANSWER HERE\"."
   ]
  },
  {
   "cell_type": "markdown",
   "id": "e9936ca8",
   "metadata": {},
   "source": [
    "---"
   ]
  },
  {
   "cell_type": "markdown",
   "id": "bf062577-e0b6-4cde-b116-fe6e129220f5",
   "metadata": {
    "deletable": false,
    "editable": false,
    "nbgrader": {
     "cell_type": "markdown",
     "checksum": "db947969cc9dcaa973bc15f31a16d8fe",
     "grade": false,
     "grade_id": "cell-97362a26380b315c",
     "locked": true,
     "schema_version": 3,
     "solution": false,
     "task": false
    }
   },
   "source": [
    "# CSCI 3155: Assignment 9\n",
    "\n",
    "Topics: \n",
    "- Type Systems\n",
    "- Basics of Objects\n",
    "- Traits\n",
    "\n",
    "Readings: Notes posted on canvas."
   ]
  },
  {
   "cell_type": "code",
   "execution_count": 1,
   "id": "9292668e-3cde-455b-9e01-4d0b25ca8d4f",
   "metadata": {
    "ExecuteTime": {
     "end_time": "2023-04-30T12:40:36.954351Z",
     "start_time": "2023-04-30T12:40:35.147Z"
    },
    "deletable": false,
    "editable": false,
    "nbgrader": {
     "cell_type": "code",
     "checksum": "a26c987150172cace75a9c7e7addfc0a",
     "grade": false,
     "grade_id": "cell-349ed6c7db90709f",
     "locked": true,
     "schema_version": 3,
     "solution": false,
     "task": false
    }
   },
   "outputs": [
    {
     "data": {
      "text/plain": [
       "defined \u001b[32mfunction\u001b[39m \u001b[36mpassed\u001b[39m"
      ]
     },
     "execution_count": 1,
     "metadata": {},
     "output_type": "execute_result"
    }
   ],
   "source": [
    "// TEST HELPER\n",
    "def passed(points: Int) {\n",
    "    require(points >=0)\n",
    "    if (points == 1) print(s\"\\n*** Tests Passed (1 point) ***\\n\")\n",
    "    else print(s\"\\n*** Tests Passed ($points points) ***\\n\")\n",
    "}"
   ]
  },
  {
   "cell_type": "markdown",
   "id": "5915aff5",
   "metadata": {
    "deletable": false,
    "editable": false,
    "nbgrader": {
     "cell_type": "markdown",
     "checksum": "f4f063780ee93cb2a9e68803c8a2622f",
     "grade": false,
     "grade_id": "cell-11b705cb10b354e5",
     "locked": true,
     "schema_version": 3,
     "solution": false,
     "task": false
    }
   },
   "source": [
    "## Problem 1 (20 points)\n",
    "\n",
    "In this problem, we will extend Lettuce language and its type system to references.  Here is a stripped down version of Lettuce we are going to use in this problem.\n",
    "\n",
    "$$\\begin{array}{rcl}\n",
    "\\mathbf{Expr} & \\rightarrow & Const(\\mathbf{Double}) \\\\\n",
    "& | & Ident(\\mathbf{Identifier})\\\\\n",
    "& | & Plus(\\mathbf{Expr}, \\mathbf{Expr})\\\\\n",
    "& | & Div(\\mathbf{Expr}, \\mathbf{Expr}) \\\\\n",
    "& | & Geq(\\mathbf{Expr}, \\mathbf{Expr}) \\\\\n",
    "& | & And(\\mathbf{Expr}, \\mathbf{Expr}) \\\\\n",
    "& | & IfThenElse(\\mathbf{Expr}, \\mathbf{Expr}, \\mathbf{Expr})\\\\\n",
    "& | & Let(\\mathbf{Identifier}, \\color{red}{\\mathbf{Type}}, \\mathbf{Expr}, \\mathbf{Expr})\\\\\n",
    "& | & FunDef(\\mathbf{Identifier}, \\color{red}{\\mathbf{Type}}, \\mathbf{Expr}) \\\\\n",
    "& | & FunCall(\\mathbf{Expr}, \\mathbf{Expr}) \\\\\n",
    "& | & \\color{blue}{UnitConst} & \\leftarrow \\text{written as} \\ () \\\\\n",
    "& | & \\color{blue}{NewRef(\\mathbf{Expr})} \\\\\n",
    "& | & \\color{blue}{DeRef(\\mathbf{Expr})} \\\\\n",
    "& | & \\color{blue}{AssignRef(\\mathbf{Expr}, \\mathbf{Expr})} & \\leftarrow \\text{written as} \\ e_1 := e_2 \\\\\n",
    "\\end{array}$$\n",
    "\n",
    "We extend the type system with a record type constructor and a new type as shown below.\n",
    "$$\\begin{array}{rcl}\n",
    "\\mathbf{Type} & \\rightarrow & NumType & \\leftarrow \\text{written as } \\ num \\\\\n",
    "& | & BoolType & \\leftarrow \\text{written as } \\ bool \\\\\n",
    "& | & \\color{red}{UnitType} & \\leftarrow \\text{written as } \\ unit \\\\\n",
    "& | & FunType(\\mathbf{Type} , \\mathbf{Type} ) & \\leftarrow \\text{written as } \\ t_1 \\Rightarrow t_2 \\\\\n",
    "& | & \\color{red}{RefType(\\mathbf{Type})} & \\leftarrow \\text{written as } \\ ref(t_1) \\\\\n",
    "\\end{array}$$\n",
    "\n",
    "\n"
   ]
  },
  {
   "cell_type": "markdown",
   "id": "d84299e7",
   "metadata": {
    "deletable": false,
    "editable": false,
    "nbgrader": {
     "cell_type": "markdown",
     "checksum": "1f4c4031887301ba22c456ab718ca446",
     "grade": false,
     "grade_id": "cell-76b9450a67e78d9b",
     "locked": true,
     "schema_version": 3,
     "solution": false,
     "task": false
    }
   },
   "source": [
    "$$\\newcommand\\typeOf{\\mathbf{typeOf}}$$\n",
    "$$\\newcommand\\semRule[3]{\\begin{array}{c} #1 \\\\ \\hline #2 \\\\ \\end{array}\\;(\\text{#3}) }$$\n",
    "Recall from notes on \"Types and Type Checking\" that $\\typeOf(\\texttt{e}, \\alpha)$ is the type of an \n",
    "expression $\\texttt{e}$ under type environment $\\alpha$. The type environment maps identifiers in the current scope to  their annotated types.\n",
    "\n",
    "Let us write a rule for NewRef.\n",
    "\n",
    "$$\\semRule{ \\typeOf(\\texttt{e}, \\alpha) = t,\\; t \\not= \\mathbf{typeerror} }{\\typeOf(\\texttt{NewRef(e)}, \\alpha) = ref(t) }{newref-ok}$$\n",
    "\n",
    "It says that if $\\texttt{e}$ receives type $t$ under type environment $\\alpha$ and it is not a type error, then $\\texttt{NewRef(e)}$ must receive the type $ref(t)$ under $\\alpha$.\n",
    "\n",
    "**Note** Complete the missing rules below on your own. We will not be grading them but you will need your results to finish the coding of the type checker.\n",
    "\n",
    " Complete the missing terms for the rule for `UnitConst` OK rule.\n",
    "$$\\semRule{}{\\typeOf((), \\alpha) = \\color{red}{???_1}}{unitconst-ok}$$\n",
    "\n",
    "\n",
    " Complete the missing terms for the rule for `DeRef` OK rule.\n",
    "$$\\semRule{\\typeOf(\\texttt{e}, \\alpha) = ref(t)}{\\typeOf(\\texttt{DeRef(e)}, \\alpha) = \\color{red}{???_2}}{deref-ok}$$\n",
    "\n",
    "Complete the missing terms for the rule for `DeRef` error.\n",
    "$$\\semRule{\\typeOf(\\texttt{e}, \\alpha) = t,\\ t \\not= \\color{red}{???_3} }{\\typeOf(\\texttt{DeRef(e)}, \\alpha) = \\mathbf{typeerror}}{deref-nok}$$\n",
    "\n",
    "The rules for `Deref(e)` must say that:\n",
    "  - `e` must have type of the form `ref(t)` for some `t`.\n",
    "  -  If yes then `Deref(e)` will then have the type `t`, otherwise `Deref(e)` will lead to `typeerror`.\n",
    " \n",
    "\n",
    "We will change the semantics of `AssignRef` from class to have type `UnitType` instead of the type \n",
    "of expression `e2`. \n",
    "$$\\semRule{\\typeOf(\\texttt{e1}, \\alpha) = \\color{red}{???_4}, \\typeOf(\\texttt{e2}, \\alpha) = t}{\\typeOf(\\texttt{AssignRef(e1, e2)}, \\alpha) =   unit}{assignref-ok}$$\n",
    "The rule for `AssignRef(e1, e2)` must say that \n",
    "  - `e1` should be an expression of type `Ref(t)` for some `t`\n",
    "  - `e2` should be an expression of that type `t`.\n",
    "  - The entire expression `AssignRef(e1, e2)` gets the type `UnitType`.\n",
    "\n",
    "We have the inductive definitions of the programs and the types below."
   ]
  },
  {
   "cell_type": "markdown",
   "id": "540d05e3",
   "metadata": {},
   "source": [
    "???1: UnitType\n",
    "???2: Def(t) aka return t\n",
    "???3: ref(t)\n",
    "???4: t1, t1 == RefType(1)"
   ]
  },
  {
   "cell_type": "code",
   "execution_count": 2,
   "id": "5dc8102b",
   "metadata": {
    "ExecuteTime": {
     "end_time": "2023-04-30T12:40:39.209030Z",
     "start_time": "2023-04-30T12:40:35.149Z"
    },
    "deletable": false,
    "editable": false,
    "nbgrader": {
     "cell_type": "code",
     "checksum": "7ccd755e0087f4cd3d957113b6386b91",
     "grade": false,
     "grade_id": "cell-7059293c92a74c1a",
     "locked": true,
     "schema_version": 3,
     "solution": false,
     "task": false
    }
   },
   "outputs": [
    {
     "data": {
      "text/plain": [
       "defined \u001b[32mtrait\u001b[39m \u001b[36mType\u001b[39m\n",
       "defined \u001b[32mobject\u001b[39m \u001b[36mNumType\u001b[39m\n",
       "defined \u001b[32mobject\u001b[39m \u001b[36mBoolType\u001b[39m\n",
       "defined \u001b[32mclass\u001b[39m \u001b[36mFunType\u001b[39m\n",
       "defined \u001b[32mobject\u001b[39m \u001b[36mUnitType\u001b[39m\n",
       "defined \u001b[32mclass\u001b[39m \u001b[36mRefType\u001b[39m\n",
       "defined \u001b[32mtrait\u001b[39m \u001b[36mProgram\u001b[39m\n",
       "defined \u001b[32mtrait\u001b[39m \u001b[36mExpr\u001b[39m\n",
       "defined \u001b[32mclass\u001b[39m \u001b[36mConst\u001b[39m\n",
       "defined \u001b[32mclass\u001b[39m \u001b[36mIdent\u001b[39m\n",
       "defined \u001b[32mclass\u001b[39m \u001b[36mPlus\u001b[39m\n",
       "defined \u001b[32mclass\u001b[39m \u001b[36mMinus\u001b[39m\n",
       "defined \u001b[32mclass\u001b[39m \u001b[36mGeq\u001b[39m\n",
       "defined \u001b[32mclass\u001b[39m \u001b[36mIfThenElse\u001b[39m\n",
       "defined \u001b[32mclass\u001b[39m \u001b[36mLet\u001b[39m\n",
       "defined \u001b[32mclass\u001b[39m \u001b[36mFunDef\u001b[39m\n",
       "defined \u001b[32mclass\u001b[39m \u001b[36mFunCall\u001b[39m\n",
       "defined \u001b[32mclass\u001b[39m \u001b[36mNewRef\u001b[39m\n",
       "defined \u001b[32mclass\u001b[39m \u001b[36mDeRef\u001b[39m\n",
       "defined \u001b[32mclass\u001b[39m \u001b[36mAssignRef\u001b[39m\n",
       "defined \u001b[32mobject\u001b[39m \u001b[36mUnitConst\u001b[39m\n",
       "defined \u001b[32mclass\u001b[39m \u001b[36mTopLevel\u001b[39m\n",
       "defined \u001b[32mfunction\u001b[39m \u001b[36mtypeEquals\u001b[39m\n",
       "defined \u001b[32mclass\u001b[39m \u001b[36mTypeErrorException\u001b[39m"
      ]
     },
     "execution_count": 2,
     "metadata": {},
     "output_type": "execute_result"
    }
   ],
   "source": [
    "sealed trait Type\n",
    "case object NumType extends Type\n",
    "case object BoolType extends Type\n",
    "case class FunType(t1: Type, t2: Type) extends Type\n",
    "case object UnitType extends Type\n",
    "case class RefType(t: Type) extends Type\n",
    "\n",
    "\n",
    "sealed trait Program\n",
    "sealed trait Expr\n",
    "case class Const(f: Double) extends Expr\n",
    "case class Ident(s: String) extends Expr\n",
    "case class Plus(e1: Expr, e2: Expr) extends Expr\n",
    "case class Minus(e1: Expr, e2: Expr) extends Expr\n",
    "case class Geq(e1: Expr, e2: Expr) extends Expr\n",
    "case class IfThenElse(e1: Expr, e2: Expr, e3: Expr) extends Expr\n",
    "case class Let(x: String, xType: Type, e1: Expr, e2: Expr) extends Expr\n",
    "case class FunDef(id: String, idType: Type, e: Expr) extends Expr\n",
    "case class FunCall(calledFun: Expr, argExpr: Expr) extends Expr\n",
    "case class NewRef(e: Expr) extends Expr\n",
    "case class DeRef(e: Expr) extends Expr\n",
    "case class AssignRef(e1: Expr, e2: Expr) extends Expr\n",
    "case object UnitConst extends Expr\n",
    "case class TopLevel(e: Expr) extends Program\n",
    "\n",
    "def typeEquals(t1: Type, t2: Type): Boolean = t1 == t2\n",
    "case class TypeErrorException(s: String) extends Exception\n"
   ]
  },
  {
   "cell_type": "markdown",
   "id": "71e869d4",
   "metadata": {
    "deletable": false,
    "editable": false,
    "nbgrader": {
     "cell_type": "markdown",
     "checksum": "a1c4b55e6e24af3fbc1498d8187ba6d5",
     "grade": false,
     "grade_id": "cell-017740fc289c1de0",
     "locked": true,
     "schema_version": 3,
     "solution": false,
     "task": false
    }
   },
   "source": [
    "Complete the missing portions of the type checker below. Rather than have a explicit typeerror type, please throw the exception `TypeErrorException` with an appropriate error message whenever a erroneous type is encountered."
   ]
  },
  {
   "cell_type": "code",
   "execution_count": 3,
   "id": "b5c1f68b",
   "metadata": {
    "ExecuteTime": {
     "end_time": "2023-04-30T12:40:39.970404Z",
     "start_time": "2023-04-30T12:40:35.152Z"
    },
    "deletable": false,
    "nbgrader": {
     "cell_type": "code",
     "checksum": "f150af33a720a536d4c871034aa339dd",
     "grade": false,
     "grade_id": "cell-6faa1004136586bf",
     "locked": false,
     "schema_version": 3,
     "solution": true,
     "task": false
    }
   },
   "outputs": [
    {
     "data": {
      "text/plain": [
       "defined \u001b[32mfunction\u001b[39m \u001b[36mtypeOf\u001b[39m\n",
       "defined \u001b[32mfunction\u001b[39m \u001b[36mtypeOfProgram\u001b[39m"
      ]
     },
     "execution_count": 3,
     "metadata": {},
     "output_type": "execute_result"
    }
   ],
   "source": [
    "def typeOf(e: Expr, alpha: Map[String, Type]): Type = {\n",
    "    def checkType(opName: String, e1: Expr, t1: Type, e2: Expr, t2: Type, resType: Type): Type = {\n",
    "        val t1hat = typeOf(e1, alpha)\n",
    "        if (! typeEquals(t1hat, t1)){\n",
    "            throw new TypeErrorException(s\"Type mismatch in arithmetic/comparison/bool op $opName, Expected type $t1, obtained $t1hat\")\n",
    "        }\n",
    "        \n",
    "        val t2hat = typeOf(e2, alpha)\n",
    "        if (! typeEquals(t2hat, t2)){\n",
    "            throw new TypeErrorException(s\"Type mismatch in arithmetic/comparison/bool op $opName, Expected type $t2, obtained $t2hat\")\n",
    "        }\n",
    "        \n",
    "        resType\n",
    "    }\n",
    "    \n",
    "    e match {\n",
    "        case Const(f) => NumType\n",
    "        case Ident(s) => {if (alpha contains s)\n",
    "                             alpha(s)\n",
    "                          else \n",
    "                             throw TypeErrorException(s\"Unknown identifier $s\")}\n",
    "        case Plus(e1, e2) =>  checkType(\"Plus\", e1,  NumType, e2, NumType, NumType)\n",
    "        case Minus(e1, e2) => checkType(\"Minus\",e1,  NumType, e2, NumType, NumType)\n",
    "        case Geq(e1, e2) => checkType(\"Geq\", e1,  NumType, e2, NumType, BoolType)\n",
    "        case IfThenElse(e, e1, e2) => {\n",
    "            val t = typeOf(e, alpha)\n",
    "            if (t == BoolType){\n",
    "                val t1 = typeOf(e1, alpha)\n",
    "                val t2 = typeOf(e2, alpha)\n",
    "                if (typeEquals(t1, t2))\n",
    "                    t1\n",
    "                else \n",
    "                    throw TypeErrorException(s\"If then else returns unequal types $t1 and $t2\")\n",
    "            } else {\n",
    "                throw TypeErrorException(s\"If then else condition expression not boolean $t\")\n",
    "            }\n",
    "        }\n",
    "\n",
    "        case Let(x, t, e1, e2) => {\n",
    "            val t1 = typeOf(e1, alpha)\n",
    "            if (typeEquals(t1, t)){\n",
    "                val newAlpha = alpha + (x -> t)\n",
    "                typeOf(e2, newAlpha)\n",
    "            } else {\n",
    "                throw TypeErrorException(s\"Let binding has type $t whereas it is bound to expression of type $t1\")\n",
    "            }\n",
    "        }\n",
    "\n",
    "        case FunDef(x, t1, e) => {\n",
    "            val newAlpha = alpha + (x -> t1)\n",
    "            val t2 = typeOf(e, newAlpha)\n",
    "            FunType(t1, t2)\n",
    "        }\n",
    "\n",
    "        case FunCall(e1, e2) => {\n",
    "            val ftype = typeOf(e1, alpha)\n",
    "            ftype match {\n",
    "                case FunType(t1, t2) => {\n",
    "                    val argType = typeOf(e2, alpha)\n",
    "                    if (typeEquals(argType, t1)){\n",
    "                        t2\n",
    "                    } else {\n",
    "                        throw TypeErrorException(s\"Call to function with incompatible argument type. Expected $t1, obtained $argType\")\n",
    "                    }\n",
    "                }\n",
    "                case _ => { throw TypeErrorException(s\"Call to function but with a non function type $ftype\")}\n",
    "\n",
    "            }\n",
    "        }\n",
    "\n",
    "        case NewRef(e) => {\n",
    "            // YOUR CODE HERE\n",
    "           val t = typeOf(e, alpha)\n",
    "           RefType(t)\n",
    "            \n",
    "        }\n",
    "        \n",
    "        case AssignRef(e1, e2) => {\n",
    "            // YOUR CODE HERE\n",
    "            val t1 = typeOf(e1, alpha)\n",
    "            val t2 = typeOf(e2, alpha)\n",
    "            \n",
    "        t1 match {\n",
    "            case RefType(t) => {\n",
    "                if (typeEquals(t, t2)) {\n",
    "                    UnitType\n",
    "                } else {\n",
    "                    throw TypeErrorException(s\"Type mismatch in assignment. Expected type $t, obtained $t2\")\n",
    "                }\n",
    "            }\n",
    "            case _ => {\n",
    "                throw TypeErrorException(s\"Invalid type for assignment. Expected RefType, obtained $t1\")\n",
    "            }\n",
    "        }\n",
    "           \n",
    "            \n",
    "        }\n",
    "        \n",
    "        case DeRef(e) => {\n",
    "            // YOUR CODE HERE\n",
    "           val t = typeOf(e, alpha)\n",
    "            t match {\n",
    "                case RefType(tInner) => tInner\n",
    "                case _ => throw TypeErrorException(s\"Dereferencing a non-reference type $t\")\n",
    "            }\n",
    "        }\n",
    "        \n",
    "    }\n",
    "}\n",
    "\n",
    "def typeOfProgram(p: Program) = p match {\n",
    "    case TopLevel(e) => {\n",
    "            val t = typeOf(e, Map())\n",
    "            println(s\"Program type computed successfully as $t\")\n",
    "            t\n",
    "    }\n",
    "}"
   ]
  },
  {
   "cell_type": "code",
   "execution_count": 4,
   "id": "1e92b50d",
   "metadata": {
    "ExecuteTime": {
     "end_time": "2023-04-30T12:40:40.563733Z",
     "start_time": "2023-04-30T12:40:35.154Z"
    },
    "deletable": false,
    "editable": false,
    "nbgrader": {
     "cell_type": "code",
     "checksum": "cb636628caa3a937c09aa8b949319dd7",
     "grade": true,
     "grade_id": "cell-6f73724acb8ccb1a",
     "locked": true,
     "points": 5,
     "schema_version": 3,
     "solution": false,
     "task": false
    }
   },
   "outputs": [
    {
     "name": "stdout",
     "output_type": "stream",
     "text": [
      "Program type computed successfully as NumType\n",
      "\n",
      "*** Tests Passed (5 points) ***\n"
     ]
    },
    {
     "data": {
      "text/plain": [
       "\u001b[36mp1\u001b[39m: \u001b[32mLet\u001b[39m = \u001b[33mLet\u001b[39m(\n",
       "  x = \u001b[32m\"x\"\u001b[39m,\n",
       "  xType = \u001b[33mRefType\u001b[39m(t = NumType),\n",
       "  e1 = \u001b[33mNewRef\u001b[39m(e = \u001b[33mConst\u001b[39m(f = \u001b[32m10.0\u001b[39m)),\n",
       "  e2 = \u001b[33mLet\u001b[39m(\n",
       "    x = \u001b[32m\"dummy\"\u001b[39m,\n",
       "    xType = UnitType,\n",
       "    e1 = \u001b[33mAssignRef\u001b[39m(e1 = \u001b[33mIdent\u001b[39m(s = \u001b[32m\"x\"\u001b[39m), e2 = \u001b[33mConst\u001b[39m(f = \u001b[32m30.0\u001b[39m)),\n",
       "    e2 = \u001b[33mDeRef\u001b[39m(e = \u001b[33mIdent\u001b[39m(s = \u001b[32m\"x\"\u001b[39m))\n",
       "  )\n",
       ")\n",
       "\u001b[36mt1\u001b[39m: \u001b[32mType\u001b[39m = NumType"
      ]
     },
     "execution_count": 4,
     "metadata": {},
     "output_type": "execute_result"
    }
   ],
   "source": [
    "//BEGIN TEST\n",
    "\n",
    "/* \n",
    "let x : ref(num) = NewRef(10 ) in \n",
    "   let dummy: unit = AssignRef(x, 30) in \n",
    "       DeRef(x)\n",
    "       */\n",
    "\n",
    "val p1 = Let(\"x\", RefType(NumType), NewRef(Const(10)), Let(\"dummy\", UnitType, AssignRef(Ident(\"x\"), Const(30) ), DeRef(Ident(\"x\"))) )\n",
    "val t1 = typeOfProgram(TopLevel(p1))\n",
    "assert(t1 == NumType, \"Test 1 failed: answer should be NumType\")\n",
    "passed(5)\n",
    "//END TEST"
   ]
  },
  {
   "cell_type": "code",
   "execution_count": 5,
   "id": "caa79485",
   "metadata": {
    "ExecuteTime": {
     "end_time": "2023-04-30T12:40:41.226179Z",
     "start_time": "2023-04-30T12:40:35.156Z"
    },
    "deletable": false,
    "editable": false,
    "nbgrader": {
     "cell_type": "code",
     "checksum": "e18053eb56dac45424b8f17479d47fed",
     "grade": true,
     "grade_id": "cell-363dfde24c07fca5",
     "locked": true,
     "points": 5,
     "schema_version": 3,
     "solution": false,
     "task": false
    }
   },
   "outputs": [
    {
     "name": "stdout",
     "output_type": "stream",
     "text": [
      "\n",
      "*** Tests Passed (5 points) ***\n"
     ]
    },
    {
     "data": {
      "text/plain": [
       "\u001b[36mfdef\u001b[39m: \u001b[32mFunDef\u001b[39m = \u001b[33mFunDef\u001b[39m(\n",
       "  id = \u001b[32m\"z\"\u001b[39m,\n",
       "  idType = NumType,\n",
       "  e = \u001b[33mPlus\u001b[39m(e1 = \u001b[33mIdent\u001b[39m(s = \u001b[32m\"z\"\u001b[39m), e2 = \u001b[33mConst\u001b[39m(f = \u001b[32m10.0\u001b[39m))\n",
       ")\n",
       "\u001b[36mp2\u001b[39m: \u001b[32mLet\u001b[39m = \u001b[33mLet\u001b[39m(\n",
       "  x = \u001b[32m\"x\"\u001b[39m,\n",
       "  xType = \u001b[33mRefType\u001b[39m(t = NumType),\n",
       "  e1 = \u001b[33mNewRef\u001b[39m(\n",
       "    e = \u001b[33mFunDef\u001b[39m(\n",
       "      id = \u001b[32m\"z\"\u001b[39m,\n",
       "      idType = NumType,\n",
       "      e = \u001b[33mPlus\u001b[39m(e1 = \u001b[33mIdent\u001b[39m(s = \u001b[32m\"z\"\u001b[39m), e2 = \u001b[33mConst\u001b[39m(f = \u001b[32m10.0\u001b[39m))\n",
       "    )\n",
       "  ),\n",
       "  e2 = \u001b[33mLet\u001b[39m(\n",
       "    x = \u001b[32m\"dummy\"\u001b[39m,\n",
       "    xType = UnitType,\n",
       "    e1 = \u001b[33mAssignRef\u001b[39m(e1 = \u001b[33mIdent\u001b[39m(s = \u001b[32m\"x\"\u001b[39m), e2 = \u001b[33mConst\u001b[39m(f = \u001b[32m30.0\u001b[39m)),\n",
       "    e2 = \u001b[33mDeRef\u001b[39m(e = \u001b[33mIdent\u001b[39m(s = \u001b[32m\"x\"\u001b[39m))\n",
       "  )\n",
       ")\n",
       "\u001b[36mt2\u001b[39m: \u001b[32mAny\u001b[39m = \u001b[32m\"OK -- caught a type error exception: Let binding has type RefType(NumType) whereas it is bound to expression of type RefType(FunType(NumType,NumType))\"\u001b[39m"
      ]
     },
     "execution_count": 5,
     "metadata": {},
     "output_type": "execute_result"
    }
   ],
   "source": [
    "//BEGIN TEST\n",
    "/* \n",
    "let x : ref(num) = NewRef(function(z: num) z + 10) in \n",
    "   let dummy: unit = AssignRef(x, 30) in \n",
    "       DeRef(x)\n",
    "       */\n",
    "val fdef = FunDef(\"z\", NumType, Plus(Ident(\"z\"), Const(10)))\n",
    "val p2 = Let(\"x\", RefType(NumType), NewRef(fdef), Let(\"dummy\", UnitType, AssignRef(Ident(\"x\"), Const(30) ), DeRef(Ident(\"x\"))) )\n",
    "val t2 = try {\n",
    "   typeOfProgram(TopLevel(p2))\n",
    "   assert(false, \"The program should not receive a type\")\n",
    "} catch {\n",
    "    case TypeErrorException(msg) => s\"OK -- caught a type error exception: $msg\"\n",
    "    case e => print(e); assert(false, \"Please throw TypeErrorException(message) when a type failure occurs\")\n",
    "}\n",
    "passed(5)\n",
    "//END TEST"
   ]
  },
  {
   "cell_type": "code",
   "execution_count": 6,
   "id": "16fe65b2",
   "metadata": {
    "ExecuteTime": {
     "end_time": "2023-04-30T12:40:41.989248Z",
     "start_time": "2023-04-30T12:40:35.159Z"
    },
    "deletable": false,
    "editable": false,
    "nbgrader": {
     "cell_type": "code",
     "checksum": "a5441ec424c8df551f6a1731754e2cfd",
     "grade": true,
     "grade_id": "cell-59b522c014f16641",
     "locked": true,
     "points": 5,
     "schema_version": 3,
     "solution": false,
     "task": false
    }
   },
   "outputs": [
    {
     "name": "stdout",
     "output_type": "stream",
     "text": [
      "Program type computed successfully as FunType(NumType,NumType)\n",
      "\n",
      "*** Tests Passed (5 points) ***\n"
     ]
    },
    {
     "data": {
      "text/plain": [
       "\u001b[36mfdef\u001b[39m: \u001b[32mFunDef\u001b[39m = \u001b[33mFunDef\u001b[39m(\n",
       "  id = \u001b[32m\"z\"\u001b[39m,\n",
       "  idType = NumType,\n",
       "  e = \u001b[33mPlus\u001b[39m(e1 = \u001b[33mIdent\u001b[39m(s = \u001b[32m\"z\"\u001b[39m), e2 = \u001b[33mConst\u001b[39m(f = \u001b[32m10.0\u001b[39m))\n",
       ")\n",
       "\u001b[36mp4\u001b[39m: \u001b[32mLet\u001b[39m = \u001b[33mLet\u001b[39m(\n",
       "  x = \u001b[32m\"x\"\u001b[39m,\n",
       "  xType = \u001b[33mRefType\u001b[39m(t = \u001b[33mFunType\u001b[39m(t1 = NumType, t2 = NumType)),\n",
       "  e1 = \u001b[33mNewRef\u001b[39m(\n",
       "    e = \u001b[33mFunDef\u001b[39m(\n",
       "      id = \u001b[32m\"z\"\u001b[39m,\n",
       "      idType = NumType,\n",
       "      e = \u001b[33mPlus\u001b[39m(e1 = \u001b[33mIdent\u001b[39m(s = \u001b[32m\"z\"\u001b[39m), e2 = \u001b[33mConst\u001b[39m(f = \u001b[32m10.0\u001b[39m))\n",
       "    )\n",
       "  ),\n",
       "  e2 = \u001b[33mLet\u001b[39m(\n",
       "    x = \u001b[32m\"dummy\"\u001b[39m,\n",
       "    xType = UnitType,\n",
       "    e1 = \u001b[33mAssignRef\u001b[39m(e1 = \u001b[33mNewRef\u001b[39m(e = \u001b[33mConst\u001b[39m(f = \u001b[32m35.0\u001b[39m)), e2 = \u001b[33mConst\u001b[39m(f = \u001b[32m30.0\u001b[39m)),\n",
       "    e2 = \u001b[33mDeRef\u001b[39m(e = \u001b[33mIdent\u001b[39m(s = \u001b[32m\"x\"\u001b[39m))\n",
       "  )\n",
       ")\n",
       "\u001b[36mt4\u001b[39m: \u001b[32mType\u001b[39m = \u001b[33mFunType\u001b[39m(t1 = NumType, t2 = NumType)"
      ]
     },
     "execution_count": 6,
     "metadata": {},
     "output_type": "execute_result"
    }
   ],
   "source": [
    "//BEGIN TEST\n",
    "/* \n",
    "let x : ref(num => num) = NewRef(function(z: num) z + 10) in \n",
    "   let dummy: unit = AssignRef(NewRef(35), 30) in \n",
    "       DeRef(x)\n",
    "       */\n",
    "val fdef = FunDef(\"z\", NumType, Plus(Ident(\"z\"), Const(10)))\n",
    "val p4 = Let(\"x\", RefType(FunType(NumType, NumType)), NewRef(fdef), Let(\"dummy\", UnitType, AssignRef(NewRef(Const(35)), Const(30) ), DeRef(Ident(\"x\"))) )\n",
    "val t4 =  typeOfProgram(TopLevel(p4))\n",
    "assert(t4 == FunType(NumType, NumType), \"Test failed\")\n",
    "passed(5)\n",
    "//END TEST"
   ]
  },
  {
   "cell_type": "code",
   "execution_count": 7,
   "id": "49ff6bf9",
   "metadata": {
    "ExecuteTime": {
     "end_time": "2023-04-30T12:40:42.654369Z",
     "start_time": "2023-04-30T12:40:35.162Z"
    },
    "deletable": false,
    "editable": false,
    "nbgrader": {
     "cell_type": "code",
     "checksum": "190b708e2bb080db16b0c77f7fd09bff",
     "grade": true,
     "grade_id": "cell-aef5ba27eb9d0fde",
     "locked": true,
     "points": 5,
     "schema_version": 3,
     "solution": false,
     "task": false
    }
   },
   "outputs": [
    {
     "name": "stdout",
     "output_type": "stream",
     "text": [
      "Program type computed successfully as FunType(NumType,NumType)\n",
      "\n",
      "*** Tests Passed (5 points) ***\n"
     ]
    },
    {
     "data": {
      "text/plain": [
       "\u001b[36mfdef\u001b[39m: \u001b[32mFunDef\u001b[39m = \u001b[33mFunDef\u001b[39m(\n",
       "  id = \u001b[32m\"z\"\u001b[39m,\n",
       "  idType = NumType,\n",
       "  e = \u001b[33mPlus\u001b[39m(e1 = \u001b[33mIdent\u001b[39m(s = \u001b[32m\"z\"\u001b[39m), e2 = \u001b[33mConst\u001b[39m(f = \u001b[32m10.0\u001b[39m))\n",
       ")\n",
       "\u001b[36mp4\u001b[39m: \u001b[32mLet\u001b[39m = \u001b[33mLet\u001b[39m(\n",
       "  x = \u001b[32m\"x\"\u001b[39m,\n",
       "  xType = \u001b[33mRefType\u001b[39m(t = \u001b[33mFunType\u001b[39m(t1 = NumType, t2 = NumType)),\n",
       "  e1 = \u001b[33mNewRef\u001b[39m(\n",
       "    e = \u001b[33mFunDef\u001b[39m(\n",
       "      id = \u001b[32m\"z\"\u001b[39m,\n",
       "      idType = NumType,\n",
       "      e = \u001b[33mPlus\u001b[39m(e1 = \u001b[33mIdent\u001b[39m(s = \u001b[32m\"z\"\u001b[39m), e2 = \u001b[33mConst\u001b[39m(f = \u001b[32m10.0\u001b[39m))\n",
       "    )\n",
       "  ),\n",
       "  e2 = \u001b[33mLet\u001b[39m(\n",
       "    x = \u001b[32m\"dummy\"\u001b[39m,\n",
       "    xType = UnitType,\n",
       "    e1 = \u001b[33mAssignRef\u001b[39m(e1 = \u001b[33mNewRef\u001b[39m(e = \u001b[33mConst\u001b[39m(f = \u001b[32m35.0\u001b[39m)), e2 = \u001b[33mConst\u001b[39m(f = \u001b[32m30.0\u001b[39m)),\n",
       "    e2 = \u001b[33mDeRef\u001b[39m(e = \u001b[33mIdent\u001b[39m(s = \u001b[32m\"x\"\u001b[39m))\n",
       "  )\n",
       ")\n",
       "\u001b[36mt4\u001b[39m: \u001b[32mType\u001b[39m = \u001b[33mFunType\u001b[39m(t1 = NumType, t2 = NumType)"
      ]
     },
     "execution_count": 7,
     "metadata": {},
     "output_type": "execute_result"
    }
   ],
   "source": [
    "//BEGIN TEST\n",
    "/* \n",
    "let x : ref(num => num) = NewRef(function(z: num) z + 10) in \n",
    "   let dummy: unit = AssignRef(NewRef(35), 30) in \n",
    "       DeRef(x)\n",
    "       */\n",
    "val fdef = FunDef(\"z\", NumType, Plus(Ident(\"z\"), Const(10)))\n",
    "val p4 = Let(\"x\", RefType(FunType(NumType, NumType)), NewRef(fdef), Let(\"dummy\", UnitType, AssignRef(NewRef(Const(35)), Const(30) ), DeRef(Ident(\"x\"))) )\n",
    "val t4 =  typeOfProgram(TopLevel(p4))\n",
    "assert(t4 == FunType(NumType, NumType), \"Test failed\")\n",
    "passed(5)\n",
    "//END TEST"
   ]
  },
  {
   "cell_type": "markdown",
   "id": "3c13c7d1-8051-4e4b-b740-9ef0fe3edc65",
   "metadata": {
    "deletable": false,
    "editable": false,
    "nbgrader": {
     "cell_type": "markdown",
     "checksum": "9479542fda61b49a21ad07c4261291fe",
     "grade": false,
     "grade_id": "cell-e4796f063b9f5111",
     "locked": true,
     "schema_version": 3,
     "solution": false,
     "task": false
    }
   },
   "source": [
    "## Problem 2 (20 points)\n",
    "\n",
    "Suppose we wish to define an abstract class called `Shape` that is a three-dimensional geometric shape. It needs to have methods such as  `getCenter`,  and `translate`.\n",
    "\n",
    "  - `getCenter` : Gets the center of the shape. For a polyhedron the center is the \"average\" of the coordinates of its vertices. For a sphere/ellipsoid, the center is part of the description of the object (see below).\n",
    "  - `translate`: Translates the shape along some given values of `xShift`, `yShift`, and `zShift`.\n",
    "\n",
    "\n",
    "We will define a trait called `WithCorners` that define shapes with corners. This trait will implement a function called `getVertices`.\n",
    "\n",
    "There are many classes that inherit from `Shape` including `Polyhedron` and `Ellipsoid`. The classes `Pyramid` and `Cuboid` inherit from `Polyhedron` and `Sphere` inherits from `Ellipsoid`. \n",
    "\n",
    "Also the class `Polyhedron` and all its derived classes must mixin the trait `WithCorners` but the class `Ellipsoid` and its derived classes should not.\n",
    "\n",
    "- class `Pyramid(x0: (Double, Double, Double), x1: (Double, Double, Double), x2: (Double, Double, Double), x3: (Double, Double, Double))` must have four class parameters representing the four corners of the pyramid.\n",
    "  - It must inherit from `Polyhedron`.\n",
    "  - It must mixin the trait `WithCorners`.\n",
    "  - It must override the `translate` method so that `translate` called on a `Pyramid` returns an instance of a `Pyramid`.\n",
    "  \n",
    "- class `Cuboid(lowerLeft: (Double, Double, Double), length: Double, width: Double, height:Double)` must have the class parameters representing the lower left coordinate, length,  width, and height.\n",
    "  - It must inherit from `Polyheron`.\n",
    "  - It must mixin the trait `WithCorners`.\n",
    "  - It must override the `translate` method so that `translate` called on a `Cuboid` returns an instance of a `Cuboid`.\n",
    "  \n",
    "- class `Sphere(center: (Double, Double, Double), rad: Double)` must have its center coordinate and radius as class paramters.\n",
    "  - It must inherit from Ellipsoid.\n",
    "  - It must override the `translate` method so that `translate` called on a `Sphere` returns an instance of a `Sphere`.\n",
    "\n",
    "\n",
    "\n",
    "\n",
    "\n",
    "### Part A\n",
    "Complete the definitions below so that your code compiles.\n",
    "\n",
    "**Restrictions** No loops, mutables (var) or recursion. Please use functors `map`, `foldLeft` etc.. when possible.\n"
   ]
  },
  {
   "cell_type": "code",
   "execution_count": 8,
   "id": "3b3e55d0-b4f1-4703-927c-265df873b7d0",
   "metadata": {
    "ExecuteTime": {
     "end_time": "2023-04-30T12:40:43.297344Z",
     "start_time": "2023-04-30T12:40:35.164Z"
    },
    "deletable": false,
    "nbgrader": {
     "cell_type": "code",
     "checksum": "2dd9a44c4a4ee88bf3376df48672c28d",
     "grade": false,
     "grade_id": "cell-428be4a49e904740",
     "locked": false,
     "schema_version": 3,
     "solution": true,
     "task": false
    }
   },
   "outputs": [
    {
     "data": {
      "text/plain": [
       "defined \u001b[32mclass\u001b[39m \u001b[36mShape\u001b[39m\n",
       "defined \u001b[32mtrait\u001b[39m \u001b[36mWithCorners\u001b[39m\n",
       "defined \u001b[32mclass\u001b[39m \u001b[36mEllipsoid\u001b[39m\n",
       "defined \u001b[32mclass\u001b[39m \u001b[36mPolyhedron\u001b[39m\n",
       "defined \u001b[32mclass\u001b[39m \u001b[36mPyramid\u001b[39m\n",
       "defined \u001b[32mclass\u001b[39m \u001b[36mCuboid\u001b[39m\n",
       "defined \u001b[32mclass\u001b[39m \u001b[36mSphere\u001b[39m"
      ]
     },
     "execution_count": 8,
     "metadata": {},
     "output_type": "execute_result"
    }
   ],
   "source": [
    "abstract class Shape {\n",
    "    def getCenter:(Double, Double, Double)\n",
    "    def translate(xShift: Double, yShift: Double, zShift: Double): Shape\n",
    "}\n",
    "\n",
    "trait WithCorners {\n",
    "    def getVertices: List[(Double, Double, Double)]\n",
    "}\n",
    "\n",
    "class Ellipsoid(val center: (Double, Double, Double), val axisLengths: (Double, Double, Double)) extends Shape {\n",
    "    //TODO: Finish the methods that need to be implemented.\n",
    "    // YOUR CODE HERE\n",
    "    def getCenter:(Double, Double, Double) = center\n",
    "    def translate(xShift: Double, yShift: Double, zShift: Double):Ellipsoid = {\n",
    "        new Ellipsoid((center._1 + xShift, center._2+ yShift, center._3 + zShift), axisLengths) \n",
    "    }\n",
    "} \n",
    "\n",
    "class Polyhedron(val listOfVerts: List[(Double, Double, Double)]) extends Shape with WithCorners {\n",
    "     assert(listOfVerts.length >= 1)\n",
    "    // TODO: Finish the methods that need to be implemented.\n",
    "    // YOUR CODE HERE\n",
    "    def getVertices: List[(Double, Double, Double)] = listOfVerts\n",
    "    def getCenter:(Double, Double, Double) = {\n",
    "        val n = listOfVerts.length\n",
    "        val (xSum, ySum, zSum) = listOfVerts.foldLeft((0.0, 0.0, 0.0)) {\n",
    "            case ((xAcc, yAcc, zAcc), (x, y, z)) => (xAcc + x, yAcc + y, zAcc + z)\n",
    "        }\n",
    "    (xSum/n, ySum/n, zSum/n)\n",
    "    }\n",
    "    def translate(xShift: Double, yShift: Double, zShift: Double): Polyhedron = {\n",
    "        val translated = new Polyhedron(listOfVerts.map(a => (a._1 + xShift, a._2 + yShift, a._3 + zShift)))\n",
    "        translated\n",
    "    }\n",
    "}\n",
    "\n",
    "//TODO: Complete definitions of pyramid, cuboid and sphere classes as specified.\n",
    "// YOUR CODE HERE\n",
    "class Pyramid(x0: (Double, Double, Double), x1: (Double, Double, Double), x2: (Double, Double, Double), x3: (Double, Double, Double)) extends Polyhedron(List(x0, x1, x2, x3)) with WithCorners \n",
    "{\n",
    "  override def getVertices: List[(Double, Double, Double)] = listOfVerts\n",
    "  override def translate(x: Double, y: Double, z: Double): Pyramid = {\n",
    "    val translatedVertices = listOfVerts.map(v => (v._1 + x, v._2 + y, v._3 + z))\n",
    "    new Pyramid(translatedVertices(0), translatedVertices(1), translatedVertices(2), translatedVertices(3))\n",
    "  }\n",
    "}\n",
    "class Cuboid(lowerLeft: (Double, Double, Double), length: Double, width: Double, height: Double) extends Polyhedron(List(\n",
    "    lowerLeft,\n",
    "    (lowerLeft._1 + length, lowerLeft._2, lowerLeft._3),\n",
    "    (lowerLeft._1 + length, lowerLeft._2 + width, lowerLeft._3),\n",
    "    (lowerLeft._1, lowerLeft._2 + width, lowerLeft._3),\n",
    "    (lowerLeft._1, lowerLeft._2, lowerLeft._3 + height),\n",
    "    (lowerLeft._1 + length, lowerLeft._2, lowerLeft._3 + height),\n",
    "    (lowerLeft._1 + length, lowerLeft._2 + width, lowerLeft._3 + height),\n",
    "    (lowerLeft._1, lowerLeft._2 + width, lowerLeft._3 + height)\n",
    "    )) with WithCorners\n",
    "{\n",
    "    override def getVertices: List[(Double, Double, Double)] = listOfVerts\n",
    "    override def translate(x:Double, y:Double, z:Double): Cuboid =  {\n",
    "       val left = (lowerLeft._1 + x, lowerLeft._2 + y, lowerLeft._3 + z)\n",
    "        new Cuboid(left, length, width, height)\n",
    "    }\n",
    "\n",
    "}\n",
    "class Sphere(override val center: (Double, Double, Double), val rad: Double) extends Ellipsoid(center, (rad, rad, rad)) {\n",
    "    override def getCenter: (Double, Double, Double) = center\n",
    "    override def translate(x: Double, y: Double, z: Double): Sphere = {\n",
    "        new Sphere((center._1 + x, center._2 + y, center._3 + z), rad)\n",
    "    }\n",
    "}\n",
    "\n"
   ]
  },
  {
   "cell_type": "code",
   "execution_count": 9,
   "id": "5cbe98eb-f39d-4df8-b75c-bb13ec737008",
   "metadata": {
    "ExecuteTime": {
     "end_time": "2023-04-30T12:40:43.699674Z",
     "start_time": "2023-04-30T12:40:35.168Z"
    },
    "deletable": false,
    "editable": false,
    "nbgrader": {
     "cell_type": "code",
     "checksum": "014b0495c63c418bffb57988f027435f",
     "grade": true,
     "grade_id": "cell-de603f4cbf020136",
     "locked": true,
     "points": 5,
     "schema_version": 3,
     "solution": false,
     "task": false
    }
   },
   "outputs": [
    {
     "name": "stdout",
     "output_type": "stream",
     "text": [
      "\n",
      "*** Tests Passed (5 points) ***\n"
     ]
    },
    {
     "data": {
      "text/plain": [
       "\u001b[36mel1\u001b[39m: \u001b[32mEllipsoid\u001b[39m = ammonite.$sess.cmd7$Helper$Ellipsoid@25ecdfbd\n",
       "\u001b[36mel2\u001b[39m: \u001b[32mEllipsoid\u001b[39m = ammonite.$sess.cmd7$Helper$Ellipsoid@3c4a747a\n",
       "\u001b[36mpl1\u001b[39m: \u001b[32mPolyhedron\u001b[39m = ammonite.$sess.cmd7$Helper$Polyhedron@4c79e3cd"
      ]
     },
     "execution_count": 9,
     "metadata": {},
     "output_type": "execute_result"
    }
   ],
   "source": [
    "val el1 = new Ellipsoid((5.0, -3.5, 0.0), (2.1, 1.3, 2.0))\n",
    "val el2 = el1.translate(3,4,3)\n",
    "assert (el2.center == (8.0, 0.5, 3.0), \"Test failed: After translation, the center must be (8,0.5,3.0)\")\n",
    "\n",
    "val pl1 = new Polyhedron(List((0,0,0), (2,1,2)))\n",
    "assert (pl1.getCenter == (1.0, 0.5, 1.0), \"center must be (1,0.5)\")\n",
    "\n",
    "passed(5)"
   ]
  },
  {
   "cell_type": "code",
   "execution_count": 10,
   "id": "ae96fc4b-8b72-43e3-bcf5-ae16fb56507b",
   "metadata": {
    "ExecuteTime": {
     "end_time": "2023-04-30T12:40:44.101197Z",
     "start_time": "2023-04-30T12:40:35.170Z"
    },
    "deletable": false,
    "editable": false,
    "nbgrader": {
     "cell_type": "code",
     "checksum": "8a9632f6360e2c3115893afd3930105a",
     "grade": true,
     "grade_id": "cell-bb25e2ecb0f4b823",
     "locked": true,
     "points": 5,
     "schema_version": 3,
     "solution": false,
     "task": false
    }
   },
   "outputs": [
    {
     "name": "stdout",
     "output_type": "stream",
     "text": [
      "(2.125,1.625,1.75)\n",
      "*** Tests Passed (5 points) ***\n"
     ]
    },
    {
     "data": {
      "text/plain": [
       "\u001b[36mpyr\u001b[39m: \u001b[32mPyramid\u001b[39m = ammonite.$sess.cmd7$Helper$Pyramid@526ec1da\n",
       "\u001b[36mpyr2\u001b[39m: \u001b[32mPyramid\u001b[39m = ammonite.$sess.cmd7$Helper$Pyramid@79889cd"
      ]
     },
     "execution_count": 10,
     "metadata": {},
     "output_type": "execute_result"
    }
   ],
   "source": [
    "val pyr = new Pyramid( (0,0, 0), (2,0,0), (1,1,0), (1.5, 1.5, 3))\n",
    "val pyr2 = pyr.translate(1,1,1)\n",
    "assert (pyr2.isInstanceOf[Pyramid])\n",
    "print(pyr2.getCenter)\n",
    "assert(pyr2.getCenter._1 == 2.125)\n",
    "assert(pyr2.getCenter._3 == 1.75)\n",
    "passed(5)"
   ]
  },
  {
   "cell_type": "code",
   "execution_count": 11,
   "id": "6764915e-bba7-4d67-abb4-d115b5cf9c1e",
   "metadata": {
    "ExecuteTime": {
     "end_time": "2023-04-30T12:40:44.652298Z",
     "start_time": "2023-04-30T12:40:35.171Z"
    },
    "deletable": false,
    "editable": false,
    "nbgrader": {
     "cell_type": "code",
     "checksum": "c011ddc6cea1fdb722288e3e031186bd",
     "grade": true,
     "grade_id": "cell-69f9725f27d07f68",
     "locked": true,
     "points": 5,
     "schema_version": 3,
     "solution": false,
     "task": false
    }
   },
   "outputs": [
    {
     "name": "stdout",
     "output_type": "stream",
     "text": [
      "(0.0,0.0,0.0)(1.0,1.0,1.0)\n",
      "*** Tests Passed (5 points) ***\n"
     ]
    },
    {
     "data": {
      "text/plain": [
       "\u001b[36mcub\u001b[39m: \u001b[32mCuboid\u001b[39m = ammonite.$sess.cmd7$Helper$Cuboid@5b8a5ece\n",
       "\u001b[36mlistOfVerts\u001b[39m: \u001b[32mList\u001b[39m[(\u001b[32mDouble\u001b[39m, \u001b[32mDouble\u001b[39m, \u001b[32mDouble\u001b[39m)] = \u001b[33mList\u001b[39m(\n",
       "  (\u001b[32m-1.0\u001b[39m, \u001b[32m-1.0\u001b[39m, \u001b[32m-1.0\u001b[39m),\n",
       "  (\u001b[32m1.0\u001b[39m, \u001b[32m-1.0\u001b[39m, \u001b[32m-1.0\u001b[39m),\n",
       "  (\u001b[32m1.0\u001b[39m, \u001b[32m1.0\u001b[39m, \u001b[32m-1.0\u001b[39m),\n",
       "  (\u001b[32m-1.0\u001b[39m, \u001b[32m1.0\u001b[39m, \u001b[32m-1.0\u001b[39m),\n",
       "  (\u001b[32m-1.0\u001b[39m, \u001b[32m-1.0\u001b[39m, \u001b[32m1.0\u001b[39m),\n",
       "  (\u001b[32m1.0\u001b[39m, \u001b[32m-1.0\u001b[39m, \u001b[32m1.0\u001b[39m),\n",
       "  (\u001b[32m1.0\u001b[39m, \u001b[32m1.0\u001b[39m, \u001b[32m1.0\u001b[39m),\n",
       "  (\u001b[32m-1.0\u001b[39m, \u001b[32m1.0\u001b[39m, \u001b[32m1.0\u001b[39m)\n",
       ")\n",
       "\u001b[36mcub2\u001b[39m: \u001b[32mCuboid\u001b[39m = ammonite.$sess.cmd7$Helper$Cuboid@60721ee6"
      ]
     },
     "execution_count": 11,
     "metadata": {},
     "output_type": "execute_result"
    }
   ],
   "source": [
    "val cub = new Cuboid((-1,-1,-1), 2, 2, 2)\n",
    "val listOfVerts = cub.getVertices\n",
    "assert(listOfVerts.length == 8)\n",
    "print(cub.getCenter)\n",
    "assert (cub.getCenter == (0,0,0))\n",
    "val cub2: Cuboid = cub.translate(1,1,1)\n",
    "print(cub2.getCenter)\n",
    "assert(cub2.getCenter == (1,1,1))\n",
    "passed(5)"
   ]
  },
  {
   "cell_type": "code",
   "execution_count": 12,
   "id": "5f0a5e1c-4bb7-4619-a18a-d8c44fcea20f",
   "metadata": {
    "ExecuteTime": {
     "end_time": "2023-04-30T12:40:45.125517Z",
     "start_time": "2023-04-30T12:40:35.173Z"
    },
    "deletable": false,
    "editable": false,
    "nbgrader": {
     "cell_type": "code",
     "checksum": "d150f7cfec744694f2e907428b372f8f",
     "grade": true,
     "grade_id": "cell-2552e13b91f16974",
     "locked": true,
     "points": 5,
     "schema_version": 3,
     "solution": false,
     "task": false
    }
   },
   "outputs": [
    {
     "name": "stdout",
     "output_type": "stream",
     "text": [
      "\n",
      "*** Tests Passed (5 points) ***\n"
     ]
    },
    {
     "data": {
      "text/plain": [
       "\u001b[36mspr\u001b[39m: \u001b[32mSphere\u001b[39m = ammonite.$sess.cmd7$Helper$Sphere@3f22e9cd\n",
       "\u001b[36mnew_spr\u001b[39m: \u001b[32mSphere\u001b[39m = ammonite.$sess.cmd7$Helper$Sphere@6ead4288"
      ]
     },
     "execution_count": 12,
     "metadata": {},
     "output_type": "execute_result"
    }
   ],
   "source": [
    "val spr = new Sphere((1,1,1), 3)\n",
    "val new_spr: Sphere = spr.translate(2,2,2)\n",
    "assert (new_spr.center == (3,3,3))\n",
    "assert (new_spr.rad == 3)\n",
    "passed(5)"
   ]
  },
  {
   "cell_type": "code",
   "execution_count": null,
   "id": "f00d3f6e",
   "metadata": {},
   "outputs": [],
   "source": []
  }
 ],
 "metadata": {
  "kernelspec": {
   "display_name": "Scala",
   "language": "scala",
   "name": "scala"
  },
  "language_info": {
   "codemirror_mode": "text/x-scala",
   "file_extension": ".sc",
   "mimetype": "text/x-scala",
   "name": "scala",
   "nbconvert_exporter": "script",
   "version": "2.13.10"
  }
 },
 "nbformat": 4,
 "nbformat_minor": 5
}
