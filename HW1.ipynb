{
 "cells": [
  {
   "cell_type": "markdown",
   "id": "czech-commander",
   "metadata": {},
   "source": [
    "Before you turn this problem in, make sure everything runs as expected. First, **restart the kernel** (in the menubar, select Kernel$\\rightarrow$Restart) and then **run all cells** (in the menubar, select Cell$\\rightarrow$Run All).\n",
    "\n",
    "Make sure you fill in any place that says `???` or \"YOUR ANSWER HERE\"."
   ]
  },
  {
   "cell_type": "markdown",
   "id": "three-privilege",
   "metadata": {},
   "source": [
    "---"
   ]
  },
  {
   "cell_type": "markdown",
   "id": "65313781",
   "metadata": {
    "deletable": false,
    "editable": false,
    "nbgrader": {
     "cell_type": "markdown",
     "checksum": "9ec2c15310de7fd5337f6cb8ce19dfbb",
     "grade": false,
     "grade_id": "cell-ad942997647f0afb",
     "locked": true,
     "schema_version": 3,
     "solution": false,
     "task": false
    }
   },
   "source": [
    "# CSCI 3155 Assignment 1 : Scala Programming\n",
    "\n",
    "This assignment asks you to write scala programs. There are restrictions associated with how you can solve these problems. Please pay careful heed to those. If you are unsure ask your TA or post on piazza. \n",
    "\n",
    "Note: `???` indicates that there is a missing function or code fragment that needs to be filled in. In scala, \n",
    "it is also a macro that throws a `NotImplemented` exception. Make sure that you remove the `???` and replace it with the answer. \n",
    "\n",
    "Use the test cases provided to test them. You are also encouraged to write your own test cases to help debug your work. However, please delete any extra cells you may have created lest they break our autograder.\n",
    "\n",
    "**Very Important:** Please run the cell that defines the functions `passed` and `testWithMessage` below whenever you restart the notebook."
   ]
  },
  {
   "cell_type": "code",
   "execution_count": 1,
   "id": "295fabdf",
   "metadata": {
    "deletable": false,
    "editable": false,
    "nbgrader": {
     "cell_type": "code",
     "checksum": "6376fb6a61e7b5b9551e693fed9d8056",
     "grade": false,
     "grade_id": "cell-ebccb4a9c552a099",
     "locked": true,
     "schema_version": 3,
     "solution": false,
     "task": false
    }
   },
   "outputs": [
    {
     "data": {
      "text/plain": [
       "defined \u001b[32mfunction\u001b[39m \u001b[36mpassed\u001b[39m\n",
       "defined \u001b[32mfunction\u001b[39m \u001b[36mtestWithMessage\u001b[39m"
      ]
     },
     "execution_count": 1,
     "metadata": {},
     "output_type": "execute_result"
    }
   ],
   "source": [
    "// TEST HELPER\n",
    "\n",
    "// FIRST RUN THIS CELL EVERY TIME YOU START THE NOTEBOOK\n",
    "\n",
    "def passed(points: Int) {\n",
    "    require(points >=0)\n",
    "    if (points == 1) print(s\"\\n*** Tests Passed (1 point) ***\\n\")\n",
    "    else print(s\"\\n*** Tests Passed ($points points) ***\\n\")\n",
    "}\n",
    "\n",
    "def testWithMessage[T](v1: T, expected: T, testID: String) = { \n",
    "    println(s\"Test $testID\"); \n",
    "    println(s\"\\t Expected: $expected, your code returned: $v1\")\n",
    "    assert (v1 == expected, s\"Test $testID FAILED.\")\n",
    "    println(\"\\t Passed!\")\n",
    "}"
   ]
  },
  {
   "cell_type": "code",
   "execution_count": 2,
   "id": "f0ab97dc",
   "metadata": {
    "deletable": false,
    "nbgrader": {
     "cell_type": "code",
     "checksum": "f6d157f3ce4693f0d0f83023085503dc",
     "grade": false,
     "grade_id": "cell-e5177772a6bb98cf",
     "locked": false,
     "schema_version": 3,
     "solution": true,
     "task": false
    },
    "scrolled": true
   },
   "outputs": [
    {
     "data": {
      "text/plain": [
       "defined \u001b[32mfunction\u001b[39m \u001b[36moutputConsecutivePairs\u001b[39m"
      ]
     },
     "execution_count": 2,
     "metadata": {},
     "output_type": "execute_result"
    }
   ],
   "source": [
    "def outputConsecutivePairs(list:List[(Int, Int)]): List[(Int, Int)] =\n",
    "{\n",
    "    var lst: List[(Int, Int)] = List(); \n",
    "    for (p <- list)\n",
    "    {\n",
    "        if(p._1 - p._2 <= 1 && p._1 - p._2 >= -1)\n",
    "        {\n",
    "            lst = lst :+ ((p._1, p._2));\n",
    "        }\n",
    "    }\n",
    "    return lst;\n",
    "}\n"
   ]
  },
  {
   "cell_type": "markdown",
   "id": "f9c46076",
   "metadata": {
    "deletable": false,
    "editable": false,
    "nbgrader": {
     "cell_type": "markdown",
     "checksum": "ae26bb4083208ad2da947be02dcc7b3b",
     "grade": false,
     "grade_id": "cell-cca34383b7e9353c",
     "locked": true,
     "schema_version": 3,
     "solution": false,
     "task": false
    }
   },
   "source": [
    "## Problem 1 \n",
    "\n",
    "### Part (A) , 5 points.\n",
    "\n",
    "Given a list of pairs of integers, for example\n",
    "\n",
    "~~~\n",
    "List( (1, 5), (2, 7), (15, 14), (18, 19), (14, 28), (0,0), (35, 24) )\n",
    "~~~\n",
    "\n",
    "Output a list consisting of just those pairs $(n_1, n_2)$ in the original list wherein $ | n_1 - n_2 | \\leq 1 $. Ensure that the order of the elements in the output list is the same as that in the input list.\n",
    "\n",
    "For the example above, the expected output is:\n",
    "\n",
    "~~~\n",
    "List( (15,14), (18,19), (0,0) )\n",
    "~~~\n",
    "\n",
    "__Note__\n",
    "\n",
    "  - Your function must be called `outputConsecutivePairs` with just one argument that  must be a list of pairs of integers. It must return a list of pairs of integers.\n",
    "  - You can use for-loops and the following operators for concatenating elements to list.\n",
    "      - `::` or cons appends an element to the front of a list.\n",
    "      - `:+` appends an element to the back of a list.\n",
    "      - `++` appends two lists together.\n",
    "  - You can use list API functions: `reverse` and `length`\n",
    "  - You should not use any other list API functions including `filter`, `map`, `foldLeft`, `foldRight` and so on. \n",
    "    - Plenty of time to learn them properly later on. \n",
    "  - Do not try to convert your list to an array or vector so that you can mutate it.\n",
    "  - If you are unable to solve the problem without violating the restrictions or unsure, ask us privately on piazza or ask a TA during office hours.\n",
    "  - There are no restrictions on the use of vars.\n",
    "\n",
    "__Hints__\n",
    "\n",
    " - In Scala, pairs of integers have the type `(Int, Int)` \n",
    " - A list containing pairs of integers has the type : `List[ (Int, Int) ]`. \n",
    " - Here is how one iterates over the elements of a list in Scala\n",
    "~~~\n",
    "  for (elt <- list) {\n",
    "    // do stuff with elt\n",
    "    }\n",
    "~~~\n",
    " - Appending an element to the end of a list (see below). \n",
    "~~~\n",
    "  result_list = result_list :+ elt // result_list must be declared as a var\n",
    "~~~\n",
    " - Appending an element to the front of a list :\n",
    " ~~~\n",
    " result_list = elt:: result_list // using cons\n",
    " ~~~\n",
    " - Appending an element to the end of a list \n",
    " ~~~\n",
    " result_list = result_list ++ List(elt) // use list concatenation\n",
    " ~~~\n",
    " - Warning: The append at end of a list `:+` (or other operations like list concat `++`) operation takes $O(n)$ time, where $n$ is the size of the list. We will often try to avoid it. But OK to use it for this particular part of problem 1.\n",
    " "
   ]
  },
  {
   "cell_type": "code",
   "execution_count": 3,
   "id": "0439e2bb",
   "metadata": {
    "deletable": false,
    "editable": false,
    "nbgrader": {
     "cell_type": "code",
     "checksum": "fc6c275ba1869ec823550d4866584020",
     "grade": true,
     "grade_id": "cell-d5751cda70aace19",
     "locked": true,
     "points": 5,
     "schema_version": 3,
     "solution": false,
     "task": false
    }
   },
   "outputs": [
    {
     "name": "stdout",
     "output_type": "stream",
     "text": [
      "Test test1\n",
      "\t Expected: List((1,1)), your code returned: List((1,1))\n",
      "\t Passed!\n",
      "Test test2\n",
      "\t Expected: List((1,2), (2,1), (1,0), (0,1), (1,1)), your code returned: List((1,2), (2,1), (1,0), (0,1), (1,1))\n",
      "\t Passed!\n",
      "Test test3\n",
      "\t Expected: List(), your code returned: List()\n",
      "\t Passed!\n",
      "Test test4\n",
      "\t Expected: List((1,2), (-5,-4)), your code returned: List((1,2), (-5,-4))\n",
      "\t Passed!\n",
      "\n",
      "*** Tests Passed (5 points) ***\n"
     ]
    },
    {
     "data": {
      "text/plain": [
       "\u001b[36mlst1\u001b[39m: \u001b[32mList\u001b[39m[(\u001b[32mInt\u001b[39m, \u001b[32mInt\u001b[39m)] = \u001b[33mList\u001b[39m((\u001b[32m1\u001b[39m, \u001b[32m1\u001b[39m), (\u001b[32m-1\u001b[39m, \u001b[32m1\u001b[39m), (\u001b[32m1\u001b[39m, \u001b[32m-1\u001b[39m))\n",
       "\u001b[36mout1\u001b[39m: \u001b[32mList\u001b[39m[(\u001b[32mInt\u001b[39m, \u001b[32mInt\u001b[39m)] = \u001b[33mList\u001b[39m((\u001b[32m1\u001b[39m, \u001b[32m1\u001b[39m))\n",
       "\u001b[36mlst2\u001b[39m: \u001b[32mList\u001b[39m[(\u001b[32mInt\u001b[39m, \u001b[32mInt\u001b[39m)] = \u001b[33mList\u001b[39m((\u001b[32m1\u001b[39m, \u001b[32m2\u001b[39m), (\u001b[32m2\u001b[39m, \u001b[32m1\u001b[39m), (\u001b[32m1\u001b[39m, \u001b[32m0\u001b[39m), (\u001b[32m0\u001b[39m, \u001b[32m1\u001b[39m), (\u001b[32m1\u001b[39m, \u001b[32m1\u001b[39m))\n",
       "\u001b[36mout2\u001b[39m: \u001b[32mList\u001b[39m[(\u001b[32mInt\u001b[39m, \u001b[32mInt\u001b[39m)] = \u001b[33mList\u001b[39m((\u001b[32m1\u001b[39m, \u001b[32m2\u001b[39m), (\u001b[32m2\u001b[39m, \u001b[32m1\u001b[39m), (\u001b[32m1\u001b[39m, \u001b[32m0\u001b[39m), (\u001b[32m0\u001b[39m, \u001b[32m1\u001b[39m), (\u001b[32m1\u001b[39m, \u001b[32m1\u001b[39m))\n",
       "\u001b[36mlst3\u001b[39m: \u001b[32mList\u001b[39m[(\u001b[32mInt\u001b[39m, \u001b[32mInt\u001b[39m)] = \u001b[33mList\u001b[39m((\u001b[32m1\u001b[39m, \u001b[32m5\u001b[39m), (\u001b[32m5\u001b[39m, \u001b[32m1\u001b[39m))\n",
       "\u001b[36mout3\u001b[39m: \u001b[32mList\u001b[39m[(\u001b[32mInt\u001b[39m, \u001b[32mInt\u001b[39m)] = \u001b[33mList\u001b[39m()\n",
       "\u001b[36mlst4\u001b[39m: \u001b[32mList\u001b[39m[(\u001b[32mInt\u001b[39m, \u001b[32mInt\u001b[39m)] = \u001b[33mList\u001b[39m((\u001b[32m2\u001b[39m, \u001b[32m5\u001b[39m), (\u001b[32m1\u001b[39m, \u001b[32m2\u001b[39m), (\u001b[32m-5\u001b[39m, \u001b[32m-4\u001b[39m), (\u001b[32m4\u001b[39m, \u001b[32m1\u001b[39m))\n",
       "\u001b[36mout4\u001b[39m: \u001b[32mList\u001b[39m[(\u001b[32mInt\u001b[39m, \u001b[32mInt\u001b[39m)] = \u001b[33mList\u001b[39m((\u001b[32m1\u001b[39m, \u001b[32m2\u001b[39m), (\u001b[32m-5\u001b[39m, \u001b[32m-4\u001b[39m))"
      ]
     },
     "execution_count": 3,
     "metadata": {},
     "output_type": "execute_result"
    }
   ],
   "source": [
    "//BEGIN TEST\n",
    "\n",
    "val lst1 = List((1,1), (-1, 1), (1, -1))\n",
    "val out1 = outputConsecutivePairs(lst1)\n",
    "testWithMessage( out1, List( (1,1)), \"test1\")\n",
    "\n",
    "val lst2 = List((1, 2), (2, 1), (1,0), (0,1), (1,1))\n",
    "val out2 = outputConsecutivePairs(lst2)\n",
    "testWithMessage( out2, lst2, \"test2\")\n",
    "\n",
    "val lst3 = List((1,5), (5,1))\n",
    "val out3 = outputConsecutivePairs(lst3)\n",
    "testWithMessage(out3, Nil, \"test3\")\n",
    "\n",
    "val lst4 = List((2,5), (1,2), (-5, -4), (4,1))\n",
    "val out4 = outputConsecutivePairs(lst4)\n",
    "testWithMessage(out4, List((1,2), (-5,-4)), \"test4\")\n",
    "\n",
    "passed(5)\n",
    "//END TEST"
   ]
  },
  {
   "cell_type": "markdown",
   "id": "4d705e28",
   "metadata": {
    "deletable": false,
    "editable": false,
    "nbgrader": {
     "cell_type": "markdown",
     "checksum": "1f72973545fd6b92ffc62ab4ddbaf7ae",
     "grade": false,
     "grade_id": "cell-e723dcb4aee79665",
     "locked": true,
     "schema_version": 3,
     "solution": false,
     "task": false
    }
   },
   "source": [
    "### Part (B), 7 points\n",
    "\n",
    "If you followed the hint we provided in part (A), you would have used the `:+` or `++` operation to append an element to the end of a list at each step. \n",
    "\n",
    "~~~\n",
    "for ... {\n",
    "  // iterate over a loop\n",
    "  ...\n",
    "  new_list = new_list :+ new_element // this takes O( size of new_list )\n",
    "}\n",
    "~~~\n",
    "\n",
    "\n",
    "Each `:+` or `++` operation requires a full list traversal to find the end of the list and append to the end. The overall algorithm thus requires $O(n^2)$ where $n$ is the size of the original list (also the number of loop iterations)\n",
    "\n",
    "To illustrate: cut & paste/run this code in a new test cell. Just remember to delete that cell before you submit. It will take a long time to run.\n",
    "\n",
    "~~~\n",
    "//create a list of 1,000,000 pairs\n",
    "val longTestList = (1 to 1000000).map ( x => (x, x-1)).toList\n",
    "//run the function you wrote\n",
    "outputConsecutivePairs(longTestList)\n",
    "//This will take a long time to finish.\n",
    "~~~\n"
   ]
  },
  {
   "cell_type": "markdown",
   "id": "96cca762",
   "metadata": {
    "deletable": false,
    "editable": false,
    "nbgrader": {
     "cell_type": "markdown",
     "checksum": "019946a7e325cfbac08a7b0700314843",
     "grade": false,
     "grade_id": "cell-5a4ac338bdef67f5",
     "locked": true,
     "schema_version": 3,
     "solution": false,
     "task": false
    }
   },
   "source": [
    "In this problem, we wish to implement a function  `outputConsecutivePairsLinearTime` that solves the exact same problem as in __Part(A)__ but takes time linear in the size of the input list. \n",
    "\n",
    "To do so, we would like you to use  the `::` or Cons operator on a list that appends an element to the __front__ of a list.  \n",
    "\n",
    "~~~\n",
    "val l1 = List(1, 2, 3)\n",
    "val l2 = 25 :: l1 // place 25 and then the contents of list l1.\n",
    "// list l2 is List(25, 1, 2, 3)\n",
    "~~~\n",
    "\n",
    "You may also want to use the list reverse function \n",
    "\n",
    "~~~\n",
    "val l = List(1, 2, 5, 6, 7, 8)\n",
    "val r = l.reverse\n",
    "println(r) // r is the reverse of list l, this works in linear time in the size of the list.\n",
    "~~~\n",
    "\n",
    "\n",
    "\n",
    "**Restrictions** remain the same as problem 1. But we would like you to focus on ensuring that your solution runs in linear time. \n",
    "\n"
   ]
  },
  {
   "cell_type": "code",
   "execution_count": 4,
   "id": "0fe36dff",
   "metadata": {
    "deletable": false,
    "nbgrader": {
     "cell_type": "code",
     "checksum": "b162fdf541e694025b6200f9a0507275",
     "grade": false,
     "grade_id": "cell-3f907e7f84708a69",
     "locked": false,
     "schema_version": 3,
     "solution": true,
     "task": false
    }
   },
   "outputs": [
    {
     "data": {
      "text/plain": [
       "defined \u001b[32mfunction\u001b[39m \u001b[36moutputConsecutivePairsLinearTime\u001b[39m"
      ]
     },
     "execution_count": 4,
     "metadata": {},
     "output_type": "execute_result"
    }
   ],
   "source": [
    "// YOUR CODE HERE\n",
    "def outputConsecutivePairsLinearTime (list:List[(Int, Int)]) : List[(Int, Int)] =\n",
    "{\n",
    "     var lst: List[(Int, Int)] = List(); \n",
    "    for (p <- list)\n",
    "    {\n",
    "        if(p._1 - p._2 <= 1 && p._1 - p._2 >= -1)\n",
    "        {\n",
    "            lst = (p._1, p._2) :: lst;\n",
    "        }\n",
    "    }\n",
    "    return lst.reverse;\n",
    "}"
   ]
  },
  {
   "cell_type": "code",
   "execution_count": 5,
   "id": "4386e5ae",
   "metadata": {
    "deletable": false,
    "editable": false,
    "nbgrader": {
     "cell_type": "code",
     "checksum": "c37656e9ee58d54926ad2c893faa8fb5",
     "grade": true,
     "grade_id": "cell-7d0353dc1859efdc",
     "locked": true,
     "points": 5,
     "schema_version": 3,
     "solution": false,
     "task": false
    }
   },
   "outputs": [
    {
     "name": "stdout",
     "output_type": "stream",
     "text": [
      "Test test1\n",
      "\t Expected: List((1,1)), your code returned: List((1,1))\n",
      "\t Passed!\n",
      "Test test2\n",
      "\t Expected: List((1,2), (2,1), (1,0), (0,1), (1,1)), your code returned: List((1,2), (2,1), (1,0), (0,1), (1,1))\n",
      "\t Passed!\n",
      "Test test3\n",
      "\t Expected: List(), your code returned: List()\n",
      "\t Passed!\n",
      "Test test4\n",
      "\t Expected: List((1,2), (-5,-4)), your code returned: List((1,2), (-5,-4))\n",
      "\t Passed!\n",
      "\n",
      "*** Tests Passed (5 points) ***\n"
     ]
    },
    {
     "data": {
      "text/plain": [
       "\u001b[36mlst1\u001b[39m: \u001b[32mList\u001b[39m[(\u001b[32mInt\u001b[39m, \u001b[32mInt\u001b[39m)] = \u001b[33mList\u001b[39m((\u001b[32m1\u001b[39m, \u001b[32m1\u001b[39m), (\u001b[32m-1\u001b[39m, \u001b[32m1\u001b[39m), (\u001b[32m1\u001b[39m, \u001b[32m-1\u001b[39m))\n",
       "\u001b[36mout1\u001b[39m: \u001b[32mList\u001b[39m[(\u001b[32mInt\u001b[39m, \u001b[32mInt\u001b[39m)] = \u001b[33mList\u001b[39m((\u001b[32m1\u001b[39m, \u001b[32m1\u001b[39m))\n",
       "\u001b[36mlst2\u001b[39m: \u001b[32mList\u001b[39m[(\u001b[32mInt\u001b[39m, \u001b[32mInt\u001b[39m)] = \u001b[33mList\u001b[39m((\u001b[32m1\u001b[39m, \u001b[32m2\u001b[39m), (\u001b[32m2\u001b[39m, \u001b[32m1\u001b[39m), (\u001b[32m1\u001b[39m, \u001b[32m0\u001b[39m), (\u001b[32m0\u001b[39m, \u001b[32m1\u001b[39m), (\u001b[32m1\u001b[39m, \u001b[32m1\u001b[39m))\n",
       "\u001b[36mout2\u001b[39m: \u001b[32mList\u001b[39m[(\u001b[32mInt\u001b[39m, \u001b[32mInt\u001b[39m)] = \u001b[33mList\u001b[39m((\u001b[32m1\u001b[39m, \u001b[32m2\u001b[39m), (\u001b[32m2\u001b[39m, \u001b[32m1\u001b[39m), (\u001b[32m1\u001b[39m, \u001b[32m0\u001b[39m), (\u001b[32m0\u001b[39m, \u001b[32m1\u001b[39m), (\u001b[32m1\u001b[39m, \u001b[32m1\u001b[39m))\n",
       "\u001b[36mlst3\u001b[39m: \u001b[32mList\u001b[39m[(\u001b[32mInt\u001b[39m, \u001b[32mInt\u001b[39m)] = \u001b[33mList\u001b[39m((\u001b[32m1\u001b[39m, \u001b[32m5\u001b[39m), (\u001b[32m5\u001b[39m, \u001b[32m1\u001b[39m))\n",
       "\u001b[36mout3\u001b[39m: \u001b[32mList\u001b[39m[(\u001b[32mInt\u001b[39m, \u001b[32mInt\u001b[39m)] = \u001b[33mList\u001b[39m()\n",
       "\u001b[36mlst4\u001b[39m: \u001b[32mList\u001b[39m[(\u001b[32mInt\u001b[39m, \u001b[32mInt\u001b[39m)] = \u001b[33mList\u001b[39m((\u001b[32m2\u001b[39m, \u001b[32m5\u001b[39m), (\u001b[32m1\u001b[39m, \u001b[32m2\u001b[39m), (\u001b[32m-5\u001b[39m, \u001b[32m-4\u001b[39m), (\u001b[32m4\u001b[39m, \u001b[32m1\u001b[39m))\n",
       "\u001b[36mout4\u001b[39m: \u001b[32mList\u001b[39m[(\u001b[32mInt\u001b[39m, \u001b[32mInt\u001b[39m)] = \u001b[33mList\u001b[39m((\u001b[32m1\u001b[39m, \u001b[32m2\u001b[39m), (\u001b[32m-5\u001b[39m, \u001b[32m-4\u001b[39m))"
      ]
     },
     "execution_count": 5,
     "metadata": {},
     "output_type": "execute_result"
    }
   ],
   "source": [
    "//BEGIN TEST\n",
    "\n",
    "val lst1 = List((1,1), (-1, 1), (1, -1))\n",
    "val out1 = outputConsecutivePairsLinearTime(lst1)\n",
    "testWithMessage( out1, List( (1,1)), \"test1\")\n",
    "\n",
    "val lst2 = List((1, 2), (2, 1), (1,0), (0,1), (1,1))\n",
    "val out2 = outputConsecutivePairsLinearTime(lst2)\n",
    "testWithMessage( out2, lst2, \"test2\")\n",
    "\n",
    "val lst3 = List((1,5), (5,1))\n",
    "val out3 = outputConsecutivePairsLinearTime(lst3)\n",
    "testWithMessage(out3, Nil, \"test3\")\n",
    "\n",
    "val lst4 = List((2,5), (1,2), (-5, -4), (4,1))\n",
    "val out4 = outputConsecutivePairsLinearTime(lst4)\n",
    "testWithMessage(out4, List((1,2), (-5,-4)), \"test4\")\n",
    "\n",
    "passed(5)\n",
    "//END TEST"
   ]
  },
  {
   "cell_type": "code",
   "execution_count": 6,
   "id": "8c90a850",
   "metadata": {
    "deletable": false,
    "editable": false,
    "nbgrader": {
     "cell_type": "code",
     "checksum": "ee0bdc14650775e0f394fa7faed1023a",
     "grade": true,
     "grade_id": "cell-c8d6b0308ab78562",
     "locked": true,
     "points": 2,
     "schema_version": 3,
     "solution": false,
     "task": false
    }
   },
   "outputs": [
    {
     "data": {
      "text/plain": [
       "\u001b[36mlongTestList\u001b[39m: \u001b[32mList\u001b[39m[(\u001b[32mInt\u001b[39m, \u001b[32mInt\u001b[39m)] = \u001b[33mList\u001b[39m(\n",
       "  (\u001b[32m1\u001b[39m, \u001b[32m0\u001b[39m),\n",
       "  (\u001b[32m2\u001b[39m, \u001b[32m1\u001b[39m),\n",
       "  (\u001b[32m3\u001b[39m, \u001b[32m2\u001b[39m),\n",
       "  (\u001b[32m4\u001b[39m, \u001b[32m3\u001b[39m),\n",
       "  (\u001b[32m5\u001b[39m, \u001b[32m4\u001b[39m),\n",
       "  (\u001b[32m6\u001b[39m, \u001b[32m5\u001b[39m),\n",
       "  (\u001b[32m7\u001b[39m, \u001b[32m6\u001b[39m),\n",
       "  (\u001b[32m8\u001b[39m, \u001b[32m7\u001b[39m),\n",
       "  (\u001b[32m9\u001b[39m, \u001b[32m8\u001b[39m),\n",
       "  (\u001b[32m10\u001b[39m, \u001b[32m9\u001b[39m),\n",
       "  (\u001b[32m11\u001b[39m, \u001b[32m10\u001b[39m),\n",
       "  (\u001b[32m12\u001b[39m, \u001b[32m11\u001b[39m),\n",
       "  (\u001b[32m13\u001b[39m, \u001b[32m12\u001b[39m),\n",
       "  (\u001b[32m14\u001b[39m, \u001b[32m13\u001b[39m),\n",
       "  (\u001b[32m15\u001b[39m, \u001b[32m14\u001b[39m),\n",
       "  (\u001b[32m16\u001b[39m, \u001b[32m15\u001b[39m),\n",
       "  (\u001b[32m17\u001b[39m, \u001b[32m16\u001b[39m),\n",
       "  (\u001b[32m18\u001b[39m, \u001b[32m17\u001b[39m),\n",
       "  (\u001b[32m19\u001b[39m, \u001b[32m18\u001b[39m),\n",
       "  (\u001b[32m20\u001b[39m, \u001b[32m19\u001b[39m),\n",
       "  (\u001b[32m21\u001b[39m, \u001b[32m20\u001b[39m),\n",
       "  (\u001b[32m22\u001b[39m, \u001b[32m21\u001b[39m),\n",
       "  (\u001b[32m23\u001b[39m, \u001b[32m22\u001b[39m),\n",
       "  (\u001b[32m24\u001b[39m, \u001b[32m23\u001b[39m),\n",
       "  (\u001b[32m25\u001b[39m, \u001b[32m24\u001b[39m),\n",
       "  (\u001b[32m26\u001b[39m, \u001b[32m25\u001b[39m),\n",
       "  (\u001b[32m27\u001b[39m, \u001b[32m26\u001b[39m),\n",
       "  (\u001b[32m28\u001b[39m, \u001b[32m27\u001b[39m),\n",
       "  (\u001b[32m29\u001b[39m, \u001b[32m28\u001b[39m),\n",
       "  (\u001b[32m30\u001b[39m, \u001b[32m29\u001b[39m),\n",
       "  (\u001b[32m31\u001b[39m, \u001b[32m30\u001b[39m),\n",
       "  (\u001b[32m32\u001b[39m, \u001b[32m31\u001b[39m),\n",
       "  (\u001b[32m33\u001b[39m, \u001b[32m32\u001b[39m),\n",
       "  (\u001b[32m34\u001b[39m, \u001b[32m33\u001b[39m),\n",
       "  (\u001b[32m35\u001b[39m, \u001b[32m34\u001b[39m),\n",
       "  (\u001b[32m36\u001b[39m, \u001b[32m35\u001b[39m),\n",
       "  (\u001b[32m37\u001b[39m, \u001b[32m36\u001b[39m),\n",
       "  (\u001b[32m38\u001b[39m, \u001b[32m37\u001b[39m),\n",
       "...\n",
       "\u001b[36mres5_1\u001b[39m: \u001b[32mList\u001b[39m[(\u001b[32mInt\u001b[39m, \u001b[32mInt\u001b[39m)] = \u001b[33mList\u001b[39m(\n",
       "  (\u001b[32m1\u001b[39m, \u001b[32m0\u001b[39m),\n",
       "  (\u001b[32m2\u001b[39m, \u001b[32m1\u001b[39m),\n",
       "  (\u001b[32m3\u001b[39m, \u001b[32m2\u001b[39m),\n",
       "  (\u001b[32m4\u001b[39m, \u001b[32m3\u001b[39m),\n",
       "  (\u001b[32m5\u001b[39m, \u001b[32m4\u001b[39m),\n",
       "  (\u001b[32m6\u001b[39m, \u001b[32m5\u001b[39m),\n",
       "  (\u001b[32m7\u001b[39m, \u001b[32m6\u001b[39m),\n",
       "  (\u001b[32m8\u001b[39m, \u001b[32m7\u001b[39m),\n",
       "  (\u001b[32m9\u001b[39m, \u001b[32m8\u001b[39m),\n",
       "  (\u001b[32m10\u001b[39m, \u001b[32m9\u001b[39m),\n",
       "  (\u001b[32m11\u001b[39m, \u001b[32m10\u001b[39m),\n",
       "  (\u001b[32m12\u001b[39m, \u001b[32m11\u001b[39m),\n",
       "  (\u001b[32m13\u001b[39m, \u001b[32m12\u001b[39m),\n",
       "  (\u001b[32m14\u001b[39m, \u001b[32m13\u001b[39m),\n",
       "  (\u001b[32m15\u001b[39m, \u001b[32m14\u001b[39m),\n",
       "  (\u001b[32m16\u001b[39m, \u001b[32m15\u001b[39m),\n",
       "  (\u001b[32m17\u001b[39m, \u001b[32m16\u001b[39m),\n",
       "  (\u001b[32m18\u001b[39m, \u001b[32m17\u001b[39m),\n",
       "  (\u001b[32m19\u001b[39m, \u001b[32m18\u001b[39m),\n",
       "  (\u001b[32m20\u001b[39m, \u001b[32m19\u001b[39m),\n",
       "  (\u001b[32m21\u001b[39m, \u001b[32m20\u001b[39m),\n",
       "  (\u001b[32m22\u001b[39m, \u001b[32m21\u001b[39m),\n",
       "  (\u001b[32m23\u001b[39m, \u001b[32m22\u001b[39m),\n",
       "  (\u001b[32m24\u001b[39m, \u001b[32m23\u001b[39m),\n",
       "  (\u001b[32m25\u001b[39m, \u001b[32m24\u001b[39m),\n",
       "  (\u001b[32m26\u001b[39m, \u001b[32m25\u001b[39m),\n",
       "  (\u001b[32m27\u001b[39m, \u001b[32m26\u001b[39m),\n",
       "  (\u001b[32m28\u001b[39m, \u001b[32m27\u001b[39m),\n",
       "  (\u001b[32m29\u001b[39m, \u001b[32m28\u001b[39m),\n",
       "  (\u001b[32m30\u001b[39m, \u001b[32m29\u001b[39m),\n",
       "  (\u001b[32m31\u001b[39m, \u001b[32m30\u001b[39m),\n",
       "  (\u001b[32m32\u001b[39m, \u001b[32m31\u001b[39m),\n",
       "  (\u001b[32m33\u001b[39m, \u001b[32m32\u001b[39m),\n",
       "  (\u001b[32m34\u001b[39m, \u001b[32m33\u001b[39m),\n",
       "  (\u001b[32m35\u001b[39m, \u001b[32m34\u001b[39m),\n",
       "  (\u001b[32m36\u001b[39m, \u001b[32m35\u001b[39m),\n",
       "  (\u001b[32m37\u001b[39m, \u001b[32m36\u001b[39m),\n",
       "  (\u001b[32m38\u001b[39m, \u001b[32m37\u001b[39m),\n",
       "..."
      ]
     },
     "execution_count": 6,
     "metadata": {},
     "output_type": "execute_result"
    }
   ],
   "source": [
    "//BEGIN TEST\n",
    "//create a list of milion pairs\n",
    "val longTestList = (1 to 1000000).map ( x => (x, x-1)).toList\n",
    "//run the function you wrote\n",
    "outputConsecutivePairsLinearTime(longTestList)\n",
    "// this better finish in <= 15 seconds\n",
    "//END TEST"
   ]
  },
  {
   "cell_type": "markdown",
   "id": "fb06ea26",
   "metadata": {
    "deletable": false,
    "editable": false,
    "nbgrader": {
     "cell_type": "markdown",
     "checksum": "1f7c734608aad5345560fcfbc02a0e63",
     "grade": false,
     "grade_id": "cell-bfb37bf723f0d12e",
     "locked": true,
     "schema_version": 3,
     "solution": false,
     "task": false
    }
   },
   "source": [
    "## Problem 2 \n",
    "\n",
    "\n",
    "### Part A\n",
    "\n",
    "Write a function `findAllOddIndices` that takes in a list of integers `lst` of type `List[Int]`\n",
    "\n",
    "Return a list of indices $[i_1, \\ldots, i_k]$  from the original list `lst` such that \n",
    "the list element $e_j$ corresponding to each returned index $i_j$ is odd.\n",
    "\n",
    "Remember indices start at $0$ and range until the length of list -1.\n",
    "\n",
    "#### Example \n",
    "\n",
    "~~~\n",
    "lst: List( 1, 5, 0, 2, 4, 8, 7)\n",
    "~~~\n",
    "\n",
    "should return \n",
    "\n",
    "~~~\n",
    "List(0, 1, 6)\n",
    "~~~\n",
    "\n",
    "since the elements at indices 0, 1 and 6 are odd.\n",
    "\n",
    "**Restrictions** are same as problem 1. Do not use list API functions other than `length` and `reverse`. You can use operators `:+`, `++`, `::` to append elements to a list. \n",
    "  - Be careful not to use the list indexing operator `list(i)`.\n",
    "\n",
    "**Challenge:** Make your code as efficient as possible. Ideally, it should have complexity O(n) though we will not deduct points for inefficient code."
   ]
  },
  {
   "cell_type": "code",
   "execution_count": 7,
   "id": "f1f6ef83",
   "metadata": {
    "deletable": false,
    "nbgrader": {
     "cell_type": "code",
     "checksum": "299968acf5329995b11723edfbcbe8f3",
     "grade": false,
     "grade_id": "cell-26bc006609901570",
     "locked": false,
     "schema_version": 3,
     "solution": true,
     "task": false
    }
   },
   "outputs": [
    {
     "data": {
      "text/plain": [
       "defined \u001b[32mfunction\u001b[39m \u001b[36mfindAllOddIndices\u001b[39m"
      ]
     },
     "execution_count": 7,
     "metadata": {},
     "output_type": "execute_result"
    }
   ],
   "source": [
    "def findAllOddIndices (list: List[Int]): List[Int] = \n",
    "{\n",
    "    var lst: List[Int] = List();\n",
    "    var counter: Int = 0;\n",
    "    for (p <- list)\n",
    "    {\n",
    "        if(p % 2 != 0)\n",
    "        {\n",
    "            lst = lst :+ counter;\n",
    "        }\n",
    "        counter = counter +1;\n",
    "    }\n",
    "    \n",
    "    return lst;\n",
    "}"
   ]
  },
  {
   "cell_type": "code",
   "execution_count": 8,
   "id": "08a24d04",
   "metadata": {
    "deletable": false,
    "editable": false,
    "nbgrader": {
     "cell_type": "code",
     "checksum": "5a909ff483596e5ad3bbce0485ff0b68",
     "grade": true,
     "grade_id": "cell-1992c5b4c1ddfdef",
     "locked": true,
     "points": 5,
     "schema_version": 3,
     "solution": false,
     "task": false
    }
   },
   "outputs": [
    {
     "name": "stdout",
     "output_type": "stream",
     "text": [
      "Test Test1\n",
      "\t Expected: List(0, 1, 6), your code returned: List(0, 1, 6)\n",
      "\t Passed!\n",
      "Test Test2\n",
      "\t Expected: List(), your code returned: List()\n",
      "\t Passed!\n",
      "Test Test3\n",
      "\t Expected: List(0, 1, 2, 3, 4, 5), your code returned: List(0, 1, 2, 3, 4, 5)\n",
      "\t Passed!\n",
      "Test Test4\n",
      "\t Expected: List(), your code returned: List()\n",
      "\t Passed!\n",
      "\n",
      "*** Tests Passed (5 points) ***\n"
     ]
    },
    {
     "data": {
      "text/plain": [
       "\u001b[36mlst1\u001b[39m: \u001b[32mList\u001b[39m[\u001b[32mInt\u001b[39m] = \u001b[33mList\u001b[39m(\u001b[32m1\u001b[39m, \u001b[32m3\u001b[39m, \u001b[32m0\u001b[39m, \u001b[32m2\u001b[39m, \u001b[32m4\u001b[39m, \u001b[32m6\u001b[39m, \u001b[32m5\u001b[39m)\n",
       "\u001b[36mlst2\u001b[39m: \u001b[32mList\u001b[39m[\u001b[32mInt\u001b[39m] = \u001b[33mList\u001b[39m(\u001b[32m4\u001b[39m, \u001b[32m6\u001b[39m, \u001b[32m-2\u001b[39m, \u001b[32m8\u001b[39m, \u001b[32m10\u001b[39m)\n",
       "\u001b[36mlst3\u001b[39m: \u001b[32mList\u001b[39m[\u001b[32mInt\u001b[39m] = \u001b[33mList\u001b[39m(\u001b[32m5\u001b[39m, \u001b[32m3\u001b[39m, \u001b[32m1\u001b[39m, \u001b[32m5\u001b[39m, \u001b[32m15\u001b[39m, \u001b[32m9\u001b[39m)\n",
       "\u001b[36mlst4\u001b[39m: \u001b[32mList\u001b[39m[\u001b[32mNothing\u001b[39m] = \u001b[33mList\u001b[39m()"
      ]
     },
     "execution_count": 8,
     "metadata": {},
     "output_type": "execute_result"
    }
   ],
   "source": [
    "//BEGIN TESTS\n",
    "val lst1 = List(1, 3, 0, 2, 4, 6, 5)\n",
    "testWithMessage(findAllOddIndices(lst1), List(0, 1, 6), \"Test1\")\n",
    "\n",
    "val lst2 = List(4, 6, -2, 8, 10)\n",
    "testWithMessage(findAllOddIndices(lst2), Nil, \"Test2\")\n",
    "\n",
    "val lst3 = List(5, 3, 1, 5, 15, 9 )\n",
    "testWithMessage(findAllOddIndices(lst3), List(0, 1, 2, 3, 4, 5), \"Test3\")\n",
    "\n",
    "val lst4 = List()\n",
    "testWithMessage(findAllOddIndices(lst4), Nil, \"Test4\")\n",
    "\n",
    "passed(5)\n",
    "//END TESTS"
   ]
  },
  {
   "cell_type": "markdown",
   "id": "28544e7f",
   "metadata": {
    "deletable": false,
    "editable": false,
    "nbgrader": {
     "cell_type": "markdown",
     "checksum": "f6353c91aea5e9c05f8862af94c8053d",
     "grade": false,
     "grade_id": "cell-5195f1a3455e25c1",
     "locked": true,
     "schema_version": 3,
     "solution": false,
     "task": false
    }
   },
   "source": [
    "Is your code above efficient? Try using the following code test. It should run in under a  second ideally.\n",
    "We have disabled running this cell just in case you have an inefficent solution that crashes your computer or our autograder. \n",
    "~~~\n",
    "val lst = (0 to 100000).toList\n",
    "val ret =findAllOddIndices(lst)\n",
    "assert(ret.length == 50000)\n",
    "~~~"
   ]
  },
  {
   "cell_type": "markdown",
   "id": "0310b298",
   "metadata": {
    "deletable": false,
    "editable": false,
    "nbgrader": {
     "cell_type": "markdown",
     "checksum": "234481a9458637739976f10a482a5436",
     "grade": false,
     "grade_id": "cell-0d58c4e106a31252",
     "locked": true,
     "schema_version": 3,
     "solution": false,
     "task": false
    }
   },
   "source": [
    "### Part B (13 points)\n",
    "\n",
    "Write a function `findAllOddElementsAndNext` wherein  \n",
    " - Input a list of integers $[e_1, \\ldots, e_n]$, \n",
    " - Return list of pairs of integers $[(e_{i}, e_{i+1}), (e_{j}, e_{j+1}), \\ldots, (e_k, e_{k+1})]$ such that the first elements of the pair $e_i, e_j, \\ldots, e_k$ are all odd elements and the second elements of the pair $e_{i+1}, e_{j+1}, \\ldots, e_{k+1}$ are the subsequent elements in the list. \n",
    " - If an odd element happens to be the very last element, it should not appear in the output.\n",
    " - The order of elements appearing in the output list must be the same as that in the input list.\n",
    "\n",
    "#### Example\n",
    "\n",
    "~~~\n",
    "Input: List(1, 5, 0, 2, 3, 7)\n",
    "Output: List( (1,5), (5,0), (3,7) )\n",
    "\n",
    "Input: List(19)\n",
    "Output: List() //Empty list\n",
    "\n",
    "Input: List(25, 36)\n",
    "Output: List( (25, 36) )\n",
    "~~~\n",
    "\n",
    "You may use the previously implemented function `findAllOddIndices` as a subroutine.\n",
    "\n",
    "**Restrictions** same as problem 1 but we will allow you to use the following operations if you need them.\n",
    "  - To access the $i^{th}$ element in the list you are allowed to use `list(i)`. However, note that it takes $i$ steps to traverse a linked list to reach the $i^{th}$ element. Using this operation in a loop is guaranteed to give you $O(n^2)$ complexity.\n",
    "  - The very first element of a list can be accessed by `list.head`\n",
    "  - The tail of the list (from second to last element) can be accessed as `list.tail`\n",
    "  - You can find the size of a list by `list.length`."
   ]
  },
  {
   "cell_type": "code",
   "execution_count": 9,
   "id": "387e7f7b",
   "metadata": {
    "deletable": false,
    "nbgrader": {
     "cell_type": "code",
     "checksum": "b9a6c6dad2b7344c1aafaff7b9e7650e",
     "grade": false,
     "grade_id": "cell-6352b2abd77615be",
     "locked": false,
     "schema_version": 3,
     "solution": true,
     "task": false
    }
   },
   "outputs": [
    {
     "data": {
      "text/plain": [
       "defined \u001b[32mfunction\u001b[39m \u001b[36mfindAllOddElementsAndNext\u001b[39m"
      ]
     },
     "execution_count": 9,
     "metadata": {},
     "output_type": "execute_result"
    }
   ],
   "source": [
    "def findAllOddElementsAndNext(lst: List[Int]): List[(Int, Int)] = \n",
    "{\n",
    "// YOUR CODE HERE\n",
    "    var list: List[(Int, Int)] = List();\n",
    "    var count: Int =0;\n",
    "    if(lst.length <= 1)\n",
    "    {\n",
    "        return list;\n",
    "    }\n",
    "    else\n",
    "    {\n",
    "       while(count < lst.length-1)\n",
    "        {\n",
    "            if(lst(count) %2 != 0)\n",
    "            {\n",
    "                list = (lst(count), lst(count+1)) :: list;\n",
    "            }\n",
    "            count = count +1;\n",
    "        }\n",
    "    }\n",
    "    return list.reverse;\n",
    "}"
   ]
  },
  {
   "cell_type": "code",
   "execution_count": 10,
   "id": "032719e0",
   "metadata": {
    "deletable": false,
    "editable": false,
    "nbgrader": {
     "cell_type": "code",
     "checksum": "091633f5012038fb988c046d731501da",
     "grade": true,
     "grade_id": "cell-6dcd99ffc92c4d93",
     "locked": true,
     "points": 13,
     "schema_version": 3,
     "solution": false,
     "task": false
    },
    "scrolled": true
   },
   "outputs": [
    {
     "name": "stdout",
     "output_type": "stream",
     "text": [
      "Test Test 1\n",
      "\t Expected: List((1,5), (5,0), (3,7)), your code returned: List((1,5), (5,0), (3,7))\n",
      "\t Passed!\n",
      "Test Test 2\n",
      "\t Expected: List(), your code returned: List()\n",
      "\t Passed!\n",
      "Test Test 3\n",
      "\t Expected: List((17,14)), your code returned: List((17,14))\n",
      "\t Passed!\n",
      "Test Test 4\n",
      "\t Expected: List((7,3), (3,5), (5,5), (5,3), (3,9)), your code returned: List((7,3), (3,5), (5,5), (5,3), (3,9))\n",
      "\t Passed!\n",
      "Test Test 5\n",
      "\t Expected: List((7,0), (3,2), (5,2), (5,4), (3,6)), your code returned: List((7,0), (3,2), (5,2), (5,4), (3,6))\n",
      "\t Passed!\n",
      "\n",
      "*** Tests Passed (13 points) ***\n"
     ]
    },
    {
     "data": {
      "text/plain": [
       "\u001b[36mlst1\u001b[39m: \u001b[32mList\u001b[39m[\u001b[32mInt\u001b[39m] = \u001b[33mList\u001b[39m(\u001b[32m1\u001b[39m, \u001b[32m5\u001b[39m, \u001b[32m0\u001b[39m, \u001b[32m2\u001b[39m, \u001b[32m3\u001b[39m, \u001b[32m7\u001b[39m)\n",
       "\u001b[36mexpected1\u001b[39m: \u001b[32mList\u001b[39m[(\u001b[32mInt\u001b[39m, \u001b[32mInt\u001b[39m)] = \u001b[33mList\u001b[39m((\u001b[32m1\u001b[39m, \u001b[32m5\u001b[39m), (\u001b[32m5\u001b[39m, \u001b[32m0\u001b[39m), (\u001b[32m3\u001b[39m, \u001b[32m7\u001b[39m))\n",
       "\u001b[36mlst2\u001b[39m: \u001b[32mList\u001b[39m[\u001b[32mInt\u001b[39m] = \u001b[33mList\u001b[39m(\u001b[32m17\u001b[39m)\n",
       "\u001b[36mexpected2\u001b[39m: \u001b[32mList\u001b[39m[\u001b[32mNothing\u001b[39m] = \u001b[33mList\u001b[39m()\n",
       "\u001b[36mlst3\u001b[39m: \u001b[32mList\u001b[39m[\u001b[32mInt\u001b[39m] = \u001b[33mList\u001b[39m(\u001b[32m17\u001b[39m, \u001b[32m14\u001b[39m)\n",
       "\u001b[36mexpected3\u001b[39m: \u001b[32mList\u001b[39m[(\u001b[32mInt\u001b[39m, \u001b[32mInt\u001b[39m)] = \u001b[33mList\u001b[39m((\u001b[32m17\u001b[39m, \u001b[32m14\u001b[39m))\n",
       "\u001b[36mlst4\u001b[39m: \u001b[32mList\u001b[39m[\u001b[32mInt\u001b[39m] = \u001b[33mList\u001b[39m(\u001b[32m7\u001b[39m, \u001b[32m3\u001b[39m, \u001b[32m5\u001b[39m, \u001b[32m5\u001b[39m, \u001b[32m3\u001b[39m, \u001b[32m9\u001b[39m)\n",
       "\u001b[36mexpected4\u001b[39m: \u001b[32mList\u001b[39m[(\u001b[32mInt\u001b[39m, \u001b[32mInt\u001b[39m)] = \u001b[33mList\u001b[39m((\u001b[32m7\u001b[39m, \u001b[32m3\u001b[39m), (\u001b[32m3\u001b[39m, \u001b[32m5\u001b[39m), (\u001b[32m5\u001b[39m, \u001b[32m5\u001b[39m), (\u001b[32m5\u001b[39m, \u001b[32m3\u001b[39m), (\u001b[32m3\u001b[39m, \u001b[32m9\u001b[39m))\n",
       "\u001b[36mlst5\u001b[39m: \u001b[32mList\u001b[39m[\u001b[32mInt\u001b[39m] = \u001b[33mList\u001b[39m(\u001b[32m7\u001b[39m, \u001b[32m0\u001b[39m, \u001b[32m3\u001b[39m, \u001b[32m2\u001b[39m, \u001b[32m5\u001b[39m, \u001b[32m2\u001b[39m, \u001b[32m5\u001b[39m, \u001b[32m4\u001b[39m, \u001b[32m3\u001b[39m, \u001b[32m6\u001b[39m, \u001b[32m9\u001b[39m)\n",
       "\u001b[36mexpected5\u001b[39m: \u001b[32mList\u001b[39m[(\u001b[32mInt\u001b[39m, \u001b[32mInt\u001b[39m)] = \u001b[33mList\u001b[39m((\u001b[32m7\u001b[39m, \u001b[32m0\u001b[39m), (\u001b[32m3\u001b[39m, \u001b[32m2\u001b[39m), (\u001b[32m5\u001b[39m, \u001b[32m2\u001b[39m), (\u001b[32m5\u001b[39m, \u001b[32m4\u001b[39m), (\u001b[32m3\u001b[39m, \u001b[32m6\u001b[39m))"
      ]
     },
     "execution_count": 10,
     "metadata": {},
     "output_type": "execute_result"
    }
   ],
   "source": [
    "//BEGIN TESTS\n",
    "val lst1 = List(1, 5, 0, 2, 3, 7)\n",
    "val expected1 = List( (1,5), (5,0), (3,7) )\n",
    "testWithMessage(findAllOddElementsAndNext(lst1), expected1, \"Test 1\")\n",
    "\n",
    "val lst2 = List(17)\n",
    "val expected2 = List()\n",
    "testWithMessage(findAllOddElementsAndNext(lst2), expected2, \"Test 2\")\n",
    "\n",
    "val lst3 = List(17, 14)\n",
    "val expected3 = List( (17, 14))\n",
    "testWithMessage(findAllOddElementsAndNext(lst3), expected3, \"Test 3\")\n",
    "\n",
    "val lst4 = List(7, 3, 5, 5, 3, 9)\n",
    "val expected4 = List((7,3), (3,5), (5,5), (5,3), (3,9))\n",
    "testWithMessage(findAllOddElementsAndNext(lst4), expected4, \"Test 4\")\n",
    "\n",
    "\n",
    "val lst5 = List(7, 0, 3, 2, 5, 2, 5, 4, 3, 6, 9)\n",
    "val expected5 = List((7,0), (3,2), (5,2), (5,4), (3,6))\n",
    "testWithMessage(findAllOddElementsAndNext(lst5), expected5, \"Test 5\")\n",
    "\n",
    "passed(13)\n",
    "\n",
    "//END TESTS"
   ]
  },
  {
   "cell_type": "markdown",
   "id": "3f865d3d",
   "metadata": {
    "deletable": false,
    "editable": false,
    "nbgrader": {
     "cell_type": "markdown",
     "checksum": "c816d67ecdcc5c8db3e29402b14258c9",
     "grade": false,
     "grade_id": "cell-90d47bba59e1ad3b",
     "locked": true,
     "schema_version": 3,
     "solution": false,
     "task": false
    }
   },
   "source": [
    "## Problem 3\n",
    "\n",
    "### Part A (5 points)\n",
    "\n",
    "Implement a function `roll` that takes in a string and \"rolls\" it as follows.\n",
    "\n",
    "~~~\n",
    "Input: hello\n",
    "Output: elloh\n",
    "\n",
    "Input: world\n",
    "Output: orldw\n",
    "\n",
    "Input: abcd \n",
    "Output: bcda\n",
    "\n",
    "Input:  // Empty String\n",
    "Output: // Empty String\n",
    "~~~\n",
    "See here for a nice \"cheat sheet\" of examples of Scala string API functions.\n",
    "https://alvinalexander.com/scala/scala-string-examples-collection-cheat-sheet/\n",
    "There are no restrictions for this problem :-)\n"
   ]
  },
  {
   "cell_type": "code",
   "execution_count": 11,
   "id": "4763a4fc",
   "metadata": {
    "deletable": false,
    "nbgrader": {
     "cell_type": "code",
     "checksum": "411460c3c26eddf15582eef874e61384",
     "grade": false,
     "grade_id": "cell-d0753d6aeee8bccb",
     "locked": false,
     "schema_version": 3,
     "solution": true,
     "task": false
    }
   },
   "outputs": [
    {
     "data": {
      "text/plain": [
       "defined \u001b[32mfunction\u001b[39m \u001b[36mroll\u001b[39m"
      ]
     },
     "execution_count": 11,
     "metadata": {},
     "output_type": "execute_result"
    }
   ],
   "source": [
    "// YOUR CODE HERE\n",
    "def roll(str: String): String = \n",
    "{\n",
    "    var rev_str: String = \"\";\n",
    "    var count: Int = 1;\n",
    "    if(str.length <= 1)\n",
    "    {\n",
    "        return str;\n",
    "    }\n",
    "    else\n",
    "    {\n",
    "        var str_head: String = str(0).toString;\n",
    "        while(count < str.length)\n",
    "        {\n",
    "            rev_str = rev_str + str(count).toString;\n",
    "            count = count+1;\n",
    "        }\n",
    "        rev_str = rev_str + str_head;\n",
    "    }\n",
    "    return rev_str;\n",
    "    \n",
    "}"
   ]
  },
  {
   "cell_type": "code",
   "execution_count": 12,
   "id": "7a1a7aa9",
   "metadata": {
    "deletable": false,
    "editable": false,
    "nbgrader": {
     "cell_type": "code",
     "checksum": "db69494de473e4c9c8340b944e1f509c",
     "grade": true,
     "grade_id": "cell-d187e7ccf2d224e0",
     "locked": true,
     "points": 5,
     "schema_version": 3,
     "solution": false,
     "task": false
    }
   },
   "outputs": [
    {
     "name": "stdout",
     "output_type": "stream",
     "text": [
      "Test Test1\n",
      "\t Expected: , your code returned: \n",
      "\t Passed!\n",
      "Test Test2\n",
      "\t Expected: z, your code returned: z\n",
      "\t Passed!\n",
      "Test Test3\n",
      "\t Expected: elloh, your code returned: elloh\n",
      "\t Passed!\n",
      "Test Test4\n",
      "\t Expected: nanasa, your code returned: nanasa\n",
      "\t Passed!\n",
      "Test Test5\n",
      "\t Expected: az, your code returned: az\n",
      "\t Passed!\n",
      "\n",
      "*** Tests Passed (5 points) ***\n"
     ]
    }
   ],
   "source": [
    "//BEGIN TEST\n",
    "testWithMessage(roll(\"\"),\"\", \"Test1\")\n",
    "testWithMessage(roll(\"z\"),\"z\", \"Test2\")\n",
    "testWithMessage(roll(\"hello\"),\"elloh\", \"Test3\")\n",
    "testWithMessage(roll(\"ananas\"),\"nanasa\", \"Test4\")\n",
    "testWithMessage(roll(\"za\"),\"az\", \"Test5\")\n",
    "passed(5)\n",
    "//END TEST"
   ]
  },
  {
   "cell_type": "markdown",
   "id": "8dd04245",
   "metadata": {
    "deletable": false,
    "editable": false,
    "nbgrader": {
     "cell_type": "markdown",
     "checksum": "ffd9bfcda4d3b57e6feae55575b089ff",
     "grade": false,
     "grade_id": "cell-ee70e262e92fa077",
     "locked": true,
     "schema_version": 3,
     "solution": false,
     "task": false
    }
   },
   "source": [
    "## Part B (15 points)\n",
    "\n",
    "Implement a class `RollText` which has an immutable class parameter  `str` of type `String` and the following methods:\n",
    "  - `get_str()` : takes in no arguments, returns the string `str` (return type is `String`)\n",
    "  - `roll_str()`: takes in no arguments, returns a new RollText instance whose member string is given by calling `roll` function on the current member string `str`. Return type is `RollText`.\n",
    "  - `reverse_str()`: takes in no arguments, returns a new RollText instance whose member string is given by reversing the current member string `str`. Return type is `RollText`.\n",
    "  - `append_str(str_to_add: String)`: takes in an argument `str_to_add` and returns a new RollText whose member string appends `str_to_add` to the end of the current member string `str`. Return type is `RollText`.\n",
    "  - `length()`: takes in no argument, returns the length of the string `str`. Return type is `Int`.\n",
    " "
   ]
  },
  {
   "cell_type": "code",
   "execution_count": 13,
   "id": "352498fc",
   "metadata": {
    "deletable": false,
    "nbgrader": {
     "cell_type": "code",
     "checksum": "6ae92807cc42edb332f5903c4e03370c",
     "grade": false,
     "grade_id": "cell-655423d63f9c97dc",
     "locked": false,
     "schema_version": 3,
     "solution": true,
     "task": false
    }
   },
   "outputs": [
    {
     "data": {
      "text/plain": [
       "defined \u001b[32mclass\u001b[39m \u001b[36mRollText\u001b[39m"
      ]
     },
     "execution_count": 13,
     "metadata": {},
     "output_type": "execute_result"
    }
   ],
   "source": [
    "// YOUR CODE HERE\n",
    "class RollText(str: String)\n",
    "{\n",
    "    def get_str(): String = \n",
    "    {\n",
    "        return str;\n",
    "    }\n",
    "    def roll_str(): RollText = \n",
    "    {\n",
    "        var str_head: String = str(0).toString;\n",
    "        var Roll_str: String = \"\";\n",
    "        var count: Int = 1;\n",
    "        while (count < str.length)\n",
    "        {\n",
    "            Roll_str = Roll_str + str(count).toString;\n",
    "            count = count + 1;\n",
    "        }\n",
    "        Roll_str = Roll_str + str_head;\n",
    "        val Done_str = new RollText(Roll_str);\n",
    "        \n",
    "        return Done_str;\n",
    "    }\n",
    "    def reverse_str(): RollText = \n",
    "    {\n",
    "        var rev_temp: String = str.reverse;\n",
    "        val rev_str = new RollText(rev_temp);\n",
    "        return rev_str;\n",
    "    }\n",
    "    def append_str(str_to_add: String): RollText = \n",
    "    {\n",
    "        var app_temp: String = str;\n",
    "        app_temp = app_temp + str_to_add;\n",
    "        val app_str = new RollText(app_temp);\n",
    "        return app_str;\n",
    "    }\n",
    "    def length(): Int = \n",
    "    {\n",
    "        return str.length;\n",
    "    }\n",
    "}"
   ]
  },
  {
   "cell_type": "code",
   "execution_count": null,
   "id": "0bdfdb9f",
   "metadata": {},
   "outputs": [],
   "source": []
  },
  {
   "cell_type": "code",
   "execution_count": 14,
   "id": "d128fdc6",
   "metadata": {
    "deletable": false,
    "editable": false,
    "nbgrader": {
     "cell_type": "code",
     "checksum": "5b404757a8fd1150edc8e93c21be172c",
     "grade": true,
     "grade_id": "cell-03cbb1f2ebd539f3",
     "locked": true,
     "points": 15,
     "schema_version": 3,
     "solution": false,
     "task": false
    }
   },
   "outputs": [
    {
     "name": "stdout",
     "output_type": "stream",
     "text": [
      "Test Test 1\n",
      "\t Expected: hello, your code returned: hello\n",
      "\t Passed!\n",
      "Test Test 2\n",
      "\t Expected: elloh, your code returned: elloh\n",
      "\t Passed!\n",
      "Test Test 3\n",
      "\t Expected: llohe, your code returned: llohe\n",
      "\t Passed!\n",
      "Test Test 4\n",
      "\t Expected: eholl, your code returned: eholl\n",
      "\t Passed!\n",
      "Test Test 5\n",
      "\t Expected: ehollwhat, your code returned: ehollwhat\n",
      "\t Passed!\n",
      "Test Test 6\n",
      "\t Expected: 9, your code returned: 9\n",
      "\t Passed!\n",
      "\n",
      "*** Tests Passed (15 points) ***\n"
     ]
    },
    {
     "data": {
      "text/plain": [
       "\u001b[36mr1\u001b[39m: \u001b[32mRollText\u001b[39m = ammonite.$sess.cmd12$Helper$RollText@e4a4f20\n",
       "\u001b[36mr1_str\u001b[39m: \u001b[32mString\u001b[39m = \u001b[32m\"hello\"\u001b[39m\n",
       "\u001b[36mr2\u001b[39m: \u001b[32mRollText\u001b[39m = ammonite.$sess.cmd12$Helper$RollText@4ba56547\n",
       "\u001b[36mr2_str\u001b[39m: \u001b[32mString\u001b[39m = \u001b[32m\"elloh\"\u001b[39m\n",
       "\u001b[36mr3\u001b[39m: \u001b[32mRollText\u001b[39m = ammonite.$sess.cmd12$Helper$RollText@7098c51b\n",
       "\u001b[36mr3_str\u001b[39m: \u001b[32mString\u001b[39m = \u001b[32m\"llohe\"\u001b[39m\n",
       "\u001b[36mr4\u001b[39m: \u001b[32mRollText\u001b[39m = ammonite.$sess.cmd12$Helper$RollText@2c34d26f\n",
       "\u001b[36mr4_str\u001b[39m: \u001b[32mString\u001b[39m = \u001b[32m\"eholl\"\u001b[39m\n",
       "\u001b[36mr5\u001b[39m: \u001b[32mRollText\u001b[39m = ammonite.$sess.cmd12$Helper$RollText@3fcb9fcb\n",
       "\u001b[36mr5_str\u001b[39m: \u001b[32mString\u001b[39m = \u001b[32m\"ehollwhat\"\u001b[39m"
      ]
     },
     "execution_count": 14,
     "metadata": {},
     "output_type": "execute_result"
    }
   ],
   "source": [
    "val r1 = new RollText(\"hello\")\n",
    "val r1_str = r1.get_str()\n",
    "testWithMessage(r1_str,  \"hello\", \"Test 1\")\n",
    "\n",
    "val r2 = r1.roll_str()\n",
    "val r2_str = r2.get_str()\n",
    "testWithMessage(r2_str, \"elloh\", \"Test 2\")\n",
    "\n",
    "val r3 = r2.roll_str()\n",
    "val r3_str = r3.get_str()\n",
    "testWithMessage(r3_str, \"llohe\", \"Test 3\")\n",
    "\n",
    "val r4 = r3.reverse_str()\n",
    "val r4_str = r4.get_str()\n",
    "testWithMessage(r4_str, \"eholl\", \"Test 4\")\n",
    "\n",
    "val r5 = r4.append_str(\"what\")\n",
    "val r5_str = r5.get_str()\n",
    "testWithMessage(r5_str, \"ehollwhat\", \"Test 5\")\n",
    "\n",
    "testWithMessage(r5.length(), 9, \"Test 6\")\n",
    "\n",
    "passed(15)\n"
   ]
  },
  {
   "cell_type": "markdown",
   "id": "2c327175",
   "metadata": {
    "deletable": false,
    "editable": false,
    "nbgrader": {
     "cell_type": "markdown",
     "checksum": "be379d2b0e241ce48ca0cc7943a98fd3",
     "grade": false,
     "grade_id": "cell-0502d2e8a6ca01fe",
     "locked": true,
     "schema_version": 3,
     "solution": false,
     "task": false
    }
   },
   "source": [
    "## That's all folks"
   ]
  }
 ],
 "metadata": {
  "kernelspec": {
   "display_name": "Scala",
   "language": "scala",
   "name": "scala"
  },
  "language_info": {
   "codemirror_mode": "text/x-scala",
   "file_extension": ".sc",
   "mimetype": "text/x-scala",
   "name": "scala",
   "nbconvert_exporter": "script",
   "version": "2.13.10"
  }
 },
 "nbformat": 4,
 "nbformat_minor": 5
}
